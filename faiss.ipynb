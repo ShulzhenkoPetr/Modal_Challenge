{
  "nbformat": 4,
  "nbformat_minor": 0,
  "metadata": {
    "colab": {
      "provenance": []
    },
    "kernelspec": {
      "name": "python3",
      "display_name": "Python 3"
    },
    "language_info": {
      "name": "python"
    }
  },
  "cells": [
    {
      "cell_type": "code",
      "execution_count": null,
      "metadata": {
        "id": "5Y-NuI_ycvc8"
      },
      "outputs": [],
      "source": [
        "import faiss \n",
        "import numpy as np\n",
        "import torch\n",
        "import pandas as pd"
      ]
    },
    {
      "cell_type": "code",
      "source": [
        "from google.colab import drive\n",
        "drive.mount('/content/gdrive/')"
      ],
      "metadata": {
        "colab": {
          "base_uri": "https://localhost:8080/"
        },
        "id": "gx6ToaZsc7yo",
        "outputId": "1bf818e3-bf68-4e83-df8f-a3d294afd32e"
      },
      "execution_count": null,
      "outputs": [
        {
          "output_type": "stream",
          "name": "stdout",
          "text": [
            "Mounted at /content/gdrive/\n"
          ]
        }
      ]
    },
    {
      "cell_type": "code",
      "source": [
        "%ls"
      ],
      "metadata": {
        "colab": {
          "base_uri": "https://localhost:8080/"
        },
        "id": "EOmC8eU8dGBo",
        "outputId": "d2fd64c9-009e-4603-e3a8-fb7bc8d58c3a"
      },
      "execution_count": null,
      "outputs": [
        {
          "output_type": "stream",
          "name": "stdout",
          "text": [
            "\u001b[0m\u001b[01;34mgdrive\u001b[0m/  \u001b[01;34msample_data\u001b[0m/\n"
          ]
        }
      ]
    },
    {
      "cell_type": "code",
      "source": [
        "%cd gdrive/MyDrive/Colab \\Notebooks/Modal/"
      ],
      "metadata": {
        "colab": {
          "base_uri": "https://localhost:8080/"
        },
        "id": "6YzJW_bieBCu",
        "outputId": "a8f9200c-e5d7-4f26-f7f7-2633b5af087e"
      },
      "execution_count": null,
      "outputs": [
        {
          "output_type": "stream",
          "name": "stdout",
          "text": [
            "/content/gdrive/MyDrive/Colab Notebooks\n"
          ]
        }
      ]
    },
    {
      "cell_type": "code",
      "source": [
        "images_emd = torch.load('images_emd.pt')\n",
        "target = torch.load('target.pt')"
      ],
      "metadata": {
        "id": "olxvy4a3eXRK"
      },
      "execution_count": null,
      "outputs": []
    },
    {
      "cell_type": "markdown",
      "source": [
        "## Accuracy method"
      ],
      "metadata": {
        "id": "GSrRsRGwxRza"
      }
    },
    {
      "cell_type": "code",
      "source": [
        "def accuracy(imgs_emds, target, index, k=10):\n",
        "    acc = []\n",
        "    for i in range(len(imgs_emds)):\n",
        "        D, I = index.search(imgs_emds[i].detach().numpy()[None, ...], k)\n",
        "        ind_targets = torch.index_select(target, 0, torch.Tensor(I.reshape(k)).int())\n",
        "        acc += [((ind_targets == target[i]).sum() / k).item()]\n",
        "    \n",
        "    return acc"
      ],
      "metadata": {
        "id": "Zxr2WKxxxX8m"
      },
      "execution_count": null,
      "outputs": []
    },
    {
      "cell_type": "code",
      "source": [
        "d = 2048  # emd dimension\n",
        "k = 20"
      ],
      "metadata": {
        "id": "KCPnWNpTe35z"
      },
      "execution_count": null,
      "outputs": []
    },
    {
      "cell_type": "markdown",
      "source": [
        "## FAISS FLAT"
      ],
      "metadata": {
        "id": "GfYmUagve6Gc"
      }
    },
    {
      "cell_type": "code",
      "source": [
        "index = faiss.IndexFlatIP(d)\n",
        "index.add(images_emd.detach().numpy())\n"
      ],
      "metadata": {
        "id": "QQZmldspfPFA"
      },
      "execution_count": null,
      "outputs": []
    },
    {
      "cell_type": "code",
      "source": [
        "np.array(accuracy(images_emd, target, index)).mean()"
      ],
      "metadata": {
        "colab": {
          "base_uri": "https://localhost:8080/"
        },
        "id": "6EqO4cQi1J46",
        "outputId": "e9d8bbe8-26fc-4411-d10d-7e63bb38bb9c"
      },
      "execution_count": null,
      "outputs": [
        {
          "output_type": "execute_result",
          "data": {
            "text/plain": [
              "0.13555555797906385"
            ]
          },
          "metadata": {},
          "execution_count": 115
        }
      ]
    },
    {
      "cell_type": "markdown",
      "source": [
        "## Inverted File Index"
      ],
      "metadata": {
        "id": "hYhtzdsvtgoL"
      }
    },
    {
      "cell_type": "code",
      "source": [
        "nlist = 48  # number of cells/clusters to partition data into\n",
        "\n",
        "quantizer = faiss.IndexFlatIP(d)  # how the vectors will be stored/compared\n",
        "index = faiss.IndexIVFFlat(quantizer, d, nlist)\n",
        "index.train(images_emd.detach().numpy())  # we must train the index to cluster into cells\n",
        "index.add(images_emd.detach().numpy())\n",
        "\n",
        "index.nprobe = 15  # set how many of nearest cells to search\n"
      ],
      "metadata": {
        "id": "E8AYzq68sFs3"
      },
      "execution_count": null,
      "outputs": []
    },
    {
      "cell_type": "code",
      "source": [
        "np.array(accuracy(images_emd, target, index)).mean()"
      ],
      "metadata": {
        "colab": {
          "base_uri": "https://localhost:8080/"
        },
        "id": "uPHleZVdt9HF",
        "outputId": "1ca51b03-c62b-4e1b-81a8-d0666fa418cd"
      },
      "execution_count": null,
      "outputs": [
        {
          "output_type": "execute_result",
          "data": {
            "text/plain": [
              "0.1694444474350247"
            ]
          },
          "metadata": {},
          "execution_count": 117
        }
      ]
    },
    {
      "cell_type": "markdown",
      "source": [
        "## HNSW Implementation"
      ],
      "metadata": {
        "id": "KGrOn_o60V0E"
      }
    },
    {
      "cell_type": "code",
      "source": [
        "# set HNSW index parameters\n",
        "M = 15  # number of connections each vertex will have\n",
        "ef_search = 32  # depth of layers explored during search\n",
        "ef_construction = 64  # depth of layers explored during index construction\n",
        "\n",
        "# initialize index (d == 2048)\n",
        "index = faiss.IndexHNSWFlat(d, M)\n",
        "# set efConstruction and efSearch parameters\n",
        "index.hnsw.efConstruction = ef_construction\n",
        "index.hnsw.efSearch = ef_search\n",
        "# add data to index\n",
        "index.add(images_emd.detach().numpy())"
      ],
      "metadata": {
        "id": "1c2PsK7LzxXU"
      },
      "execution_count": null,
      "outputs": []
    },
    {
      "cell_type": "code",
      "source": [
        "np.array(accuracy(images_emd, target, index)).mean()"
      ],
      "metadata": {
        "colab": {
          "base_uri": "https://localhost:8080/"
        },
        "id": "rG5T7r_c00X8",
        "outputId": "be4585a4-81a2-4548-89dd-d70898e6b36e"
      },
      "execution_count": null,
      "outputs": [
        {
          "output_type": "execute_result",
          "data": {
            "text/plain": [
              "0.1686111141099698"
            ]
          },
          "metadata": {},
          "execution_count": 119
        }
      ]
    },
    {
      "cell_type": "markdown",
      "source": [
        "## Locality Sensitive Hashing"
      ],
      "metadata": {
        "id": "H1z-gyxP1_6d"
      }
    },
    {
      "cell_type": "code",
      "source": [
        "nbits = d*4  # resolution of bucketed vectors\n",
        "# initialize index and add vectors\n",
        "index = faiss.IndexLSH(d, nbits)\n",
        "index.add(images_emd.detach().numpy())"
      ],
      "metadata": {
        "id": "1xqVR2bA2IMT"
      },
      "execution_count": null,
      "outputs": []
    },
    {
      "cell_type": "code",
      "source": [
        "np.array(accuracy(images_emd, target, index)).mean()"
      ],
      "metadata": {
        "colab": {
          "base_uri": "https://localhost:8080/"
        },
        "id": "hgR3udqH2SB7",
        "outputId": "04b6bca0-abc0-41be-91f5-b6f6f3e596dc"
      },
      "execution_count": null,
      "outputs": [
        {
          "output_type": "execute_result",
          "data": {
            "text/plain": [
              "0.1741666696448293"
            ]
          },
          "metadata": {},
          "execution_count": 121
        }
      ]
    },
    {
      "cell_type": "code",
      "source": [],
      "metadata": {
        "id": "iM6bbrpn2h62"
      },
      "execution_count": null,
      "outputs": []
    }
  ]
}
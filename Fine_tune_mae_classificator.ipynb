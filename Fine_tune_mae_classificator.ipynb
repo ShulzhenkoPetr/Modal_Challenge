{
  "nbformat": 4,
  "nbformat_minor": 0,
  "metadata": {
    "colab": {
      "provenance": [],
      "machine_shape": "hm",
      "gpuType": "T4"
    },
    "kernelspec": {
      "name": "python3",
      "display_name": "Python 3"
    },
    "language_info": {
      "name": "python"
    },
    "accelerator": "GPU",
    "widgets": {
      "application/vnd.jupyter.widget-state+json": {
        "6e5cff86e5834c149ac935789e1b3ce2": {
          "model_module": "@jupyter-widgets/controls",
          "model_name": "HBoxModel",
          "model_module_version": "1.5.0",
          "state": {
            "_dom_classes": [],
            "_model_module": "@jupyter-widgets/controls",
            "_model_module_version": "1.5.0",
            "_model_name": "HBoxModel",
            "_view_count": null,
            "_view_module": "@jupyter-widgets/controls",
            "_view_module_version": "1.5.0",
            "_view_name": "HBoxView",
            "box_style": "",
            "children": [
              "IPY_MODEL_2aa7b3cb225343459bf4062d2ea348c4",
              "IPY_MODEL_1ab072d060cb40b2b5748503269fb84a",
              "IPY_MODEL_853c86981b884b3ea538cf27f18bd93c"
            ],
            "layout": "IPY_MODEL_b923f72359f4497da0be0f5ce645d05a"
          }
        },
        "2aa7b3cb225343459bf4062d2ea348c4": {
          "model_module": "@jupyter-widgets/controls",
          "model_name": "HTMLModel",
          "model_module_version": "1.5.0",
          "state": {
            "_dom_classes": [],
            "_model_module": "@jupyter-widgets/controls",
            "_model_module_version": "1.5.0",
            "_model_name": "HTMLModel",
            "_view_count": null,
            "_view_module": "@jupyter-widgets/controls",
            "_view_module_version": "1.5.0",
            "_view_name": "HTMLView",
            "description": "",
            "description_tooltip": null,
            "layout": "IPY_MODEL_be7cd10053524120afafa590310b39c5",
            "placeholder": "​",
            "style": "IPY_MODEL_c149330ef13841cbaf1f6a7472158d37",
            "value": "Downloading (…)rocessor_config.json: 100%"
          }
        },
        "1ab072d060cb40b2b5748503269fb84a": {
          "model_module": "@jupyter-widgets/controls",
          "model_name": "FloatProgressModel",
          "model_module_version": "1.5.0",
          "state": {
            "_dom_classes": [],
            "_model_module": "@jupyter-widgets/controls",
            "_model_module_version": "1.5.0",
            "_model_name": "FloatProgressModel",
            "_view_count": null,
            "_view_module": "@jupyter-widgets/controls",
            "_view_module_version": "1.5.0",
            "_view_name": "ProgressView",
            "bar_style": "success",
            "description": "",
            "description_tooltip": null,
            "layout": "IPY_MODEL_19130fd4026a43cc92d93b4a7ddbcb4b",
            "max": 160,
            "min": 0,
            "orientation": "horizontal",
            "style": "IPY_MODEL_d40c1331c3f142c5b3a67558ce16773d",
            "value": 160
          }
        },
        "853c86981b884b3ea538cf27f18bd93c": {
          "model_module": "@jupyter-widgets/controls",
          "model_name": "HTMLModel",
          "model_module_version": "1.5.0",
          "state": {
            "_dom_classes": [],
            "_model_module": "@jupyter-widgets/controls",
            "_model_module_version": "1.5.0",
            "_model_name": "HTMLModel",
            "_view_count": null,
            "_view_module": "@jupyter-widgets/controls",
            "_view_module_version": "1.5.0",
            "_view_name": "HTMLView",
            "description": "",
            "description_tooltip": null,
            "layout": "IPY_MODEL_6481d8029fcd4e62a2147dc929c36ddc",
            "placeholder": "​",
            "style": "IPY_MODEL_95b0c06ed55d45ec9ba443494771ca36",
            "value": " 160/160 [00:00&lt;00:00, 13.7kB/s]"
          }
        },
        "b923f72359f4497da0be0f5ce645d05a": {
          "model_module": "@jupyter-widgets/base",
          "model_name": "LayoutModel",
          "model_module_version": "1.2.0",
          "state": {
            "_model_module": "@jupyter-widgets/base",
            "_model_module_version": "1.2.0",
            "_model_name": "LayoutModel",
            "_view_count": null,
            "_view_module": "@jupyter-widgets/base",
            "_view_module_version": "1.2.0",
            "_view_name": "LayoutView",
            "align_content": null,
            "align_items": null,
            "align_self": null,
            "border": null,
            "bottom": null,
            "display": null,
            "flex": null,
            "flex_flow": null,
            "grid_area": null,
            "grid_auto_columns": null,
            "grid_auto_flow": null,
            "grid_auto_rows": null,
            "grid_column": null,
            "grid_gap": null,
            "grid_row": null,
            "grid_template_areas": null,
            "grid_template_columns": null,
            "grid_template_rows": null,
            "height": null,
            "justify_content": null,
            "justify_items": null,
            "left": null,
            "margin": null,
            "max_height": null,
            "max_width": null,
            "min_height": null,
            "min_width": null,
            "object_fit": null,
            "object_position": null,
            "order": null,
            "overflow": null,
            "overflow_x": null,
            "overflow_y": null,
            "padding": null,
            "right": null,
            "top": null,
            "visibility": null,
            "width": null
          }
        },
        "be7cd10053524120afafa590310b39c5": {
          "model_module": "@jupyter-widgets/base",
          "model_name": "LayoutModel",
          "model_module_version": "1.2.0",
          "state": {
            "_model_module": "@jupyter-widgets/base",
            "_model_module_version": "1.2.0",
            "_model_name": "LayoutModel",
            "_view_count": null,
            "_view_module": "@jupyter-widgets/base",
            "_view_module_version": "1.2.0",
            "_view_name": "LayoutView",
            "align_content": null,
            "align_items": null,
            "align_self": null,
            "border": null,
            "bottom": null,
            "display": null,
            "flex": null,
            "flex_flow": null,
            "grid_area": null,
            "grid_auto_columns": null,
            "grid_auto_flow": null,
            "grid_auto_rows": null,
            "grid_column": null,
            "grid_gap": null,
            "grid_row": null,
            "grid_template_areas": null,
            "grid_template_columns": null,
            "grid_template_rows": null,
            "height": null,
            "justify_content": null,
            "justify_items": null,
            "left": null,
            "margin": null,
            "max_height": null,
            "max_width": null,
            "min_height": null,
            "min_width": null,
            "object_fit": null,
            "object_position": null,
            "order": null,
            "overflow": null,
            "overflow_x": null,
            "overflow_y": null,
            "padding": null,
            "right": null,
            "top": null,
            "visibility": null,
            "width": null
          }
        },
        "c149330ef13841cbaf1f6a7472158d37": {
          "model_module": "@jupyter-widgets/controls",
          "model_name": "DescriptionStyleModel",
          "model_module_version": "1.5.0",
          "state": {
            "_model_module": "@jupyter-widgets/controls",
            "_model_module_version": "1.5.0",
            "_model_name": "DescriptionStyleModel",
            "_view_count": null,
            "_view_module": "@jupyter-widgets/base",
            "_view_module_version": "1.2.0",
            "_view_name": "StyleView",
            "description_width": ""
          }
        },
        "19130fd4026a43cc92d93b4a7ddbcb4b": {
          "model_module": "@jupyter-widgets/base",
          "model_name": "LayoutModel",
          "model_module_version": "1.2.0",
          "state": {
            "_model_module": "@jupyter-widgets/base",
            "_model_module_version": "1.2.0",
            "_model_name": "LayoutModel",
            "_view_count": null,
            "_view_module": "@jupyter-widgets/base",
            "_view_module_version": "1.2.0",
            "_view_name": "LayoutView",
            "align_content": null,
            "align_items": null,
            "align_self": null,
            "border": null,
            "bottom": null,
            "display": null,
            "flex": null,
            "flex_flow": null,
            "grid_area": null,
            "grid_auto_columns": null,
            "grid_auto_flow": null,
            "grid_auto_rows": null,
            "grid_column": null,
            "grid_gap": null,
            "grid_row": null,
            "grid_template_areas": null,
            "grid_template_columns": null,
            "grid_template_rows": null,
            "height": null,
            "justify_content": null,
            "justify_items": null,
            "left": null,
            "margin": null,
            "max_height": null,
            "max_width": null,
            "min_height": null,
            "min_width": null,
            "object_fit": null,
            "object_position": null,
            "order": null,
            "overflow": null,
            "overflow_x": null,
            "overflow_y": null,
            "padding": null,
            "right": null,
            "top": null,
            "visibility": null,
            "width": null
          }
        },
        "d40c1331c3f142c5b3a67558ce16773d": {
          "model_module": "@jupyter-widgets/controls",
          "model_name": "ProgressStyleModel",
          "model_module_version": "1.5.0",
          "state": {
            "_model_module": "@jupyter-widgets/controls",
            "_model_module_version": "1.5.0",
            "_model_name": "ProgressStyleModel",
            "_view_count": null,
            "_view_module": "@jupyter-widgets/base",
            "_view_module_version": "1.2.0",
            "_view_name": "StyleView",
            "bar_color": null,
            "description_width": ""
          }
        },
        "6481d8029fcd4e62a2147dc929c36ddc": {
          "model_module": "@jupyter-widgets/base",
          "model_name": "LayoutModel",
          "model_module_version": "1.2.0",
          "state": {
            "_model_module": "@jupyter-widgets/base",
            "_model_module_version": "1.2.0",
            "_model_name": "LayoutModel",
            "_view_count": null,
            "_view_module": "@jupyter-widgets/base",
            "_view_module_version": "1.2.0",
            "_view_name": "LayoutView",
            "align_content": null,
            "align_items": null,
            "align_self": null,
            "border": null,
            "bottom": null,
            "display": null,
            "flex": null,
            "flex_flow": null,
            "grid_area": null,
            "grid_auto_columns": null,
            "grid_auto_flow": null,
            "grid_auto_rows": null,
            "grid_column": null,
            "grid_gap": null,
            "grid_row": null,
            "grid_template_areas": null,
            "grid_template_columns": null,
            "grid_template_rows": null,
            "height": null,
            "justify_content": null,
            "justify_items": null,
            "left": null,
            "margin": null,
            "max_height": null,
            "max_width": null,
            "min_height": null,
            "min_width": null,
            "object_fit": null,
            "object_position": null,
            "order": null,
            "overflow": null,
            "overflow_x": null,
            "overflow_y": null,
            "padding": null,
            "right": null,
            "top": null,
            "visibility": null,
            "width": null
          }
        },
        "95b0c06ed55d45ec9ba443494771ca36": {
          "model_module": "@jupyter-widgets/controls",
          "model_name": "DescriptionStyleModel",
          "model_module_version": "1.5.0",
          "state": {
            "_model_module": "@jupyter-widgets/controls",
            "_model_module_version": "1.5.0",
            "_model_name": "DescriptionStyleModel",
            "_view_count": null,
            "_view_module": "@jupyter-widgets/base",
            "_view_module_version": "1.2.0",
            "_view_name": "StyleView",
            "description_width": ""
          }
        },
        "0904cd20ed654c4bb88b56cd86144905": {
          "model_module": "@jupyter-widgets/controls",
          "model_name": "HBoxModel",
          "model_module_version": "1.5.0",
          "state": {
            "_dom_classes": [],
            "_model_module": "@jupyter-widgets/controls",
            "_model_module_version": "1.5.0",
            "_model_name": "HBoxModel",
            "_view_count": null,
            "_view_module": "@jupyter-widgets/controls",
            "_view_module_version": "1.5.0",
            "_view_name": "HBoxView",
            "box_style": "",
            "children": [
              "IPY_MODEL_62e8b56963cd47c0b18554798977efd2",
              "IPY_MODEL_1bd546b11cf348efb9e819d40a0c5253",
              "IPY_MODEL_1845a88f04994de692e0834fdc64997d"
            ],
            "layout": "IPY_MODEL_a50be5a7111148d992b29e7445672605"
          }
        },
        "62e8b56963cd47c0b18554798977efd2": {
          "model_module": "@jupyter-widgets/controls",
          "model_name": "HTMLModel",
          "model_module_version": "1.5.0",
          "state": {
            "_dom_classes": [],
            "_model_module": "@jupyter-widgets/controls",
            "_model_module_version": "1.5.0",
            "_model_name": "HTMLModel",
            "_view_count": null,
            "_view_module": "@jupyter-widgets/controls",
            "_view_module_version": "1.5.0",
            "_view_name": "HTMLView",
            "description": "",
            "description_tooltip": null,
            "layout": "IPY_MODEL_11ef9d1306094e95ab108dd2dc2b40a4",
            "placeholder": "​",
            "style": "IPY_MODEL_6e126281d95b43368f7c9d4024104491",
            "value": "Downloading (…)lve/main/config.json: 100%"
          }
        },
        "1bd546b11cf348efb9e819d40a0c5253": {
          "model_module": "@jupyter-widgets/controls",
          "model_name": "FloatProgressModel",
          "model_module_version": "1.5.0",
          "state": {
            "_dom_classes": [],
            "_model_module": "@jupyter-widgets/controls",
            "_model_module_version": "1.5.0",
            "_model_name": "FloatProgressModel",
            "_view_count": null,
            "_view_module": "@jupyter-widgets/controls",
            "_view_module_version": "1.5.0",
            "_view_name": "ProgressView",
            "bar_style": "success",
            "description": "",
            "description_tooltip": null,
            "layout": "IPY_MODEL_2fa1793a52bb44b289cf4e8287b5d26b",
            "max": 69665,
            "min": 0,
            "orientation": "horizontal",
            "style": "IPY_MODEL_c6eb6fd11c604d3abaf6eb81adf827f0",
            "value": 69665
          }
        },
        "1845a88f04994de692e0834fdc64997d": {
          "model_module": "@jupyter-widgets/controls",
          "model_name": "HTMLModel",
          "model_module_version": "1.5.0",
          "state": {
            "_dom_classes": [],
            "_model_module": "@jupyter-widgets/controls",
            "_model_module_version": "1.5.0",
            "_model_name": "HTMLModel",
            "_view_count": null,
            "_view_module": "@jupyter-widgets/controls",
            "_view_module_version": "1.5.0",
            "_view_name": "HTMLView",
            "description": "",
            "description_tooltip": null,
            "layout": "IPY_MODEL_c446bef3172c4ebcb6b7decced842b19",
            "placeholder": "​",
            "style": "IPY_MODEL_b8dba847667a4b37854b789ee6df8288",
            "value": " 69.7k/69.7k [00:00&lt;00:00, 5.45MB/s]"
          }
        },
        "a50be5a7111148d992b29e7445672605": {
          "model_module": "@jupyter-widgets/base",
          "model_name": "LayoutModel",
          "model_module_version": "1.2.0",
          "state": {
            "_model_module": "@jupyter-widgets/base",
            "_model_module_version": "1.2.0",
            "_model_name": "LayoutModel",
            "_view_count": null,
            "_view_module": "@jupyter-widgets/base",
            "_view_module_version": "1.2.0",
            "_view_name": "LayoutView",
            "align_content": null,
            "align_items": null,
            "align_self": null,
            "border": null,
            "bottom": null,
            "display": null,
            "flex": null,
            "flex_flow": null,
            "grid_area": null,
            "grid_auto_columns": null,
            "grid_auto_flow": null,
            "grid_auto_rows": null,
            "grid_column": null,
            "grid_gap": null,
            "grid_row": null,
            "grid_template_areas": null,
            "grid_template_columns": null,
            "grid_template_rows": null,
            "height": null,
            "justify_content": null,
            "justify_items": null,
            "left": null,
            "margin": null,
            "max_height": null,
            "max_width": null,
            "min_height": null,
            "min_width": null,
            "object_fit": null,
            "object_position": null,
            "order": null,
            "overflow": null,
            "overflow_x": null,
            "overflow_y": null,
            "padding": null,
            "right": null,
            "top": null,
            "visibility": null,
            "width": null
          }
        },
        "11ef9d1306094e95ab108dd2dc2b40a4": {
          "model_module": "@jupyter-widgets/base",
          "model_name": "LayoutModel",
          "model_module_version": "1.2.0",
          "state": {
            "_model_module": "@jupyter-widgets/base",
            "_model_module_version": "1.2.0",
            "_model_name": "LayoutModel",
            "_view_count": null,
            "_view_module": "@jupyter-widgets/base",
            "_view_module_version": "1.2.0",
            "_view_name": "LayoutView",
            "align_content": null,
            "align_items": null,
            "align_self": null,
            "border": null,
            "bottom": null,
            "display": null,
            "flex": null,
            "flex_flow": null,
            "grid_area": null,
            "grid_auto_columns": null,
            "grid_auto_flow": null,
            "grid_auto_rows": null,
            "grid_column": null,
            "grid_gap": null,
            "grid_row": null,
            "grid_template_areas": null,
            "grid_template_columns": null,
            "grid_template_rows": null,
            "height": null,
            "justify_content": null,
            "justify_items": null,
            "left": null,
            "margin": null,
            "max_height": null,
            "max_width": null,
            "min_height": null,
            "min_width": null,
            "object_fit": null,
            "object_position": null,
            "order": null,
            "overflow": null,
            "overflow_x": null,
            "overflow_y": null,
            "padding": null,
            "right": null,
            "top": null,
            "visibility": null,
            "width": null
          }
        },
        "6e126281d95b43368f7c9d4024104491": {
          "model_module": "@jupyter-widgets/controls",
          "model_name": "DescriptionStyleModel",
          "model_module_version": "1.5.0",
          "state": {
            "_model_module": "@jupyter-widgets/controls",
            "_model_module_version": "1.5.0",
            "_model_name": "DescriptionStyleModel",
            "_view_count": null,
            "_view_module": "@jupyter-widgets/base",
            "_view_module_version": "1.2.0",
            "_view_name": "StyleView",
            "description_width": ""
          }
        },
        "2fa1793a52bb44b289cf4e8287b5d26b": {
          "model_module": "@jupyter-widgets/base",
          "model_name": "LayoutModel",
          "model_module_version": "1.2.0",
          "state": {
            "_model_module": "@jupyter-widgets/base",
            "_model_module_version": "1.2.0",
            "_model_name": "LayoutModel",
            "_view_count": null,
            "_view_module": "@jupyter-widgets/base",
            "_view_module_version": "1.2.0",
            "_view_name": "LayoutView",
            "align_content": null,
            "align_items": null,
            "align_self": null,
            "border": null,
            "bottom": null,
            "display": null,
            "flex": null,
            "flex_flow": null,
            "grid_area": null,
            "grid_auto_columns": null,
            "grid_auto_flow": null,
            "grid_auto_rows": null,
            "grid_column": null,
            "grid_gap": null,
            "grid_row": null,
            "grid_template_areas": null,
            "grid_template_columns": null,
            "grid_template_rows": null,
            "height": null,
            "justify_content": null,
            "justify_items": null,
            "left": null,
            "margin": null,
            "max_height": null,
            "max_width": null,
            "min_height": null,
            "min_width": null,
            "object_fit": null,
            "object_position": null,
            "order": null,
            "overflow": null,
            "overflow_x": null,
            "overflow_y": null,
            "padding": null,
            "right": null,
            "top": null,
            "visibility": null,
            "width": null
          }
        },
        "c6eb6fd11c604d3abaf6eb81adf827f0": {
          "model_module": "@jupyter-widgets/controls",
          "model_name": "ProgressStyleModel",
          "model_module_version": "1.5.0",
          "state": {
            "_model_module": "@jupyter-widgets/controls",
            "_model_module_version": "1.5.0",
            "_model_name": "ProgressStyleModel",
            "_view_count": null,
            "_view_module": "@jupyter-widgets/base",
            "_view_module_version": "1.2.0",
            "_view_name": "StyleView",
            "bar_color": null,
            "description_width": ""
          }
        },
        "c446bef3172c4ebcb6b7decced842b19": {
          "model_module": "@jupyter-widgets/base",
          "model_name": "LayoutModel",
          "model_module_version": "1.2.0",
          "state": {
            "_model_module": "@jupyter-widgets/base",
            "_model_module_version": "1.2.0",
            "_model_name": "LayoutModel",
            "_view_count": null,
            "_view_module": "@jupyter-widgets/base",
            "_view_module_version": "1.2.0",
            "_view_name": "LayoutView",
            "align_content": null,
            "align_items": null,
            "align_self": null,
            "border": null,
            "bottom": null,
            "display": null,
            "flex": null,
            "flex_flow": null,
            "grid_area": null,
            "grid_auto_columns": null,
            "grid_auto_flow": null,
            "grid_auto_rows": null,
            "grid_column": null,
            "grid_gap": null,
            "grid_row": null,
            "grid_template_areas": null,
            "grid_template_columns": null,
            "grid_template_rows": null,
            "height": null,
            "justify_content": null,
            "justify_items": null,
            "left": null,
            "margin": null,
            "max_height": null,
            "max_width": null,
            "min_height": null,
            "min_width": null,
            "object_fit": null,
            "object_position": null,
            "order": null,
            "overflow": null,
            "overflow_x": null,
            "overflow_y": null,
            "padding": null,
            "right": null,
            "top": null,
            "visibility": null,
            "width": null
          }
        },
        "b8dba847667a4b37854b789ee6df8288": {
          "model_module": "@jupyter-widgets/controls",
          "model_name": "DescriptionStyleModel",
          "model_module_version": "1.5.0",
          "state": {
            "_model_module": "@jupyter-widgets/controls",
            "_model_module_version": "1.5.0",
            "_model_name": "DescriptionStyleModel",
            "_view_count": null,
            "_view_module": "@jupyter-widgets/base",
            "_view_module_version": "1.2.0",
            "_view_name": "StyleView",
            "description_width": ""
          }
        },
        "04fc58b94fd54802ae851fb298be69be": {
          "model_module": "@jupyter-widgets/controls",
          "model_name": "HBoxModel",
          "model_module_version": "1.5.0",
          "state": {
            "_dom_classes": [],
            "_model_module": "@jupyter-widgets/controls",
            "_model_module_version": "1.5.0",
            "_model_name": "HBoxModel",
            "_view_count": null,
            "_view_module": "@jupyter-widgets/controls",
            "_view_module_version": "1.5.0",
            "_view_name": "HBoxView",
            "box_style": "",
            "children": [
              "IPY_MODEL_81071bc1e343456388f98ffbc008eba5",
              "IPY_MODEL_af0f35c945ba4ff094179e0a0518374d",
              "IPY_MODEL_308609680dd3457e89e31d4d6863292b"
            ],
            "layout": "IPY_MODEL_be990e447b1a46aaa09470828710e4d3"
          }
        },
        "81071bc1e343456388f98ffbc008eba5": {
          "model_module": "@jupyter-widgets/controls",
          "model_name": "HTMLModel",
          "model_module_version": "1.5.0",
          "state": {
            "_dom_classes": [],
            "_model_module": "@jupyter-widgets/controls",
            "_model_module_version": "1.5.0",
            "_model_name": "HTMLModel",
            "_view_count": null,
            "_view_module": "@jupyter-widgets/controls",
            "_view_module_version": "1.5.0",
            "_view_name": "HTMLView",
            "description": "",
            "description_tooltip": null,
            "layout": "IPY_MODEL_ccf53f5493364f048dbb217c309b3bef",
            "placeholder": "​",
            "style": "IPY_MODEL_b58a050a183742c89969201eb16e2d00",
            "value": "Downloading pytorch_model.bin: 100%"
          }
        },
        "af0f35c945ba4ff094179e0a0518374d": {
          "model_module": "@jupyter-widgets/controls",
          "model_name": "FloatProgressModel",
          "model_module_version": "1.5.0",
          "state": {
            "_dom_classes": [],
            "_model_module": "@jupyter-widgets/controls",
            "_model_module_version": "1.5.0",
            "_model_name": "FloatProgressModel",
            "_view_count": null,
            "_view_module": "@jupyter-widgets/controls",
            "_view_module_version": "1.5.0",
            "_view_name": "ProgressView",
            "bar_style": "success",
            "description": "",
            "description_tooltip": null,
            "layout": "IPY_MODEL_6cd08a17601b4c04922e0d0b70f38161",
            "max": 346351599,
            "min": 0,
            "orientation": "horizontal",
            "style": "IPY_MODEL_e315f5b0a9324c77b9374eaf9b30efcc",
            "value": 346351599
          }
        },
        "308609680dd3457e89e31d4d6863292b": {
          "model_module": "@jupyter-widgets/controls",
          "model_name": "HTMLModel",
          "model_module_version": "1.5.0",
          "state": {
            "_dom_classes": [],
            "_model_module": "@jupyter-widgets/controls",
            "_model_module_version": "1.5.0",
            "_model_name": "HTMLModel",
            "_view_count": null,
            "_view_module": "@jupyter-widgets/controls",
            "_view_module_version": "1.5.0",
            "_view_name": "HTMLView",
            "description": "",
            "description_tooltip": null,
            "layout": "IPY_MODEL_fde749265ddc4fd18a3979b4e9770682",
            "placeholder": "​",
            "style": "IPY_MODEL_95c61f76480347afa71f924e0ce366d7",
            "value": " 346M/346M [00:01&lt;00:00, 366MB/s]"
          }
        },
        "be990e447b1a46aaa09470828710e4d3": {
          "model_module": "@jupyter-widgets/base",
          "model_name": "LayoutModel",
          "model_module_version": "1.2.0",
          "state": {
            "_model_module": "@jupyter-widgets/base",
            "_model_module_version": "1.2.0",
            "_model_name": "LayoutModel",
            "_view_count": null,
            "_view_module": "@jupyter-widgets/base",
            "_view_module_version": "1.2.0",
            "_view_name": "LayoutView",
            "align_content": null,
            "align_items": null,
            "align_self": null,
            "border": null,
            "bottom": null,
            "display": null,
            "flex": null,
            "flex_flow": null,
            "grid_area": null,
            "grid_auto_columns": null,
            "grid_auto_flow": null,
            "grid_auto_rows": null,
            "grid_column": null,
            "grid_gap": null,
            "grid_row": null,
            "grid_template_areas": null,
            "grid_template_columns": null,
            "grid_template_rows": null,
            "height": null,
            "justify_content": null,
            "justify_items": null,
            "left": null,
            "margin": null,
            "max_height": null,
            "max_width": null,
            "min_height": null,
            "min_width": null,
            "object_fit": null,
            "object_position": null,
            "order": null,
            "overflow": null,
            "overflow_x": null,
            "overflow_y": null,
            "padding": null,
            "right": null,
            "top": null,
            "visibility": null,
            "width": null
          }
        },
        "ccf53f5493364f048dbb217c309b3bef": {
          "model_module": "@jupyter-widgets/base",
          "model_name": "LayoutModel",
          "model_module_version": "1.2.0",
          "state": {
            "_model_module": "@jupyter-widgets/base",
            "_model_module_version": "1.2.0",
            "_model_name": "LayoutModel",
            "_view_count": null,
            "_view_module": "@jupyter-widgets/base",
            "_view_module_version": "1.2.0",
            "_view_name": "LayoutView",
            "align_content": null,
            "align_items": null,
            "align_self": null,
            "border": null,
            "bottom": null,
            "display": null,
            "flex": null,
            "flex_flow": null,
            "grid_area": null,
            "grid_auto_columns": null,
            "grid_auto_flow": null,
            "grid_auto_rows": null,
            "grid_column": null,
            "grid_gap": null,
            "grid_row": null,
            "grid_template_areas": null,
            "grid_template_columns": null,
            "grid_template_rows": null,
            "height": null,
            "justify_content": null,
            "justify_items": null,
            "left": null,
            "margin": null,
            "max_height": null,
            "max_width": null,
            "min_height": null,
            "min_width": null,
            "object_fit": null,
            "object_position": null,
            "order": null,
            "overflow": null,
            "overflow_x": null,
            "overflow_y": null,
            "padding": null,
            "right": null,
            "top": null,
            "visibility": null,
            "width": null
          }
        },
        "b58a050a183742c89969201eb16e2d00": {
          "model_module": "@jupyter-widgets/controls",
          "model_name": "DescriptionStyleModel",
          "model_module_version": "1.5.0",
          "state": {
            "_model_module": "@jupyter-widgets/controls",
            "_model_module_version": "1.5.0",
            "_model_name": "DescriptionStyleModel",
            "_view_count": null,
            "_view_module": "@jupyter-widgets/base",
            "_view_module_version": "1.2.0",
            "_view_name": "StyleView",
            "description_width": ""
          }
        },
        "6cd08a17601b4c04922e0d0b70f38161": {
          "model_module": "@jupyter-widgets/base",
          "model_name": "LayoutModel",
          "model_module_version": "1.2.0",
          "state": {
            "_model_module": "@jupyter-widgets/base",
            "_model_module_version": "1.2.0",
            "_model_name": "LayoutModel",
            "_view_count": null,
            "_view_module": "@jupyter-widgets/base",
            "_view_module_version": "1.2.0",
            "_view_name": "LayoutView",
            "align_content": null,
            "align_items": null,
            "align_self": null,
            "border": null,
            "bottom": null,
            "display": null,
            "flex": null,
            "flex_flow": null,
            "grid_area": null,
            "grid_auto_columns": null,
            "grid_auto_flow": null,
            "grid_auto_rows": null,
            "grid_column": null,
            "grid_gap": null,
            "grid_row": null,
            "grid_template_areas": null,
            "grid_template_columns": null,
            "grid_template_rows": null,
            "height": null,
            "justify_content": null,
            "justify_items": null,
            "left": null,
            "margin": null,
            "max_height": null,
            "max_width": null,
            "min_height": null,
            "min_width": null,
            "object_fit": null,
            "object_position": null,
            "order": null,
            "overflow": null,
            "overflow_x": null,
            "overflow_y": null,
            "padding": null,
            "right": null,
            "top": null,
            "visibility": null,
            "width": null
          }
        },
        "e315f5b0a9324c77b9374eaf9b30efcc": {
          "model_module": "@jupyter-widgets/controls",
          "model_name": "ProgressStyleModel",
          "model_module_version": "1.5.0",
          "state": {
            "_model_module": "@jupyter-widgets/controls",
            "_model_module_version": "1.5.0",
            "_model_name": "ProgressStyleModel",
            "_view_count": null,
            "_view_module": "@jupyter-widgets/base",
            "_view_module_version": "1.2.0",
            "_view_name": "StyleView",
            "bar_color": null,
            "description_width": ""
          }
        },
        "fde749265ddc4fd18a3979b4e9770682": {
          "model_module": "@jupyter-widgets/base",
          "model_name": "LayoutModel",
          "model_module_version": "1.2.0",
          "state": {
            "_model_module": "@jupyter-widgets/base",
            "_model_module_version": "1.2.0",
            "_model_name": "LayoutModel",
            "_view_count": null,
            "_view_module": "@jupyter-widgets/base",
            "_view_module_version": "1.2.0",
            "_view_name": "LayoutView",
            "align_content": null,
            "align_items": null,
            "align_self": null,
            "border": null,
            "bottom": null,
            "display": null,
            "flex": null,
            "flex_flow": null,
            "grid_area": null,
            "grid_auto_columns": null,
            "grid_auto_flow": null,
            "grid_auto_rows": null,
            "grid_column": null,
            "grid_gap": null,
            "grid_row": null,
            "grid_template_areas": null,
            "grid_template_columns": null,
            "grid_template_rows": null,
            "height": null,
            "justify_content": null,
            "justify_items": null,
            "left": null,
            "margin": null,
            "max_height": null,
            "max_width": null,
            "min_height": null,
            "min_width": null,
            "object_fit": null,
            "object_position": null,
            "order": null,
            "overflow": null,
            "overflow_x": null,
            "overflow_y": null,
            "padding": null,
            "right": null,
            "top": null,
            "visibility": null,
            "width": null
          }
        },
        "95c61f76480347afa71f924e0ce366d7": {
          "model_module": "@jupyter-widgets/controls",
          "model_name": "DescriptionStyleModel",
          "model_module_version": "1.5.0",
          "state": {
            "_model_module": "@jupyter-widgets/controls",
            "_model_module_version": "1.5.0",
            "_model_name": "DescriptionStyleModel",
            "_view_count": null,
            "_view_module": "@jupyter-widgets/base",
            "_view_module_version": "1.2.0",
            "_view_name": "StyleView",
            "description_width": ""
          }
        }
      }
    }
  },
  "cells": [
    {
      "cell_type": "code",
      "source": [
        "from google.colab import drive\n",
        "drive.mount('/content/gdrive')"
      ],
      "metadata": {
        "id": "t3bniPKOSape",
        "colab": {
          "base_uri": "https://localhost:8080/"
        },
        "outputId": "98af17b8-d63a-4fe7-8ec9-0b58b8d7b6aa"
      },
      "execution_count": null,
      "outputs": [
        {
          "output_type": "stream",
          "name": "stdout",
          "text": [
            "Mounted at /content/gdrive\n"
          ]
        }
      ]
    },
    {
      "cell_type": "code",
      "source": [
        "!git clone https://github.com/facebookresearch/mae.git"
      ],
      "metadata": {
        "colab": {
          "base_uri": "https://localhost:8080/"
        },
        "id": "bpl6t1KKwaAx",
        "outputId": "c868ef31-b85b-459a-9896-08c9fd3371b4"
      },
      "execution_count": null,
      "outputs": [
        {
          "output_type": "stream",
          "name": "stdout",
          "text": [
            "Cloning into 'mae'...\n",
            "remote: Enumerating objects: 39, done.\u001b[K\n",
            "remote: Total 39 (delta 0), reused 0 (delta 0), pack-reused 39\u001b[K\n",
            "Unpacking objects: 100% (39/39), 829.52 KiB | 9.02 MiB/s, done.\n"
          ]
        }
      ]
    },
    {
      "cell_type": "code",
      "source": [
        "%cd mae"
      ],
      "metadata": {
        "colab": {
          "base_uri": "https://localhost:8080/"
        },
        "id": "ca_P0ixSwKaE",
        "outputId": "d1e9efe5-8d07-4985-ea9f-68dac78a4b81"
      },
      "execution_count": null,
      "outputs": [
        {
          "output_type": "stream",
          "name": "stdout",
          "text": [
            "/content/mae\n"
          ]
        }
      ]
    },
    {
      "cell_type": "code",
      "source": [
        "!pip install torch\n",
        "!pip install torchvision\n",
        "!pip install timm==0.3.2\n",
        "!pip install transformers"
      ],
      "metadata": {
        "colab": {
          "base_uri": "https://localhost:8080/"
        },
        "id": "zzR6pOI_wX86",
        "outputId": "3df60d4a-4c36-4c0b-9299-e6d6367f4fa9"
      },
      "execution_count": null,
      "outputs": [
        {
          "output_type": "stream",
          "name": "stdout",
          "text": [
            "Looking in indexes: https://pypi.org/simple, https://us-python.pkg.dev/colab-wheels/public/simple/\n",
            "Requirement already satisfied: torch in /usr/local/lib/python3.10/dist-packages (2.0.1+cu118)\n",
            "Requirement already satisfied: filelock in /usr/local/lib/python3.10/dist-packages (from torch) (3.12.0)\n",
            "Requirement already satisfied: typing-extensions in /usr/local/lib/python3.10/dist-packages (from torch) (4.5.0)\n",
            "Requirement already satisfied: sympy in /usr/local/lib/python3.10/dist-packages (from torch) (1.11.1)\n",
            "Requirement already satisfied: networkx in /usr/local/lib/python3.10/dist-packages (from torch) (3.1)\n",
            "Requirement already satisfied: jinja2 in /usr/local/lib/python3.10/dist-packages (from torch) (3.1.2)\n",
            "Requirement already satisfied: triton==2.0.0 in /usr/local/lib/python3.10/dist-packages (from torch) (2.0.0)\n",
            "Requirement already satisfied: cmake in /usr/local/lib/python3.10/dist-packages (from triton==2.0.0->torch) (3.25.2)\n",
            "Requirement already satisfied: lit in /usr/local/lib/python3.10/dist-packages (from triton==2.0.0->torch) (16.0.5)\n",
            "Requirement already satisfied: MarkupSafe>=2.0 in /usr/local/lib/python3.10/dist-packages (from jinja2->torch) (2.1.2)\n",
            "Requirement already satisfied: mpmath>=0.19 in /usr/local/lib/python3.10/dist-packages (from sympy->torch) (1.3.0)\n",
            "Looking in indexes: https://pypi.org/simple, https://us-python.pkg.dev/colab-wheels/public/simple/\n",
            "Requirement already satisfied: torchvision in /usr/local/lib/python3.10/dist-packages (0.15.2+cu118)\n",
            "Requirement already satisfied: numpy in /usr/local/lib/python3.10/dist-packages (from torchvision) (1.22.4)\n",
            "Requirement already satisfied: requests in /usr/local/lib/python3.10/dist-packages (from torchvision) (2.27.1)\n",
            "Requirement already satisfied: torch==2.0.1 in /usr/local/lib/python3.10/dist-packages (from torchvision) (2.0.1+cu118)\n",
            "Requirement already satisfied: pillow!=8.3.*,>=5.3.0 in /usr/local/lib/python3.10/dist-packages (from torchvision) (8.4.0)\n",
            "Requirement already satisfied: filelock in /usr/local/lib/python3.10/dist-packages (from torch==2.0.1->torchvision) (3.12.0)\n",
            "Requirement already satisfied: typing-extensions in /usr/local/lib/python3.10/dist-packages (from torch==2.0.1->torchvision) (4.5.0)\n",
            "Requirement already satisfied: sympy in /usr/local/lib/python3.10/dist-packages (from torch==2.0.1->torchvision) (1.11.1)\n",
            "Requirement already satisfied: networkx in /usr/local/lib/python3.10/dist-packages (from torch==2.0.1->torchvision) (3.1)\n",
            "Requirement already satisfied: jinja2 in /usr/local/lib/python3.10/dist-packages (from torch==2.0.1->torchvision) (3.1.2)\n",
            "Requirement already satisfied: triton==2.0.0 in /usr/local/lib/python3.10/dist-packages (from torch==2.0.1->torchvision) (2.0.0)\n",
            "Requirement already satisfied: cmake in /usr/local/lib/python3.10/dist-packages (from triton==2.0.0->torch==2.0.1->torchvision) (3.25.2)\n",
            "Requirement already satisfied: lit in /usr/local/lib/python3.10/dist-packages (from triton==2.0.0->torch==2.0.1->torchvision) (16.0.5)\n",
            "Requirement already satisfied: urllib3<1.27,>=1.21.1 in /usr/local/lib/python3.10/dist-packages (from requests->torchvision) (1.26.15)\n",
            "Requirement already satisfied: certifi>=2017.4.17 in /usr/local/lib/python3.10/dist-packages (from requests->torchvision) (2022.12.7)\n",
            "Requirement already satisfied: charset-normalizer~=2.0.0 in /usr/local/lib/python3.10/dist-packages (from requests->torchvision) (2.0.12)\n",
            "Requirement already satisfied: idna<4,>=2.5 in /usr/local/lib/python3.10/dist-packages (from requests->torchvision) (3.4)\n",
            "Requirement already satisfied: MarkupSafe>=2.0 in /usr/local/lib/python3.10/dist-packages (from jinja2->torch==2.0.1->torchvision) (2.1.2)\n",
            "Requirement already satisfied: mpmath>=0.19 in /usr/local/lib/python3.10/dist-packages (from sympy->torch==2.0.1->torchvision) (1.3.0)\n",
            "Looking in indexes: https://pypi.org/simple, https://us-python.pkg.dev/colab-wheels/public/simple/\n",
            "Collecting timm==0.3.2\n",
            "  Downloading timm-0.3.2-py3-none-any.whl (244 kB)\n",
            "\u001b[2K     \u001b[90m━━━━━━━━━━━━━━━━━━━━━━━━━━━━━━━━━━━━━━\u001b[0m \u001b[32m244.2/244.2 kB\u001b[0m \u001b[31m22.5 MB/s\u001b[0m eta \u001b[36m0:00:00\u001b[0m\n",
            "\u001b[?25hRequirement already satisfied: torch>=1.0 in /usr/local/lib/python3.10/dist-packages (from timm==0.3.2) (2.0.1+cu118)\n",
            "Requirement already satisfied: torchvision in /usr/local/lib/python3.10/dist-packages (from timm==0.3.2) (0.15.2+cu118)\n",
            "Requirement already satisfied: filelock in /usr/local/lib/python3.10/dist-packages (from torch>=1.0->timm==0.3.2) (3.12.0)\n",
            "Requirement already satisfied: typing-extensions in /usr/local/lib/python3.10/dist-packages (from torch>=1.0->timm==0.3.2) (4.5.0)\n",
            "Requirement already satisfied: sympy in /usr/local/lib/python3.10/dist-packages (from torch>=1.0->timm==0.3.2) (1.11.1)\n",
            "Requirement already satisfied: networkx in /usr/local/lib/python3.10/dist-packages (from torch>=1.0->timm==0.3.2) (3.1)\n",
            "Requirement already satisfied: jinja2 in /usr/local/lib/python3.10/dist-packages (from torch>=1.0->timm==0.3.2) (3.1.2)\n",
            "Requirement already satisfied: triton==2.0.0 in /usr/local/lib/python3.10/dist-packages (from torch>=1.0->timm==0.3.2) (2.0.0)\n",
            "Requirement already satisfied: cmake in /usr/local/lib/python3.10/dist-packages (from triton==2.0.0->torch>=1.0->timm==0.3.2) (3.25.2)\n",
            "Requirement already satisfied: lit in /usr/local/lib/python3.10/dist-packages (from triton==2.0.0->torch>=1.0->timm==0.3.2) (16.0.5)\n",
            "Requirement already satisfied: numpy in /usr/local/lib/python3.10/dist-packages (from torchvision->timm==0.3.2) (1.22.4)\n",
            "Requirement already satisfied: requests in /usr/local/lib/python3.10/dist-packages (from torchvision->timm==0.3.2) (2.27.1)\n",
            "Requirement already satisfied: pillow!=8.3.*,>=5.3.0 in /usr/local/lib/python3.10/dist-packages (from torchvision->timm==0.3.2) (8.4.0)\n",
            "Requirement already satisfied: MarkupSafe>=2.0 in /usr/local/lib/python3.10/dist-packages (from jinja2->torch>=1.0->timm==0.3.2) (2.1.2)\n",
            "Requirement already satisfied: urllib3<1.27,>=1.21.1 in /usr/local/lib/python3.10/dist-packages (from requests->torchvision->timm==0.3.2) (1.26.15)\n",
            "Requirement already satisfied: certifi>=2017.4.17 in /usr/local/lib/python3.10/dist-packages (from requests->torchvision->timm==0.3.2) (2022.12.7)\n",
            "Requirement already satisfied: charset-normalizer~=2.0.0 in /usr/local/lib/python3.10/dist-packages (from requests->torchvision->timm==0.3.2) (2.0.12)\n",
            "Requirement already satisfied: idna<4,>=2.5 in /usr/local/lib/python3.10/dist-packages (from requests->torchvision->timm==0.3.2) (3.4)\n",
            "Requirement already satisfied: mpmath>=0.19 in /usr/local/lib/python3.10/dist-packages (from sympy->torch>=1.0->timm==0.3.2) (1.3.0)\n",
            "Installing collected packages: timm\n",
            "Successfully installed timm-0.3.2\n",
            "Looking in indexes: https://pypi.org/simple, https://us-python.pkg.dev/colab-wheels/public/simple/\n",
            "Collecting transformers\n",
            "  Downloading transformers-4.29.2-py3-none-any.whl (7.1 MB)\n",
            "\u001b[2K     \u001b[90m━━━━━━━━━━━━━━━━━━━━━━━━━━━━━━━━━━━━━━━━\u001b[0m \u001b[32m7.1/7.1 MB\u001b[0m \u001b[31m94.7 MB/s\u001b[0m eta \u001b[36m0:00:00\u001b[0m\n",
            "\u001b[?25hRequirement already satisfied: filelock in /usr/local/lib/python3.10/dist-packages (from transformers) (3.12.0)\n",
            "Collecting huggingface-hub<1.0,>=0.14.1 (from transformers)\n",
            "  Downloading huggingface_hub-0.14.1-py3-none-any.whl (224 kB)\n",
            "\u001b[2K     \u001b[90m━━━━━━━━━━━━━━━━━━━━━━━━━━━━━━━━━━━━━━\u001b[0m \u001b[32m224.5/224.5 kB\u001b[0m \u001b[31m30.1 MB/s\u001b[0m eta \u001b[36m0:00:00\u001b[0m\n",
            "\u001b[?25hRequirement already satisfied: numpy>=1.17 in /usr/local/lib/python3.10/dist-packages (from transformers) (1.22.4)\n",
            "Requirement already satisfied: packaging>=20.0 in /usr/local/lib/python3.10/dist-packages (from transformers) (23.1)\n",
            "Requirement already satisfied: pyyaml>=5.1 in /usr/local/lib/python3.10/dist-packages (from transformers) (6.0)\n",
            "Requirement already satisfied: regex!=2019.12.17 in /usr/local/lib/python3.10/dist-packages (from transformers) (2022.10.31)\n",
            "Requirement already satisfied: requests in /usr/local/lib/python3.10/dist-packages (from transformers) (2.27.1)\n",
            "Collecting tokenizers!=0.11.3,<0.14,>=0.11.1 (from transformers)\n",
            "  Downloading tokenizers-0.13.3-cp310-cp310-manylinux_2_17_x86_64.manylinux2014_x86_64.whl (7.8 MB)\n",
            "\u001b[2K     \u001b[90m━━━━━━━━━━━━━━━━━━━━━━━━━━━━━━━━━━━━━━━━\u001b[0m \u001b[32m7.8/7.8 MB\u001b[0m \u001b[31m129.3 MB/s\u001b[0m eta \u001b[36m0:00:00\u001b[0m\n",
            "\u001b[?25hRequirement already satisfied: tqdm>=4.27 in /usr/local/lib/python3.10/dist-packages (from transformers) (4.65.0)\n",
            "Requirement already satisfied: fsspec in /usr/local/lib/python3.10/dist-packages (from huggingface-hub<1.0,>=0.14.1->transformers) (2023.4.0)\n",
            "Requirement already satisfied: typing-extensions>=3.7.4.3 in /usr/local/lib/python3.10/dist-packages (from huggingface-hub<1.0,>=0.14.1->transformers) (4.5.0)\n",
            "Requirement already satisfied: urllib3<1.27,>=1.21.1 in /usr/local/lib/python3.10/dist-packages (from requests->transformers) (1.26.15)\n",
            "Requirement already satisfied: certifi>=2017.4.17 in /usr/local/lib/python3.10/dist-packages (from requests->transformers) (2022.12.7)\n",
            "Requirement already satisfied: charset-normalizer~=2.0.0 in /usr/local/lib/python3.10/dist-packages (from requests->transformers) (2.0.12)\n",
            "Requirement already satisfied: idna<4,>=2.5 in /usr/local/lib/python3.10/dist-packages (from requests->transformers) (3.4)\n",
            "Installing collected packages: tokenizers, huggingface-hub, transformers\n",
            "Successfully installed huggingface-hub-0.14.1 tokenizers-0.13.3 transformers-4.29.2\n"
          ]
        }
      ]
    },
    {
      "cell_type": "code",
      "source": [
        "#To be added to timm/models/layers/helpers.py\n",
        "#From: https://github.com/huggingface/pytorch-image-models/issues/420#issuecomment-776459842\n",
        "\n",
        "lines = [\"\\n\", \"TORCH_MAJOR = int(torch.__version__.split('.')[0]) \\n\",\n",
        "             \"TORCH_MINOR = int(torch.__version__.split('.')[1]) \\n\",\n",
        "             \"if TORCH_MAJOR == 1 and TORCH_MINOR < 8: \\n\",\n",
        "             \"    from torch._six import container_abcs \\n\",\n",
        "             \"else: \\n\",\n",
        "             \"    import collections.abc as container_abcs \\n\"]\n",
        "\n",
        "with open('../../usr/local/lib/python3.10/dist-packages/timm/models/layers/helpers.py', 'r') as f:\n",
        "    code_lines = f.readlines()\n",
        "\n",
        "with open('../../usr/local/lib/python3.10/dist-packages/timm/models/layers/helpers.py', 'w') as f:\n",
        "    #res = code_lines[:5] + lines + code_lines[6:]\n",
        "    code_lines[5] = \"import collections.abc as container_abcs\"\n",
        "    f.writelines(code_lines)"
      ],
      "metadata": {
        "id": "NjOZNcCDwejn"
      },
      "execution_count": null,
      "outputs": []
    },
    {
      "cell_type": "code",
      "source": [
        "#Change \"from torch._six import inf\" for \"from torch import inf\" in util.misc.py\n",
        "\n",
        "with open('/content/mae/util/misc.py', 'r') as f:\n",
        "    code_lines = f.readlines()\n",
        "\n",
        "with open('/content/mae/util/misc.py', 'w') as f:\n",
        "    code_lines[20] = \"from torch import inf\"\n",
        "    f.writelines(code_lines)"
      ],
      "metadata": {
        "id": "OOpuhGcwwg7J"
      },
      "execution_count": null,
      "outputs": []
    },
    {
      "cell_type": "code",
      "source": [
        "!git clone --branch mae https://github.com/ShulzhenkoPetr/Modal_Challenge.git"
      ],
      "metadata": {
        "colab": {
          "base_uri": "https://localhost:8080/"
        },
        "id": "lwnyxNGZwi8N",
        "outputId": "eb7cdcd4-9385-4717-adff-e5af75c08d50"
      },
      "execution_count": null,
      "outputs": [
        {
          "output_type": "stream",
          "name": "stdout",
          "text": [
            "Cloning into 'Modal_Challenge'...\n",
            "remote: Enumerating objects: 372, done.\u001b[K\n",
            "remote: Counting objects: 100% (117/117), done.\u001b[K\n",
            "remote: Compressing objects: 100% (82/82), done.\u001b[K\n",
            "remote: Total 372 (delta 76), reused 75 (delta 35), pack-reused 255\u001b[K\n",
            "Receiving objects: 100% (372/372), 12.87 MiB | 18.35 MiB/s, done.\n",
            "Resolving deltas: 100% (209/209), done.\n"
          ]
        }
      ]
    },
    {
      "cell_type": "code",
      "source": [
        "with open('/content/mae/Modal_Challenge/main_finetune.py', 'r') as f:\n",
        "    code_lines = f.readlines()\n",
        "\n",
        "with open('/content/mae/main_finetune.py', 'w') as f:\n",
        "    f.writelines(code_lines)"
      ],
      "metadata": {
        "id": "ax8Umwpxwlcq"
      },
      "execution_count": null,
      "outputs": []
    },
    {
      "cell_type": "code",
      "source": [
        "with open('/content/mae/Modal_Challenge/engine_finetune.py', 'r') as f:\n",
        "    code_lines = f.readlines()\n",
        "\n",
        "with open('/content/mae/engine_finetune.py', 'w') as f:\n",
        "    f.writelines(code_lines)"
      ],
      "metadata": {
        "id": "x1S8VMVHwpcF"
      },
      "execution_count": null,
      "outputs": []
    },
    {
      "cell_type": "code",
      "source": [
        "import torch\n",
        "import models_vit\n",
        "\n",
        "checkpoint = torch.load('/content/gdrive/MyDrive/Colab_Notebooks/Modal/mae_pretrain_vit_base.pth')\n",
        "checkpoint_model = checkpoint['model']\n",
        "\n",
        "model = models_vit.__dict__['vit_base_patch16'](\n",
        "        num_classes=48\n",
        "    )\n",
        "\n",
        "state_dict = model.state_dict()\n",
        "for k in ['head.weight', 'head.bias']:\n",
        "    if k in checkpoint_model and checkpoint_model[k].shape != state_dict[k].shape:\n",
        "        print(f\"Removing key {k} from pretrained checkpoint\")\n",
        "        del checkpoint_model[k]\n",
        "\n",
        "model.load_state_dict(checkpoint_model, strict=False)\n",
        "\n",
        "for param in model.parameters():\n",
        "    if param.dtype != torch.float32:\n",
        "        print(param.dtype)\n"
      ],
      "metadata": {
        "id": "nhmcCkQkCSN6"
      },
      "execution_count": null,
      "outputs": []
    },
    {
      "cell_type": "code",
      "source": [
        "%run main_finetune.py \\\n",
        "    --model vit_base_patch16 \\\n",
        "    --batch_size 32 \\\n",
        "    --epochs 100 \\\n",
        "    --accum_iter 3 \\\n",
        "    --warmup_epochs 10 \\\n",
        "    --blr 5e-4 \\\n",
        "    --layer_decay 0.65 \\\n",
        "    --weight_decay 0.05 --drop_path 0.1 --reprob 0.25 --mixup 0.8 --cutmix 1.0 \\\n",
        "    --data_path_train /content/gdrive/MyDrive/Colab_Notebooks/Modal/train_train.txt \\\n",
        "    --data_path_val /content/gdrive/MyDrive/Colab_Notebooks/Modal/train_val.txt \\\n",
        "    --nb_classes 48 \\\n",
        "    --cls_token \\\n",
        "    --log_dir /content/gdrive/MyDrive/Colab_Notebooks/Modal/logs \\\n",
        "    --output_dir /content/gdrive/MyDrive/Colab_Notebooks/Modal/checkpoints \\\n",
        "    --hugging_mae"
      ],
      "metadata": {
        "colab": {
          "base_uri": "https://localhost:8080/",
          "height": 1000,
          "referenced_widgets": [
            "6e5cff86e5834c149ac935789e1b3ce2",
            "2aa7b3cb225343459bf4062d2ea348c4",
            "1ab072d060cb40b2b5748503269fb84a",
            "853c86981b884b3ea538cf27f18bd93c",
            "b923f72359f4497da0be0f5ce645d05a",
            "be7cd10053524120afafa590310b39c5",
            "c149330ef13841cbaf1f6a7472158d37",
            "19130fd4026a43cc92d93b4a7ddbcb4b",
            "d40c1331c3f142c5b3a67558ce16773d",
            "6481d8029fcd4e62a2147dc929c36ddc",
            "95b0c06ed55d45ec9ba443494771ca36",
            "0904cd20ed654c4bb88b56cd86144905",
            "62e8b56963cd47c0b18554798977efd2",
            "1bd546b11cf348efb9e819d40a0c5253",
            "1845a88f04994de692e0834fdc64997d",
            "a50be5a7111148d992b29e7445672605",
            "11ef9d1306094e95ab108dd2dc2b40a4",
            "6e126281d95b43368f7c9d4024104491",
            "2fa1793a52bb44b289cf4e8287b5d26b",
            "c6eb6fd11c604d3abaf6eb81adf827f0",
            "c446bef3172c4ebcb6b7decced842b19",
            "b8dba847667a4b37854b789ee6df8288",
            "04fc58b94fd54802ae851fb298be69be",
            "81071bc1e343456388f98ffbc008eba5",
            "af0f35c945ba4ff094179e0a0518374d",
            "308609680dd3457e89e31d4d6863292b",
            "be990e447b1a46aaa09470828710e4d3",
            "ccf53f5493364f048dbb217c309b3bef",
            "b58a050a183742c89969201eb16e2d00",
            "6cd08a17601b4c04922e0d0b70f38161",
            "e315f5b0a9324c77b9374eaf9b30efcc",
            "fde749265ddc4fd18a3979b4e9770682",
            "95c61f76480347afa71f924e0ce366d7"
          ]
        },
        "id": "nMMVa8VQwqcD",
        "outputId": "767589f1-af54-4617-993f-4c4a1862cad3"
      },
      "execution_count": null,
      "outputs": [
        {
          "output_type": "stream",
          "name": "stdout",
          "text": [
            "Not using distributed mode\n",
            "[09:03:19.383815] job dir: /content/mae\n",
            "[09:03:19.384525] Namespace(batch_size=32,\n",
            "epochs=100,\n",
            "accum_iter=3,\n",
            "model='vit_base_patch16',\n",
            "input_size=224,\n",
            "drop_path=0.1,\n",
            "clip_grad=None,\n",
            "weight_decay=0.05,\n",
            "lr=None,\n",
            "blr=0.0005,\n",
            "layer_decay=0.65,\n",
            "min_lr=1e-06,\n",
            "warmup_epochs=10,\n",
            "color_jitter=None,\n",
            "aa='rand-m9-mstd0.5-inc1',\n",
            "smoothing=0.1,\n",
            "reprob=0.25,\n",
            "remode='pixel',\n",
            "recount=1,\n",
            "resplit=False,\n",
            "mixup=0.8,\n",
            "cutmix=1.0,\n",
            "cutmix_minmax=None,\n",
            "mixup_prob=1.0,\n",
            "mixup_switch_prob=0.5,\n",
            "mixup_mode='batch',\n",
            "finetune='',\n",
            "global_pool=False,\n",
            "data_path_train='/content/gdrive/MyDrive/Colab_Notebooks/Modal/train_train.txt',\n",
            "data_path_val='/content/gdrive/MyDrive/Colab_Notebooks/Modal/train_val.txt',\n",
            "nb_classes=48,\n",
            "output_dir='/content/gdrive/MyDrive/Colab_Notebooks/Modal/checkpoints',\n",
            "log_dir='/content/gdrive/MyDrive/Colab_Notebooks/Modal/logs',\n",
            "device='cuda',\n",
            "seed=0,\n",
            "resume='',\n",
            "start_epoch=0,\n",
            "eval=False,\n",
            "dist_eval=False,\n",
            "num_workers=10,\n",
            "pin_mem=True,\n",
            "world_size=1,\n",
            "local_rank=-1,\n",
            "dist_on_itp=False,\n",
            "dist_url='env://',\n",
            "hugging_mae=True,\n",
            "distributed=False)\n"
          ]
        },
        {
          "output_type": "display_data",
          "data": {
            "text/plain": [
              "Downloading (…)rocessor_config.json:   0%|          | 0.00/160 [00:00<?, ?B/s]"
            ],
            "application/vnd.jupyter.widget-view+json": {
              "version_major": 2,
              "version_minor": 0,
              "model_id": "6e5cff86e5834c149ac935789e1b3ce2"
            }
          },
          "metadata": {}
        },
        {
          "output_type": "display_data",
          "data": {
            "text/plain": [
              "Downloading (…)lve/main/config.json:   0%|          | 0.00/69.7k [00:00<?, ?B/s]"
            ],
            "application/vnd.jupyter.widget-view+json": {
              "version_major": 2,
              "version_minor": 0,
              "model_id": "0904cd20ed654c4bb88b56cd86144905"
            }
          },
          "metadata": {}
        },
        {
          "output_type": "stream",
          "name": "stdout",
          "text": [
            "[09:03:21.341190] 576\n",
            "[09:03:21.914992] 144\n"
          ]
        },
        {
          "output_type": "stream",
          "name": "stderr",
          "text": [
            "/usr/local/lib/python3.10/dist-packages/torch/utils/data/dataloader.py:560: UserWarning: This DataLoader will create 10 worker processes in total. Our suggested max number of worker in current system is 4, which is smaller than what this DataLoader is going to create. Please be aware that excessive worker creation might get DataLoader running slow or even freeze, lower the worker number to avoid potential slowness/freeze if necessary.\n",
            "  warnings.warn(_create_warning_msg(\n"
          ]
        },
        {
          "output_type": "stream",
          "name": "stdout",
          "text": [
            "[09:03:22.670863] Mixup is activated!\n"
          ]
        },
        {
          "output_type": "display_data",
          "data": {
            "text/plain": [
              "Downloading pytorch_model.bin:   0%|          | 0.00/346M [00:00<?, ?B/s]"
            ],
            "application/vnd.jupyter.widget-view+json": {
              "version_major": 2,
              "version_minor": 0,
              "model_id": "04fc58b94fd54802ae851fb298be69be"
            }
          },
          "metadata": {}
        },
        {
          "output_type": "stream",
          "name": "stdout",
          "text": [
            "[09:03:25.644373] Model = ViTForImageClassification(\n",
            "  (vit): ViTModel(\n",
            "    (embeddings): ViTEmbeddings(\n",
            "      (patch_embeddings): ViTPatchEmbeddings(\n",
            "        (projection): Conv2d(3, 768, kernel_size=(16, 16), stride=(16, 16))\n",
            "      )\n",
            "      (dropout): Dropout(p=0.0, inplace=False)\n",
            "    )\n",
            "    (encoder): ViTEncoder(\n",
            "      (layer): ModuleList(\n",
            "        (0-11): 12 x ViTLayer(\n",
            "          (attention): ViTAttention(\n",
            "            (attention): ViTSelfAttention(\n",
            "              (query): Linear(in_features=768, out_features=768, bias=True)\n",
            "              (key): Linear(in_features=768, out_features=768, bias=True)\n",
            "              (value): Linear(in_features=768, out_features=768, bias=True)\n",
            "              (dropout): Dropout(p=0.0, inplace=False)\n",
            "            )\n",
            "            (output): ViTSelfOutput(\n",
            "              (dense): Linear(in_features=768, out_features=768, bias=True)\n",
            "              (dropout): Dropout(p=0.0, inplace=False)\n",
            "            )\n",
            "          )\n",
            "          (intermediate): ViTIntermediate(\n",
            "            (dense): Linear(in_features=768, out_features=3072, bias=True)\n",
            "            (intermediate_act_fn): GELUActivation()\n",
            "          )\n",
            "          (output): ViTOutput(\n",
            "            (dense): Linear(in_features=3072, out_features=768, bias=True)\n",
            "            (dropout): Dropout(p=0.0, inplace=False)\n",
            "          )\n",
            "          (layernorm_before): LayerNorm((768,), eps=1e-12, elementwise_affine=True)\n",
            "          (layernorm_after): LayerNorm((768,), eps=1e-12, elementwise_affine=True)\n",
            "        )\n",
            "      )\n",
            "    )\n",
            "    (layernorm): LayerNorm((768,), eps=1e-12, elementwise_affine=True)\n",
            "  )\n",
            "  (classifier): Linear(in_features=768, out_features=48, bias=True)\n",
            ")\n",
            "[09:03:25.644507] number of params (M): 85.84\n",
            "[09:03:25.644557] base lr: 5.00e-04\n",
            "[09:03:25.644601] actual lr: 1.88e-04\n",
            "[09:03:25.644641] accumulate grad iterations: 3\n",
            "[09:03:25.644679] effective batch size: 96\n",
            "[09:03:25.645594] criterion = SoftTargetCrossEntropy()\n",
            "[09:03:25.651145] Start training for 100 epochs\n",
            "[09:03:25.652699] log_dir: /content/gdrive/MyDrive/Colab_Notebooks/Modal/logs/vit_base_patch16/2023_05_31__09_03_21\n"
          ]
        },
        {
          "output_type": "stream",
          "name": "stderr",
          "text": [
            "Training Epoch 0: 1it [00:25, 25.95s/it]"
          ]
        },
        {
          "output_type": "stream",
          "name": "stdout",
          "text": [
            "[09:03:51.609667] Epoch: [0]  [ 0/18]  eta: 0:07:47  lr: 0.000000  loss: 5.0241 (5.0241)  time: 25.9500  data: 23.8730  max mem: 3881\n"
          ]
        },
        {
          "output_type": "stream",
          "name": "stderr",
          "text": [
            "Training Epoch 0: 18it [00:46,  2.57s/it]\n"
          ]
        },
        {
          "output_type": "stream",
          "name": "stdout",
          "text": [
            "[09:04:11.837591] Epoch: [0]  [17/18]  eta: 0:00:02  lr: 0.000016  loss: 4.7219 (4.7263)  time: 2.5653  data: 2.0859  max mem: 4877\n",
            "[09:04:11.964250] Epoch: [0] Total time: 0:00:46 (2.5727 s / it)\n",
            "[09:04:11.968054] Averaged stats: lr: 0.000016  loss: 4.7219 (4.7263)\n"
          ]
        },
        {
          "output_type": "stream",
          "name": "stderr",
          "text": [
            "/usr/local/lib/python3.10/dist-packages/torchvision/transforms/functional.py:1603: UserWarning: The default value of the antialias parameter of all the resizing transforms (Resize(), RandomResizedCrop(), etc.) will change from None to True in v0.17, in order to be consistent across the PIL and Tensor backends. To suppress this warning, directly pass antialias=True (recommended, future default), antialias=None (current default, which means False for Tensors and True for PIL), or antialias=False (only works on Tensors - PIL will still use antialiasing). This also applies if you are using the inference transforms from the models weights: update the call to weights.transforms(antialias=True).\n",
            "  warnings.warn(\n",
            "/usr/local/lib/python3.10/dist-packages/torchvision/transforms/functional.py:1603: UserWarning: The default value of the antialias parameter of all the resizing transforms (Resize(), RandomResizedCrop(), etc.) will change from None to True in v0.17, in order to be consistent across the PIL and Tensor backends. To suppress this warning, directly pass antialias=True (recommended, future default), antialias=None (current default, which means False for Tensors and True for PIL), or antialias=False (only works on Tensors - PIL will still use antialiasing). This also applies if you are using the inference transforms from the models weights: update the call to weights.transforms(antialias=True).\n",
            "  warnings.warn(\n",
            "/usr/local/lib/python3.10/dist-packages/torchvision/transforms/functional.py:1603: UserWarning: The default value of the antialias parameter of all the resizing transforms (Resize(), RandomResizedCrop(), etc.) will change from None to True in v0.17, in order to be consistent across the PIL and Tensor backends. To suppress this warning, directly pass antialias=True (recommended, future default), antialias=None (current default, which means False for Tensors and True for PIL), or antialias=False (only works on Tensors - PIL will still use antialiasing). This also applies if you are using the inference transforms from the models weights: update the call to weights.transforms(antialias=True).\n",
            "  warnings.warn(\n",
            "/usr/local/lib/python3.10/dist-packages/torchvision/transforms/functional.py:1603: UserWarning: The default value of the antialias parameter of all the resizing transforms (Resize(), RandomResizedCrop(), etc.) will change from None to True in v0.17, in order to be consistent across the PIL and Tensor backends. To suppress this warning, directly pass antialias=True (recommended, future default), antialias=None (current default, which means False for Tensors and True for PIL), or antialias=False (only works on Tensors - PIL will still use antialiasing). This also applies if you are using the inference transforms from the models weights: update the call to weights.transforms(antialias=True).\n",
            "  warnings.warn(\n",
            "/usr/local/lib/python3.10/dist-packages/torchvision/transforms/functional.py:1603: UserWarning: The default value of the antialias parameter of all the resizing transforms (Resize(), RandomResizedCrop(), etc.) will change from None to True in v0.17, in order to be consistent across the PIL and Tensor backends. To suppress this warning, directly pass antialias=True (recommended, future default), antialias=None (current default, which means False for Tensors and True for PIL), or antialias=False (only works on Tensors - PIL will still use antialiasing). This also applies if you are using the inference transforms from the models weights: update the call to weights.transforms(antialias=True).\n",
            "  warnings.warn(\n"
          ]
        },
        {
          "output_type": "stream",
          "name": "stdout",
          "text": [
            "[09:05:11.254417] Test:  [0/5]  eta: 0:02:13  loss: 3.9297 (3.9297)  acc1: 3.1250 (3.1250)  acc5: 31.2500 (31.2500)  time: 26.6622  data: 26.3210  max mem: 4877\n",
            "[09:05:12.476865] Test:  [4/5]  eta: 0:00:05  loss: 4.7852 (4.8096)  acc1: 0.0000 (1.3889)  acc5: 6.2500 (10.4167)  time: 5.5766  data: 5.3952  max mem: 4877\n",
            "[09:05:12.577067] Test: Total time: 0:00:27 (5.5972 s / it)\n",
            "[09:05:12.577216] * Acc@1 1.389 Acc@5 10.417 loss 4.810\n",
            "[09:05:12.578668] Accuracy of the network on the 144 test images: 1.4%\n",
            "[09:05:12.579289] Max accuracy: 1.39%\n",
            "[09:05:12.585639] log_dir: /content/gdrive/MyDrive/Colab_Notebooks/Modal/logs/vit_base_patch16/2023_05_31__09_03_21\n"
          ]
        },
        {
          "output_type": "stream",
          "name": "stderr",
          "text": [
            "Training Epoch 1: 1it [00:01,  1.87s/it]"
          ]
        },
        {
          "output_type": "stream",
          "name": "stdout",
          "text": [
            "[09:05:14.464300] Epoch: [1]  [ 0/18]  eta: 0:00:33  lr: 0.000019  loss: 4.2162 (4.2162)  time: 1.8722  data: 1.4234  max mem: 4877\n"
          ]
        },
        {
          "output_type": "stream",
          "name": "stderr",
          "text": [
            "Training Epoch 1: 18it [00:08,  2.13it/s]\n"
          ]
        },
        {
          "output_type": "stream",
          "name": "stdout",
          "text": [
            "[09:05:20.922738] Epoch: [1]  [17/18]  eta: 0:00:00  lr: 0.000034  loss: 4.3999 (4.4654)  time: 0.4625  data: 0.0794  max mem: 4877\n",
            "[09:05:21.037914] Epoch: [1] Total time: 0:00:08 (0.4694 s / it)\n",
            "[09:05:21.040779] Averaged stats: lr: 0.000034  loss: 4.3999 (4.4654)\n"
          ]
        },
        {
          "output_type": "stream",
          "name": "stderr",
          "text": [
            "/usr/local/lib/python3.10/dist-packages/torchvision/transforms/functional.py:1603: UserWarning: The default value of the antialias parameter of all the resizing transforms (Resize(), RandomResizedCrop(), etc.) will change from None to True in v0.17, in order to be consistent across the PIL and Tensor backends. To suppress this warning, directly pass antialias=True (recommended, future default), antialias=None (current default, which means False for Tensors and True for PIL), or antialias=False (only works on Tensors - PIL will still use antialiasing). This also applies if you are using the inference transforms from the models weights: update the call to weights.transforms(antialias=True).\n",
            "  warnings.warn(\n",
            "/usr/local/lib/python3.10/dist-packages/torchvision/transforms/functional.py:1603: UserWarning: The default value of the antialias parameter of all the resizing transforms (Resize(), RandomResizedCrop(), etc.) will change from None to True in v0.17, in order to be consistent across the PIL and Tensor backends. To suppress this warning, directly pass antialias=True (recommended, future default), antialias=None (current default, which means False for Tensors and True for PIL), or antialias=False (only works on Tensors - PIL will still use antialiasing). This also applies if you are using the inference transforms from the models weights: update the call to weights.transforms(antialias=True).\n",
            "  warnings.warn(\n",
            "/usr/local/lib/python3.10/dist-packages/torchvision/transforms/functional.py:1603: UserWarning: The default value of the antialias parameter of all the resizing transforms (Resize(), RandomResizedCrop(), etc.) will change from None to True in v0.17, in order to be consistent across the PIL and Tensor backends. To suppress this warning, directly pass antialias=True (recommended, future default), antialias=None (current default, which means False for Tensors and True for PIL), or antialias=False (only works on Tensors - PIL will still use antialiasing). This also applies if you are using the inference transforms from the models weights: update the call to weights.transforms(antialias=True).\n",
            "  warnings.warn(\n",
            "/usr/local/lib/python3.10/dist-packages/torchvision/transforms/functional.py:1603: UserWarning: The default value of the antialias parameter of all the resizing transforms (Resize(), RandomResizedCrop(), etc.) will change from None to True in v0.17, in order to be consistent across the PIL and Tensor backends. To suppress this warning, directly pass antialias=True (recommended, future default), antialias=None (current default, which means False for Tensors and True for PIL), or antialias=False (only works on Tensors - PIL will still use antialiasing). This also applies if you are using the inference transforms from the models weights: update the call to weights.transforms(antialias=True).\n",
            "  warnings.warn(\n",
            "/usr/local/lib/python3.10/dist-packages/torchvision/transforms/functional.py:1603: UserWarning: The default value of the antialias parameter of all the resizing transforms (Resize(), RandomResizedCrop(), etc.) will change from None to True in v0.17, in order to be consistent across the PIL and Tensor backends. To suppress this warning, directly pass antialias=True (recommended, future default), antialias=None (current default, which means False for Tensors and True for PIL), or antialias=False (only works on Tensors - PIL will still use antialiasing). This also applies if you are using the inference transforms from the models weights: update the call to weights.transforms(antialias=True).\n",
            "  warnings.warn(\n"
          ]
        },
        {
          "output_type": "stream",
          "name": "stdout",
          "text": [
            "[09:05:25.669960] Test:  [0/5]  eta: 0:00:05  loss: 3.8718 (3.8718)  acc1: 3.1250 (3.1250)  acc5: 28.1250 (28.1250)  time: 1.0311  data: 0.8237  max mem: 4877\n",
            "[09:05:26.113462] Test:  [4/5]  eta: 0:00:00  loss: 4.4959 (4.5323)  acc1: 0.0000 (1.3889)  acc5: 6.2500 (10.4167)  time: 0.2947  data: 0.1648  max mem: 4877\n",
            "[09:05:26.206593] Test: Total time: 0:00:01 (0.3138 s / it)\n",
            "[09:05:26.206715] * Acc@1 1.389 Acc@5 10.417 loss 4.532\n",
            "[09:05:26.207774] Accuracy of the network on the 144 test images: 1.4%\n",
            "[09:05:26.208243] Max accuracy: 1.39%\n",
            "[09:05:26.213485] log_dir: /content/gdrive/MyDrive/Colab_Notebooks/Modal/logs/vit_base_patch16/2023_05_31__09_03_21\n"
          ]
        },
        {
          "output_type": "stream",
          "name": "stderr",
          "text": [
            "Training Epoch 2: 1it [00:01,  1.75s/it]"
          ]
        },
        {
          "output_type": "stream",
          "name": "stdout",
          "text": [
            "[09:05:27.987254] Epoch: [2]  [ 0/18]  eta: 0:00:31  lr: 0.000038  loss: 4.3159 (4.3159)  time: 1.7699  data: 1.3852  max mem: 4877\n"
          ]
        },
        {
          "output_type": "stream",
          "name": "stderr",
          "text": [
            "Training Epoch 2: 18it [00:08,  2.16it/s]\n"
          ]
        },
        {
          "output_type": "stream",
          "name": "stdout",
          "text": [
            "[09:05:34.439831] Epoch: [2]  [17/18]  eta: 0:00:00  lr: 0.000053  loss: 4.1725 (4.1531)  time: 0.4564  data: 0.0775  max mem: 4877\n",
            "[09:05:34.564954] Epoch: [2] Total time: 0:00:08 (0.4638 s / it)\n",
            "[09:05:34.566413] Averaged stats: lr: 0.000053  loss: 4.1725 (4.1531)\n"
          ]
        },
        {
          "output_type": "stream",
          "name": "stderr",
          "text": [
            "/usr/local/lib/python3.10/dist-packages/torchvision/transforms/functional.py:1603: UserWarning: The default value of the antialias parameter of all the resizing transforms (Resize(), RandomResizedCrop(), etc.) will change from None to True in v0.17, in order to be consistent across the PIL and Tensor backends. To suppress this warning, directly pass antialias=True (recommended, future default), antialias=None (current default, which means False for Tensors and True for PIL), or antialias=False (only works on Tensors - PIL will still use antialiasing). This also applies if you are using the inference transforms from the models weights: update the call to weights.transforms(antialias=True).\n",
            "  warnings.warn(\n",
            "/usr/local/lib/python3.10/dist-packages/torchvision/transforms/functional.py:1603: UserWarning: The default value of the antialias parameter of all the resizing transforms (Resize(), RandomResizedCrop(), etc.) will change from None to True in v0.17, in order to be consistent across the PIL and Tensor backends. To suppress this warning, directly pass antialias=True (recommended, future default), antialias=None (current default, which means False for Tensors and True for PIL), or antialias=False (only works on Tensors - PIL will still use antialiasing). This also applies if you are using the inference transforms from the models weights: update the call to weights.transforms(antialias=True).\n",
            "  warnings.warn(\n",
            "/usr/local/lib/python3.10/dist-packages/torchvision/transforms/functional.py:1603: UserWarning: The default value of the antialias parameter of all the resizing transforms (Resize(), RandomResizedCrop(), etc.) will change from None to True in v0.17, in order to be consistent across the PIL and Tensor backends. To suppress this warning, directly pass antialias=True (recommended, future default), antialias=None (current default, which means False for Tensors and True for PIL), or antialias=False (only works on Tensors - PIL will still use antialiasing). This also applies if you are using the inference transforms from the models weights: update the call to weights.transforms(antialias=True).\n",
            "  warnings.warn(\n",
            "/usr/local/lib/python3.10/dist-packages/torchvision/transforms/functional.py:1603: UserWarning: The default value of the antialias parameter of all the resizing transforms (Resize(), RandomResizedCrop(), etc.) will change from None to True in v0.17, in order to be consistent across the PIL and Tensor backends. To suppress this warning, directly pass antialias=True (recommended, future default), antialias=None (current default, which means False for Tensors and True for PIL), or antialias=False (only works on Tensors - PIL will still use antialiasing). This also applies if you are using the inference transforms from the models weights: update the call to weights.transforms(antialias=True).\n",
            "  warnings.warn(\n",
            "/usr/local/lib/python3.10/dist-packages/torchvision/transforms/functional.py:1603: UserWarning: The default value of the antialias parameter of all the resizing transforms (Resize(), RandomResizedCrop(), etc.) will change from None to True in v0.17, in order to be consistent across the PIL and Tensor backends. To suppress this warning, directly pass antialias=True (recommended, future default), antialias=None (current default, which means False for Tensors and True for PIL), or antialias=False (only works on Tensors - PIL will still use antialiasing). This also applies if you are using the inference transforms from the models weights: update the call to weights.transforms(antialias=True).\n",
            "  warnings.warn(\n"
          ]
        },
        {
          "output_type": "stream",
          "name": "stdout",
          "text": [
            "[09:05:40.386822] Test:  [0/5]  eta: 0:00:04  loss: 3.8127 (3.8127)  acc1: 6.2500 (6.2500)  acc5: 21.8750 (21.8750)  time: 0.9194  data: 0.7177  max mem: 4877\n",
            "[09:05:40.832737] Test:  [4/5]  eta: 0:00:00  loss: 4.0773 (4.1899)  acc1: 0.0000 (2.0833)  acc5: 12.5000 (13.8889)  time: 0.2726  data: 0.1437  max mem: 4877\n",
            "[09:05:40.924896] Test: Total time: 0:00:01 (0.2920 s / it)\n",
            "[09:05:40.925058] * Acc@1 2.083 Acc@5 13.889 loss 4.190\n",
            "[09:05:40.926637] Accuracy of the network on the 144 test images: 2.1%\n",
            "[09:05:40.927318] Max accuracy: 2.08%\n",
            "[09:05:40.931859] log_dir: /content/gdrive/MyDrive/Colab_Notebooks/Modal/logs/vit_base_patch16/2023_05_31__09_03_21\n"
          ]
        },
        {
          "output_type": "stream",
          "name": "stderr",
          "text": [
            "Training Epoch 3: 1it [00:01,  1.68s/it]"
          ]
        },
        {
          "output_type": "stream",
          "name": "stdout",
          "text": [
            "[09:05:42.632164] Epoch: [3]  [ 0/18]  eta: 0:00:30  lr: 0.000056  loss: 3.9545 (3.9545)  time: 1.6951  data: 1.3029  max mem: 4877\n"
          ]
        },
        {
          "output_type": "stream",
          "name": "stderr",
          "text": [
            "Training Epoch 3: 18it [00:08,  2.17it/s]\n"
          ]
        },
        {
          "output_type": "stream",
          "name": "stdout",
          "text": [
            "[09:05:49.100232] Epoch: [3]  [17/18]  eta: 0:00:00  lr: 0.000072  loss: 3.8279 (3.8534)  time: 0.4533  data: 0.0726  max mem: 4877\n",
            "[09:05:49.223450] Epoch: [3] Total time: 0:00:08 (0.4605 s / it)\n",
            "[09:05:49.226588] Averaged stats: lr: 0.000072  loss: 3.8279 (3.8534)\n"
          ]
        },
        {
          "output_type": "stream",
          "name": "stderr",
          "text": [
            "/usr/local/lib/python3.10/dist-packages/torchvision/transforms/functional.py:1603: UserWarning: The default value of the antialias parameter of all the resizing transforms (Resize(), RandomResizedCrop(), etc.) will change from None to True in v0.17, in order to be consistent across the PIL and Tensor backends. To suppress this warning, directly pass antialias=True (recommended, future default), antialias=None (current default, which means False for Tensors and True for PIL), or antialias=False (only works on Tensors - PIL will still use antialiasing). This also applies if you are using the inference transforms from the models weights: update the call to weights.transforms(antialias=True).\n",
            "  warnings.warn(\n",
            "/usr/local/lib/python3.10/dist-packages/torchvision/transforms/functional.py:1603: UserWarning: The default value of the antialias parameter of all the resizing transforms (Resize(), RandomResizedCrop(), etc.) will change from None to True in v0.17, in order to be consistent across the PIL and Tensor backends. To suppress this warning, directly pass antialias=True (recommended, future default), antialias=None (current default, which means False for Tensors and True for PIL), or antialias=False (only works on Tensors - PIL will still use antialiasing). This also applies if you are using the inference transforms from the models weights: update the call to weights.transforms(antialias=True).\n",
            "  warnings.warn(\n",
            "/usr/local/lib/python3.10/dist-packages/torchvision/transforms/functional.py:1603: UserWarning: The default value of the antialias parameter of all the resizing transforms (Resize(), RandomResizedCrop(), etc.) will change from None to True in v0.17, in order to be consistent across the PIL and Tensor backends. To suppress this warning, directly pass antialias=True (recommended, future default), antialias=None (current default, which means False for Tensors and True for PIL), or antialias=False (only works on Tensors - PIL will still use antialiasing). This also applies if you are using the inference transforms from the models weights: update the call to weights.transforms(antialias=True).\n",
            "  warnings.warn(\n",
            "/usr/local/lib/python3.10/dist-packages/torchvision/transforms/functional.py:1603: UserWarning: The default value of the antialias parameter of all the resizing transforms (Resize(), RandomResizedCrop(), etc.) will change from None to True in v0.17, in order to be consistent across the PIL and Tensor backends. To suppress this warning, directly pass antialias=True (recommended, future default), antialias=None (current default, which means False for Tensors and True for PIL), or antialias=False (only works on Tensors - PIL will still use antialiasing). This also applies if you are using the inference transforms from the models weights: update the call to weights.transforms(antialias=True).\n",
            "  warnings.warn(\n",
            "/usr/local/lib/python3.10/dist-packages/torchvision/transforms/functional.py:1603: UserWarning: The default value of the antialias parameter of all the resizing transforms (Resize(), RandomResizedCrop(), etc.) will change from None to True in v0.17, in order to be consistent across the PIL and Tensor backends. To suppress this warning, directly pass antialias=True (recommended, future default), antialias=None (current default, which means False for Tensors and True for PIL), or antialias=False (only works on Tensors - PIL will still use antialiasing). This also applies if you are using the inference transforms from the models weights: update the call to weights.transforms(antialias=True).\n",
            "  warnings.warn(\n"
          ]
        },
        {
          "output_type": "stream",
          "name": "stdout",
          "text": [
            "[09:05:54.697083] Test:  [0/5]  eta: 0:00:05  loss: 3.6951 (3.6951)  acc1: 9.3750 (9.3750)  acc5: 28.1250 (28.1250)  time: 1.0115  data: 0.8058  max mem: 4877\n",
            "[09:05:55.146733] Test:  [4/5]  eta: 0:00:00  loss: 3.7047 (3.9075)  acc1: 3.1250 (4.8611)  acc5: 21.8750 (19.4444)  time: 0.2917  data: 0.1614  max mem: 4877\n",
            "[09:05:55.246285] Test: Total time: 0:00:01 (0.3126 s / it)\n",
            "[09:05:55.246610] * Acc@1 4.861 Acc@5 19.444 loss 3.907\n",
            "[09:05:55.248215] Accuracy of the network on the 144 test images: 4.9%\n",
            "[09:05:55.248776] Max accuracy: 4.86%\n",
            "[09:05:55.253844] log_dir: /content/gdrive/MyDrive/Colab_Notebooks/Modal/logs/vit_base_patch16/2023_05_31__09_03_21\n"
          ]
        },
        {
          "output_type": "stream",
          "name": "stderr",
          "text": [
            "Training Epoch 4: 1it [00:02,  2.23s/it]"
          ]
        },
        {
          "output_type": "stream",
          "name": "stdout",
          "text": [
            "[09:05:57.500565] Epoch: [4]  [ 0/18]  eta: 0:00:40  lr: 0.000075  loss: 3.8698 (3.8698)  time: 2.2358  data: 1.7463  max mem: 4877\n"
          ]
        },
        {
          "output_type": "stream",
          "name": "stderr",
          "text": [
            "Training Epoch 4: 18it [00:08,  2.03it/s]\n"
          ]
        },
        {
          "output_type": "stream",
          "name": "stdout",
          "text": [
            "[09:06:03.995186] Epoch: [4]  [17/18]  eta: 0:00:00  lr: 0.000091  loss: 3.6406 (3.6286)  time: 0.4849  data: 0.0973  max mem: 4877\n",
            "[09:06:04.107107] Epoch: [4] Total time: 0:00:08 (0.4916 s / it)\n",
            "[09:06:04.109261] Averaged stats: lr: 0.000091  loss: 3.6406 (3.6286)\n"
          ]
        },
        {
          "output_type": "stream",
          "name": "stderr",
          "text": [
            "/usr/local/lib/python3.10/dist-packages/torchvision/transforms/functional.py:1603: UserWarning: The default value of the antialias parameter of all the resizing transforms (Resize(), RandomResizedCrop(), etc.) will change from None to True in v0.17, in order to be consistent across the PIL and Tensor backends. To suppress this warning, directly pass antialias=True (recommended, future default), antialias=None (current default, which means False for Tensors and True for PIL), or antialias=False (only works on Tensors - PIL will still use antialiasing). This also applies if you are using the inference transforms from the models weights: update the call to weights.transforms(antialias=True).\n",
            "  warnings.warn(\n",
            "/usr/local/lib/python3.10/dist-packages/torchvision/transforms/functional.py:1603: UserWarning: The default value of the antialias parameter of all the resizing transforms (Resize(), RandomResizedCrop(), etc.) will change from None to True in v0.17, in order to be consistent across the PIL and Tensor backends. To suppress this warning, directly pass antialias=True (recommended, future default), antialias=None (current default, which means False for Tensors and True for PIL), or antialias=False (only works on Tensors - PIL will still use antialiasing). This also applies if you are using the inference transforms from the models weights: update the call to weights.transforms(antialias=True).\n",
            "  warnings.warn(\n",
            "/usr/local/lib/python3.10/dist-packages/torchvision/transforms/functional.py:1603: UserWarning: The default value of the antialias parameter of all the resizing transforms (Resize(), RandomResizedCrop(), etc.) will change from None to True in v0.17, in order to be consistent across the PIL and Tensor backends. To suppress this warning, directly pass antialias=True (recommended, future default), antialias=None (current default, which means False for Tensors and True for PIL), or antialias=False (only works on Tensors - PIL will still use antialiasing). This also applies if you are using the inference transforms from the models weights: update the call to weights.transforms(antialias=True).\n",
            "  warnings.warn(\n",
            "/usr/local/lib/python3.10/dist-packages/torchvision/transforms/functional.py:1603: UserWarning: The default value of the antialias parameter of all the resizing transforms (Resize(), RandomResizedCrop(), etc.) will change from None to True in v0.17, in order to be consistent across the PIL and Tensor backends. To suppress this warning, directly pass antialias=True (recommended, future default), antialias=None (current default, which means False for Tensors and True for PIL), or antialias=False (only works on Tensors - PIL will still use antialiasing). This also applies if you are using the inference transforms from the models weights: update the call to weights.transforms(antialias=True).\n",
            "  warnings.warn(\n",
            "/usr/local/lib/python3.10/dist-packages/torchvision/transforms/functional.py:1603: UserWarning: The default value of the antialias parameter of all the resizing transforms (Resize(), RandomResizedCrop(), etc.) will change from None to True in v0.17, in order to be consistent across the PIL and Tensor backends. To suppress this warning, directly pass antialias=True (recommended, future default), antialias=None (current default, which means False for Tensors and True for PIL), or antialias=False (only works on Tensors - PIL will still use antialiasing). This also applies if you are using the inference transforms from the models weights: update the call to weights.transforms(antialias=True).\n",
            "  warnings.warn(\n"
          ]
        },
        {
          "output_type": "stream",
          "name": "stdout",
          "text": [
            "[09:06:08.616716] Test:  [0/5]  eta: 0:00:05  loss: 3.4202 (3.4202)  acc1: 21.8750 (21.8750)  acc5: 46.8750 (46.8750)  time: 1.0047  data: 0.8021  max mem: 4877\n",
            "[09:06:09.062243] Test:  [4/5]  eta: 0:00:00  loss: 3.5484 (3.7492)  acc1: 9.3750 (11.1111)  acc5: 34.3750 (29.8611)  time: 0.2897  data: 0.1605  max mem: 4877\n",
            "[09:06:09.158781] Test: Total time: 0:00:01 (0.3100 s / it)\n",
            "[09:06:09.158909] * Acc@1 11.111 Acc@5 29.861 loss 3.749\n",
            "[09:06:09.160066] Accuracy of the network on the 144 test images: 11.1%\n",
            "[09:06:09.160150] Max accuracy: 11.11%\n",
            "[09:06:09.165503] log_dir: /content/gdrive/MyDrive/Colab_Notebooks/Modal/logs/vit_base_patch16/2023_05_31__09_03_21\n"
          ]
        },
        {
          "output_type": "stream",
          "name": "stderr",
          "text": [
            "Training Epoch 5: 1it [00:01,  1.56s/it]"
          ]
        },
        {
          "output_type": "stream",
          "name": "stdout",
          "text": [
            "[09:06:10.740407] Epoch: [5]  [ 0/18]  eta: 0:00:28  lr: 0.000094  loss: 3.5775 (3.5775)  time: 1.5704  data: 1.1917  max mem: 4877\n"
          ]
        },
        {
          "output_type": "stream",
          "name": "stderr",
          "text": [
            "Training Epoch 5: 18it [00:08,  2.13it/s]\n"
          ]
        },
        {
          "output_type": "stream",
          "name": "stdout",
          "text": [
            "[09:06:17.490984] Epoch: [5]  [17/18]  eta: 0:00:00  lr: 0.000109  loss: 3.5042 (3.4674)  time: 0.4621  data: 0.0751  max mem: 4877\n",
            "[09:06:17.604870] Epoch: [5] Total time: 0:00:08 (0.4687 s / it)\n",
            "[09:06:17.608497] Averaged stats: lr: 0.000109  loss: 3.5042 (3.4674)\n"
          ]
        },
        {
          "output_type": "stream",
          "name": "stderr",
          "text": [
            "/usr/local/lib/python3.10/dist-packages/torchvision/transforms/functional.py:1603: UserWarning: The default value of the antialias parameter of all the resizing transforms (Resize(), RandomResizedCrop(), etc.) will change from None to True in v0.17, in order to be consistent across the PIL and Tensor backends. To suppress this warning, directly pass antialias=True (recommended, future default), antialias=None (current default, which means False for Tensors and True for PIL), or antialias=False (only works on Tensors - PIL will still use antialiasing). This also applies if you are using the inference transforms from the models weights: update the call to weights.transforms(antialias=True).\n",
            "  warnings.warn(\n",
            "/usr/local/lib/python3.10/dist-packages/torchvision/transforms/functional.py:1603: UserWarning: The default value of the antialias parameter of all the resizing transforms (Resize(), RandomResizedCrop(), etc.) will change from None to True in v0.17, in order to be consistent across the PIL and Tensor backends. To suppress this warning, directly pass antialias=True (recommended, future default), antialias=None (current default, which means False for Tensors and True for PIL), or antialias=False (only works on Tensors - PIL will still use antialiasing). This also applies if you are using the inference transforms from the models weights: update the call to weights.transforms(antialias=True).\n",
            "  warnings.warn(\n",
            "/usr/local/lib/python3.10/dist-packages/torchvision/transforms/functional.py:1603: UserWarning: The default value of the antialias parameter of all the resizing transforms (Resize(), RandomResizedCrop(), etc.) will change from None to True in v0.17, in order to be consistent across the PIL and Tensor backends. To suppress this warning, directly pass antialias=True (recommended, future default), antialias=None (current default, which means False for Tensors and True for PIL), or antialias=False (only works on Tensors - PIL will still use antialiasing). This also applies if you are using the inference transforms from the models weights: update the call to weights.transforms(antialias=True).\n",
            "  warnings.warn(\n",
            "/usr/local/lib/python3.10/dist-packages/torchvision/transforms/functional.py:1603: UserWarning: The default value of the antialias parameter of all the resizing transforms (Resize(), RandomResizedCrop(), etc.) will change from None to True in v0.17, in order to be consistent across the PIL and Tensor backends. To suppress this warning, directly pass antialias=True (recommended, future default), antialias=None (current default, which means False for Tensors and True for PIL), or antialias=False (only works on Tensors - PIL will still use antialiasing). This also applies if you are using the inference transforms from the models weights: update the call to weights.transforms(antialias=True).\n",
            "  warnings.warn(\n",
            "/usr/local/lib/python3.10/dist-packages/torchvision/transforms/functional.py:1603: UserWarning: The default value of the antialias parameter of all the resizing transforms (Resize(), RandomResizedCrop(), etc.) will change from None to True in v0.17, in order to be consistent across the PIL and Tensor backends. To suppress this warning, directly pass antialias=True (recommended, future default), antialias=None (current default, which means False for Tensors and True for PIL), or antialias=False (only works on Tensors - PIL will still use antialiasing). This also applies if you are using the inference transforms from the models weights: update the call to weights.transforms(antialias=True).\n",
            "  warnings.warn(\n"
          ]
        },
        {
          "output_type": "stream",
          "name": "stdout",
          "text": [
            "[09:06:21.714426] Test:  [0/5]  eta: 0:00:04  loss: 3.0923 (3.0923)  acc1: 25.0000 (25.0000)  acc5: 59.3750 (59.3750)  time: 0.9086  data: 0.7076  max mem: 4877\n",
            "[09:06:22.163177] Test:  [4/5]  eta: 0:00:00  loss: 3.4769 (3.5761)  acc1: 9.3750 (11.8056)  acc5: 40.6250 (36.1111)  time: 0.2712  data: 0.1417  max mem: 4877\n",
            "[09:06:22.263132] Test: Total time: 0:00:01 (0.2921 s / it)\n",
            "[09:06:22.263263] * Acc@1 11.806 Acc@5 36.111 loss 3.576\n",
            "[09:06:22.264347] Accuracy of the network on the 144 test images: 11.8%\n",
            "[09:06:22.264404] Max accuracy: 11.81%\n",
            "[09:06:22.270112] log_dir: /content/gdrive/MyDrive/Colab_Notebooks/Modal/logs/vit_base_patch16/2023_05_31__09_03_21\n"
          ]
        },
        {
          "output_type": "stream",
          "name": "stderr",
          "text": [
            "Training Epoch 6: 1it [00:01,  1.44s/it]"
          ]
        },
        {
          "output_type": "stream",
          "name": "stdout",
          "text": [
            "[09:06:23.744081] Epoch: [6]  [ 0/18]  eta: 0:00:26  lr: 0.000113  loss: 3.5710 (3.5710)  time: 1.4674  data: 1.0815  max mem: 4877\n"
          ]
        },
        {
          "output_type": "stream",
          "name": "stderr",
          "text": [
            "Training Epoch 6: 18it [00:08,  2.16it/s]\n"
          ]
        },
        {
          "output_type": "stream",
          "name": "stdout",
          "text": [
            "[09:06:30.482057] Epoch: [6]  [17/18]  eta: 0:00:00  lr: 0.000128  loss: 3.2621 (3.1328)  time: 0.4552  data: 0.0685  max mem: 4877\n",
            "[09:06:30.607790] Epoch: [6] Total time: 0:00:08 (0.4630 s / it)\n",
            "[09:06:30.611066] Averaged stats: lr: 0.000128  loss: 3.2621 (3.1328)\n"
          ]
        },
        {
          "output_type": "stream",
          "name": "stderr",
          "text": [
            "/usr/local/lib/python3.10/dist-packages/torchvision/transforms/functional.py:1603: UserWarning: The default value of the antialias parameter of all the resizing transforms (Resize(), RandomResizedCrop(), etc.) will change from None to True in v0.17, in order to be consistent across the PIL and Tensor backends. To suppress this warning, directly pass antialias=True (recommended, future default), antialias=None (current default, which means False for Tensors and True for PIL), or antialias=False (only works on Tensors - PIL will still use antialiasing). This also applies if you are using the inference transforms from the models weights: update the call to weights.transforms(antialias=True).\n",
            "  warnings.warn(\n",
            "/usr/local/lib/python3.10/dist-packages/torchvision/transforms/functional.py:1603: UserWarning: The default value of the antialias parameter of all the resizing transforms (Resize(), RandomResizedCrop(), etc.) will change from None to True in v0.17, in order to be consistent across the PIL and Tensor backends. To suppress this warning, directly pass antialias=True (recommended, future default), antialias=None (current default, which means False for Tensors and True for PIL), or antialias=False (only works on Tensors - PIL will still use antialiasing). This also applies if you are using the inference transforms from the models weights: update the call to weights.transforms(antialias=True).\n",
            "  warnings.warn(\n",
            "/usr/local/lib/python3.10/dist-packages/torchvision/transforms/functional.py:1603: UserWarning: The default value of the antialias parameter of all the resizing transforms (Resize(), RandomResizedCrop(), etc.) will change from None to True in v0.17, in order to be consistent across the PIL and Tensor backends. To suppress this warning, directly pass antialias=True (recommended, future default), antialias=None (current default, which means False for Tensors and True for PIL), or antialias=False (only works on Tensors - PIL will still use antialiasing). This also applies if you are using the inference transforms from the models weights: update the call to weights.transforms(antialias=True).\n",
            "  warnings.warn(\n",
            "/usr/local/lib/python3.10/dist-packages/torchvision/transforms/functional.py:1603: UserWarning: The default value of the antialias parameter of all the resizing transforms (Resize(), RandomResizedCrop(), etc.) will change from None to True in v0.17, in order to be consistent across the PIL and Tensor backends. To suppress this warning, directly pass antialias=True (recommended, future default), antialias=None (current default, which means False for Tensors and True for PIL), or antialias=False (only works on Tensors - PIL will still use antialiasing). This also applies if you are using the inference transforms from the models weights: update the call to weights.transforms(antialias=True).\n",
            "  warnings.warn(\n",
            "/usr/local/lib/python3.10/dist-packages/torchvision/transforms/functional.py:1603: UserWarning: The default value of the antialias parameter of all the resizing transforms (Resize(), RandomResizedCrop(), etc.) will change from None to True in v0.17, in order to be consistent across the PIL and Tensor backends. To suppress this warning, directly pass antialias=True (recommended, future default), antialias=None (current default, which means False for Tensors and True for PIL), or antialias=False (only works on Tensors - PIL will still use antialiasing). This also applies if you are using the inference transforms from the models weights: update the call to weights.transforms(antialias=True).\n",
            "  warnings.warn(\n"
          ]
        },
        {
          "output_type": "stream",
          "name": "stdout",
          "text": [
            "[09:06:34.842543] Test:  [0/5]  eta: 0:00:04  loss: 2.8528 (2.8528)  acc1: 50.0000 (50.0000)  acc5: 59.3750 (59.3750)  time: 0.9603  data: 0.7719  max mem: 4877\n",
            "[09:06:35.302618] Test:  [4/5]  eta: 0:00:00  loss: 3.2498 (3.3871)  acc1: 28.1250 (25.6944)  acc5: 46.8750 (42.3611)  time: 0.2839  data: 0.1545  max mem: 4877\n",
            "[09:06:35.390814] Test: Total time: 0:00:01 (0.3020 s / it)\n",
            "[09:06:35.390966] * Acc@1 25.694 Acc@5 42.361 loss 3.387\n",
            "[09:06:35.392095] Accuracy of the network on the 144 test images: 25.7%\n",
            "[09:06:35.392151] Max accuracy: 25.69%\n",
            "[09:06:35.397398] log_dir: /content/gdrive/MyDrive/Colab_Notebooks/Modal/logs/vit_base_patch16/2023_05_31__09_03_21\n"
          ]
        },
        {
          "output_type": "stream",
          "name": "stderr",
          "text": [
            "Training Epoch 7: 1it [00:01,  1.72s/it]"
          ]
        },
        {
          "output_type": "stream",
          "name": "stdout",
          "text": [
            "[09:06:37.130044] Epoch: [7]  [ 0/18]  eta: 0:00:31  lr: 0.000131  loss: 3.3070 (3.3070)  time: 1.7238  data: 1.3435  max mem: 4877\n"
          ]
        },
        {
          "output_type": "stream",
          "name": "stderr",
          "text": [
            "Training Epoch 7: 18it [00:08,  2.11it/s]\n"
          ]
        },
        {
          "output_type": "stream",
          "name": "stdout",
          "text": [
            "[09:06:43.794881] Epoch: [7]  [17/18]  eta: 0:00:00  lr: 0.000147  loss: 2.6878 (2.7994)  time: 0.4651  data: 0.0749  max mem: 4877\n",
            "[09:06:43.915187] Epoch: [7] Total time: 0:00:08 (0.4731 s / it)\n",
            "[09:06:43.918240] Averaged stats: lr: 0.000147  loss: 2.6878 (2.7994)\n"
          ]
        },
        {
          "output_type": "stream",
          "name": "stderr",
          "text": [
            "/usr/local/lib/python3.10/dist-packages/torchvision/transforms/functional.py:1603: UserWarning: The default value of the antialias parameter of all the resizing transforms (Resize(), RandomResizedCrop(), etc.) will change from None to True in v0.17, in order to be consistent across the PIL and Tensor backends. To suppress this warning, directly pass antialias=True (recommended, future default), antialias=None (current default, which means False for Tensors and True for PIL), or antialias=False (only works on Tensors - PIL will still use antialiasing). This also applies if you are using the inference transforms from the models weights: update the call to weights.transforms(antialias=True).\n",
            "  warnings.warn(\n",
            "/usr/local/lib/python3.10/dist-packages/torchvision/transforms/functional.py:1603: UserWarning: The default value of the antialias parameter of all the resizing transforms (Resize(), RandomResizedCrop(), etc.) will change from None to True in v0.17, in order to be consistent across the PIL and Tensor backends. To suppress this warning, directly pass antialias=True (recommended, future default), antialias=None (current default, which means False for Tensors and True for PIL), or antialias=False (only works on Tensors - PIL will still use antialiasing). This also applies if you are using the inference transforms from the models weights: update the call to weights.transforms(antialias=True).\n",
            "  warnings.warn(\n",
            "/usr/local/lib/python3.10/dist-packages/torchvision/transforms/functional.py:1603: UserWarning: The default value of the antialias parameter of all the resizing transforms (Resize(), RandomResizedCrop(), etc.) will change from None to True in v0.17, in order to be consistent across the PIL and Tensor backends. To suppress this warning, directly pass antialias=True (recommended, future default), antialias=None (current default, which means False for Tensors and True for PIL), or antialias=False (only works on Tensors - PIL will still use antialiasing). This also applies if you are using the inference transforms from the models weights: update the call to weights.transforms(antialias=True).\n",
            "  warnings.warn(\n",
            "/usr/local/lib/python3.10/dist-packages/torchvision/transforms/functional.py:1603: UserWarning: The default value of the antialias parameter of all the resizing transforms (Resize(), RandomResizedCrop(), etc.) will change from None to True in v0.17, in order to be consistent across the PIL and Tensor backends. To suppress this warning, directly pass antialias=True (recommended, future default), antialias=None (current default, which means False for Tensors and True for PIL), or antialias=False (only works on Tensors - PIL will still use antialiasing). This also applies if you are using the inference transforms from the models weights: update the call to weights.transforms(antialias=True).\n",
            "  warnings.warn(\n",
            "/usr/local/lib/python3.10/dist-packages/torchvision/transforms/functional.py:1603: UserWarning: The default value of the antialias parameter of all the resizing transforms (Resize(), RandomResizedCrop(), etc.) will change from None to True in v0.17, in order to be consistent across the PIL and Tensor backends. To suppress this warning, directly pass antialias=True (recommended, future default), antialias=None (current default, which means False for Tensors and True for PIL), or antialias=False (only works on Tensors - PIL will still use antialiasing). This also applies if you are using the inference transforms from the models weights: update the call to weights.transforms(antialias=True).\n",
            "  warnings.warn(\n"
          ]
        },
        {
          "output_type": "stream",
          "name": "stdout",
          "text": [
            "[09:06:48.023451] Test:  [0/5]  eta: 0:00:04  loss: 2.8712 (2.8712)  acc1: 37.5000 (37.5000)  acc5: 62.5000 (62.5000)  time: 0.9482  data: 0.7421  max mem: 4877\n",
            "[09:06:48.515695] Test:  [4/5]  eta: 0:00:00  loss: 2.9819 (3.1712)  acc1: 34.3750 (29.1667)  acc5: 50.0000 (51.3889)  time: 0.2878  data: 0.1485  max mem: 4877\n",
            "[09:06:48.626718] Test: Total time: 0:00:01 (0.3106 s / it)\n",
            "[09:06:48.626869] * Acc@1 29.167 Acc@5 51.389 loss 3.171\n",
            "[09:06:48.628757] Accuracy of the network on the 144 test images: 29.2%\n",
            "[09:06:48.628847] Max accuracy: 29.17%\n",
            "[09:06:48.635144] log_dir: /content/gdrive/MyDrive/Colab_Notebooks/Modal/logs/vit_base_patch16/2023_05_31__09_03_21\n"
          ]
        },
        {
          "output_type": "stream",
          "name": "stderr",
          "text": [
            "Training Epoch 8: 1it [00:01,  1.80s/it]"
          ]
        },
        {
          "output_type": "stream",
          "name": "stdout",
          "text": [
            "[09:06:50.447405] Epoch: [8]  [ 0/18]  eta: 0:00:32  lr: 0.000150  loss: 2.8769 (2.8769)  time: 1.8067  data: 1.4182  max mem: 4877\n"
          ]
        },
        {
          "output_type": "stream",
          "name": "stderr",
          "text": [
            "Training Epoch 8: 18it [00:08,  2.09it/s]\n"
          ]
        },
        {
          "output_type": "stream",
          "name": "stdout",
          "text": [
            "[09:06:57.131771] Epoch: [8]  [17/18]  eta: 0:00:00  lr: 0.000166  loss: 2.6535 (2.5414)  time: 0.4715  data: 0.0790  max mem: 4877\n",
            "[09:06:57.240708] Epoch: [8] Total time: 0:00:08 (0.4779 s / it)\n",
            "[09:06:57.244156] Averaged stats: lr: 0.000166  loss: 2.6535 (2.5414)\n"
          ]
        },
        {
          "output_type": "stream",
          "name": "stderr",
          "text": [
            "/usr/local/lib/python3.10/dist-packages/torchvision/transforms/functional.py:1603: UserWarning: The default value of the antialias parameter of all the resizing transforms (Resize(), RandomResizedCrop(), etc.) will change from None to True in v0.17, in order to be consistent across the PIL and Tensor backends. To suppress this warning, directly pass antialias=True (recommended, future default), antialias=None (current default, which means False for Tensors and True for PIL), or antialias=False (only works on Tensors - PIL will still use antialiasing). This also applies if you are using the inference transforms from the models weights: update the call to weights.transforms(antialias=True).\n",
            "  warnings.warn(\n",
            "/usr/local/lib/python3.10/dist-packages/torchvision/transforms/functional.py:1603: UserWarning: The default value of the antialias parameter of all the resizing transforms (Resize(), RandomResizedCrop(), etc.) will change from None to True in v0.17, in order to be consistent across the PIL and Tensor backends. To suppress this warning, directly pass antialias=True (recommended, future default), antialias=None (current default, which means False for Tensors and True for PIL), or antialias=False (only works on Tensors - PIL will still use antialiasing). This also applies if you are using the inference transforms from the models weights: update the call to weights.transforms(antialias=True).\n",
            "  warnings.warn(\n",
            "/usr/local/lib/python3.10/dist-packages/torchvision/transforms/functional.py:1603: UserWarning: The default value of the antialias parameter of all the resizing transforms (Resize(), RandomResizedCrop(), etc.) will change from None to True in v0.17, in order to be consistent across the PIL and Tensor backends. To suppress this warning, directly pass antialias=True (recommended, future default), antialias=None (current default, which means False for Tensors and True for PIL), or antialias=False (only works on Tensors - PIL will still use antialiasing). This also applies if you are using the inference transforms from the models weights: update the call to weights.transforms(antialias=True).\n",
            "  warnings.warn(\n",
            "/usr/local/lib/python3.10/dist-packages/torchvision/transforms/functional.py:1603: UserWarning: The default value of the antialias parameter of all the resizing transforms (Resize(), RandomResizedCrop(), etc.) will change from None to True in v0.17, in order to be consistent across the PIL and Tensor backends. To suppress this warning, directly pass antialias=True (recommended, future default), antialias=None (current default, which means False for Tensors and True for PIL), or antialias=False (only works on Tensors - PIL will still use antialiasing). This also applies if you are using the inference transforms from the models weights: update the call to weights.transforms(antialias=True).\n",
            "  warnings.warn(\n",
            "/usr/local/lib/python3.10/dist-packages/torchvision/transforms/functional.py:1603: UserWarning: The default value of the antialias parameter of all the resizing transforms (Resize(), RandomResizedCrop(), etc.) will change from None to True in v0.17, in order to be consistent across the PIL and Tensor backends. To suppress this warning, directly pass antialias=True (recommended, future default), antialias=None (current default, which means False for Tensors and True for PIL), or antialias=False (only works on Tensors - PIL will still use antialiasing). This also applies if you are using the inference transforms from the models weights: update the call to weights.transforms(antialias=True).\n",
            "  warnings.warn(\n"
          ]
        },
        {
          "output_type": "stream",
          "name": "stdout",
          "text": [
            "[09:07:01.239124] Test:  [0/5]  eta: 0:00:05  loss: 2.6928 (2.6928)  acc1: 43.7500 (43.7500)  acc5: 68.7500 (68.7500)  time: 1.0453  data: 0.8406  max mem: 4877\n",
            "[09:07:01.696608] Test:  [4/5]  eta: 0:00:00  loss: 2.8874 (3.0349)  acc1: 31.2500 (32.6389)  acc5: 59.3750 (56.2500)  time: 0.3003  data: 0.1692  max mem: 4877\n",
            "[09:07:01.794671] Test: Total time: 0:00:01 (0.3213 s / it)\n",
            "[09:07:01.794811] * Acc@1 32.639 Acc@5 56.250 loss 3.035\n",
            "[09:07:01.796352] Accuracy of the network on the 144 test images: 32.6%\n",
            "[09:07:01.796426] Max accuracy: 32.64%\n",
            "[09:07:01.801306] log_dir: /content/gdrive/MyDrive/Colab_Notebooks/Modal/logs/vit_base_patch16/2023_05_31__09_03_21\n"
          ]
        },
        {
          "output_type": "stream",
          "name": "stderr",
          "text": [
            "Training Epoch 9: 1it [00:01,  1.79s/it]"
          ]
        },
        {
          "output_type": "stream",
          "name": "stdout",
          "text": [
            "[09:07:03.610505] Epoch: [9]  [ 0/18]  eta: 0:00:32  lr: 0.000169  loss: 1.5656 (1.5656)  time: 1.8055  data: 1.4266  max mem: 4877\n"
          ]
        },
        {
          "output_type": "stream",
          "name": "stderr",
          "text": [
            "Training Epoch 9: 18it [00:08,  2.08it/s]\n"
          ]
        },
        {
          "output_type": "stream",
          "name": "stdout",
          "text": [
            "[09:07:10.370647] Epoch: [9]  [17/18]  eta: 0:00:00  lr: 0.000184  loss: 2.0624 (2.1224)  time: 0.4757  data: 0.0796  max mem: 4877\n",
            "[09:07:10.467389] Epoch: [9] Total time: 0:00:08 (0.4813 s / it)\n",
            "[09:07:10.470546] Averaged stats: lr: 0.000184  loss: 2.0624 (2.1224)\n"
          ]
        },
        {
          "output_type": "stream",
          "name": "stderr",
          "text": [
            "/usr/local/lib/python3.10/dist-packages/torchvision/transforms/functional.py:1603: UserWarning: The default value of the antialias parameter of all the resizing transforms (Resize(), RandomResizedCrop(), etc.) will change from None to True in v0.17, in order to be consistent across the PIL and Tensor backends. To suppress this warning, directly pass antialias=True (recommended, future default), antialias=None (current default, which means False for Tensors and True for PIL), or antialias=False (only works on Tensors - PIL will still use antialiasing). This also applies if you are using the inference transforms from the models weights: update the call to weights.transforms(antialias=True).\n",
            "  warnings.warn(\n",
            "/usr/local/lib/python3.10/dist-packages/torchvision/transforms/functional.py:1603: UserWarning: The default value of the antialias parameter of all the resizing transforms (Resize(), RandomResizedCrop(), etc.) will change from None to True in v0.17, in order to be consistent across the PIL and Tensor backends. To suppress this warning, directly pass antialias=True (recommended, future default), antialias=None (current default, which means False for Tensors and True for PIL), or antialias=False (only works on Tensors - PIL will still use antialiasing). This also applies if you are using the inference transforms from the models weights: update the call to weights.transforms(antialias=True).\n",
            "  warnings.warn(\n",
            "/usr/local/lib/python3.10/dist-packages/torchvision/transforms/functional.py:1603: UserWarning: The default value of the antialias parameter of all the resizing transforms (Resize(), RandomResizedCrop(), etc.) will change from None to True in v0.17, in order to be consistent across the PIL and Tensor backends. To suppress this warning, directly pass antialias=True (recommended, future default), antialias=None (current default, which means False for Tensors and True for PIL), or antialias=False (only works on Tensors - PIL will still use antialiasing). This also applies if you are using the inference transforms from the models weights: update the call to weights.transforms(antialias=True).\n",
            "  warnings.warn(\n",
            "/usr/local/lib/python3.10/dist-packages/torchvision/transforms/functional.py:1603: UserWarning: The default value of the antialias parameter of all the resizing transforms (Resize(), RandomResizedCrop(), etc.) will change from None to True in v0.17, in order to be consistent across the PIL and Tensor backends. To suppress this warning, directly pass antialias=True (recommended, future default), antialias=None (current default, which means False for Tensors and True for PIL), or antialias=False (only works on Tensors - PIL will still use antialiasing). This also applies if you are using the inference transforms from the models weights: update the call to weights.transforms(antialias=True).\n",
            "  warnings.warn(\n",
            "/usr/local/lib/python3.10/dist-packages/torchvision/transforms/functional.py:1603: UserWarning: The default value of the antialias parameter of all the resizing transforms (Resize(), RandomResizedCrop(), etc.) will change from None to True in v0.17, in order to be consistent across the PIL and Tensor backends. To suppress this warning, directly pass antialias=True (recommended, future default), antialias=None (current default, which means False for Tensors and True for PIL), or antialias=False (only works on Tensors - PIL will still use antialiasing). This also applies if you are using the inference transforms from the models weights: update the call to weights.transforms(antialias=True).\n",
            "  warnings.warn(\n"
          ]
        },
        {
          "output_type": "stream",
          "name": "stdout",
          "text": [
            "[09:07:15.527210] Test:  [0/5]  eta: 0:00:05  loss: 2.5411 (2.5411)  acc1: 53.1250 (53.1250)  acc5: 59.3750 (59.3750)  time: 1.0638  data: 0.8491  max mem: 4877\n",
            "[09:07:15.990751] Test:  [4/5]  eta: 0:00:00  loss: 2.7841 (2.9344)  acc1: 34.3750 (34.7222)  acc5: 59.3750 (59.0278)  time: 0.3053  data: 0.1703  max mem: 4877\n",
            "[09:07:16.092731] Test: Total time: 0:00:01 (0.3266 s / it)\n",
            "[09:07:16.093445] * Acc@1 34.722 Acc@5 59.028 loss 2.934\n",
            "[09:07:16.094158] Accuracy of the network on the 144 test images: 34.7%\n",
            "[09:07:16.094218] Max accuracy: 34.72%\n",
            "[09:07:16.099695] log_dir: /content/gdrive/MyDrive/Colab_Notebooks/Modal/logs/vit_base_patch16/2023_05_31__09_03_21\n"
          ]
        },
        {
          "output_type": "stream",
          "name": "stderr",
          "text": [
            "Training Epoch 10: 1it [00:01,  1.58s/it]"
          ]
        },
        {
          "output_type": "stream",
          "name": "stdout",
          "text": [
            "[09:07:17.708081] Epoch: [10]  [ 0/18]  eta: 0:00:28  lr: 0.000188  loss: 2.8014 (2.8014)  time: 1.5974  data: 1.2060  max mem: 4877\n"
          ]
        },
        {
          "output_type": "stream",
          "name": "stderr",
          "text": [
            "Training Epoch 10: 18it [00:08,  2.11it/s]\n"
          ]
        },
        {
          "output_type": "stream",
          "name": "stdout",
          "text": [
            "[09:07:24.547079] Epoch: [10]  [17/18]  eta: 0:00:00  lr: 0.000187  loss: 1.7974 (2.0661)  time: 0.4685  data: 0.0704  max mem: 4877\n",
            "[09:07:24.644645] Epoch: [10] Total time: 0:00:08 (0.4745 s / it)\n",
            "[09:07:24.647518] Averaged stats: lr: 0.000187  loss: 1.7974 (2.0661)\n"
          ]
        },
        {
          "output_type": "stream",
          "name": "stderr",
          "text": [
            "/usr/local/lib/python3.10/dist-packages/torchvision/transforms/functional.py:1603: UserWarning: The default value of the antialias parameter of all the resizing transforms (Resize(), RandomResizedCrop(), etc.) will change from None to True in v0.17, in order to be consistent across the PIL and Tensor backends. To suppress this warning, directly pass antialias=True (recommended, future default), antialias=None (current default, which means False for Tensors and True for PIL), or antialias=False (only works on Tensors - PIL will still use antialiasing). This also applies if you are using the inference transforms from the models weights: update the call to weights.transforms(antialias=True).\n",
            "  warnings.warn(\n",
            "/usr/local/lib/python3.10/dist-packages/torchvision/transforms/functional.py:1603: UserWarning: The default value of the antialias parameter of all the resizing transforms (Resize(), RandomResizedCrop(), etc.) will change from None to True in v0.17, in order to be consistent across the PIL and Tensor backends. To suppress this warning, directly pass antialias=True (recommended, future default), antialias=None (current default, which means False for Tensors and True for PIL), or antialias=False (only works on Tensors - PIL will still use antialiasing). This also applies if you are using the inference transforms from the models weights: update the call to weights.transforms(antialias=True).\n",
            "  warnings.warn(\n",
            "/usr/local/lib/python3.10/dist-packages/torchvision/transforms/functional.py:1603: UserWarning: The default value of the antialias parameter of all the resizing transforms (Resize(), RandomResizedCrop(), etc.) will change from None to True in v0.17, in order to be consistent across the PIL and Tensor backends. To suppress this warning, directly pass antialias=True (recommended, future default), antialias=None (current default, which means False for Tensors and True for PIL), or antialias=False (only works on Tensors - PIL will still use antialiasing). This also applies if you are using the inference transforms from the models weights: update the call to weights.transforms(antialias=True).\n",
            "  warnings.warn(\n",
            "/usr/local/lib/python3.10/dist-packages/torchvision/transforms/functional.py:1603: UserWarning: The default value of the antialias parameter of all the resizing transforms (Resize(), RandomResizedCrop(), etc.) will change from None to True in v0.17, in order to be consistent across the PIL and Tensor backends. To suppress this warning, directly pass antialias=True (recommended, future default), antialias=None (current default, which means False for Tensors and True for PIL), or antialias=False (only works on Tensors - PIL will still use antialiasing). This also applies if you are using the inference transforms from the models weights: update the call to weights.transforms(antialias=True).\n",
            "  warnings.warn(\n",
            "/usr/local/lib/python3.10/dist-packages/torchvision/transforms/functional.py:1603: UserWarning: The default value of the antialias parameter of all the resizing transforms (Resize(), RandomResizedCrop(), etc.) will change from None to True in v0.17, in order to be consistent across the PIL and Tensor backends. To suppress this warning, directly pass antialias=True (recommended, future default), antialias=None (current default, which means False for Tensors and True for PIL), or antialias=False (only works on Tensors - PIL will still use antialiasing). This also applies if you are using the inference transforms from the models weights: update the call to weights.transforms(antialias=True).\n",
            "  warnings.warn(\n"
          ]
        },
        {
          "output_type": "stream",
          "name": "stdout",
          "text": [
            "[09:07:29.022889] Test:  [0/5]  eta: 0:00:05  loss: 2.6381 (2.6381)  acc1: 40.6250 (40.6250)  acc5: 62.5000 (62.5000)  time: 1.0683  data: 0.8549  max mem: 4877\n",
            "[09:07:29.499812] Test:  [4/5]  eta: 0:00:00  loss: 2.6381 (2.9344)  acc1: 40.6250 (34.7222)  acc5: 62.5000 (59.7222)  time: 0.3086  data: 0.1711  max mem: 4877\n",
            "[09:07:29.605559] Test: Total time: 0:00:01 (0.3305 s / it)\n",
            "[09:07:29.605690] * Acc@1 34.722 Acc@5 59.722 loss 2.934\n",
            "[09:07:29.606897] Accuracy of the network on the 144 test images: 34.7%\n",
            "[09:07:29.606961] Max accuracy: 34.72%\n",
            "[09:07:29.612870] log_dir: /content/gdrive/MyDrive/Colab_Notebooks/Modal/logs/vit_base_patch16/2023_05_31__09_03_21\n"
          ]
        },
        {
          "output_type": "stream",
          "name": "stderr",
          "text": [
            "Training Epoch 11: 1it [00:01,  1.90s/it]"
          ]
        },
        {
          "output_type": "stream",
          "name": "stdout",
          "text": [
            "[09:07:31.526380] Epoch: [11]  [ 0/18]  eta: 0:00:34  lr: 0.000187  loss: 1.4279 (1.4279)  time: 1.9090  data: 1.5227  max mem: 4877\n"
          ]
        },
        {
          "output_type": "stream",
          "name": "stderr",
          "text": [
            "Training Epoch 11: 18it [00:08,  2.04it/s]\n"
          ]
        },
        {
          "output_type": "stream",
          "name": "stdout",
          "text": [
            "[09:07:38.320402] Epoch: [11]  [17/18]  eta: 0:00:00  lr: 0.000187  loss: 1.9389 (1.8014)  time: 0.4833  data: 0.0848  max mem: 4877\n",
            "[09:07:38.419199] Epoch: [11] Total time: 0:00:08 (0.4891 s / it)\n",
            "[09:07:38.420555] Averaged stats: lr: 0.000187  loss: 1.9389 (1.8014)\n"
          ]
        },
        {
          "output_type": "stream",
          "name": "stderr",
          "text": [
            "/usr/local/lib/python3.10/dist-packages/torchvision/transforms/functional.py:1603: UserWarning: The default value of the antialias parameter of all the resizing transforms (Resize(), RandomResizedCrop(), etc.) will change from None to True in v0.17, in order to be consistent across the PIL and Tensor backends. To suppress this warning, directly pass antialias=True (recommended, future default), antialias=None (current default, which means False for Tensors and True for PIL), or antialias=False (only works on Tensors - PIL will still use antialiasing). This also applies if you are using the inference transforms from the models weights: update the call to weights.transforms(antialias=True).\n",
            "  warnings.warn(\n",
            "/usr/local/lib/python3.10/dist-packages/torchvision/transforms/functional.py:1603: UserWarning: The default value of the antialias parameter of all the resizing transforms (Resize(), RandomResizedCrop(), etc.) will change from None to True in v0.17, in order to be consistent across the PIL and Tensor backends. To suppress this warning, directly pass antialias=True (recommended, future default), antialias=None (current default, which means False for Tensors and True for PIL), or antialias=False (only works on Tensors - PIL will still use antialiasing). This also applies if you are using the inference transforms from the models weights: update the call to weights.transforms(antialias=True).\n",
            "  warnings.warn(\n",
            "/usr/local/lib/python3.10/dist-packages/torchvision/transforms/functional.py:1603: UserWarning: The default value of the antialias parameter of all the resizing transforms (Resize(), RandomResizedCrop(), etc.) will change from None to True in v0.17, in order to be consistent across the PIL and Tensor backends. To suppress this warning, directly pass antialias=True (recommended, future default), antialias=None (current default, which means False for Tensors and True for PIL), or antialias=False (only works on Tensors - PIL will still use antialiasing). This also applies if you are using the inference transforms from the models weights: update the call to weights.transforms(antialias=True).\n",
            "  warnings.warn(\n",
            "/usr/local/lib/python3.10/dist-packages/torchvision/transforms/functional.py:1603: UserWarning: The default value of the antialias parameter of all the resizing transforms (Resize(), RandomResizedCrop(), etc.) will change from None to True in v0.17, in order to be consistent across the PIL and Tensor backends. To suppress this warning, directly pass antialias=True (recommended, future default), antialias=None (current default, which means False for Tensors and True for PIL), or antialias=False (only works on Tensors - PIL will still use antialiasing). This also applies if you are using the inference transforms from the models weights: update the call to weights.transforms(antialias=True).\n",
            "  warnings.warn(\n",
            "/usr/local/lib/python3.10/dist-packages/torchvision/transforms/functional.py:1603: UserWarning: The default value of the antialias parameter of all the resizing transforms (Resize(), RandomResizedCrop(), etc.) will change from None to True in v0.17, in order to be consistent across the PIL and Tensor backends. To suppress this warning, directly pass antialias=True (recommended, future default), antialias=None (current default, which means False for Tensors and True for PIL), or antialias=False (only works on Tensors - PIL will still use antialiasing). This also applies if you are using the inference transforms from the models weights: update the call to weights.transforms(antialias=True).\n",
            "  warnings.warn(\n"
          ]
        },
        {
          "output_type": "stream",
          "name": "stdout",
          "text": [
            "[09:07:46.105417] Test:  [0/5]  eta: 0:00:04  loss: 2.4789 (2.4789)  acc1: 50.0000 (50.0000)  acc5: 68.7500 (68.7500)  time: 0.9757  data: 0.7621  max mem: 4877\n",
            "[09:07:46.595187] Test:  [4/5]  eta: 0:00:00  loss: 2.6477 (2.8353)  acc1: 37.5000 (36.8056)  acc5: 59.3750 (59.7222)  time: 0.2927  data: 0.1526  max mem: 4877\n",
            "[09:07:46.689785] Test: Total time: 0:00:01 (0.3123 s / it)\n",
            "[09:07:46.689998] * Acc@1 36.806 Acc@5 59.722 loss 2.835\n",
            "[09:07:46.691642] Accuracy of the network on the 144 test images: 36.8%\n",
            "[09:07:46.691896] Max accuracy: 36.81%\n",
            "[09:07:46.697198] log_dir: /content/gdrive/MyDrive/Colab_Notebooks/Modal/logs/vit_base_patch16/2023_05_31__09_03_21\n"
          ]
        },
        {
          "output_type": "stream",
          "name": "stderr",
          "text": [
            "Training Epoch 12: 1it [00:01,  1.82s/it]"
          ]
        },
        {
          "output_type": "stream",
          "name": "stdout",
          "text": [
            "[09:07:48.521802] Epoch: [12]  [ 0/18]  eta: 0:00:32  lr: 0.000187  loss: 2.3287 (2.3287)  time: 1.8207  data: 1.4221  max mem: 4877\n"
          ]
        },
        {
          "output_type": "stream",
          "name": "stderr",
          "text": [
            "Training Epoch 12: 18it [00:08,  2.05it/s]\n"
          ]
        },
        {
          "output_type": "stream",
          "name": "stdout",
          "text": [
            "[09:07:55.351388] Epoch: [12]  [17/18]  eta: 0:00:00  lr: 0.000187  loss: 1.9119 (1.8867)  time: 0.4798  data: 0.0793  max mem: 4877\n",
            "[09:07:55.458846] Epoch: [12] Total time: 0:00:08 (0.4866 s / it)\n",
            "[09:07:55.461026] Averaged stats: lr: 0.000187  loss: 1.9119 (1.8867)\n"
          ]
        },
        {
          "output_type": "stream",
          "name": "stderr",
          "text": [
            "/usr/local/lib/python3.10/dist-packages/torchvision/transforms/functional.py:1603: UserWarning: The default value of the antialias parameter of all the resizing transforms (Resize(), RandomResizedCrop(), etc.) will change from None to True in v0.17, in order to be consistent across the PIL and Tensor backends. To suppress this warning, directly pass antialias=True (recommended, future default), antialias=None (current default, which means False for Tensors and True for PIL), or antialias=False (only works on Tensors - PIL will still use antialiasing). This also applies if you are using the inference transforms from the models weights: update the call to weights.transforms(antialias=True).\n",
            "  warnings.warn(\n",
            "/usr/local/lib/python3.10/dist-packages/torchvision/transforms/functional.py:1603: UserWarning: The default value of the antialias parameter of all the resizing transforms (Resize(), RandomResizedCrop(), etc.) will change from None to True in v0.17, in order to be consistent across the PIL and Tensor backends. To suppress this warning, directly pass antialias=True (recommended, future default), antialias=None (current default, which means False for Tensors and True for PIL), or antialias=False (only works on Tensors - PIL will still use antialiasing). This also applies if you are using the inference transforms from the models weights: update the call to weights.transforms(antialias=True).\n",
            "  warnings.warn(\n",
            "/usr/local/lib/python3.10/dist-packages/torchvision/transforms/functional.py:1603: UserWarning: The default value of the antialias parameter of all the resizing transforms (Resize(), RandomResizedCrop(), etc.) will change from None to True in v0.17, in order to be consistent across the PIL and Tensor backends. To suppress this warning, directly pass antialias=True (recommended, future default), antialias=None (current default, which means False for Tensors and True for PIL), or antialias=False (only works on Tensors - PIL will still use antialiasing). This also applies if you are using the inference transforms from the models weights: update the call to weights.transforms(antialias=True).\n",
            "  warnings.warn(\n",
            "/usr/local/lib/python3.10/dist-packages/torchvision/transforms/functional.py:1603: UserWarning: The default value of the antialias parameter of all the resizing transforms (Resize(), RandomResizedCrop(), etc.) will change from None to True in v0.17, in order to be consistent across the PIL and Tensor backends. To suppress this warning, directly pass antialias=True (recommended, future default), antialias=None (current default, which means False for Tensors and True for PIL), or antialias=False (only works on Tensors - PIL will still use antialiasing). This also applies if you are using the inference transforms from the models weights: update the call to weights.transforms(antialias=True).\n",
            "  warnings.warn(\n",
            "/usr/local/lib/python3.10/dist-packages/torchvision/transforms/functional.py:1603: UserWarning: The default value of the antialias parameter of all the resizing transforms (Resize(), RandomResizedCrop(), etc.) will change from None to True in v0.17, in order to be consistent across the PIL and Tensor backends. To suppress this warning, directly pass antialias=True (recommended, future default), antialias=None (current default, which means False for Tensors and True for PIL), or antialias=False (only works on Tensors - PIL will still use antialiasing). This also applies if you are using the inference transforms from the models weights: update the call to weights.transforms(antialias=True).\n",
            "  warnings.warn(\n"
          ]
        },
        {
          "output_type": "stream",
          "name": "stdout",
          "text": [
            "[09:07:59.512600] Test:  [0/5]  eta: 0:00:04  loss: 2.7152 (2.7152)  acc1: 43.7500 (43.7500)  acc5: 68.7500 (68.7500)  time: 0.8873  data: 0.6977  max mem: 4877\n",
            "[09:07:59.994509] Test:  [4/5]  eta: 0:00:00  loss: 2.7152 (2.8995)  acc1: 40.6250 (36.1111)  acc5: 68.7500 (63.1944)  time: 0.2735  data: 0.1397  max mem: 4877\n",
            "[09:08:00.090227] Test: Total time: 0:00:01 (0.2941 s / it)\n",
            "[09:08:00.090365] * Acc@1 36.111 Acc@5 63.194 loss 2.899\n",
            "[09:08:00.091471] Accuracy of the network on the 144 test images: 36.1%\n",
            "[09:08:00.091530] Max accuracy: 36.81%\n",
            "[09:08:00.096825] log_dir: /content/gdrive/MyDrive/Colab_Notebooks/Modal/logs/vit_base_patch16/2023_05_31__09_03_21\n"
          ]
        },
        {
          "output_type": "stream",
          "name": "stderr",
          "text": [
            "Training Epoch 13: 1it [00:01,  1.71s/it]"
          ]
        },
        {
          "output_type": "stream",
          "name": "stdout",
          "text": [
            "[09:08:01.819530] Epoch: [13]  [ 0/18]  eta: 0:00:30  lr: 0.000187  loss: 2.5677 (2.5677)  time: 1.7182  data: 1.3210  max mem: 4877\n"
          ]
        },
        {
          "output_type": "stream",
          "name": "stderr",
          "text": [
            "Training Epoch 13: 18it [00:08,  2.04it/s]\n"
          ]
        },
        {
          "output_type": "stream",
          "name": "stdout",
          "text": [
            "[09:08:08.796901] Epoch: [13]  [17/18]  eta: 0:00:00  lr: 0.000187  loss: 1.7704 (1.8781)  time: 0.4829  data: 0.0740  max mem: 4877\n",
            "[09:08:08.940349] Epoch: [13] Total time: 0:00:08 (0.4912 s / it)\n",
            "[09:08:08.943750] Averaged stats: lr: 0.000187  loss: 1.7704 (1.8781)\n"
          ]
        },
        {
          "output_type": "stream",
          "name": "stderr",
          "text": [
            "/usr/local/lib/python3.10/dist-packages/torchvision/transforms/functional.py:1603: UserWarning: The default value of the antialias parameter of all the resizing transforms (Resize(), RandomResizedCrop(), etc.) will change from None to True in v0.17, in order to be consistent across the PIL and Tensor backends. To suppress this warning, directly pass antialias=True (recommended, future default), antialias=None (current default, which means False for Tensors and True for PIL), or antialias=False (only works on Tensors - PIL will still use antialiasing). This also applies if you are using the inference transforms from the models weights: update the call to weights.transforms(antialias=True).\n",
            "  warnings.warn(\n",
            "/usr/local/lib/python3.10/dist-packages/torchvision/transforms/functional.py:1603: UserWarning: The default value of the antialias parameter of all the resizing transforms (Resize(), RandomResizedCrop(), etc.) will change from None to True in v0.17, in order to be consistent across the PIL and Tensor backends. To suppress this warning, directly pass antialias=True (recommended, future default), antialias=None (current default, which means False for Tensors and True for PIL), or antialias=False (only works on Tensors - PIL will still use antialiasing). This also applies if you are using the inference transforms from the models weights: update the call to weights.transforms(antialias=True).\n",
            "  warnings.warn(\n",
            "/usr/local/lib/python3.10/dist-packages/torchvision/transforms/functional.py:1603: UserWarning: The default value of the antialias parameter of all the resizing transforms (Resize(), RandomResizedCrop(), etc.) will change from None to True in v0.17, in order to be consistent across the PIL and Tensor backends. To suppress this warning, directly pass antialias=True (recommended, future default), antialias=None (current default, which means False for Tensors and True for PIL), or antialias=False (only works on Tensors - PIL will still use antialiasing). This also applies if you are using the inference transforms from the models weights: update the call to weights.transforms(antialias=True).\n",
            "  warnings.warn(\n",
            "/usr/local/lib/python3.10/dist-packages/torchvision/transforms/functional.py:1603: UserWarning: The default value of the antialias parameter of all the resizing transforms (Resize(), RandomResizedCrop(), etc.) will change from None to True in v0.17, in order to be consistent across the PIL and Tensor backends. To suppress this warning, directly pass antialias=True (recommended, future default), antialias=None (current default, which means False for Tensors and True for PIL), or antialias=False (only works on Tensors - PIL will still use antialiasing). This also applies if you are using the inference transforms from the models weights: update the call to weights.transforms(antialias=True).\n",
            "  warnings.warn(\n",
            "/usr/local/lib/python3.10/dist-packages/torchvision/transforms/functional.py:1603: UserWarning: The default value of the antialias parameter of all the resizing transforms (Resize(), RandomResizedCrop(), etc.) will change from None to True in v0.17, in order to be consistent across the PIL and Tensor backends. To suppress this warning, directly pass antialias=True (recommended, future default), antialias=None (current default, which means False for Tensors and True for PIL), or antialias=False (only works on Tensors - PIL will still use antialiasing). This also applies if you are using the inference transforms from the models weights: update the call to weights.transforms(antialias=True).\n",
            "  warnings.warn(\n"
          ]
        },
        {
          "output_type": "stream",
          "name": "stdout",
          "text": [
            "[09:08:13.771472] Test:  [0/5]  eta: 0:00:05  loss: 2.5555 (2.5555)  acc1: 43.7500 (43.7500)  acc5: 71.8750 (71.8750)  time: 1.1772  data: 0.9632  max mem: 4877\n",
            "[09:08:14.263745] Test:  [4/5]  eta: 0:00:00  loss: 2.7095 (2.9135)  acc1: 37.5000 (34.0278)  acc5: 56.2500 (58.3333)  time: 0.3335  data: 0.1928  max mem: 4877\n",
            "[09:08:14.391138] Test: Total time: 0:00:01 (0.3601 s / it)\n",
            "[09:08:14.391951] * Acc@1 34.028 Acc@5 58.333 loss 2.914\n",
            "[09:08:14.393256] Accuracy of the network on the 144 test images: 34.0%\n",
            "[09:08:14.393326] Max accuracy: 36.81%\n",
            "[09:08:14.401402] log_dir: /content/gdrive/MyDrive/Colab_Notebooks/Modal/logs/vit_base_patch16/2023_05_31__09_03_21\n"
          ]
        },
        {
          "output_type": "stream",
          "name": "stderr",
          "text": [
            "Training Epoch 14: 1it [00:02,  2.12s/it]"
          ]
        },
        {
          "output_type": "stream",
          "name": "stdout",
          "text": [
            "[09:08:16.539090] Epoch: [14]  [ 0/18]  eta: 0:00:38  lr: 0.000187  loss: 2.2077 (2.2077)  time: 2.1328  data: 1.6439  max mem: 4877\n"
          ]
        },
        {
          "output_type": "stream",
          "name": "stderr",
          "text": [
            "Training Epoch 14: 18it [00:09,  1.93it/s]\n"
          ]
        },
        {
          "output_type": "stream",
          "name": "stdout",
          "text": [
            "[09:08:23.543618] Epoch: [14]  [17/18]  eta: 0:00:00  lr: 0.000186  loss: 1.4358 (1.6149)  time: 0.5075  data: 0.0917  max mem: 4877\n",
            "[09:08:23.728002] Epoch: [14] Total time: 0:00:09 (0.5179 s / it)\n",
            "[09:08:23.730232] Averaged stats: lr: 0.000186  loss: 1.4358 (1.6149)\n"
          ]
        },
        {
          "output_type": "stream",
          "name": "stderr",
          "text": [
            "/usr/local/lib/python3.10/dist-packages/torchvision/transforms/functional.py:1603: UserWarning: The default value of the antialias parameter of all the resizing transforms (Resize(), RandomResizedCrop(), etc.) will change from None to True in v0.17, in order to be consistent across the PIL and Tensor backends. To suppress this warning, directly pass antialias=True (recommended, future default), antialias=None (current default, which means False for Tensors and True for PIL), or antialias=False (only works on Tensors - PIL will still use antialiasing). This also applies if you are using the inference transforms from the models weights: update the call to weights.transforms(antialias=True).\n",
            "  warnings.warn(\n",
            "/usr/local/lib/python3.10/dist-packages/torchvision/transforms/functional.py:1603: UserWarning: The default value of the antialias parameter of all the resizing transforms (Resize(), RandomResizedCrop(), etc.) will change from None to True in v0.17, in order to be consistent across the PIL and Tensor backends. To suppress this warning, directly pass antialias=True (recommended, future default), antialias=None (current default, which means False for Tensors and True for PIL), or antialias=False (only works on Tensors - PIL will still use antialiasing). This also applies if you are using the inference transforms from the models weights: update the call to weights.transforms(antialias=True).\n",
            "  warnings.warn(\n",
            "/usr/local/lib/python3.10/dist-packages/torchvision/transforms/functional.py:1603: UserWarning: The default value of the antialias parameter of all the resizing transforms (Resize(), RandomResizedCrop(), etc.) will change from None to True in v0.17, in order to be consistent across the PIL and Tensor backends. To suppress this warning, directly pass antialias=True (recommended, future default), antialias=None (current default, which means False for Tensors and True for PIL), or antialias=False (only works on Tensors - PIL will still use antialiasing). This also applies if you are using the inference transforms from the models weights: update the call to weights.transforms(antialias=True).\n",
            "  warnings.warn(\n",
            "/usr/local/lib/python3.10/dist-packages/torchvision/transforms/functional.py:1603: UserWarning: The default value of the antialias parameter of all the resizing transforms (Resize(), RandomResizedCrop(), etc.) will change from None to True in v0.17, in order to be consistent across the PIL and Tensor backends. To suppress this warning, directly pass antialias=True (recommended, future default), antialias=None (current default, which means False for Tensors and True for PIL), or antialias=False (only works on Tensors - PIL will still use antialiasing). This also applies if you are using the inference transforms from the models weights: update the call to weights.transforms(antialias=True).\n",
            "  warnings.warn(\n",
            "/usr/local/lib/python3.10/dist-packages/torchvision/transforms/functional.py:1603: UserWarning: The default value of the antialias parameter of all the resizing transforms (Resize(), RandomResizedCrop(), etc.) will change from None to True in v0.17, in order to be consistent across the PIL and Tensor backends. To suppress this warning, directly pass antialias=True (recommended, future default), antialias=None (current default, which means False for Tensors and True for PIL), or antialias=False (only works on Tensors - PIL will still use antialiasing). This also applies if you are using the inference transforms from the models weights: update the call to weights.transforms(antialias=True).\n",
            "  warnings.warn(\n"
          ]
        },
        {
          "output_type": "stream",
          "name": "stdout",
          "text": [
            "[09:08:28.880800] Test:  [0/5]  eta: 0:00:06  loss: 2.6261 (2.6261)  acc1: 50.0000 (50.0000)  acc5: 65.6250 (65.6250)  time: 1.2835  data: 1.0687  max mem: 4877\n",
            "[09:08:29.368623] Test:  [4/5]  eta: 0:00:00  loss: 2.6261 (2.9242)  acc1: 37.5000 (35.4167)  acc5: 65.6250 (60.4167)  time: 0.3540  data: 0.2141  max mem: 4877\n",
            "[09:08:29.486868] Test: Total time: 0:00:01 (0.3783 s / it)\n",
            "[09:08:29.488234] * Acc@1 35.417 Acc@5 60.417 loss 2.924\n",
            "[09:08:29.489539] Accuracy of the network on the 144 test images: 35.4%\n",
            "[09:08:29.489646] Max accuracy: 36.81%\n",
            "[09:08:29.496877] log_dir: /content/gdrive/MyDrive/Colab_Notebooks/Modal/logs/vit_base_patch16/2023_05_31__09_03_21\n"
          ]
        },
        {
          "output_type": "stream",
          "name": "stderr",
          "text": [
            "Training Epoch 15: 1it [00:02,  2.34s/it]"
          ]
        },
        {
          "output_type": "stream",
          "name": "stdout",
          "text": [
            "[09:08:31.844717] Epoch: [15]  [ 0/18]  eta: 0:00:42  lr: 0.000186  loss: 2.3472 (2.3472)  time: 2.3425  data: 1.8683  max mem: 4877\n"
          ]
        },
        {
          "output_type": "stream",
          "name": "stderr",
          "text": [
            "Training Epoch 15: 18it [00:09,  1.91it/s]\n"
          ]
        },
        {
          "output_type": "stream",
          "name": "stdout",
          "text": [
            "[09:08:38.746512] Epoch: [15]  [17/18]  eta: 0:00:00  lr: 0.000186  loss: 2.1317 (1.9718)  time: 0.5134  data: 0.1045  max mem: 4877\n",
            "[09:08:38.912292] Epoch: [15] Total time: 0:00:09 (0.5229 s / it)\n",
            "[09:08:38.919524] Averaged stats: lr: 0.000186  loss: 2.1317 (1.9718)\n"
          ]
        },
        {
          "output_type": "stream",
          "name": "stderr",
          "text": [
            "/usr/local/lib/python3.10/dist-packages/torchvision/transforms/functional.py:1603: UserWarning: The default value of the antialias parameter of all the resizing transforms (Resize(), RandomResizedCrop(), etc.) will change from None to True in v0.17, in order to be consistent across the PIL and Tensor backends. To suppress this warning, directly pass antialias=True (recommended, future default), antialias=None (current default, which means False for Tensors and True for PIL), or antialias=False (only works on Tensors - PIL will still use antialiasing). This also applies if you are using the inference transforms from the models weights: update the call to weights.transforms(antialias=True).\n",
            "  warnings.warn(\n",
            "/usr/local/lib/python3.10/dist-packages/torchvision/transforms/functional.py:1603: UserWarning: The default value of the antialias parameter of all the resizing transforms (Resize(), RandomResizedCrop(), etc.) will change from None to True in v0.17, in order to be consistent across the PIL and Tensor backends. To suppress this warning, directly pass antialias=True (recommended, future default), antialias=None (current default, which means False for Tensors and True for PIL), or antialias=False (only works on Tensors - PIL will still use antialiasing). This also applies if you are using the inference transforms from the models weights: update the call to weights.transforms(antialias=True).\n",
            "  warnings.warn(\n",
            "/usr/local/lib/python3.10/dist-packages/torchvision/transforms/functional.py:1603: UserWarning: The default value of the antialias parameter of all the resizing transforms (Resize(), RandomResizedCrop(), etc.) will change from None to True in v0.17, in order to be consistent across the PIL and Tensor backends. To suppress this warning, directly pass antialias=True (recommended, future default), antialias=None (current default, which means False for Tensors and True for PIL), or antialias=False (only works on Tensors - PIL will still use antialiasing). This also applies if you are using the inference transforms from the models weights: update the call to weights.transforms(antialias=True).\n",
            "  warnings.warn(\n",
            "/usr/local/lib/python3.10/dist-packages/torchvision/transforms/functional.py:1603: UserWarning: The default value of the antialias parameter of all the resizing transforms (Resize(), RandomResizedCrop(), etc.) will change from None to True in v0.17, in order to be consistent across the PIL and Tensor backends. To suppress this warning, directly pass antialias=True (recommended, future default), antialias=None (current default, which means False for Tensors and True for PIL), or antialias=False (only works on Tensors - PIL will still use antialiasing). This also applies if you are using the inference transforms from the models weights: update the call to weights.transforms(antialias=True).\n",
            "  warnings.warn(\n",
            "/usr/local/lib/python3.10/dist-packages/torchvision/transforms/functional.py:1603: UserWarning: The default value of the antialias parameter of all the resizing transforms (Resize(), RandomResizedCrop(), etc.) will change from None to True in v0.17, in order to be consistent across the PIL and Tensor backends. To suppress this warning, directly pass antialias=True (recommended, future default), antialias=None (current default, which means False for Tensors and True for PIL), or antialias=False (only works on Tensors - PIL will still use antialiasing). This also applies if you are using the inference transforms from the models weights: update the call to weights.transforms(antialias=True).\n",
            "  warnings.warn(\n"
          ]
        },
        {
          "output_type": "stream",
          "name": "stdout",
          "text": [
            "[09:08:43.991383] Test:  [0/5]  eta: 0:00:06  loss: 2.5753 (2.5753)  acc1: 46.8750 (46.8750)  acc5: 62.5000 (62.5000)  time: 1.2620  data: 1.0487  max mem: 4877\n",
            "[09:08:44.480291] Test:  [4/5]  eta: 0:00:00  loss: 2.5753 (2.8834)  acc1: 37.5000 (36.1111)  acc5: 59.3750 (59.0278)  time: 0.3495  data: 0.2104  max mem: 4877\n",
            "[09:08:44.604247] Test: Total time: 0:00:01 (0.3753 s / it)\n",
            "[09:08:44.604420] * Acc@1 36.111 Acc@5 59.028 loss 2.883\n",
            "[09:08:44.604631] Accuracy of the network on the 144 test images: 36.1%\n",
            "[09:08:44.604691] Max accuracy: 36.81%\n",
            "[09:08:44.614562] log_dir: /content/gdrive/MyDrive/Colab_Notebooks/Modal/logs/vit_base_patch16/2023_05_31__09_03_21\n"
          ]
        },
        {
          "output_type": "stream",
          "name": "stderr",
          "text": [
            "Training Epoch 16: 1it [00:02,  2.44s/it]"
          ]
        },
        {
          "output_type": "stream",
          "name": "stdout",
          "text": [
            "[09:08:47.063539] Epoch: [16]  [ 0/18]  eta: 0:00:43  lr: 0.000185  loss: 1.6090 (1.6090)  time: 2.4434  data: 1.9554  max mem: 4877\n"
          ]
        },
        {
          "output_type": "stream",
          "name": "stderr",
          "text": [
            "Training Epoch 16: 18it [00:09,  1.90it/s]\n"
          ]
        },
        {
          "output_type": "stream",
          "name": "stdout",
          "text": [
            "[09:08:53.955665] Epoch: [16]  [17/18]  eta: 0:00:00  lr: 0.000185  loss: 1.5056 (1.5255)  time: 0.5185  data: 0.1090  max mem: 4877\n",
            "[09:08:54.103330] Epoch: [16] Total time: 0:00:09 (0.5269 s / it)\n",
            "[09:08:54.106904] Averaged stats: lr: 0.000185  loss: 1.5056 (1.5255)\n"
          ]
        },
        {
          "output_type": "stream",
          "name": "stderr",
          "text": [
            "/usr/local/lib/python3.10/dist-packages/torchvision/transforms/functional.py:1603: UserWarning: The default value of the antialias parameter of all the resizing transforms (Resize(), RandomResizedCrop(), etc.) will change from None to True in v0.17, in order to be consistent across the PIL and Tensor backends. To suppress this warning, directly pass antialias=True (recommended, future default), antialias=None (current default, which means False for Tensors and True for PIL), or antialias=False (only works on Tensors - PIL will still use antialiasing). This also applies if you are using the inference transforms from the models weights: update the call to weights.transforms(antialias=True).\n",
            "  warnings.warn(\n",
            "/usr/local/lib/python3.10/dist-packages/torchvision/transforms/functional.py:1603: UserWarning: The default value of the antialias parameter of all the resizing transforms (Resize(), RandomResizedCrop(), etc.) will change from None to True in v0.17, in order to be consistent across the PIL and Tensor backends. To suppress this warning, directly pass antialias=True (recommended, future default), antialias=None (current default, which means False for Tensors and True for PIL), or antialias=False (only works on Tensors - PIL will still use antialiasing). This also applies if you are using the inference transforms from the models weights: update the call to weights.transforms(antialias=True).\n",
            "  warnings.warn(\n",
            "/usr/local/lib/python3.10/dist-packages/torchvision/transforms/functional.py:1603: UserWarning: The default value of the antialias parameter of all the resizing transforms (Resize(), RandomResizedCrop(), etc.) will change from None to True in v0.17, in order to be consistent across the PIL and Tensor backends. To suppress this warning, directly pass antialias=True (recommended, future default), antialias=None (current default, which means False for Tensors and True for PIL), or antialias=False (only works on Tensors - PIL will still use antialiasing). This also applies if you are using the inference transforms from the models weights: update the call to weights.transforms(antialias=True).\n",
            "  warnings.warn(\n",
            "/usr/local/lib/python3.10/dist-packages/torchvision/transforms/functional.py:1603: UserWarning: The default value of the antialias parameter of all the resizing transforms (Resize(), RandomResizedCrop(), etc.) will change from None to True in v0.17, in order to be consistent across the PIL and Tensor backends. To suppress this warning, directly pass antialias=True (recommended, future default), antialias=None (current default, which means False for Tensors and True for PIL), or antialias=False (only works on Tensors - PIL will still use antialiasing). This also applies if you are using the inference transforms from the models weights: update the call to weights.transforms(antialias=True).\n",
            "  warnings.warn(\n",
            "/usr/local/lib/python3.10/dist-packages/torchvision/transforms/functional.py:1603: UserWarning: The default value of the antialias parameter of all the resizing transforms (Resize(), RandomResizedCrop(), etc.) will change from None to True in v0.17, in order to be consistent across the PIL and Tensor backends. To suppress this warning, directly pass antialias=True (recommended, future default), antialias=None (current default, which means False for Tensors and True for PIL), or antialias=False (only works on Tensors - PIL will still use antialiasing). This also applies if you are using the inference transforms from the models weights: update the call to weights.transforms(antialias=True).\n",
            "  warnings.warn(\n"
          ]
        },
        {
          "output_type": "stream",
          "name": "stdout",
          "text": [
            "[09:08:58.954275] Test:  [0/5]  eta: 0:00:05  loss: 2.7502 (2.7502)  acc1: 43.7500 (43.7500)  acc5: 53.1250 (53.1250)  time: 1.1269  data: 0.9375  max mem: 4877\n",
            "[09:08:59.445885] Test:  [4/5]  eta: 0:00:00  loss: 2.7502 (2.8710)  acc1: 40.6250 (38.1944)  acc5: 53.1250 (59.0278)  time: 0.3232  data: 0.1896  max mem: 4877\n",
            "[09:08:59.595094] Test: Total time: 0:00:01 (0.3539 s / it)\n",
            "[09:08:59.595255] * Acc@1 38.194 Acc@5 59.028 loss 2.871\n",
            "[09:08:59.597261] Accuracy of the network on the 144 test images: 38.2%\n",
            "[09:08:59.597396] Max accuracy: 38.19%\n",
            "[09:08:59.604652] log_dir: /content/gdrive/MyDrive/Colab_Notebooks/Modal/logs/vit_base_patch16/2023_05_31__09_03_21\n"
          ]
        },
        {
          "output_type": "stream",
          "name": "stderr",
          "text": [
            "Training Epoch 17: 1it [00:02,  2.28s/it]"
          ]
        },
        {
          "output_type": "stream",
          "name": "stdout",
          "text": [
            "[09:09:01.912106] Epoch: [17]  [ 0/18]  eta: 0:00:41  lr: 0.000185  loss: 2.4597 (2.4597)  time: 2.2931  data: 1.7959  max mem: 4877\n"
          ]
        },
        {
          "output_type": "stream",
          "name": "stderr",
          "text": [
            "Training Epoch 17: 18it [00:09,  1.92it/s]\n"
          ]
        },
        {
          "output_type": "stream",
          "name": "stdout",
          "text": [
            "[09:09:08.817080] Epoch: [17]  [17/18]  eta: 0:00:00  lr: 0.000184  loss: 2.2595 (2.1672)  time: 0.5105  data: 0.1005  max mem: 4877\n",
            "[09:09:08.964596] Epoch: [17] Total time: 0:00:09 (0.5196 s / it)\n",
            "[09:09:08.967586] Averaged stats: lr: 0.000184  loss: 2.2595 (2.1672)\n"
          ]
        },
        {
          "output_type": "stream",
          "name": "stderr",
          "text": [
            "/usr/local/lib/python3.10/dist-packages/torchvision/transforms/functional.py:1603: UserWarning: The default value of the antialias parameter of all the resizing transforms (Resize(), RandomResizedCrop(), etc.) will change from None to True in v0.17, in order to be consistent across the PIL and Tensor backends. To suppress this warning, directly pass antialias=True (recommended, future default), antialias=None (current default, which means False for Tensors and True for PIL), or antialias=False (only works on Tensors - PIL will still use antialiasing). This also applies if you are using the inference transforms from the models weights: update the call to weights.transforms(antialias=True).\n",
            "  warnings.warn(\n",
            "/usr/local/lib/python3.10/dist-packages/torchvision/transforms/functional.py:1603: UserWarning: The default value of the antialias parameter of all the resizing transforms (Resize(), RandomResizedCrop(), etc.) will change from None to True in v0.17, in order to be consistent across the PIL and Tensor backends. To suppress this warning, directly pass antialias=True (recommended, future default), antialias=None (current default, which means False for Tensors and True for PIL), or antialias=False (only works on Tensors - PIL will still use antialiasing). This also applies if you are using the inference transforms from the models weights: update the call to weights.transforms(antialias=True).\n",
            "  warnings.warn(\n",
            "/usr/local/lib/python3.10/dist-packages/torchvision/transforms/functional.py:1603: UserWarning: The default value of the antialias parameter of all the resizing transforms (Resize(), RandomResizedCrop(), etc.) will change from None to True in v0.17, in order to be consistent across the PIL and Tensor backends. To suppress this warning, directly pass antialias=True (recommended, future default), antialias=None (current default, which means False for Tensors and True for PIL), or antialias=False (only works on Tensors - PIL will still use antialiasing). This also applies if you are using the inference transforms from the models weights: update the call to weights.transforms(antialias=True).\n",
            "  warnings.warn(\n",
            "/usr/local/lib/python3.10/dist-packages/torchvision/transforms/functional.py:1603: UserWarning: The default value of the antialias parameter of all the resizing transforms (Resize(), RandomResizedCrop(), etc.) will change from None to True in v0.17, in order to be consistent across the PIL and Tensor backends. To suppress this warning, directly pass antialias=True (recommended, future default), antialias=None (current default, which means False for Tensors and True for PIL), or antialias=False (only works on Tensors - PIL will still use antialiasing). This also applies if you are using the inference transforms from the models weights: update the call to weights.transforms(antialias=True).\n",
            "  warnings.warn(\n",
            "/usr/local/lib/python3.10/dist-packages/torchvision/transforms/functional.py:1603: UserWarning: The default value of the antialias parameter of all the resizing transforms (Resize(), RandomResizedCrop(), etc.) will change from None to True in v0.17, in order to be consistent across the PIL and Tensor backends. To suppress this warning, directly pass antialias=True (recommended, future default), antialias=None (current default, which means False for Tensors and True for PIL), or antialias=False (only works on Tensors - PIL will still use antialiasing). This also applies if you are using the inference transforms from the models weights: update the call to weights.transforms(antialias=True).\n",
            "  warnings.warn(\n"
          ]
        },
        {
          "output_type": "stream",
          "name": "stdout",
          "text": [
            "[09:09:13.885120] Test:  [0/5]  eta: 0:00:05  loss: 2.3735 (2.3735)  acc1: 56.2500 (56.2500)  acc5: 71.8750 (71.8750)  time: 1.1900  data: 1.0008  max mem: 4877\n",
            "[09:09:14.386114] Test:  [4/5]  eta: 0:00:00  loss: 2.6398 (2.8912)  acc1: 43.7500 (38.8889)  acc5: 59.3750 (57.6389)  time: 0.3377  data: 0.2005  max mem: 4877\n",
            "[09:09:14.503826] Test: Total time: 0:00:01 (0.3627 s / it)\n",
            "[09:09:14.504534] * Acc@1 38.889 Acc@5 57.639 loss 2.891\n",
            "[09:09:14.505568] Accuracy of the network on the 144 test images: 38.9%\n",
            "[09:09:14.505668] Max accuracy: 38.89%\n",
            "[09:09:14.513685] log_dir: /content/gdrive/MyDrive/Colab_Notebooks/Modal/logs/vit_base_patch16/2023_05_31__09_03_21\n"
          ]
        },
        {
          "output_type": "stream",
          "name": "stderr",
          "text": [
            "Training Epoch 18: 1it [00:02,  2.27s/it]"
          ]
        },
        {
          "output_type": "stream",
          "name": "stdout",
          "text": [
            "[09:09:16.795843] Epoch: [18]  [ 0/18]  eta: 0:00:40  lr: 0.000184  loss: 2.3791 (2.3791)  time: 2.2774  data: 1.8019  max mem: 4877\n"
          ]
        },
        {
          "output_type": "stream",
          "name": "stderr",
          "text": [
            "Training Epoch 18: 18it [00:09,  1.92it/s]\n"
          ]
        },
        {
          "output_type": "stream",
          "name": "stdout",
          "text": [
            "[09:09:23.749709] Epoch: [18]  [17/18]  eta: 0:00:00  lr: 0.000183  loss: 2.0249 (1.8126)  time: 0.5127  data: 0.1007  max mem: 4877\n",
            "[09:09:23.907092] Epoch: [18] Total time: 0:00:09 (0.5217 s / it)\n",
            "[09:09:23.910779] Averaged stats: lr: 0.000183  loss: 2.0249 (1.8126)\n"
          ]
        },
        {
          "output_type": "stream",
          "name": "stderr",
          "text": [
            "/usr/local/lib/python3.10/dist-packages/torchvision/transforms/functional.py:1603: UserWarning: The default value of the antialias parameter of all the resizing transforms (Resize(), RandomResizedCrop(), etc.) will change from None to True in v0.17, in order to be consistent across the PIL and Tensor backends. To suppress this warning, directly pass antialias=True (recommended, future default), antialias=None (current default, which means False for Tensors and True for PIL), or antialias=False (only works on Tensors - PIL will still use antialiasing). This also applies if you are using the inference transforms from the models weights: update the call to weights.transforms(antialias=True).\n",
            "  warnings.warn(\n",
            "/usr/local/lib/python3.10/dist-packages/torchvision/transforms/functional.py:1603: UserWarning: The default value of the antialias parameter of all the resizing transforms (Resize(), RandomResizedCrop(), etc.) will change from None to True in v0.17, in order to be consistent across the PIL and Tensor backends. To suppress this warning, directly pass antialias=True (recommended, future default), antialias=None (current default, which means False for Tensors and True for PIL), or antialias=False (only works on Tensors - PIL will still use antialiasing). This also applies if you are using the inference transforms from the models weights: update the call to weights.transforms(antialias=True).\n",
            "  warnings.warn(\n",
            "/usr/local/lib/python3.10/dist-packages/torchvision/transforms/functional.py:1603: UserWarning: The default value of the antialias parameter of all the resizing transforms (Resize(), RandomResizedCrop(), etc.) will change from None to True in v0.17, in order to be consistent across the PIL and Tensor backends. To suppress this warning, directly pass antialias=True (recommended, future default), antialias=None (current default, which means False for Tensors and True for PIL), or antialias=False (only works on Tensors - PIL will still use antialiasing). This also applies if you are using the inference transforms from the models weights: update the call to weights.transforms(antialias=True).\n",
            "  warnings.warn(\n",
            "/usr/local/lib/python3.10/dist-packages/torchvision/transforms/functional.py:1603: UserWarning: The default value of the antialias parameter of all the resizing transforms (Resize(), RandomResizedCrop(), etc.) will change from None to True in v0.17, in order to be consistent across the PIL and Tensor backends. To suppress this warning, directly pass antialias=True (recommended, future default), antialias=None (current default, which means False for Tensors and True for PIL), or antialias=False (only works on Tensors - PIL will still use antialiasing). This also applies if you are using the inference transforms from the models weights: update the call to weights.transforms(antialias=True).\n",
            "  warnings.warn(\n",
            "/usr/local/lib/python3.10/dist-packages/torchvision/transforms/functional.py:1603: UserWarning: The default value of the antialias parameter of all the resizing transforms (Resize(), RandomResizedCrop(), etc.) will change from None to True in v0.17, in order to be consistent across the PIL and Tensor backends. To suppress this warning, directly pass antialias=True (recommended, future default), antialias=None (current default, which means False for Tensors and True for PIL), or antialias=False (only works on Tensors - PIL will still use antialiasing). This also applies if you are using the inference transforms from the models weights: update the call to weights.transforms(antialias=True).\n",
            "  warnings.warn(\n"
          ]
        },
        {
          "output_type": "stream",
          "name": "stdout",
          "text": [
            "[09:09:28.583821] Test:  [0/5]  eta: 0:00:05  loss: 2.5918 (2.5918)  acc1: 50.0000 (50.0000)  acc5: 62.5000 (62.5000)  time: 1.0065  data: 0.8164  max mem: 4877\n",
            "[09:09:29.072279] Test:  [4/5]  eta: 0:00:00  loss: 2.6184 (2.9868)  acc1: 28.1250 (34.7222)  acc5: 56.2500 (53.4722)  time: 0.2985  data: 0.1635  max mem: 4877\n",
            "[09:09:29.178633] Test: Total time: 0:00:01 (0.3208 s / it)\n",
            "[09:09:29.178770] * Acc@1 34.722 Acc@5 53.472 loss 2.987\n",
            "[09:09:29.180335] Accuracy of the network on the 144 test images: 34.7%\n",
            "[09:09:29.180409] Max accuracy: 38.89%\n",
            "[09:09:29.187160] log_dir: /content/gdrive/MyDrive/Colab_Notebooks/Modal/logs/vit_base_patch16/2023_05_31__09_03_21\n"
          ]
        },
        {
          "output_type": "stream",
          "name": "stderr",
          "text": [
            "Training Epoch 19: 1it [00:02,  2.19s/it]"
          ]
        },
        {
          "output_type": "stream",
          "name": "stdout",
          "text": [
            "[09:09:31.393270] Epoch: [19]  [ 0/18]  eta: 0:00:39  lr: 0.000183  loss: 2.0801 (2.0801)  time: 2.1970  data: 1.7160  max mem: 4877\n"
          ]
        },
        {
          "output_type": "stream",
          "name": "stderr",
          "text": [
            "Training Epoch 19: 18it [00:09,  1.95it/s]\n"
          ]
        },
        {
          "output_type": "stream",
          "name": "stdout",
          "text": [
            "[09:09:38.304814] Epoch: [19]  [17/18]  eta: 0:00:00  lr: 0.000182  loss: 1.7777 (1.8258)  time: 0.5059  data: 0.0957  max mem: 4877\n",
            "[09:09:38.424546] Epoch: [19] Total time: 0:00:09 (0.5130 s / it)\n",
            "[09:09:38.428125] Averaged stats: lr: 0.000182  loss: 1.7777 (1.8258)\n"
          ]
        },
        {
          "output_type": "stream",
          "name": "stderr",
          "text": [
            "/usr/local/lib/python3.10/dist-packages/torchvision/transforms/functional.py:1603: UserWarning: The default value of the antialias parameter of all the resizing transforms (Resize(), RandomResizedCrop(), etc.) will change from None to True in v0.17, in order to be consistent across the PIL and Tensor backends. To suppress this warning, directly pass antialias=True (recommended, future default), antialias=None (current default, which means False for Tensors and True for PIL), or antialias=False (only works on Tensors - PIL will still use antialiasing). This also applies if you are using the inference transforms from the models weights: update the call to weights.transforms(antialias=True).\n",
            "  warnings.warn(\n",
            "/usr/local/lib/python3.10/dist-packages/torchvision/transforms/functional.py:1603: UserWarning: The default value of the antialias parameter of all the resizing transforms (Resize(), RandomResizedCrop(), etc.) will change from None to True in v0.17, in order to be consistent across the PIL and Tensor backends. To suppress this warning, directly pass antialias=True (recommended, future default), antialias=None (current default, which means False for Tensors and True for PIL), or antialias=False (only works on Tensors - PIL will still use antialiasing). This also applies if you are using the inference transforms from the models weights: update the call to weights.transforms(antialias=True).\n",
            "  warnings.warn(\n",
            "/usr/local/lib/python3.10/dist-packages/torchvision/transforms/functional.py:1603: UserWarning: The default value of the antialias parameter of all the resizing transforms (Resize(), RandomResizedCrop(), etc.) will change from None to True in v0.17, in order to be consistent across the PIL and Tensor backends. To suppress this warning, directly pass antialias=True (recommended, future default), antialias=None (current default, which means False for Tensors and True for PIL), or antialias=False (only works on Tensors - PIL will still use antialiasing). This also applies if you are using the inference transforms from the models weights: update the call to weights.transforms(antialias=True).\n",
            "  warnings.warn(\n",
            "/usr/local/lib/python3.10/dist-packages/torchvision/transforms/functional.py:1603: UserWarning: The default value of the antialias parameter of all the resizing transforms (Resize(), RandomResizedCrop(), etc.) will change from None to True in v0.17, in order to be consistent across the PIL and Tensor backends. To suppress this warning, directly pass antialias=True (recommended, future default), antialias=None (current default, which means False for Tensors and True for PIL), or antialias=False (only works on Tensors - PIL will still use antialiasing). This also applies if you are using the inference transforms from the models weights: update the call to weights.transforms(antialias=True).\n",
            "  warnings.warn(\n",
            "/usr/local/lib/python3.10/dist-packages/torchvision/transforms/functional.py:1603: UserWarning: The default value of the antialias parameter of all the resizing transforms (Resize(), RandomResizedCrop(), etc.) will change from None to True in v0.17, in order to be consistent across the PIL and Tensor backends. To suppress this warning, directly pass antialias=True (recommended, future default), antialias=None (current default, which means False for Tensors and True for PIL), or antialias=False (only works on Tensors - PIL will still use antialiasing). This also applies if you are using the inference transforms from the models weights: update the call to weights.transforms(antialias=True).\n",
            "  warnings.warn(\n"
          ]
        },
        {
          "output_type": "stream",
          "name": "stdout",
          "text": [
            "[09:09:46.036803] Test:  [0/5]  eta: 0:00:04  loss: 2.5515 (2.5515)  acc1: 46.8750 (46.8750)  acc5: 65.6250 (65.6250)  time: 0.9598  data: 0.7461  max mem: 4877\n",
            "[09:09:46.522858] Test:  [4/5]  eta: 0:00:00  loss: 2.6563 (2.9601)  acc1: 37.5000 (34.7222)  acc5: 53.1250 (54.8611)  time: 0.2889  data: 0.1494  max mem: 4877\n",
            "[09:09:46.619437] Test: Total time: 0:00:01 (0.3087 s / it)\n",
            "[09:09:46.619567] * Acc@1 34.722 Acc@5 54.861 loss 2.960\n",
            "[09:09:46.620647] Accuracy of the network on the 144 test images: 34.7%\n",
            "[09:09:46.620696] Max accuracy: 38.89%\n",
            "[09:09:46.626196] log_dir: /content/gdrive/MyDrive/Colab_Notebooks/Modal/logs/vit_base_patch16/2023_05_31__09_03_21\n"
          ]
        },
        {
          "output_type": "stream",
          "name": "stderr",
          "text": [
            "Training Epoch 20: 1it [00:01,  1.77s/it]"
          ]
        },
        {
          "output_type": "stream",
          "name": "stdout",
          "text": [
            "[09:09:48.410468] Epoch: [20]  [ 0/18]  eta: 0:00:31  lr: 0.000182  loss: 1.4291 (1.4291)  time: 1.7771  data: 1.3894  max mem: 4877\n"
          ]
        },
        {
          "output_type": "stream",
          "name": "stderr",
          "text": [
            "Training Epoch 20: 18it [00:08,  2.07it/s]\n"
          ]
        },
        {
          "output_type": "stream",
          "name": "stdout",
          "text": [
            "[09:09:55.244920] Epoch: [20]  [17/18]  eta: 0:00:00  lr: 0.000181  loss: 1.8262 (1.7091)  time: 0.4781  data: 0.0775  max mem: 4877\n",
            "[09:09:55.344246] Epoch: [20] Total time: 0:00:08 (0.4840 s / it)\n",
            "[09:09:55.346873] Averaged stats: lr: 0.000181  loss: 1.8262 (1.7091)\n"
          ]
        },
        {
          "output_type": "stream",
          "name": "stderr",
          "text": [
            "/usr/local/lib/python3.10/dist-packages/torchvision/transforms/functional.py:1603: UserWarning: The default value of the antialias parameter of all the resizing transforms (Resize(), RandomResizedCrop(), etc.) will change from None to True in v0.17, in order to be consistent across the PIL and Tensor backends. To suppress this warning, directly pass antialias=True (recommended, future default), antialias=None (current default, which means False for Tensors and True for PIL), or antialias=False (only works on Tensors - PIL will still use antialiasing). This also applies if you are using the inference transforms from the models weights: update the call to weights.transforms(antialias=True).\n",
            "  warnings.warn(\n",
            "/usr/local/lib/python3.10/dist-packages/torchvision/transforms/functional.py:1603: UserWarning: The default value of the antialias parameter of all the resizing transforms (Resize(), RandomResizedCrop(), etc.) will change from None to True in v0.17, in order to be consistent across the PIL and Tensor backends. To suppress this warning, directly pass antialias=True (recommended, future default), antialias=None (current default, which means False for Tensors and True for PIL), or antialias=False (only works on Tensors - PIL will still use antialiasing). This also applies if you are using the inference transforms from the models weights: update the call to weights.transforms(antialias=True).\n",
            "  warnings.warn(\n",
            "/usr/local/lib/python3.10/dist-packages/torchvision/transforms/functional.py:1603: UserWarning: The default value of the antialias parameter of all the resizing transforms (Resize(), RandomResizedCrop(), etc.) will change from None to True in v0.17, in order to be consistent across the PIL and Tensor backends. To suppress this warning, directly pass antialias=True (recommended, future default), antialias=None (current default, which means False for Tensors and True for PIL), or antialias=False (only works on Tensors - PIL will still use antialiasing). This also applies if you are using the inference transforms from the models weights: update the call to weights.transforms(antialias=True).\n",
            "  warnings.warn(\n",
            "/usr/local/lib/python3.10/dist-packages/torchvision/transforms/functional.py:1603: UserWarning: The default value of the antialias parameter of all the resizing transforms (Resize(), RandomResizedCrop(), etc.) will change from None to True in v0.17, in order to be consistent across the PIL and Tensor backends. To suppress this warning, directly pass antialias=True (recommended, future default), antialias=None (current default, which means False for Tensors and True for PIL), or antialias=False (only works on Tensors - PIL will still use antialiasing). This also applies if you are using the inference transforms from the models weights: update the call to weights.transforms(antialias=True).\n",
            "  warnings.warn(\n",
            "/usr/local/lib/python3.10/dist-packages/torchvision/transforms/functional.py:1603: UserWarning: The default value of the antialias parameter of all the resizing transforms (Resize(), RandomResizedCrop(), etc.) will change from None to True in v0.17, in order to be consistent across the PIL and Tensor backends. To suppress this warning, directly pass antialias=True (recommended, future default), antialias=None (current default, which means False for Tensors and True for PIL), or antialias=False (only works on Tensors - PIL will still use antialiasing). This also applies if you are using the inference transforms from the models weights: update the call to weights.transforms(antialias=True).\n",
            "  warnings.warn(\n"
          ]
        },
        {
          "output_type": "stream",
          "name": "stdout",
          "text": [
            "[09:09:59.389103] Test:  [0/5]  eta: 0:00:04  loss: 2.4809 (2.4809)  acc1: 56.2500 (56.2500)  acc5: 65.6250 (65.6250)  time: 0.9444  data: 0.7493  max mem: 4877\n",
            "[09:09:59.871079] Test:  [4/5]  eta: 0:00:00  loss: 2.7559 (2.8498)  acc1: 37.5000 (37.5000)  acc5: 59.3750 (54.8611)  time: 0.2851  data: 0.1500  max mem: 4877\n",
            "[09:09:59.972237] Test: Total time: 0:00:01 (0.3059 s / it)\n",
            "[09:09:59.972382] * Acc@1 37.500 Acc@5 54.861 loss 2.850\n",
            "[09:09:59.973966] Accuracy of the network on the 144 test images: 37.5%\n",
            "[09:09:59.974453] Max accuracy: 38.89%\n",
            "[09:10:00.225622] log_dir: /content/gdrive/MyDrive/Colab_Notebooks/Modal/logs/vit_base_patch16/2023_05_31__09_03_21\n"
          ]
        },
        {
          "output_type": "stream",
          "name": "stderr",
          "text": [
            "Training Epoch 21: 1it [00:01,  1.82s/it]"
          ]
        },
        {
          "output_type": "stream",
          "name": "stdout",
          "text": [
            "[09:10:02.064512] Epoch: [21]  [ 0/18]  eta: 0:00:33  lr: 0.000181  loss: 2.2276 (2.2276)  time: 1.8350  data: 1.4408  max mem: 4877\n"
          ]
        },
        {
          "output_type": "stream",
          "name": "stderr",
          "text": [
            "Training Epoch 21: 18it [00:08,  2.04it/s]\n"
          ]
        },
        {
          "output_type": "stream",
          "name": "stdout",
          "text": [
            "[09:10:08.955503] Epoch: [21]  [17/18]  eta: 0:00:00  lr: 0.000180  loss: 1.9133 (1.7157)  time: 0.4847  data: 0.0829  max mem: 4877\n",
            "[09:10:09.051776] Epoch: [21] Total time: 0:00:08 (0.4902 s / it)\n",
            "[09:10:09.054983] Averaged stats: lr: 0.000180  loss: 1.9133 (1.7157)\n"
          ]
        },
        {
          "output_type": "stream",
          "name": "stderr",
          "text": [
            "/usr/local/lib/python3.10/dist-packages/torchvision/transforms/functional.py:1603: UserWarning: The default value of the antialias parameter of all the resizing transforms (Resize(), RandomResizedCrop(), etc.) will change from None to True in v0.17, in order to be consistent across the PIL and Tensor backends. To suppress this warning, directly pass antialias=True (recommended, future default), antialias=None (current default, which means False for Tensors and True for PIL), or antialias=False (only works on Tensors - PIL will still use antialiasing). This also applies if you are using the inference transforms from the models weights: update the call to weights.transforms(antialias=True).\n",
            "  warnings.warn(\n",
            "/usr/local/lib/python3.10/dist-packages/torchvision/transforms/functional.py:1603: UserWarning: The default value of the antialias parameter of all the resizing transforms (Resize(), RandomResizedCrop(), etc.) will change from None to True in v0.17, in order to be consistent across the PIL and Tensor backends. To suppress this warning, directly pass antialias=True (recommended, future default), antialias=None (current default, which means False for Tensors and True for PIL), or antialias=False (only works on Tensors - PIL will still use antialiasing). This also applies if you are using the inference transforms from the models weights: update the call to weights.transforms(antialias=True).\n",
            "  warnings.warn(\n",
            "/usr/local/lib/python3.10/dist-packages/torchvision/transforms/functional.py:1603: UserWarning: The default value of the antialias parameter of all the resizing transforms (Resize(), RandomResizedCrop(), etc.) will change from None to True in v0.17, in order to be consistent across the PIL and Tensor backends. To suppress this warning, directly pass antialias=True (recommended, future default), antialias=None (current default, which means False for Tensors and True for PIL), or antialias=False (only works on Tensors - PIL will still use antialiasing). This also applies if you are using the inference transforms from the models weights: update the call to weights.transforms(antialias=True).\n",
            "  warnings.warn(\n",
            "/usr/local/lib/python3.10/dist-packages/torchvision/transforms/functional.py:1603: UserWarning: The default value of the antialias parameter of all the resizing transforms (Resize(), RandomResizedCrop(), etc.) will change from None to True in v0.17, in order to be consistent across the PIL and Tensor backends. To suppress this warning, directly pass antialias=True (recommended, future default), antialias=None (current default, which means False for Tensors and True for PIL), or antialias=False (only works on Tensors - PIL will still use antialiasing). This also applies if you are using the inference transforms from the models weights: update the call to weights.transforms(antialias=True).\n",
            "  warnings.warn(\n",
            "/usr/local/lib/python3.10/dist-packages/torchvision/transforms/functional.py:1603: UserWarning: The default value of the antialias parameter of all the resizing transforms (Resize(), RandomResizedCrop(), etc.) will change from None to True in v0.17, in order to be consistent across the PIL and Tensor backends. To suppress this warning, directly pass antialias=True (recommended, future default), antialias=None (current default, which means False for Tensors and True for PIL), or antialias=False (only works on Tensors - PIL will still use antialiasing). This also applies if you are using the inference transforms from the models weights: update the call to weights.transforms(antialias=True).\n",
            "  warnings.warn(\n"
          ]
        },
        {
          "output_type": "stream",
          "name": "stdout",
          "text": [
            "[09:10:12.967580] Test:  [0/5]  eta: 0:00:04  loss: 2.4999 (2.4999)  acc1: 46.8750 (46.8750)  acc5: 68.7500 (68.7500)  time: 0.8884  data: 0.6840  max mem: 4877\n",
            "[09:10:13.485516] Test:  [4/5]  eta: 0:00:00  loss: 2.4999 (2.8765)  acc1: 37.5000 (35.4167)  acc5: 62.5000 (59.0278)  time: 0.2806  data: 0.1384  max mem: 4877\n",
            "[09:10:13.587670] Test: Total time: 0:00:01 (0.3022 s / it)\n",
            "[09:10:13.587834] * Acc@1 35.417 Acc@5 59.028 loss 2.877\n",
            "[09:10:13.588963] Accuracy of the network on the 144 test images: 35.4%\n",
            "[09:10:13.589068] Max accuracy: 38.89%\n",
            "[09:10:13.596273] log_dir: /content/gdrive/MyDrive/Colab_Notebooks/Modal/logs/vit_base_patch16/2023_05_31__09_03_21\n"
          ]
        },
        {
          "output_type": "stream",
          "name": "stderr",
          "text": [
            "Training Epoch 22: 1it [00:01,  1.73s/it]"
          ]
        },
        {
          "output_type": "stream",
          "name": "stdout",
          "text": [
            "[09:10:15.339352] Epoch: [22]  [ 0/18]  eta: 0:00:31  lr: 0.000179  loss: 1.4646 (1.4646)  time: 1.7383  data: 1.3381  max mem: 4877\n"
          ]
        },
        {
          "output_type": "stream",
          "name": "stderr",
          "text": [
            "Training Epoch 22: 18it [00:08,  2.08it/s]\n"
          ]
        },
        {
          "output_type": "stream",
          "name": "stdout",
          "text": [
            "[09:10:22.154151] Epoch: [22]  [17/18]  eta: 0:00:00  lr: 0.000178  loss: 1.8189 (1.8647)  time: 0.4750  data: 0.0746  max mem: 4877\n",
            "[09:10:22.250873] Epoch: [22] Total time: 0:00:08 (0.4806 s / it)\n",
            "[09:10:22.255530] Averaged stats: lr: 0.000178  loss: 1.8189 (1.8647)\n"
          ]
        },
        {
          "output_type": "stream",
          "name": "stderr",
          "text": [
            "/usr/local/lib/python3.10/dist-packages/torchvision/transforms/functional.py:1603: UserWarning: The default value of the antialias parameter of all the resizing transforms (Resize(), RandomResizedCrop(), etc.) will change from None to True in v0.17, in order to be consistent across the PIL and Tensor backends. To suppress this warning, directly pass antialias=True (recommended, future default), antialias=None (current default, which means False for Tensors and True for PIL), or antialias=False (only works on Tensors - PIL will still use antialiasing). This also applies if you are using the inference transforms from the models weights: update the call to weights.transforms(antialias=True).\n",
            "  warnings.warn(\n",
            "/usr/local/lib/python3.10/dist-packages/torchvision/transforms/functional.py:1603: UserWarning: The default value of the antialias parameter of all the resizing transforms (Resize(), RandomResizedCrop(), etc.) will change from None to True in v0.17, in order to be consistent across the PIL and Tensor backends. To suppress this warning, directly pass antialias=True (recommended, future default), antialias=None (current default, which means False for Tensors and True for PIL), or antialias=False (only works on Tensors - PIL will still use antialiasing). This also applies if you are using the inference transforms from the models weights: update the call to weights.transforms(antialias=True).\n",
            "  warnings.warn(\n",
            "/usr/local/lib/python3.10/dist-packages/torchvision/transforms/functional.py:1603: UserWarning: The default value of the antialias parameter of all the resizing transforms (Resize(), RandomResizedCrop(), etc.) will change from None to True in v0.17, in order to be consistent across the PIL and Tensor backends. To suppress this warning, directly pass antialias=True (recommended, future default), antialias=None (current default, which means False for Tensors and True for PIL), or antialias=False (only works on Tensors - PIL will still use antialiasing). This also applies if you are using the inference transforms from the models weights: update the call to weights.transforms(antialias=True).\n",
            "  warnings.warn(\n",
            "/usr/local/lib/python3.10/dist-packages/torchvision/transforms/functional.py:1603: UserWarning: The default value of the antialias parameter of all the resizing transforms (Resize(), RandomResizedCrop(), etc.) will change from None to True in v0.17, in order to be consistent across the PIL and Tensor backends. To suppress this warning, directly pass antialias=True (recommended, future default), antialias=None (current default, which means False for Tensors and True for PIL), or antialias=False (only works on Tensors - PIL will still use antialiasing). This also applies if you are using the inference transforms from the models weights: update the call to weights.transforms(antialias=True).\n",
            "  warnings.warn(\n",
            "/usr/local/lib/python3.10/dist-packages/torchvision/transforms/functional.py:1603: UserWarning: The default value of the antialias parameter of all the resizing transforms (Resize(), RandomResizedCrop(), etc.) will change from None to True in v0.17, in order to be consistent across the PIL and Tensor backends. To suppress this warning, directly pass antialias=True (recommended, future default), antialias=None (current default, which means False for Tensors and True for PIL), or antialias=False (only works on Tensors - PIL will still use antialiasing). This also applies if you are using the inference transforms from the models weights: update the call to weights.transforms(antialias=True).\n",
            "  warnings.warn(\n"
          ]
        },
        {
          "output_type": "stream",
          "name": "stdout",
          "text": [
            "[09:10:26.440400] Test:  [0/5]  eta: 0:00:04  loss: 2.5316 (2.5316)  acc1: 53.1250 (53.1250)  acc5: 68.7500 (68.7500)  time: 0.9688  data: 0.7798  max mem: 4877\n",
            "[09:10:26.939168] Test:  [4/5]  eta: 0:00:00  loss: 2.6559 (2.8639)  acc1: 34.3750 (36.1111)  acc5: 59.3750 (57.6389)  time: 0.2933  data: 0.1561  max mem: 4877\n",
            "[09:10:27.032937] Test: Total time: 0:00:01 (0.3125 s / it)\n",
            "[09:10:27.033093] * Acc@1 36.111 Acc@5 57.639 loss 2.864\n",
            "[09:10:27.034295] Accuracy of the network on the 144 test images: 36.1%\n",
            "[09:10:27.034350] Max accuracy: 38.89%\n",
            "[09:10:27.039554] log_dir: /content/gdrive/MyDrive/Colab_Notebooks/Modal/logs/vit_base_patch16/2023_05_31__09_03_21\n"
          ]
        },
        {
          "output_type": "stream",
          "name": "stderr",
          "text": [
            "Training Epoch 23: 1it [00:01,  1.72s/it]"
          ]
        },
        {
          "output_type": "stream",
          "name": "stdout",
          "text": [
            "[09:10:28.780625] Epoch: [23]  [ 0/18]  eta: 0:00:31  lr: 0.000178  loss: 1.9193 (1.9193)  time: 1.7357  data: 1.3347  max mem: 4877\n"
          ]
        },
        {
          "output_type": "stream",
          "name": "stderr",
          "text": [
            "Training Epoch 23: 18it [00:08,  2.07it/s]\n"
          ]
        },
        {
          "output_type": "stream",
          "name": "stdout",
          "text": [
            "[09:10:35.650119] Epoch: [23]  [17/18]  eta: 0:00:00  lr: 0.000177  loss: 1.9193 (1.8662)  time: 0.4779  data: 0.0746  max mem: 4877\n",
            "[09:10:35.754611] Epoch: [23] Total time: 0:00:08 (0.4839 s / it)\n",
            "[09:10:35.757221] Averaged stats: lr: 0.000177  loss: 1.9193 (1.8662)\n"
          ]
        },
        {
          "output_type": "stream",
          "name": "stderr",
          "text": [
            "/usr/local/lib/python3.10/dist-packages/torchvision/transforms/functional.py:1603: UserWarning: The default value of the antialias parameter of all the resizing transforms (Resize(), RandomResizedCrop(), etc.) will change from None to True in v0.17, in order to be consistent across the PIL and Tensor backends. To suppress this warning, directly pass antialias=True (recommended, future default), antialias=None (current default, which means False for Tensors and True for PIL), or antialias=False (only works on Tensors - PIL will still use antialiasing). This also applies if you are using the inference transforms from the models weights: update the call to weights.transforms(antialias=True).\n",
            "  warnings.warn(\n",
            "/usr/local/lib/python3.10/dist-packages/torchvision/transforms/functional.py:1603: UserWarning: The default value of the antialias parameter of all the resizing transforms (Resize(), RandomResizedCrop(), etc.) will change from None to True in v0.17, in order to be consistent across the PIL and Tensor backends. To suppress this warning, directly pass antialias=True (recommended, future default), antialias=None (current default, which means False for Tensors and True for PIL), or antialias=False (only works on Tensors - PIL will still use antialiasing). This also applies if you are using the inference transforms from the models weights: update the call to weights.transforms(antialias=True).\n",
            "  warnings.warn(\n",
            "/usr/local/lib/python3.10/dist-packages/torchvision/transforms/functional.py:1603: UserWarning: The default value of the antialias parameter of all the resizing transforms (Resize(), RandomResizedCrop(), etc.) will change from None to True in v0.17, in order to be consistent across the PIL and Tensor backends. To suppress this warning, directly pass antialias=True (recommended, future default), antialias=None (current default, which means False for Tensors and True for PIL), or antialias=False (only works on Tensors - PIL will still use antialiasing). This also applies if you are using the inference transforms from the models weights: update the call to weights.transforms(antialias=True).\n",
            "  warnings.warn(\n",
            "/usr/local/lib/python3.10/dist-packages/torchvision/transforms/functional.py:1603: UserWarning: The default value of the antialias parameter of all the resizing transforms (Resize(), RandomResizedCrop(), etc.) will change from None to True in v0.17, in order to be consistent across the PIL and Tensor backends. To suppress this warning, directly pass antialias=True (recommended, future default), antialias=None (current default, which means False for Tensors and True for PIL), or antialias=False (only works on Tensors - PIL will still use antialiasing). This also applies if you are using the inference transforms from the models weights: update the call to weights.transforms(antialias=True).\n",
            "  warnings.warn(\n",
            "/usr/local/lib/python3.10/dist-packages/torchvision/transforms/functional.py:1603: UserWarning: The default value of the antialias parameter of all the resizing transforms (Resize(), RandomResizedCrop(), etc.) will change from None to True in v0.17, in order to be consistent across the PIL and Tensor backends. To suppress this warning, directly pass antialias=True (recommended, future default), antialias=None (current default, which means False for Tensors and True for PIL), or antialias=False (only works on Tensors - PIL will still use antialiasing). This also applies if you are using the inference transforms from the models weights: update the call to weights.transforms(antialias=True).\n",
            "  warnings.warn(\n"
          ]
        },
        {
          "output_type": "stream",
          "name": "stdout",
          "text": [
            "[09:10:39.749411] Test:  [0/5]  eta: 0:00:04  loss: 2.4584 (2.4584)  acc1: 53.1250 (53.1250)  acc5: 68.7500 (68.7500)  time: 0.8921  data: 0.7033  max mem: 4877\n",
            "[09:10:40.247821] Test:  [4/5]  eta: 0:00:00  loss: 2.6665 (2.9619)  acc1: 37.5000 (34.0278)  acc5: 53.1250 (57.6389)  time: 0.2778  data: 0.1408  max mem: 4877\n",
            "[09:10:40.345774] Test: Total time: 0:00:01 (0.2981 s / it)\n",
            "[09:10:40.345900] * Acc@1 34.028 Acc@5 57.639 loss 2.962\n",
            "[09:10:40.346997] Accuracy of the network on the 144 test images: 34.0%\n",
            "[09:10:40.347077] Max accuracy: 38.89%\n",
            "[09:10:40.352940] log_dir: /content/gdrive/MyDrive/Colab_Notebooks/Modal/logs/vit_base_patch16/2023_05_31__09_03_21\n"
          ]
        },
        {
          "output_type": "stream",
          "name": "stderr",
          "text": [
            "Training Epoch 24: 1it [00:01,  1.76s/it]"
          ]
        },
        {
          "output_type": "stream",
          "name": "stdout",
          "text": [
            "[09:10:42.120677] Epoch: [24]  [ 0/18]  eta: 0:00:31  lr: 0.000177  loss: 2.5078 (2.5078)  time: 1.7634  data: 1.3691  max mem: 4877\n"
          ]
        },
        {
          "output_type": "stream",
          "name": "stderr",
          "text": [
            "Training Epoch 24: 18it [00:08,  2.07it/s]\n"
          ]
        },
        {
          "output_type": "stream",
          "name": "stdout",
          "text": [
            "[09:10:48.936602] Epoch: [24]  [17/18]  eta: 0:00:00  lr: 0.000175  loss: 1.7887 (1.8133)  time: 0.4765  data: 0.0769  max mem: 4877\n",
            "[09:10:49.060571] Epoch: [24] Total time: 0:00:08 (0.4836 s / it)\n",
            "[09:10:49.064059] Averaged stats: lr: 0.000175  loss: 1.7887 (1.8133)\n"
          ]
        },
        {
          "output_type": "stream",
          "name": "stderr",
          "text": [
            "/usr/local/lib/python3.10/dist-packages/torchvision/transforms/functional.py:1603: UserWarning: The default value of the antialias parameter of all the resizing transforms (Resize(), RandomResizedCrop(), etc.) will change from None to True in v0.17, in order to be consistent across the PIL and Tensor backends. To suppress this warning, directly pass antialias=True (recommended, future default), antialias=None (current default, which means False for Tensors and True for PIL), or antialias=False (only works on Tensors - PIL will still use antialiasing). This also applies if you are using the inference transforms from the models weights: update the call to weights.transforms(antialias=True).\n",
            "  warnings.warn(\n",
            "/usr/local/lib/python3.10/dist-packages/torchvision/transforms/functional.py:1603: UserWarning: The default value of the antialias parameter of all the resizing transforms (Resize(), RandomResizedCrop(), etc.) will change from None to True in v0.17, in order to be consistent across the PIL and Tensor backends. To suppress this warning, directly pass antialias=True (recommended, future default), antialias=None (current default, which means False for Tensors and True for PIL), or antialias=False (only works on Tensors - PIL will still use antialiasing). This also applies if you are using the inference transforms from the models weights: update the call to weights.transforms(antialias=True).\n",
            "  warnings.warn(\n",
            "/usr/local/lib/python3.10/dist-packages/torchvision/transforms/functional.py:1603: UserWarning: The default value of the antialias parameter of all the resizing transforms (Resize(), RandomResizedCrop(), etc.) will change from None to True in v0.17, in order to be consistent across the PIL and Tensor backends. To suppress this warning, directly pass antialias=True (recommended, future default), antialias=None (current default, which means False for Tensors and True for PIL), or antialias=False (only works on Tensors - PIL will still use antialiasing). This also applies if you are using the inference transforms from the models weights: update the call to weights.transforms(antialias=True).\n",
            "  warnings.warn(\n",
            "/usr/local/lib/python3.10/dist-packages/torchvision/transforms/functional.py:1603: UserWarning: The default value of the antialias parameter of all the resizing transforms (Resize(), RandomResizedCrop(), etc.) will change from None to True in v0.17, in order to be consistent across the PIL and Tensor backends. To suppress this warning, directly pass antialias=True (recommended, future default), antialias=None (current default, which means False for Tensors and True for PIL), or antialias=False (only works on Tensors - PIL will still use antialiasing). This also applies if you are using the inference transforms from the models weights: update the call to weights.transforms(antialias=True).\n",
            "  warnings.warn(\n",
            "/usr/local/lib/python3.10/dist-packages/torchvision/transforms/functional.py:1603: UserWarning: The default value of the antialias parameter of all the resizing transforms (Resize(), RandomResizedCrop(), etc.) will change from None to True in v0.17, in order to be consistent across the PIL and Tensor backends. To suppress this warning, directly pass antialias=True (recommended, future default), antialias=None (current default, which means False for Tensors and True for PIL), or antialias=False (only works on Tensors - PIL will still use antialiasing). This also applies if you are using the inference transforms from the models weights: update the call to weights.transforms(antialias=True).\n",
            "  warnings.warn(\n"
          ]
        },
        {
          "output_type": "stream",
          "name": "stdout",
          "text": [
            "[09:10:55.870257] Test:  [0/5]  eta: 0:00:06  loss: 2.7068 (2.7068)  acc1: 40.6250 (40.6250)  acc5: 59.3750 (59.3750)  time: 1.3833  data: 1.1845  max mem: 4877\n",
            "[09:10:56.375920] Test:  [4/5]  eta: 0:00:00  loss: 2.7068 (2.9507)  acc1: 40.6250 (34.0278)  acc5: 59.3750 (56.2500)  time: 0.3772  data: 0.2373  max mem: 4877\n",
            "[09:10:56.514428] Test: Total time: 0:00:02 (0.4059 s / it)\n",
            "[09:10:56.514766] * Acc@1 34.028 Acc@5 56.250 loss 2.951\n",
            "[09:10:56.517168] Accuracy of the network on the 144 test images: 34.0%\n",
            "[09:10:56.517255] Max accuracy: 38.89%\n",
            "[09:10:56.525771] log_dir: /content/gdrive/MyDrive/Colab_Notebooks/Modal/logs/vit_base_patch16/2023_05_31__09_03_21\n"
          ]
        },
        {
          "output_type": "stream",
          "name": "stderr",
          "text": [
            "Training Epoch 25: 1it [00:02,  2.14s/it]"
          ]
        },
        {
          "output_type": "stream",
          "name": "stdout",
          "text": [
            "[09:10:58.692257] Epoch: [25]  [ 0/18]  eta: 0:00:38  lr: 0.000175  loss: 1.5333 (1.5333)  time: 2.1607  data: 1.6588  max mem: 4877\n"
          ]
        },
        {
          "output_type": "stream",
          "name": "stderr",
          "text": [
            "Training Epoch 25: 18it [00:09,  1.95it/s]\n"
          ]
        },
        {
          "output_type": "stream",
          "name": "stdout",
          "text": [
            "[09:11:05.625508] Epoch: [25]  [17/18]  eta: 0:00:00  lr: 0.000174  loss: 1.4296 (1.4594)  time: 0.5046  data: 0.0934  max mem: 4877\n",
            "[09:11:05.752605] Epoch: [25] Total time: 0:00:09 (0.5123 s / it)\n",
            "[09:11:05.754400] Averaged stats: lr: 0.000174  loss: 1.4296 (1.4594)\n"
          ]
        },
        {
          "output_type": "stream",
          "name": "stderr",
          "text": [
            "/usr/local/lib/python3.10/dist-packages/torchvision/transforms/functional.py:1603: UserWarning: The default value of the antialias parameter of all the resizing transforms (Resize(), RandomResizedCrop(), etc.) will change from None to True in v0.17, in order to be consistent across the PIL and Tensor backends. To suppress this warning, directly pass antialias=True (recommended, future default), antialias=None (current default, which means False for Tensors and True for PIL), or antialias=False (only works on Tensors - PIL will still use antialiasing). This also applies if you are using the inference transforms from the models weights: update the call to weights.transforms(antialias=True).\n",
            "  warnings.warn(\n",
            "/usr/local/lib/python3.10/dist-packages/torchvision/transforms/functional.py:1603: UserWarning: The default value of the antialias parameter of all the resizing transforms (Resize(), RandomResizedCrop(), etc.) will change from None to True in v0.17, in order to be consistent across the PIL and Tensor backends. To suppress this warning, directly pass antialias=True (recommended, future default), antialias=None (current default, which means False for Tensors and True for PIL), or antialias=False (only works on Tensors - PIL will still use antialiasing). This also applies if you are using the inference transforms from the models weights: update the call to weights.transforms(antialias=True).\n",
            "  warnings.warn(\n",
            "/usr/local/lib/python3.10/dist-packages/torchvision/transforms/functional.py:1603: UserWarning: The default value of the antialias parameter of all the resizing transforms (Resize(), RandomResizedCrop(), etc.) will change from None to True in v0.17, in order to be consistent across the PIL and Tensor backends. To suppress this warning, directly pass antialias=True (recommended, future default), antialias=None (current default, which means False for Tensors and True for PIL), or antialias=False (only works on Tensors - PIL will still use antialiasing). This also applies if you are using the inference transforms from the models weights: update the call to weights.transforms(antialias=True).\n",
            "  warnings.warn(\n",
            "/usr/local/lib/python3.10/dist-packages/torchvision/transforms/functional.py:1603: UserWarning: The default value of the antialias parameter of all the resizing transforms (Resize(), RandomResizedCrop(), etc.) will change from None to True in v0.17, in order to be consistent across the PIL and Tensor backends. To suppress this warning, directly pass antialias=True (recommended, future default), antialias=None (current default, which means False for Tensors and True for PIL), or antialias=False (only works on Tensors - PIL will still use antialiasing). This also applies if you are using the inference transforms from the models weights: update the call to weights.transforms(antialias=True).\n",
            "  warnings.warn(\n",
            "/usr/local/lib/python3.10/dist-packages/torchvision/transforms/functional.py:1603: UserWarning: The default value of the antialias parameter of all the resizing transforms (Resize(), RandomResizedCrop(), etc.) will change from None to True in v0.17, in order to be consistent across the PIL and Tensor backends. To suppress this warning, directly pass antialias=True (recommended, future default), antialias=None (current default, which means False for Tensors and True for PIL), or antialias=False (only works on Tensors - PIL will still use antialiasing). This also applies if you are using the inference transforms from the models weights: update the call to weights.transforms(antialias=True).\n",
            "  warnings.warn(\n"
          ]
        },
        {
          "output_type": "stream",
          "name": "stdout",
          "text": [
            "[09:11:10.467629] Test:  [0/5]  eta: 0:00:06  loss: 2.6482 (2.6482)  acc1: 40.6250 (40.6250)  acc5: 65.6250 (65.6250)  time: 1.2438  data: 1.0293  max mem: 4877\n",
            "[09:11:10.957098] Test:  [4/5]  eta: 0:00:00  loss: 2.6837 (2.8933)  acc1: 34.3750 (37.5000)  acc5: 62.5000 (59.7222)  time: 0.3464  data: 0.2061  max mem: 4877\n",
            "[09:11:11.073358] Test: Total time: 0:00:01 (0.3706 s / it)\n",
            "[09:11:11.073567] * Acc@1 37.500 Acc@5 59.722 loss 2.893\n",
            "[09:11:11.075356] Accuracy of the network on the 144 test images: 37.5%\n",
            "[09:11:11.075456] Max accuracy: 38.89%\n",
            "[09:11:11.082917] log_dir: /content/gdrive/MyDrive/Colab_Notebooks/Modal/logs/vit_base_patch16/2023_05_31__09_03_21\n"
          ]
        },
        {
          "output_type": "stream",
          "name": "stderr",
          "text": [
            "Training Epoch 26: 1it [00:02,  2.34s/it]"
          ]
        },
        {
          "output_type": "stream",
          "name": "stdout",
          "text": [
            "[09:11:13.448837] Epoch: [26]  [ 0/18]  eta: 0:00:42  lr: 0.000173  loss: 0.7645 (0.7645)  time: 2.3604  data: 1.8904  max mem: 4877\n"
          ]
        },
        {
          "output_type": "stream",
          "name": "stderr",
          "text": [
            "Training Epoch 26: 18it [00:09,  1.91it/s]\n"
          ]
        },
        {
          "output_type": "stream",
          "name": "stdout",
          "text": [
            "[09:11:20.393388] Epoch: [26]  [17/18]  eta: 0:00:00  lr: 0.000172  loss: 1.6623 (1.7153)  time: 0.5163  data: 0.1053  max mem: 4877\n",
            "[09:11:20.525864] Epoch: [26] Total time: 0:00:09 (0.5244 s / it)\n",
            "[09:11:20.529702] Averaged stats: lr: 0.000172  loss: 1.6623 (1.7153)\n"
          ]
        },
        {
          "output_type": "stream",
          "name": "stderr",
          "text": [
            "/usr/local/lib/python3.10/dist-packages/torchvision/transforms/functional.py:1603: UserWarning: The default value of the antialias parameter of all the resizing transforms (Resize(), RandomResizedCrop(), etc.) will change from None to True in v0.17, in order to be consistent across the PIL and Tensor backends. To suppress this warning, directly pass antialias=True (recommended, future default), antialias=None (current default, which means False for Tensors and True for PIL), or antialias=False (only works on Tensors - PIL will still use antialiasing). This also applies if you are using the inference transforms from the models weights: update the call to weights.transforms(antialias=True).\n",
            "  warnings.warn(\n",
            "/usr/local/lib/python3.10/dist-packages/torchvision/transforms/functional.py:1603: UserWarning: The default value of the antialias parameter of all the resizing transforms (Resize(), RandomResizedCrop(), etc.) will change from None to True in v0.17, in order to be consistent across the PIL and Tensor backends. To suppress this warning, directly pass antialias=True (recommended, future default), antialias=None (current default, which means False for Tensors and True for PIL), or antialias=False (only works on Tensors - PIL will still use antialiasing). This also applies if you are using the inference transforms from the models weights: update the call to weights.transforms(antialias=True).\n",
            "  warnings.warn(\n",
            "/usr/local/lib/python3.10/dist-packages/torchvision/transforms/functional.py:1603: UserWarning: The default value of the antialias parameter of all the resizing transforms (Resize(), RandomResizedCrop(), etc.) will change from None to True in v0.17, in order to be consistent across the PIL and Tensor backends. To suppress this warning, directly pass antialias=True (recommended, future default), antialias=None (current default, which means False for Tensors and True for PIL), or antialias=False (only works on Tensors - PIL will still use antialiasing). This also applies if you are using the inference transforms from the models weights: update the call to weights.transforms(antialias=True).\n",
            "  warnings.warn(\n",
            "/usr/local/lib/python3.10/dist-packages/torchvision/transforms/functional.py:1603: UserWarning: The default value of the antialias parameter of all the resizing transforms (Resize(), RandomResizedCrop(), etc.) will change from None to True in v0.17, in order to be consistent across the PIL and Tensor backends. To suppress this warning, directly pass antialias=True (recommended, future default), antialias=None (current default, which means False for Tensors and True for PIL), or antialias=False (only works on Tensors - PIL will still use antialiasing). This also applies if you are using the inference transforms from the models weights: update the call to weights.transforms(antialias=True).\n",
            "  warnings.warn(\n",
            "/usr/local/lib/python3.10/dist-packages/torchvision/transforms/functional.py:1603: UserWarning: The default value of the antialias parameter of all the resizing transforms (Resize(), RandomResizedCrop(), etc.) will change from None to True in v0.17, in order to be consistent across the PIL and Tensor backends. To suppress this warning, directly pass antialias=True (recommended, future default), antialias=None (current default, which means False for Tensors and True for PIL), or antialias=False (only works on Tensors - PIL will still use antialiasing). This also applies if you are using the inference transforms from the models weights: update the call to weights.transforms(antialias=True).\n",
            "  warnings.warn(\n"
          ]
        },
        {
          "output_type": "stream",
          "name": "stdout",
          "text": [
            "[09:11:25.316220] Test:  [0/5]  eta: 0:00:06  loss: 2.5897 (2.5897)  acc1: 40.6250 (40.6250)  acc5: 65.6250 (65.6250)  time: 1.3519  data: 1.1469  max mem: 4877\n",
            "[09:11:25.826690] Test:  [4/5]  eta: 0:00:00  loss: 2.5897 (2.8792)  acc1: 37.5000 (38.8889)  acc5: 59.3750 (58.3333)  time: 0.3722  data: 0.2296  max mem: 4877\n",
            "[09:11:25.955401] Test: Total time: 0:00:01 (0.3987 s / it)\n",
            "[09:11:25.955583] * Acc@1 38.889 Acc@5 58.333 loss 2.879\n",
            "[09:11:25.957561] Accuracy of the network on the 144 test images: 38.9%\n",
            "[09:11:25.957643] Max accuracy: 38.89%\n",
            "[09:11:25.965402] log_dir: /content/gdrive/MyDrive/Colab_Notebooks/Modal/logs/vit_base_patch16/2023_05_31__09_03_21\n"
          ]
        },
        {
          "output_type": "stream",
          "name": "stderr",
          "text": [
            "Training Epoch 27: 1it [00:02,  2.51s/it]"
          ]
        },
        {
          "output_type": "stream",
          "name": "stdout",
          "text": [
            "[09:11:28.492817] Epoch: [27]  [ 0/18]  eta: 0:00:45  lr: 0.000172  loss: 1.6051 (1.6051)  time: 2.5199  data: 2.0521  max mem: 4877\n"
          ]
        },
        {
          "output_type": "stream",
          "name": "stderr",
          "text": [
            "Training Epoch 27: 18it [00:09,  1.87it/s]\n"
          ]
        },
        {
          "output_type": "stream",
          "name": "stdout",
          "text": [
            "[09:11:35.427766] Epoch: [27]  [17/18]  eta: 0:00:00  lr: 0.000170  loss: 1.6673 (1.6536)  time: 0.5252  data: 0.1147  max mem: 4877\n",
            "[09:11:35.573429] Epoch: [27] Total time: 0:00:09 (0.5334 s / it)\n",
            "[09:11:35.580062] Averaged stats: lr: 0.000170  loss: 1.6673 (1.6536)\n"
          ]
        },
        {
          "output_type": "stream",
          "name": "stderr",
          "text": [
            "/usr/local/lib/python3.10/dist-packages/torchvision/transforms/functional.py:1603: UserWarning: The default value of the antialias parameter of all the resizing transforms (Resize(), RandomResizedCrop(), etc.) will change from None to True in v0.17, in order to be consistent across the PIL and Tensor backends. To suppress this warning, directly pass antialias=True (recommended, future default), antialias=None (current default, which means False for Tensors and True for PIL), or antialias=False (only works on Tensors - PIL will still use antialiasing). This also applies if you are using the inference transforms from the models weights: update the call to weights.transforms(antialias=True).\n",
            "  warnings.warn(\n",
            "/usr/local/lib/python3.10/dist-packages/torchvision/transforms/functional.py:1603: UserWarning: The default value of the antialias parameter of all the resizing transforms (Resize(), RandomResizedCrop(), etc.) will change from None to True in v0.17, in order to be consistent across the PIL and Tensor backends. To suppress this warning, directly pass antialias=True (recommended, future default), antialias=None (current default, which means False for Tensors and True for PIL), or antialias=False (only works on Tensors - PIL will still use antialiasing). This also applies if you are using the inference transforms from the models weights: update the call to weights.transforms(antialias=True).\n",
            "  warnings.warn(\n",
            "/usr/local/lib/python3.10/dist-packages/torchvision/transforms/functional.py:1603: UserWarning: The default value of the antialias parameter of all the resizing transforms (Resize(), RandomResizedCrop(), etc.) will change from None to True in v0.17, in order to be consistent across the PIL and Tensor backends. To suppress this warning, directly pass antialias=True (recommended, future default), antialias=None (current default, which means False for Tensors and True for PIL), or antialias=False (only works on Tensors - PIL will still use antialiasing). This also applies if you are using the inference transforms from the models weights: update the call to weights.transforms(antialias=True).\n",
            "  warnings.warn(\n",
            "/usr/local/lib/python3.10/dist-packages/torchvision/transforms/functional.py:1603: UserWarning: The default value of the antialias parameter of all the resizing transforms (Resize(), RandomResizedCrop(), etc.) will change from None to True in v0.17, in order to be consistent across the PIL and Tensor backends. To suppress this warning, directly pass antialias=True (recommended, future default), antialias=None (current default, which means False for Tensors and True for PIL), or antialias=False (only works on Tensors - PIL will still use antialiasing). This also applies if you are using the inference transforms from the models weights: update the call to weights.transforms(antialias=True).\n",
            "  warnings.warn(\n",
            "/usr/local/lib/python3.10/dist-packages/torchvision/transforms/functional.py:1603: UserWarning: The default value of the antialias parameter of all the resizing transforms (Resize(), RandomResizedCrop(), etc.) will change from None to True in v0.17, in order to be consistent across the PIL and Tensor backends. To suppress this warning, directly pass antialias=True (recommended, future default), antialias=None (current default, which means False for Tensors and True for PIL), or antialias=False (only works on Tensors - PIL will still use antialiasing). This also applies if you are using the inference transforms from the models weights: update the call to weights.transforms(antialias=True).\n",
            "  warnings.warn(\n"
          ]
        },
        {
          "output_type": "stream",
          "name": "stdout",
          "text": [
            "[09:11:40.744946] Test:  [0/5]  eta: 0:00:07  loss: 2.5328 (2.5328)  acc1: 46.8750 (46.8750)  acc5: 75.0000 (75.0000)  time: 1.5721  data: 1.3700  max mem: 4877\n",
            "[09:11:41.223294] Test:  [4/5]  eta: 0:00:00  loss: 2.5981 (2.8894)  acc1: 37.5000 (36.8056)  acc5: 56.2500 (60.4167)  time: 0.4097  data: 0.2745  max mem: 4877\n",
            "[09:11:41.353887] Test: Total time: 0:00:02 (0.4367 s / it)\n",
            "[09:11:41.354042] * Acc@1 36.806 Acc@5 60.417 loss 2.889\n",
            "[09:11:41.355773] Accuracy of the network on the 144 test images: 36.8%\n",
            "[09:11:41.355874] Max accuracy: 38.89%\n",
            "[09:11:41.363325] log_dir: /content/gdrive/MyDrive/Colab_Notebooks/Modal/logs/vit_base_patch16/2023_05_31__09_03_21\n"
          ]
        },
        {
          "output_type": "stream",
          "name": "stderr",
          "text": [
            "Training Epoch 28: 1it [00:02,  2.40s/it]"
          ]
        },
        {
          "output_type": "stream",
          "name": "stdout",
          "text": [
            "[09:11:43.775521] Epoch: [28]  [ 0/18]  eta: 0:00:43  lr: 0.000170  loss: 2.0405 (2.0405)  time: 2.4057  data: 1.9373  max mem: 4877\n"
          ]
        },
        {
          "output_type": "stream",
          "name": "stderr",
          "text": [
            "Training Epoch 28: 18it [00:09,  1.89it/s]\n"
          ]
        },
        {
          "output_type": "stream",
          "name": "stdout",
          "text": [
            "[09:11:50.723259] Epoch: [28]  [17/18]  eta: 0:00:00  lr: 0.000168  loss: 1.7788 (1.7856)  time: 0.5194  data: 0.1082  max mem: 4877\n",
            "[09:11:50.873711] Epoch: [28] Total time: 0:00:09 (0.5281 s / it)\n",
            "[09:11:50.875727] Averaged stats: lr: 0.000168  loss: 1.7788 (1.7856)\n"
          ]
        },
        {
          "output_type": "stream",
          "name": "stderr",
          "text": [
            "/usr/local/lib/python3.10/dist-packages/torchvision/transforms/functional.py:1603: UserWarning: The default value of the antialias parameter of all the resizing transforms (Resize(), RandomResizedCrop(), etc.) will change from None to True in v0.17, in order to be consistent across the PIL and Tensor backends. To suppress this warning, directly pass antialias=True (recommended, future default), antialias=None (current default, which means False for Tensors and True for PIL), or antialias=False (only works on Tensors - PIL will still use antialiasing). This also applies if you are using the inference transforms from the models weights: update the call to weights.transforms(antialias=True).\n",
            "  warnings.warn(\n",
            "/usr/local/lib/python3.10/dist-packages/torchvision/transforms/functional.py:1603: UserWarning: The default value of the antialias parameter of all the resizing transforms (Resize(), RandomResizedCrop(), etc.) will change from None to True in v0.17, in order to be consistent across the PIL and Tensor backends. To suppress this warning, directly pass antialias=True (recommended, future default), antialias=None (current default, which means False for Tensors and True for PIL), or antialias=False (only works on Tensors - PIL will still use antialiasing). This also applies if you are using the inference transforms from the models weights: update the call to weights.transforms(antialias=True).\n",
            "  warnings.warn(\n",
            "/usr/local/lib/python3.10/dist-packages/torchvision/transforms/functional.py:1603: UserWarning: The default value of the antialias parameter of all the resizing transforms (Resize(), RandomResizedCrop(), etc.) will change from None to True in v0.17, in order to be consistent across the PIL and Tensor backends. To suppress this warning, directly pass antialias=True (recommended, future default), antialias=None (current default, which means False for Tensors and True for PIL), or antialias=False (only works on Tensors - PIL will still use antialiasing). This also applies if you are using the inference transforms from the models weights: update the call to weights.transforms(antialias=True).\n",
            "  warnings.warn(\n",
            "/usr/local/lib/python3.10/dist-packages/torchvision/transforms/functional.py:1603: UserWarning: The default value of the antialias parameter of all the resizing transforms (Resize(), RandomResizedCrop(), etc.) will change from None to True in v0.17, in order to be consistent across the PIL and Tensor backends. To suppress this warning, directly pass antialias=True (recommended, future default), antialias=None (current default, which means False for Tensors and True for PIL), or antialias=False (only works on Tensors - PIL will still use antialiasing). This also applies if you are using the inference transforms from the models weights: update the call to weights.transforms(antialias=True).\n",
            "  warnings.warn(\n",
            "/usr/local/lib/python3.10/dist-packages/torchvision/transforms/functional.py:1603: UserWarning: The default value of the antialias parameter of all the resizing transforms (Resize(), RandomResizedCrop(), etc.) will change from None to True in v0.17, in order to be consistent across the PIL and Tensor backends. To suppress this warning, directly pass antialias=True (recommended, future default), antialias=None (current default, which means False for Tensors and True for PIL), or antialias=False (only works on Tensors - PIL will still use antialiasing). This also applies if you are using the inference transforms from the models weights: update the call to weights.transforms(antialias=True).\n",
            "  warnings.warn(\n"
          ]
        },
        {
          "output_type": "stream",
          "name": "stdout",
          "text": [
            "[09:11:55.902229] Test:  [0/5]  eta: 0:00:06  loss: 2.5522 (2.5522)  acc1: 46.8750 (46.8750)  acc5: 68.7500 (68.7500)  time: 1.3527  data: 1.1629  max mem: 4877\n",
            "[09:11:56.401603] Test:  [4/5]  eta: 0:00:00  loss: 2.7374 (2.8910)  acc1: 34.3750 (37.5000)  acc5: 59.3750 (59.7222)  time: 0.3701  data: 0.2328  max mem: 4877\n",
            "[09:11:56.530264] Test: Total time: 0:00:01 (0.3965 s / it)\n",
            "[09:11:56.530456] * Acc@1 37.500 Acc@5 59.722 loss 2.891\n",
            "[09:11:56.532507] Accuracy of the network on the 144 test images: 37.5%\n",
            "[09:11:56.532607] Max accuracy: 38.89%\n",
            "[09:11:56.540950] log_dir: /content/gdrive/MyDrive/Colab_Notebooks/Modal/logs/vit_base_patch16/2023_05_31__09_03_21\n"
          ]
        },
        {
          "output_type": "stream",
          "name": "stderr",
          "text": [
            "Training Epoch 29: 1it [00:02,  2.35s/it]"
          ]
        },
        {
          "output_type": "stream",
          "name": "stdout",
          "text": [
            "[09:11:58.905078] Epoch: [29]  [ 0/18]  eta: 0:00:42  lr: 0.000168  loss: 1.7673 (1.7673)  time: 2.3593  data: 1.8846  max mem: 4877\n"
          ]
        },
        {
          "output_type": "stream",
          "name": "stderr",
          "text": [
            "Training Epoch 29: 18it [00:09,  1.90it/s]\n"
          ]
        },
        {
          "output_type": "stream",
          "name": "stdout",
          "text": [
            "[09:12:05.873383] Epoch: [29]  [17/18]  eta: 0:00:00  lr: 0.000166  loss: 1.7327 (1.5919)  time: 0.5178  data: 0.1064  max mem: 4877\n",
            "[09:12:06.009841] Epoch: [29] Total time: 0:00:09 (0.5258 s / it)\n",
            "[09:12:06.013284] Averaged stats: lr: 0.000166  loss: 1.7327 (1.5919)\n"
          ]
        },
        {
          "output_type": "stream",
          "name": "stderr",
          "text": [
            "/usr/local/lib/python3.10/dist-packages/torchvision/transforms/functional.py:1603: UserWarning: The default value of the antialias parameter of all the resizing transforms (Resize(), RandomResizedCrop(), etc.) will change from None to True in v0.17, in order to be consistent across the PIL and Tensor backends. To suppress this warning, directly pass antialias=True (recommended, future default), antialias=None (current default, which means False for Tensors and True for PIL), or antialias=False (only works on Tensors - PIL will still use antialiasing). This also applies if you are using the inference transforms from the models weights: update the call to weights.transforms(antialias=True).\n",
            "  warnings.warn(\n",
            "/usr/local/lib/python3.10/dist-packages/torchvision/transforms/functional.py:1603: UserWarning: The default value of the antialias parameter of all the resizing transforms (Resize(), RandomResizedCrop(), etc.) will change from None to True in v0.17, in order to be consistent across the PIL and Tensor backends. To suppress this warning, directly pass antialias=True (recommended, future default), antialias=None (current default, which means False for Tensors and True for PIL), or antialias=False (only works on Tensors - PIL will still use antialiasing). This also applies if you are using the inference transforms from the models weights: update the call to weights.transforms(antialias=True).\n",
            "  warnings.warn(\n",
            "/usr/local/lib/python3.10/dist-packages/torchvision/transforms/functional.py:1603: UserWarning: The default value of the antialias parameter of all the resizing transforms (Resize(), RandomResizedCrop(), etc.) will change from None to True in v0.17, in order to be consistent across the PIL and Tensor backends. To suppress this warning, directly pass antialias=True (recommended, future default), antialias=None (current default, which means False for Tensors and True for PIL), or antialias=False (only works on Tensors - PIL will still use antialiasing). This also applies if you are using the inference transforms from the models weights: update the call to weights.transforms(antialias=True).\n",
            "  warnings.warn(\n",
            "/usr/local/lib/python3.10/dist-packages/torchvision/transforms/functional.py:1603: UserWarning: The default value of the antialias parameter of all the resizing transforms (Resize(), RandomResizedCrop(), etc.) will change from None to True in v0.17, in order to be consistent across the PIL and Tensor backends. To suppress this warning, directly pass antialias=True (recommended, future default), antialias=None (current default, which means False for Tensors and True for PIL), or antialias=False (only works on Tensors - PIL will still use antialiasing). This also applies if you are using the inference transforms from the models weights: update the call to weights.transforms(antialias=True).\n",
            "  warnings.warn(\n",
            "/usr/local/lib/python3.10/dist-packages/torchvision/transforms/functional.py:1603: UserWarning: The default value of the antialias parameter of all the resizing transforms (Resize(), RandomResizedCrop(), etc.) will change from None to True in v0.17, in order to be consistent across the PIL and Tensor backends. To suppress this warning, directly pass antialias=True (recommended, future default), antialias=None (current default, which means False for Tensors and True for PIL), or antialias=False (only works on Tensors - PIL will still use antialiasing). This also applies if you are using the inference transforms from the models weights: update the call to weights.transforms(antialias=True).\n",
            "  warnings.warn(\n"
          ]
        },
        {
          "output_type": "stream",
          "name": "stdout",
          "text": [
            "[09:12:10.592170] Test:  [0/5]  eta: 0:00:05  loss: 2.4366 (2.4366)  acc1: 46.8750 (46.8750)  acc5: 68.7500 (68.7500)  time: 1.1519  data: 0.9629  max mem: 4877\n",
            "[09:12:11.080821] Test:  [4/5]  eta: 0:00:00  loss: 2.6155 (2.8426)  acc1: 37.5000 (36.8056)  acc5: 65.6250 (61.8056)  time: 0.3279  data: 0.1927  max mem: 4877\n",
            "[09:12:11.193316] Test: Total time: 0:00:01 (0.3513 s / it)\n",
            "[09:12:11.193549] * Acc@1 36.806 Acc@5 61.806 loss 2.843\n",
            "[09:12:11.195165] Accuracy of the network on the 144 test images: 36.8%\n",
            "[09:12:11.195261] Max accuracy: 38.89%\n",
            "[09:12:11.201880] log_dir: /content/gdrive/MyDrive/Colab_Notebooks/Modal/logs/vit_base_patch16/2023_05_31__09_03_21\n"
          ]
        },
        {
          "output_type": "stream",
          "name": "stderr",
          "text": [
            "Training Epoch 30: 1it [00:02,  2.09s/it]"
          ]
        },
        {
          "output_type": "stream",
          "name": "stdout",
          "text": [
            "[09:12:13.305653] Epoch: [30]  [ 0/18]  eta: 0:00:37  lr: 0.000166  loss: 1.8652 (1.8652)  time: 2.0994  data: 1.6671  max mem: 4877\n"
          ]
        },
        {
          "output_type": "stream",
          "name": "stderr",
          "text": [
            "Training Epoch 30: 18it [00:09,  1.97it/s]\n"
          ]
        },
        {
          "output_type": "stream",
          "name": "stdout",
          "text": [
            "[09:12:20.202777] Epoch: [30]  [17/18]  eta: 0:00:00  lr: 0.000164  loss: 1.8278 (1.7670)  time: 0.4993  data: 0.0929  max mem: 4877\n",
            "[09:12:20.346127] Epoch: [30] Total time: 0:00:09 (0.5078 s / it)\n",
            "[09:12:20.350438] Averaged stats: lr: 0.000164  loss: 1.8278 (1.7670)\n"
          ]
        },
        {
          "output_type": "stream",
          "name": "stderr",
          "text": [
            "/usr/local/lib/python3.10/dist-packages/torchvision/transforms/functional.py:1603: UserWarning: The default value of the antialias parameter of all the resizing transforms (Resize(), RandomResizedCrop(), etc.) will change from None to True in v0.17, in order to be consistent across the PIL and Tensor backends. To suppress this warning, directly pass antialias=True (recommended, future default), antialias=None (current default, which means False for Tensors and True for PIL), or antialias=False (only works on Tensors - PIL will still use antialiasing). This also applies if you are using the inference transforms from the models weights: update the call to weights.transforms(antialias=True).\n",
            "  warnings.warn(\n",
            "/usr/local/lib/python3.10/dist-packages/torchvision/transforms/functional.py:1603: UserWarning: The default value of the antialias parameter of all the resizing transforms (Resize(), RandomResizedCrop(), etc.) will change from None to True in v0.17, in order to be consistent across the PIL and Tensor backends. To suppress this warning, directly pass antialias=True (recommended, future default), antialias=None (current default, which means False for Tensors and True for PIL), or antialias=False (only works on Tensors - PIL will still use antialiasing). This also applies if you are using the inference transforms from the models weights: update the call to weights.transforms(antialias=True).\n",
            "  warnings.warn(\n",
            "/usr/local/lib/python3.10/dist-packages/torchvision/transforms/functional.py:1603: UserWarning: The default value of the antialias parameter of all the resizing transforms (Resize(), RandomResizedCrop(), etc.) will change from None to True in v0.17, in order to be consistent across the PIL and Tensor backends. To suppress this warning, directly pass antialias=True (recommended, future default), antialias=None (current default, which means False for Tensors and True for PIL), or antialias=False (only works on Tensors - PIL will still use antialiasing). This also applies if you are using the inference transforms from the models weights: update the call to weights.transforms(antialias=True).\n",
            "  warnings.warn(\n",
            "/usr/local/lib/python3.10/dist-packages/torchvision/transforms/functional.py:1603: UserWarning: The default value of the antialias parameter of all the resizing transforms (Resize(), RandomResizedCrop(), etc.) will change from None to True in v0.17, in order to be consistent across the PIL and Tensor backends. To suppress this warning, directly pass antialias=True (recommended, future default), antialias=None (current default, which means False for Tensors and True for PIL), or antialias=False (only works on Tensors - PIL will still use antialiasing). This also applies if you are using the inference transforms from the models weights: update the call to weights.transforms(antialias=True).\n",
            "  warnings.warn(\n",
            "/usr/local/lib/python3.10/dist-packages/torchvision/transforms/functional.py:1603: UserWarning: The default value of the antialias parameter of all the resizing transforms (Resize(), RandomResizedCrop(), etc.) will change from None to True in v0.17, in order to be consistent across the PIL and Tensor backends. To suppress this warning, directly pass antialias=True (recommended, future default), antialias=None (current default, which means False for Tensors and True for PIL), or antialias=False (only works on Tensors - PIL will still use antialiasing). This also applies if you are using the inference transforms from the models weights: update the call to weights.transforms(antialias=True).\n",
            "  warnings.warn(\n"
          ]
        },
        {
          "output_type": "stream",
          "name": "stdout",
          "text": [
            "[09:12:25.190466] Test:  [0/5]  eta: 0:00:04  loss: 2.3878 (2.3878)  acc1: 53.1250 (53.1250)  acc5: 75.0000 (75.0000)  time: 0.9774  data: 0.7637  max mem: 4877\n",
            "[09:12:25.692296] Test:  [4/5]  eta: 0:00:00  loss: 2.7484 (2.8671)  acc1: 34.3750 (36.1111)  acc5: 59.3750 (59.7222)  time: 0.2954  data: 0.1529  max mem: 4877\n",
            "[09:12:25.794983] Test: Total time: 0:00:01 (0.3166 s / it)\n",
            "[09:12:25.795154] * Acc@1 36.111 Acc@5 59.722 loss 2.867\n",
            "[09:12:25.796276] Accuracy of the network on the 144 test images: 36.1%\n",
            "[09:12:25.796339] Max accuracy: 38.89%\n",
            "[09:12:25.802158] log_dir: /content/gdrive/MyDrive/Colab_Notebooks/Modal/logs/vit_base_patch16/2023_05_31__09_03_21\n"
          ]
        },
        {
          "output_type": "stream",
          "name": "stderr",
          "text": [
            "Training Epoch 31: 1it [00:01,  1.81s/it]"
          ]
        },
        {
          "output_type": "stream",
          "name": "stdout",
          "text": [
            "[09:12:27.620223] Epoch: [31]  [ 0/18]  eta: 0:00:32  lr: 0.000164  loss: 2.2095 (2.2095)  time: 1.8129  data: 1.4216  max mem: 4877\n"
          ]
        },
        {
          "output_type": "stream",
          "name": "stderr",
          "text": [
            "Training Epoch 31: 18it [00:08,  2.05it/s]\n"
          ]
        },
        {
          "output_type": "stream",
          "name": "stdout",
          "text": [
            "[09:12:34.463685] Epoch: [31]  [17/18]  eta: 0:00:00  lr: 0.000162  loss: 1.7565 (1.7055)  time: 0.4808  data: 0.0793  max mem: 4877\n",
            "[09:12:34.587464] Epoch: [31] Total time: 0:00:08 (0.4878 s / it)\n",
            "[09:12:34.590702] Averaged stats: lr: 0.000162  loss: 1.7565 (1.7055)\n"
          ]
        },
        {
          "output_type": "stream",
          "name": "stderr",
          "text": [
            "/usr/local/lib/python3.10/dist-packages/torchvision/transforms/functional.py:1603: UserWarning: The default value of the antialias parameter of all the resizing transforms (Resize(), RandomResizedCrop(), etc.) will change from None to True in v0.17, in order to be consistent across the PIL and Tensor backends. To suppress this warning, directly pass antialias=True (recommended, future default), antialias=None (current default, which means False for Tensors and True for PIL), or antialias=False (only works on Tensors - PIL will still use antialiasing). This also applies if you are using the inference transforms from the models weights: update the call to weights.transforms(antialias=True).\n",
            "  warnings.warn(\n",
            "/usr/local/lib/python3.10/dist-packages/torchvision/transforms/functional.py:1603: UserWarning: The default value of the antialias parameter of all the resizing transforms (Resize(), RandomResizedCrop(), etc.) will change from None to True in v0.17, in order to be consistent across the PIL and Tensor backends. To suppress this warning, directly pass antialias=True (recommended, future default), antialias=None (current default, which means False for Tensors and True for PIL), or antialias=False (only works on Tensors - PIL will still use antialiasing). This also applies if you are using the inference transforms from the models weights: update the call to weights.transforms(antialias=True).\n",
            "  warnings.warn(\n",
            "/usr/local/lib/python3.10/dist-packages/torchvision/transforms/functional.py:1603: UserWarning: The default value of the antialias parameter of all the resizing transforms (Resize(), RandomResizedCrop(), etc.) will change from None to True in v0.17, in order to be consistent across the PIL and Tensor backends. To suppress this warning, directly pass antialias=True (recommended, future default), antialias=None (current default, which means False for Tensors and True for PIL), or antialias=False (only works on Tensors - PIL will still use antialiasing). This also applies if you are using the inference transforms from the models weights: update the call to weights.transforms(antialias=True).\n",
            "  warnings.warn(\n",
            "/usr/local/lib/python3.10/dist-packages/torchvision/transforms/functional.py:1603: UserWarning: The default value of the antialias parameter of all the resizing transforms (Resize(), RandomResizedCrop(), etc.) will change from None to True in v0.17, in order to be consistent across the PIL and Tensor backends. To suppress this warning, directly pass antialias=True (recommended, future default), antialias=None (current default, which means False for Tensors and True for PIL), or antialias=False (only works on Tensors - PIL will still use antialiasing). This also applies if you are using the inference transforms from the models weights: update the call to weights.transforms(antialias=True).\n",
            "  warnings.warn(\n",
            "/usr/local/lib/python3.10/dist-packages/torchvision/transforms/functional.py:1603: UserWarning: The default value of the antialias parameter of all the resizing transforms (Resize(), RandomResizedCrop(), etc.) will change from None to True in v0.17, in order to be consistent across the PIL and Tensor backends. To suppress this warning, directly pass antialias=True (recommended, future default), antialias=None (current default, which means False for Tensors and True for PIL), or antialias=False (only works on Tensors - PIL will still use antialiasing). This also applies if you are using the inference transforms from the models weights: update the call to weights.transforms(antialias=True).\n",
            "  warnings.warn(\n"
          ]
        },
        {
          "output_type": "stream",
          "name": "stdout",
          "text": [
            "[09:12:39.389212] Test:  [0/5]  eta: 0:00:04  loss: 2.4254 (2.4254)  acc1: 43.7500 (43.7500)  acc5: 68.7500 (68.7500)  time: 0.9765  data: 0.7770  max mem: 4877\n",
            "[09:12:39.873923] Test:  [4/5]  eta: 0:00:00  loss: 2.6943 (2.9376)  acc1: 37.5000 (33.3333)  acc5: 56.2500 (58.3333)  time: 0.2916  data: 0.1555  max mem: 4877\n",
            "[09:12:39.970103] Test: Total time: 0:00:01 (0.3117 s / it)\n",
            "[09:12:39.970254] * Acc@1 33.333 Acc@5 58.333 loss 2.938\n",
            "[09:12:39.971765] Accuracy of the network on the 144 test images: 33.3%\n",
            "[09:12:39.971864] Max accuracy: 38.89%\n",
            "[09:12:39.979503] log_dir: /content/gdrive/MyDrive/Colab_Notebooks/Modal/logs/vit_base_patch16/2023_05_31__09_03_21\n"
          ]
        },
        {
          "output_type": "stream",
          "name": "stderr",
          "text": [
            "Training Epoch 32: 1it [00:01,  1.90s/it]"
          ]
        },
        {
          "output_type": "stream",
          "name": "stdout",
          "text": [
            "[09:12:41.891047] Epoch: [32]  [ 0/18]  eta: 0:00:34  lr: 0.000161  loss: 2.1535 (2.1535)  time: 1.9075  data: 1.5231  max mem: 4877\n"
          ]
        },
        {
          "output_type": "stream",
          "name": "stderr",
          "text": [
            "Training Epoch 32: 18it [00:08,  2.02it/s]\n"
          ]
        },
        {
          "output_type": "stream",
          "name": "stdout",
          "text": [
            "[09:12:48.776922] Epoch: [32]  [17/18]  eta: 0:00:00  lr: 0.000159  loss: 1.8825 (1.7855)  time: 0.4884  data: 0.0849  max mem: 4877\n",
            "[09:12:48.880239] Epoch: [32] Total time: 0:00:08 (0.4943 s / it)\n",
            "[09:12:48.882874] Averaged stats: lr: 0.000159  loss: 1.8825 (1.7855)\n"
          ]
        },
        {
          "output_type": "stream",
          "name": "stderr",
          "text": [
            "/usr/local/lib/python3.10/dist-packages/torchvision/transforms/functional.py:1603: UserWarning: The default value of the antialias parameter of all the resizing transforms (Resize(), RandomResizedCrop(), etc.) will change from None to True in v0.17, in order to be consistent across the PIL and Tensor backends. To suppress this warning, directly pass antialias=True (recommended, future default), antialias=None (current default, which means False for Tensors and True for PIL), or antialias=False (only works on Tensors - PIL will still use antialiasing). This also applies if you are using the inference transforms from the models weights: update the call to weights.transforms(antialias=True).\n",
            "  warnings.warn(\n",
            "/usr/local/lib/python3.10/dist-packages/torchvision/transforms/functional.py:1603: UserWarning: The default value of the antialias parameter of all the resizing transforms (Resize(), RandomResizedCrop(), etc.) will change from None to True in v0.17, in order to be consistent across the PIL and Tensor backends. To suppress this warning, directly pass antialias=True (recommended, future default), antialias=None (current default, which means False for Tensors and True for PIL), or antialias=False (only works on Tensors - PIL will still use antialiasing). This also applies if you are using the inference transforms from the models weights: update the call to weights.transforms(antialias=True).\n",
            "  warnings.warn(\n",
            "/usr/local/lib/python3.10/dist-packages/torchvision/transforms/functional.py:1603: UserWarning: The default value of the antialias parameter of all the resizing transforms (Resize(), RandomResizedCrop(), etc.) will change from None to True in v0.17, in order to be consistent across the PIL and Tensor backends. To suppress this warning, directly pass antialias=True (recommended, future default), antialias=None (current default, which means False for Tensors and True for PIL), or antialias=False (only works on Tensors - PIL will still use antialiasing). This also applies if you are using the inference transforms from the models weights: update the call to weights.transforms(antialias=True).\n",
            "  warnings.warn(\n",
            "/usr/local/lib/python3.10/dist-packages/torchvision/transforms/functional.py:1603: UserWarning: The default value of the antialias parameter of all the resizing transforms (Resize(), RandomResizedCrop(), etc.) will change from None to True in v0.17, in order to be consistent across the PIL and Tensor backends. To suppress this warning, directly pass antialias=True (recommended, future default), antialias=None (current default, which means False for Tensors and True for PIL), or antialias=False (only works on Tensors - PIL will still use antialiasing). This also applies if you are using the inference transforms from the models weights: update the call to weights.transforms(antialias=True).\n",
            "  warnings.warn(\n",
            "/usr/local/lib/python3.10/dist-packages/torchvision/transforms/functional.py:1603: UserWarning: The default value of the antialias parameter of all the resizing transforms (Resize(), RandomResizedCrop(), etc.) will change from None to True in v0.17, in order to be consistent across the PIL and Tensor backends. To suppress this warning, directly pass antialias=True (recommended, future default), antialias=None (current default, which means False for Tensors and True for PIL), or antialias=False (only works on Tensors - PIL will still use antialiasing). This also applies if you are using the inference transforms from the models weights: update the call to weights.transforms(antialias=True).\n",
            "  warnings.warn(\n"
          ]
        },
        {
          "output_type": "stream",
          "name": "stdout",
          "text": [
            "[09:12:53.093576] Test:  [0/5]  eta: 0:00:04  loss: 2.4982 (2.4982)  acc1: 40.6250 (40.6250)  acc5: 65.6250 (65.6250)  time: 0.9835  data: 0.7784  max mem: 4877\n",
            "[09:12:53.577341] Test:  [4/5]  eta: 0:00:00  loss: 2.6931 (2.8843)  acc1: 37.5000 (32.6389)  acc5: 56.2500 (57.6389)  time: 0.2930  data: 0.1560  max mem: 4877\n",
            "[09:12:54.128895] Test: Total time: 0:00:02 (0.4047 s / it)\n",
            "[09:12:54.129043] * Acc@1 32.639 Acc@5 57.639 loss 2.884\n",
            "[09:12:54.130233] Accuracy of the network on the 144 test images: 32.6%\n",
            "[09:12:54.130297] Max accuracy: 38.89%\n",
            "[09:12:54.140397] log_dir: /content/gdrive/MyDrive/Colab_Notebooks/Modal/logs/vit_base_patch16/2023_05_31__09_03_21\n"
          ]
        },
        {
          "output_type": "stream",
          "name": "stderr",
          "text": [
            "Training Epoch 33: 1it [00:01,  1.73s/it]"
          ]
        },
        {
          "output_type": "stream",
          "name": "stdout",
          "text": [
            "[09:12:55.886509] Epoch: [33]  [ 0/18]  eta: 0:00:31  lr: 0.000159  loss: 2.2826 (2.2826)  time: 1.7415  data: 1.2943  max mem: 4877\n"
          ]
        },
        {
          "output_type": "stream",
          "name": "stderr",
          "text": [
            "Training Epoch 33: 18it [00:08,  2.08it/s]\n"
          ]
        },
        {
          "output_type": "stream",
          "name": "stdout",
          "text": [
            "[09:13:02.712502] Epoch: [33]  [17/18]  eta: 0:00:00  lr: 0.000157  loss: 1.6451 (1.6179)  time: 0.4758  data: 0.0730  max mem: 4877\n",
            "[09:13:02.811959] Epoch: [33] Total time: 0:00:08 (0.4815 s / it)\n",
            "[09:13:02.814874] Averaged stats: lr: 0.000157  loss: 1.6451 (1.6179)\n"
          ]
        },
        {
          "output_type": "stream",
          "name": "stderr",
          "text": [
            "/usr/local/lib/python3.10/dist-packages/torchvision/transforms/functional.py:1603: UserWarning: The default value of the antialias parameter of all the resizing transforms (Resize(), RandomResizedCrop(), etc.) will change from None to True in v0.17, in order to be consistent across the PIL and Tensor backends. To suppress this warning, directly pass antialias=True (recommended, future default), antialias=None (current default, which means False for Tensors and True for PIL), or antialias=False (only works on Tensors - PIL will still use antialiasing). This also applies if you are using the inference transforms from the models weights: update the call to weights.transforms(antialias=True).\n",
            "  warnings.warn(\n",
            "/usr/local/lib/python3.10/dist-packages/torchvision/transforms/functional.py:1603: UserWarning: The default value of the antialias parameter of all the resizing transforms (Resize(), RandomResizedCrop(), etc.) will change from None to True in v0.17, in order to be consistent across the PIL and Tensor backends. To suppress this warning, directly pass antialias=True (recommended, future default), antialias=None (current default, which means False for Tensors and True for PIL), or antialias=False (only works on Tensors - PIL will still use antialiasing). This also applies if you are using the inference transforms from the models weights: update the call to weights.transforms(antialias=True).\n",
            "  warnings.warn(\n",
            "/usr/local/lib/python3.10/dist-packages/torchvision/transforms/functional.py:1603: UserWarning: The default value of the antialias parameter of all the resizing transforms (Resize(), RandomResizedCrop(), etc.) will change from None to True in v0.17, in order to be consistent across the PIL and Tensor backends. To suppress this warning, directly pass antialias=True (recommended, future default), antialias=None (current default, which means False for Tensors and True for PIL), or antialias=False (only works on Tensors - PIL will still use antialiasing). This also applies if you are using the inference transforms from the models weights: update the call to weights.transforms(antialias=True).\n",
            "  warnings.warn(\n",
            "/usr/local/lib/python3.10/dist-packages/torchvision/transforms/functional.py:1603: UserWarning: The default value of the antialias parameter of all the resizing transforms (Resize(), RandomResizedCrop(), etc.) will change from None to True in v0.17, in order to be consistent across the PIL and Tensor backends. To suppress this warning, directly pass antialias=True (recommended, future default), antialias=None (current default, which means False for Tensors and True for PIL), or antialias=False (only works on Tensors - PIL will still use antialiasing). This also applies if you are using the inference transforms from the models weights: update the call to weights.transforms(antialias=True).\n",
            "  warnings.warn(\n",
            "/usr/local/lib/python3.10/dist-packages/torchvision/transforms/functional.py:1603: UserWarning: The default value of the antialias parameter of all the resizing transforms (Resize(), RandomResizedCrop(), etc.) will change from None to True in v0.17, in order to be consistent across the PIL and Tensor backends. To suppress this warning, directly pass antialias=True (recommended, future default), antialias=None (current default, which means False for Tensors and True for PIL), or antialias=False (only works on Tensors - PIL will still use antialiasing). This also applies if you are using the inference transforms from the models weights: update the call to weights.transforms(antialias=True).\n",
            "  warnings.warn(\n"
          ]
        },
        {
          "output_type": "stream",
          "name": "stdout",
          "text": [
            "[09:13:06.671363] Test:  [0/5]  eta: 0:00:04  loss: 2.4569 (2.4569)  acc1: 50.0000 (50.0000)  acc5: 75.0000 (75.0000)  time: 0.9446  data: 0.7472  max mem: 4877\n",
            "[09:13:07.179660] Test:  [4/5]  eta: 0:00:00  loss: 2.6594 (2.9315)  acc1: 31.2500 (29.8611)  acc5: 62.5000 (59.7222)  time: 0.2904  data: 0.1496  max mem: 4877\n",
            "[09:13:07.281589] Test: Total time: 0:00:01 (0.3113 s / it)\n",
            "[09:13:07.281709] * Acc@1 29.861 Acc@5 59.722 loss 2.932\n",
            "[09:13:07.282775] Accuracy of the network on the 144 test images: 29.9%\n",
            "[09:13:07.282826] Max accuracy: 38.89%\n",
            "[09:13:07.288638] log_dir: /content/gdrive/MyDrive/Colab_Notebooks/Modal/logs/vit_base_patch16/2023_05_31__09_03_21\n"
          ]
        },
        {
          "output_type": "stream",
          "name": "stderr",
          "text": [
            "Training Epoch 34: 1it [00:01,  1.86s/it]"
          ]
        },
        {
          "output_type": "stream",
          "name": "stdout",
          "text": [
            "[09:13:09.169574] Epoch: [34]  [ 0/18]  eta: 0:00:33  lr: 0.000157  loss: 1.8166 (1.8166)  time: 1.8763  data: 1.4552  max mem: 4877\n"
          ]
        },
        {
          "output_type": "stream",
          "name": "stderr",
          "text": [
            "Training Epoch 34: 18it [00:08,  2.03it/s]\n"
          ]
        },
        {
          "output_type": "stream",
          "name": "stdout",
          "text": [
            "[09:13:16.034713] Epoch: [34]  [17/18]  eta: 0:00:00  lr: 0.000155  loss: 1.7775 (1.7722)  time: 0.4850  data: 0.0811  max mem: 4877\n",
            "[09:13:16.148867] Epoch: [34] Total time: 0:00:08 (0.4920 s / it)\n",
            "[09:13:16.151915] Averaged stats: lr: 0.000155  loss: 1.7775 (1.7722)\n"
          ]
        },
        {
          "output_type": "stream",
          "name": "stderr",
          "text": [
            "/usr/local/lib/python3.10/dist-packages/torchvision/transforms/functional.py:1603: UserWarning: The default value of the antialias parameter of all the resizing transforms (Resize(), RandomResizedCrop(), etc.) will change from None to True in v0.17, in order to be consistent across the PIL and Tensor backends. To suppress this warning, directly pass antialias=True (recommended, future default), antialias=None (current default, which means False for Tensors and True for PIL), or antialias=False (only works on Tensors - PIL will still use antialiasing). This also applies if you are using the inference transforms from the models weights: update the call to weights.transforms(antialias=True).\n",
            "  warnings.warn(\n",
            "/usr/local/lib/python3.10/dist-packages/torchvision/transforms/functional.py:1603: UserWarning: The default value of the antialias parameter of all the resizing transforms (Resize(), RandomResizedCrop(), etc.) will change from None to True in v0.17, in order to be consistent across the PIL and Tensor backends. To suppress this warning, directly pass antialias=True (recommended, future default), antialias=None (current default, which means False for Tensors and True for PIL), or antialias=False (only works on Tensors - PIL will still use antialiasing). This also applies if you are using the inference transforms from the models weights: update the call to weights.transforms(antialias=True).\n",
            "  warnings.warn(\n",
            "/usr/local/lib/python3.10/dist-packages/torchvision/transforms/functional.py:1603: UserWarning: The default value of the antialias parameter of all the resizing transforms (Resize(), RandomResizedCrop(), etc.) will change from None to True in v0.17, in order to be consistent across the PIL and Tensor backends. To suppress this warning, directly pass antialias=True (recommended, future default), antialias=None (current default, which means False for Tensors and True for PIL), or antialias=False (only works on Tensors - PIL will still use antialiasing). This also applies if you are using the inference transforms from the models weights: update the call to weights.transforms(antialias=True).\n",
            "  warnings.warn(\n",
            "/usr/local/lib/python3.10/dist-packages/torchvision/transforms/functional.py:1603: UserWarning: The default value of the antialias parameter of all the resizing transforms (Resize(), RandomResizedCrop(), etc.) will change from None to True in v0.17, in order to be consistent across the PIL and Tensor backends. To suppress this warning, directly pass antialias=True (recommended, future default), antialias=None (current default, which means False for Tensors and True for PIL), or antialias=False (only works on Tensors - PIL will still use antialiasing). This also applies if you are using the inference transforms from the models weights: update the call to weights.transforms(antialias=True).\n",
            "  warnings.warn(\n",
            "/usr/local/lib/python3.10/dist-packages/torchvision/transforms/functional.py:1603: UserWarning: The default value of the antialias parameter of all the resizing transforms (Resize(), RandomResizedCrop(), etc.) will change from None to True in v0.17, in order to be consistent across the PIL and Tensor backends. To suppress this warning, directly pass antialias=True (recommended, future default), antialias=None (current default, which means False for Tensors and True for PIL), or antialias=False (only works on Tensors - PIL will still use antialiasing). This also applies if you are using the inference transforms from the models weights: update the call to weights.transforms(antialias=True).\n",
            "  warnings.warn(\n"
          ]
        },
        {
          "output_type": "stream",
          "name": "stdout",
          "text": [
            "[09:13:20.544383] Test:  [0/5]  eta: 0:00:04  loss: 2.4653 (2.4653)  acc1: 50.0000 (50.0000)  acc5: 65.6250 (65.6250)  time: 0.9968  data: 0.8092  max mem: 4877\n",
            "[09:13:21.039326] Test:  [4/5]  eta: 0:00:00  loss: 2.7304 (2.8694)  acc1: 34.3750 (34.0278)  acc5: 62.5000 (59.0278)  time: 0.2982  data: 0.1620  max mem: 4877\n",
            "[09:13:21.140667] Test: Total time: 0:00:01 (0.3188 s / it)\n",
            "[09:13:21.140795] * Acc@1 34.028 Acc@5 59.028 loss 2.869\n",
            "[09:13:21.141886] Accuracy of the network on the 144 test images: 34.0%\n",
            "[09:13:21.141950] Max accuracy: 38.89%\n",
            "[09:13:21.151136] log_dir: /content/gdrive/MyDrive/Colab_Notebooks/Modal/logs/vit_base_patch16/2023_05_31__09_03_21\n"
          ]
        },
        {
          "output_type": "stream",
          "name": "stderr",
          "text": [
            "Training Epoch 35: 1it [00:01,  1.63s/it]"
          ]
        },
        {
          "output_type": "stream",
          "name": "stdout",
          "text": [
            "[09:13:22.788332] Epoch: [35]  [ 0/18]  eta: 0:00:29  lr: 0.000154  loss: 1.9548 (1.9548)  time: 1.6336  data: 1.2287  max mem: 4877\n"
          ]
        },
        {
          "output_type": "stream",
          "name": "stderr",
          "text": [
            "Training Epoch 35: 18it [00:08,  2.08it/s]\n"
          ]
        },
        {
          "output_type": "stream",
          "name": "stdout",
          "text": [
            "[09:13:29.716120] Epoch: [35]  [17/18]  eta: 0:00:00  lr: 0.000152  loss: 1.6006 (1.6002)  time: 0.4752  data: 0.0735  max mem: 4877\n",
            "[09:13:29.825933] Epoch: [35] Total time: 0:00:08 (0.4818 s / it)\n",
            "[09:13:29.827751] Averaged stats: lr: 0.000152  loss: 1.6006 (1.6002)\n"
          ]
        },
        {
          "output_type": "stream",
          "name": "stderr",
          "text": [
            "/usr/local/lib/python3.10/dist-packages/torchvision/transforms/functional.py:1603: UserWarning: The default value of the antialias parameter of all the resizing transforms (Resize(), RandomResizedCrop(), etc.) will change from None to True in v0.17, in order to be consistent across the PIL and Tensor backends. To suppress this warning, directly pass antialias=True (recommended, future default), antialias=None (current default, which means False for Tensors and True for PIL), or antialias=False (only works on Tensors - PIL will still use antialiasing). This also applies if you are using the inference transforms from the models weights: update the call to weights.transforms(antialias=True).\n",
            "  warnings.warn(\n",
            "/usr/local/lib/python3.10/dist-packages/torchvision/transforms/functional.py:1603: UserWarning: The default value of the antialias parameter of all the resizing transforms (Resize(), RandomResizedCrop(), etc.) will change from None to True in v0.17, in order to be consistent across the PIL and Tensor backends. To suppress this warning, directly pass antialias=True (recommended, future default), antialias=None (current default, which means False for Tensors and True for PIL), or antialias=False (only works on Tensors - PIL will still use antialiasing). This also applies if you are using the inference transforms from the models weights: update the call to weights.transforms(antialias=True).\n",
            "  warnings.warn(\n",
            "/usr/local/lib/python3.10/dist-packages/torchvision/transforms/functional.py:1603: UserWarning: The default value of the antialias parameter of all the resizing transforms (Resize(), RandomResizedCrop(), etc.) will change from None to True in v0.17, in order to be consistent across the PIL and Tensor backends. To suppress this warning, directly pass antialias=True (recommended, future default), antialias=None (current default, which means False for Tensors and True for PIL), or antialias=False (only works on Tensors - PIL will still use antialiasing). This also applies if you are using the inference transforms from the models weights: update the call to weights.transforms(antialias=True).\n",
            "  warnings.warn(\n",
            "/usr/local/lib/python3.10/dist-packages/torchvision/transforms/functional.py:1603: UserWarning: The default value of the antialias parameter of all the resizing transforms (Resize(), RandomResizedCrop(), etc.) will change from None to True in v0.17, in order to be consistent across the PIL and Tensor backends. To suppress this warning, directly pass antialias=True (recommended, future default), antialias=None (current default, which means False for Tensors and True for PIL), or antialias=False (only works on Tensors - PIL will still use antialiasing). This also applies if you are using the inference transforms from the models weights: update the call to weights.transforms(antialias=True).\n",
            "  warnings.warn(\n",
            "/usr/local/lib/python3.10/dist-packages/torchvision/transforms/functional.py:1603: UserWarning: The default value of the antialias parameter of all the resizing transforms (Resize(), RandomResizedCrop(), etc.) will change from None to True in v0.17, in order to be consistent across the PIL and Tensor backends. To suppress this warning, directly pass antialias=True (recommended, future default), antialias=None (current default, which means False for Tensors and True for PIL), or antialias=False (only works on Tensors - PIL will still use antialiasing). This also applies if you are using the inference transforms from the models weights: update the call to weights.transforms(antialias=True).\n",
            "  warnings.warn(\n"
          ]
        },
        {
          "output_type": "stream",
          "name": "stdout",
          "text": [
            "[09:13:33.844116] Test:  [0/5]  eta: 0:00:04  loss: 2.4171 (2.4171)  acc1: 50.0000 (50.0000)  acc5: 68.7500 (68.7500)  time: 0.9283  data: 0.7386  max mem: 4877\n",
            "[09:13:34.335459] Test:  [4/5]  eta: 0:00:00  loss: 2.6622 (2.8794)  acc1: 34.3750 (36.1111)  acc5: 65.6250 (59.7222)  time: 0.2837  data: 0.1480  max mem: 4877\n",
            "[09:13:34.425097] Test: Total time: 0:00:01 (0.3021 s / it)\n",
            "[09:13:34.425222] * Acc@1 36.111 Acc@5 59.722 loss 2.879\n",
            "[09:13:34.426574] Accuracy of the network on the 144 test images: 36.1%\n",
            "[09:13:34.427171] Max accuracy: 38.89%\n",
            "[09:13:34.431955] log_dir: /content/gdrive/MyDrive/Colab_Notebooks/Modal/logs/vit_base_patch16/2023_05_31__09_03_21\n"
          ]
        },
        {
          "output_type": "stream",
          "name": "stderr",
          "text": [
            "Training Epoch 36: 1it [00:01,  1.59s/it]"
          ]
        },
        {
          "output_type": "stream",
          "name": "stdout",
          "text": [
            "[09:13:36.052208] Epoch: [36]  [ 0/18]  eta: 0:00:29  lr: 0.000152  loss: 1.4748 (1.4748)  time: 1.6144  data: 1.1768  max mem: 4877\n"
          ]
        },
        {
          "output_type": "stream",
          "name": "stderr",
          "text": [
            "Training Epoch 36: 18it [00:08,  2.08it/s]\n"
          ]
        },
        {
          "output_type": "stream",
          "name": "stdout",
          "text": [
            "[09:13:42.936465] Epoch: [36]  [17/18]  eta: 0:00:00  lr: 0.000149  loss: 1.5835 (1.5557)  time: 0.4714  data: 0.0660  max mem: 4877\n",
            "[09:13:43.092272] Epoch: [36] Total time: 0:00:08 (0.4809 s / it)\n",
            "[09:13:43.106786] Averaged stats: lr: 0.000149  loss: 1.5835 (1.5557)\n"
          ]
        },
        {
          "output_type": "stream",
          "name": "stderr",
          "text": [
            "/usr/local/lib/python3.10/dist-packages/torchvision/transforms/functional.py:1603: UserWarning: The default value of the antialias parameter of all the resizing transforms (Resize(), RandomResizedCrop(), etc.) will change from None to True in v0.17, in order to be consistent across the PIL and Tensor backends. To suppress this warning, directly pass antialias=True (recommended, future default), antialias=None (current default, which means False for Tensors and True for PIL), or antialias=False (only works on Tensors - PIL will still use antialiasing). This also applies if you are using the inference transforms from the models weights: update the call to weights.transforms(antialias=True).\n",
            "  warnings.warn(\n",
            "/usr/local/lib/python3.10/dist-packages/torchvision/transforms/functional.py:1603: UserWarning: The default value of the antialias parameter of all the resizing transforms (Resize(), RandomResizedCrop(), etc.) will change from None to True in v0.17, in order to be consistent across the PIL and Tensor backends. To suppress this warning, directly pass antialias=True (recommended, future default), antialias=None (current default, which means False for Tensors and True for PIL), or antialias=False (only works on Tensors - PIL will still use antialiasing). This also applies if you are using the inference transforms from the models weights: update the call to weights.transforms(antialias=True).\n",
            "  warnings.warn(\n",
            "/usr/local/lib/python3.10/dist-packages/torchvision/transforms/functional.py:1603: UserWarning: The default value of the antialias parameter of all the resizing transforms (Resize(), RandomResizedCrop(), etc.) will change from None to True in v0.17, in order to be consistent across the PIL and Tensor backends. To suppress this warning, directly pass antialias=True (recommended, future default), antialias=None (current default, which means False for Tensors and True for PIL), or antialias=False (only works on Tensors - PIL will still use antialiasing). This also applies if you are using the inference transforms from the models weights: update the call to weights.transforms(antialias=True).\n",
            "  warnings.warn(\n",
            "/usr/local/lib/python3.10/dist-packages/torchvision/transforms/functional.py:1603: UserWarning: The default value of the antialias parameter of all the resizing transforms (Resize(), RandomResizedCrop(), etc.) will change from None to True in v0.17, in order to be consistent across the PIL and Tensor backends. To suppress this warning, directly pass antialias=True (recommended, future default), antialias=None (current default, which means False for Tensors and True for PIL), or antialias=False (only works on Tensors - PIL will still use antialiasing). This also applies if you are using the inference transforms from the models weights: update the call to weights.transforms(antialias=True).\n",
            "  warnings.warn(\n",
            "/usr/local/lib/python3.10/dist-packages/torchvision/transforms/functional.py:1603: UserWarning: The default value of the antialias parameter of all the resizing transforms (Resize(), RandomResizedCrop(), etc.) will change from None to True in v0.17, in order to be consistent across the PIL and Tensor backends. To suppress this warning, directly pass antialias=True (recommended, future default), antialias=None (current default, which means False for Tensors and True for PIL), or antialias=False (only works on Tensors - PIL will still use antialiasing). This also applies if you are using the inference transforms from the models weights: update the call to weights.transforms(antialias=True).\n",
            "  warnings.warn(\n"
          ]
        },
        {
          "output_type": "stream",
          "name": "stdout",
          "text": [
            "[09:13:48.082406] Test:  [0/5]  eta: 0:00:06  loss: 2.5020 (2.5020)  acc1: 50.0000 (50.0000)  acc5: 68.7500 (68.7500)  time: 1.2474  data: 1.0338  max mem: 4877\n",
            "[09:13:48.572345] Test:  [4/5]  eta: 0:00:00  loss: 2.6275 (2.8878)  acc1: 40.6250 (34.7222)  acc5: 65.6250 (59.7222)  time: 0.3472  data: 0.2092  max mem: 4877\n",
            "[09:13:48.695984] Test: Total time: 0:00:01 (0.3727 s / it)\n",
            "[09:13:48.696766] * Acc@1 34.722 Acc@5 59.722 loss 2.888\n",
            "[09:13:48.698003] Accuracy of the network on the 144 test images: 34.7%\n",
            "[09:13:48.698094] Max accuracy: 38.89%\n",
            "[09:13:48.705475] log_dir: /content/gdrive/MyDrive/Colab_Notebooks/Modal/logs/vit_base_patch16/2023_05_31__09_03_21\n"
          ]
        },
        {
          "output_type": "stream",
          "name": "stderr",
          "text": [
            "Training Epoch 37: 1it [00:02,  2.28s/it]"
          ]
        },
        {
          "output_type": "stream",
          "name": "stdout",
          "text": [
            "[09:13:50.993982] Epoch: [37]  [ 0/18]  eta: 0:00:41  lr: 0.000149  loss: 1.7518 (1.7518)  time: 2.2839  data: 1.8055  max mem: 4877\n"
          ]
        },
        {
          "output_type": "stream",
          "name": "stderr",
          "text": [
            "Training Epoch 37: 18it [00:09,  1.91it/s]\n"
          ]
        },
        {
          "output_type": "stream",
          "name": "stdout",
          "text": [
            "[09:13:57.980593] Epoch: [37]  [17/18]  eta: 0:00:00  lr: 0.000147  loss: 1.7518 (1.7861)  time: 0.5149  data: 0.1007  max mem: 4877\n",
            "[09:13:58.135479] Epoch: [37] Total time: 0:00:09 (0.5237 s / it)\n",
            "[09:13:58.138018] Averaged stats: lr: 0.000147  loss: 1.7518 (1.7861)\n"
          ]
        },
        {
          "output_type": "stream",
          "name": "stderr",
          "text": [
            "/usr/local/lib/python3.10/dist-packages/torchvision/transforms/functional.py:1603: UserWarning: The default value of the antialias parameter of all the resizing transforms (Resize(), RandomResizedCrop(), etc.) will change from None to True in v0.17, in order to be consistent across the PIL and Tensor backends. To suppress this warning, directly pass antialias=True (recommended, future default), antialias=None (current default, which means False for Tensors and True for PIL), or antialias=False (only works on Tensors - PIL will still use antialiasing). This also applies if you are using the inference transforms from the models weights: update the call to weights.transforms(antialias=True).\n",
            "  warnings.warn(\n",
            "/usr/local/lib/python3.10/dist-packages/torchvision/transforms/functional.py:1603: UserWarning: The default value of the antialias parameter of all the resizing transforms (Resize(), RandomResizedCrop(), etc.) will change from None to True in v0.17, in order to be consistent across the PIL and Tensor backends. To suppress this warning, directly pass antialias=True (recommended, future default), antialias=None (current default, which means False for Tensors and True for PIL), or antialias=False (only works on Tensors - PIL will still use antialiasing). This also applies if you are using the inference transforms from the models weights: update the call to weights.transforms(antialias=True).\n",
            "  warnings.warn(\n",
            "/usr/local/lib/python3.10/dist-packages/torchvision/transforms/functional.py:1603: UserWarning: The default value of the antialias parameter of all the resizing transforms (Resize(), RandomResizedCrop(), etc.) will change from None to True in v0.17, in order to be consistent across the PIL and Tensor backends. To suppress this warning, directly pass antialias=True (recommended, future default), antialias=None (current default, which means False for Tensors and True for PIL), or antialias=False (only works on Tensors - PIL will still use antialiasing). This also applies if you are using the inference transforms from the models weights: update the call to weights.transforms(antialias=True).\n",
            "  warnings.warn(\n",
            "/usr/local/lib/python3.10/dist-packages/torchvision/transforms/functional.py:1603: UserWarning: The default value of the antialias parameter of all the resizing transforms (Resize(), RandomResizedCrop(), etc.) will change from None to True in v0.17, in order to be consistent across the PIL and Tensor backends. To suppress this warning, directly pass antialias=True (recommended, future default), antialias=None (current default, which means False for Tensors and True for PIL), or antialias=False (only works on Tensors - PIL will still use antialiasing). This also applies if you are using the inference transforms from the models weights: update the call to weights.transforms(antialias=True).\n",
            "  warnings.warn(\n",
            "/usr/local/lib/python3.10/dist-packages/torchvision/transforms/functional.py:1603: UserWarning: The default value of the antialias parameter of all the resizing transforms (Resize(), RandomResizedCrop(), etc.) will change from None to True in v0.17, in order to be consistent across the PIL and Tensor backends. To suppress this warning, directly pass antialias=True (recommended, future default), antialias=None (current default, which means False for Tensors and True for PIL), or antialias=False (only works on Tensors - PIL will still use antialiasing). This also applies if you are using the inference transforms from the models weights: update the call to weights.transforms(antialias=True).\n",
            "  warnings.warn(\n"
          ]
        },
        {
          "output_type": "stream",
          "name": "stdout",
          "text": [
            "[09:14:03.070404] Test:  [0/5]  eta: 0:00:06  loss: 2.4827 (2.4827)  acc1: 46.8750 (46.8750)  acc5: 68.7500 (68.7500)  time: 1.2806  data: 1.0921  max mem: 4877\n",
            "[09:14:03.557901] Test:  [4/5]  eta: 0:00:00  loss: 2.7126 (2.8802)  acc1: 34.3750 (34.7222)  acc5: 62.5000 (61.8056)  time: 0.3533  data: 0.2188  max mem: 4877\n",
            "[09:14:03.682802] Test: Total time: 0:00:01 (0.3790 s / it)\n",
            "[09:14:03.683579] * Acc@1 34.722 Acc@5 61.806 loss 2.880\n",
            "[09:14:03.684486] Accuracy of the network on the 144 test images: 34.7%\n",
            "[09:14:03.684610] Max accuracy: 38.89%\n",
            "[09:14:03.691805] log_dir: /content/gdrive/MyDrive/Colab_Notebooks/Modal/logs/vit_base_patch16/2023_05_31__09_03_21\n"
          ]
        },
        {
          "output_type": "stream",
          "name": "stderr",
          "text": [
            "Training Epoch 38: 1it [00:02,  2.42s/it]"
          ]
        },
        {
          "output_type": "stream",
          "name": "stdout",
          "text": [
            "[09:14:06.148730] Epoch: [38]  [ 0/18]  eta: 0:00:43  lr: 0.000146  loss: 1.8189 (1.8189)  time: 2.4319  data: 1.9585  max mem: 4877\n"
          ]
        },
        {
          "output_type": "stream",
          "name": "stderr",
          "text": [
            "Training Epoch 38: 18it [00:09,  1.89it/s]\n"
          ]
        },
        {
          "output_type": "stream",
          "name": "stdout",
          "text": [
            "[09:14:13.076148] Epoch: [38]  [17/18]  eta: 0:00:00  lr: 0.000144  loss: 1.3711 (1.4469)  time: 0.5199  data: 0.1100  max mem: 4877\n",
            "[09:14:13.239639] Epoch: [38] Total time: 0:00:09 (0.5302 s / it)\n",
            "[09:14:13.247148] Averaged stats: lr: 0.000144  loss: 1.3711 (1.4469)\n"
          ]
        },
        {
          "output_type": "stream",
          "name": "stderr",
          "text": [
            "/usr/local/lib/python3.10/dist-packages/torchvision/transforms/functional.py:1603: UserWarning: The default value of the antialias parameter of all the resizing transforms (Resize(), RandomResizedCrop(), etc.) will change from None to True in v0.17, in order to be consistent across the PIL and Tensor backends. To suppress this warning, directly pass antialias=True (recommended, future default), antialias=None (current default, which means False for Tensors and True for PIL), or antialias=False (only works on Tensors - PIL will still use antialiasing). This also applies if you are using the inference transforms from the models weights: update the call to weights.transforms(antialias=True).\n",
            "  warnings.warn(\n",
            "/usr/local/lib/python3.10/dist-packages/torchvision/transforms/functional.py:1603: UserWarning: The default value of the antialias parameter of all the resizing transforms (Resize(), RandomResizedCrop(), etc.) will change from None to True in v0.17, in order to be consistent across the PIL and Tensor backends. To suppress this warning, directly pass antialias=True (recommended, future default), antialias=None (current default, which means False for Tensors and True for PIL), or antialias=False (only works on Tensors - PIL will still use antialiasing). This also applies if you are using the inference transforms from the models weights: update the call to weights.transforms(antialias=True).\n",
            "  warnings.warn(\n",
            "/usr/local/lib/python3.10/dist-packages/torchvision/transforms/functional.py:1603: UserWarning: The default value of the antialias parameter of all the resizing transforms (Resize(), RandomResizedCrop(), etc.) will change from None to True in v0.17, in order to be consistent across the PIL and Tensor backends. To suppress this warning, directly pass antialias=True (recommended, future default), antialias=None (current default, which means False for Tensors and True for PIL), or antialias=False (only works on Tensors - PIL will still use antialiasing). This also applies if you are using the inference transforms from the models weights: update the call to weights.transforms(antialias=True).\n",
            "  warnings.warn(\n",
            "/usr/local/lib/python3.10/dist-packages/torchvision/transforms/functional.py:1603: UserWarning: The default value of the antialias parameter of all the resizing transforms (Resize(), RandomResizedCrop(), etc.) will change from None to True in v0.17, in order to be consistent across the PIL and Tensor backends. To suppress this warning, directly pass antialias=True (recommended, future default), antialias=None (current default, which means False for Tensors and True for PIL), or antialias=False (only works on Tensors - PIL will still use antialiasing). This also applies if you are using the inference transforms from the models weights: update the call to weights.transforms(antialias=True).\n",
            "  warnings.warn(\n",
            "/usr/local/lib/python3.10/dist-packages/torchvision/transforms/functional.py:1603: UserWarning: The default value of the antialias parameter of all the resizing transforms (Resize(), RandomResizedCrop(), etc.) will change from None to True in v0.17, in order to be consistent across the PIL and Tensor backends. To suppress this warning, directly pass antialias=True (recommended, future default), antialias=None (current default, which means False for Tensors and True for PIL), or antialias=False (only works on Tensors - PIL will still use antialiasing). This also applies if you are using the inference transforms from the models weights: update the call to weights.transforms(antialias=True).\n",
            "  warnings.warn(\n"
          ]
        },
        {
          "output_type": "stream",
          "name": "stdout",
          "text": [
            "[09:14:18.280454] Test:  [0/5]  eta: 0:00:06  loss: 2.4170 (2.4170)  acc1: 53.1250 (53.1250)  acc5: 71.8750 (71.8750)  time: 1.3036  data: 1.0898  max mem: 4877\n",
            "[09:14:18.782206] Test:  [4/5]  eta: 0:00:00  loss: 2.6568 (2.8665)  acc1: 37.5000 (33.3333)  acc5: 62.5000 (61.1111)  time: 0.3606  data: 0.2184  max mem: 4877\n",
            "[09:14:18.907264] Test: Total time: 0:00:01 (0.3866 s / it)\n",
            "[09:14:18.907415] * Acc@1 33.333 Acc@5 61.111 loss 2.866\n",
            "[09:14:18.909349] Accuracy of the network on the 144 test images: 33.3%\n",
            "[09:14:18.909439] Max accuracy: 38.89%\n",
            "[09:14:18.917225] log_dir: /content/gdrive/MyDrive/Colab_Notebooks/Modal/logs/vit_base_patch16/2023_05_31__09_03_21\n"
          ]
        },
        {
          "output_type": "stream",
          "name": "stderr",
          "text": [
            "Training Epoch 39: 1it [00:02,  2.45s/it]"
          ]
        },
        {
          "output_type": "stream",
          "name": "stdout",
          "text": [
            "[09:14:21.380291] Epoch: [39]  [ 0/18]  eta: 0:00:44  lr: 0.000144  loss: 2.2073 (2.2073)  time: 2.4580  data: 1.9391  max mem: 4877\n"
          ]
        },
        {
          "output_type": "stream",
          "name": "stderr",
          "text": [
            "Training Epoch 39: 18it [00:09,  1.88it/s]\n"
          ]
        },
        {
          "output_type": "stream",
          "name": "stdout",
          "text": [
            "[09:14:28.312885] Epoch: [39]  [17/18]  eta: 0:00:00  lr: 0.000141  loss: 1.7201 (1.5396)  time: 0.5216  data: 0.1083  max mem: 4877\n",
            "[09:14:28.476625] Epoch: [39] Total time: 0:00:09 (0.5309 s / it)\n",
            "[09:14:28.479484] Averaged stats: lr: 0.000141  loss: 1.7201 (1.5396)\n"
          ]
        },
        {
          "output_type": "stream",
          "name": "stderr",
          "text": [
            "/usr/local/lib/python3.10/dist-packages/torchvision/transforms/functional.py:1603: UserWarning: The default value of the antialias parameter of all the resizing transforms (Resize(), RandomResizedCrop(), etc.) will change from None to True in v0.17, in order to be consistent across the PIL and Tensor backends. To suppress this warning, directly pass antialias=True (recommended, future default), antialias=None (current default, which means False for Tensors and True for PIL), or antialias=False (only works on Tensors - PIL will still use antialiasing). This also applies if you are using the inference transforms from the models weights: update the call to weights.transforms(antialias=True).\n",
            "  warnings.warn(\n",
            "/usr/local/lib/python3.10/dist-packages/torchvision/transforms/functional.py:1603: UserWarning: The default value of the antialias parameter of all the resizing transforms (Resize(), RandomResizedCrop(), etc.) will change from None to True in v0.17, in order to be consistent across the PIL and Tensor backends. To suppress this warning, directly pass antialias=True (recommended, future default), antialias=None (current default, which means False for Tensors and True for PIL), or antialias=False (only works on Tensors - PIL will still use antialiasing). This also applies if you are using the inference transforms from the models weights: update the call to weights.transforms(antialias=True).\n",
            "  warnings.warn(\n",
            "/usr/local/lib/python3.10/dist-packages/torchvision/transforms/functional.py:1603: UserWarning: The default value of the antialias parameter of all the resizing transforms (Resize(), RandomResizedCrop(), etc.) will change from None to True in v0.17, in order to be consistent across the PIL and Tensor backends. To suppress this warning, directly pass antialias=True (recommended, future default), antialias=None (current default, which means False for Tensors and True for PIL), or antialias=False (only works on Tensors - PIL will still use antialiasing). This also applies if you are using the inference transforms from the models weights: update the call to weights.transforms(antialias=True).\n",
            "  warnings.warn(\n",
            "/usr/local/lib/python3.10/dist-packages/torchvision/transforms/functional.py:1603: UserWarning: The default value of the antialias parameter of all the resizing transforms (Resize(), RandomResizedCrop(), etc.) will change from None to True in v0.17, in order to be consistent across the PIL and Tensor backends. To suppress this warning, directly pass antialias=True (recommended, future default), antialias=None (current default, which means False for Tensors and True for PIL), or antialias=False (only works on Tensors - PIL will still use antialiasing). This also applies if you are using the inference transforms from the models weights: update the call to weights.transforms(antialias=True).\n",
            "  warnings.warn(\n",
            "/usr/local/lib/python3.10/dist-packages/torchvision/transforms/functional.py:1603: UserWarning: The default value of the antialias parameter of all the resizing transforms (Resize(), RandomResizedCrop(), etc.) will change from None to True in v0.17, in order to be consistent across the PIL and Tensor backends. To suppress this warning, directly pass antialias=True (recommended, future default), antialias=None (current default, which means False for Tensors and True for PIL), or antialias=False (only works on Tensors - PIL will still use antialiasing). This also applies if you are using the inference transforms from the models weights: update the call to weights.transforms(antialias=True).\n",
            "  warnings.warn(\n"
          ]
        },
        {
          "output_type": "stream",
          "name": "stdout",
          "text": [
            "[09:14:33.664639] Test:  [0/5]  eta: 0:00:06  loss: 2.3540 (2.3540)  acc1: 46.8750 (46.8750)  acc5: 75.0000 (75.0000)  time: 1.2929  data: 1.0923  max mem: 4877\n",
            "[09:14:34.148180] Test:  [4/5]  eta: 0:00:00  loss: 2.5942 (2.8404)  acc1: 34.3750 (32.6389)  acc5: 65.6250 (61.8056)  time: 0.3550  data: 0.2190  max mem: 4877\n",
            "[09:14:34.271092] Test: Total time: 0:00:01 (0.3802 s / it)\n",
            "[09:14:34.272352] * Acc@1 32.639 Acc@5 61.806 loss 2.840\n",
            "[09:14:34.273326] Accuracy of the network on the 144 test images: 32.6%\n",
            "[09:14:34.273435] Max accuracy: 38.89%\n",
            "[09:14:34.284403] log_dir: /content/gdrive/MyDrive/Colab_Notebooks/Modal/logs/vit_base_patch16/2023_05_31__09_03_21\n"
          ]
        },
        {
          "output_type": "stream",
          "name": "stderr",
          "text": [
            "Training Epoch 40: 1it [00:02,  2.32s/it]"
          ]
        },
        {
          "output_type": "stream",
          "name": "stdout",
          "text": [
            "[09:14:36.618738] Epoch: [40]  [ 0/18]  eta: 0:00:41  lr: 0.000141  loss: 2.1465 (2.1465)  time: 2.3292  data: 1.8395  max mem: 4877\n"
          ]
        },
        {
          "output_type": "stream",
          "name": "stderr",
          "text": [
            "Training Epoch 40: 18it [00:09,  1.90it/s]\n"
          ]
        },
        {
          "output_type": "stream",
          "name": "stdout",
          "text": [
            "[09:14:43.576845] Epoch: [40]  [17/18]  eta: 0:00:00  lr: 0.000139  loss: 1.7524 (1.8072)  time: 0.5159  data: 0.1028  max mem: 4877\n",
            "[09:14:43.743049] Epoch: [40] Total time: 0:00:09 (0.5252 s / it)\n",
            "[09:14:43.748326] Averaged stats: lr: 0.000139  loss: 1.7524 (1.8072)\n"
          ]
        },
        {
          "output_type": "stream",
          "name": "stderr",
          "text": [
            "/usr/local/lib/python3.10/dist-packages/torchvision/transforms/functional.py:1603: UserWarning: The default value of the antialias parameter of all the resizing transforms (Resize(), RandomResizedCrop(), etc.) will change from None to True in v0.17, in order to be consistent across the PIL and Tensor backends. To suppress this warning, directly pass antialias=True (recommended, future default), antialias=None (current default, which means False for Tensors and True for PIL), or antialias=False (only works on Tensors - PIL will still use antialiasing). This also applies if you are using the inference transforms from the models weights: update the call to weights.transforms(antialias=True).\n",
            "  warnings.warn(\n",
            "/usr/local/lib/python3.10/dist-packages/torchvision/transforms/functional.py:1603: UserWarning: The default value of the antialias parameter of all the resizing transforms (Resize(), RandomResizedCrop(), etc.) will change from None to True in v0.17, in order to be consistent across the PIL and Tensor backends. To suppress this warning, directly pass antialias=True (recommended, future default), antialias=None (current default, which means False for Tensors and True for PIL), or antialias=False (only works on Tensors - PIL will still use antialiasing). This also applies if you are using the inference transforms from the models weights: update the call to weights.transforms(antialias=True).\n",
            "  warnings.warn(\n",
            "/usr/local/lib/python3.10/dist-packages/torchvision/transforms/functional.py:1603: UserWarning: The default value of the antialias parameter of all the resizing transforms (Resize(), RandomResizedCrop(), etc.) will change from None to True in v0.17, in order to be consistent across the PIL and Tensor backends. To suppress this warning, directly pass antialias=True (recommended, future default), antialias=None (current default, which means False for Tensors and True for PIL), or antialias=False (only works on Tensors - PIL will still use antialiasing). This also applies if you are using the inference transforms from the models weights: update the call to weights.transforms(antialias=True).\n",
            "  warnings.warn(\n",
            "/usr/local/lib/python3.10/dist-packages/torchvision/transforms/functional.py:1603: UserWarning: The default value of the antialias parameter of all the resizing transforms (Resize(), RandomResizedCrop(), etc.) will change from None to True in v0.17, in order to be consistent across the PIL and Tensor backends. To suppress this warning, directly pass antialias=True (recommended, future default), antialias=None (current default, which means False for Tensors and True for PIL), or antialias=False (only works on Tensors - PIL will still use antialiasing). This also applies if you are using the inference transforms from the models weights: update the call to weights.transforms(antialias=True).\n",
            "  warnings.warn(\n",
            "/usr/local/lib/python3.10/dist-packages/torchvision/transforms/functional.py:1603: UserWarning: The default value of the antialias parameter of all the resizing transforms (Resize(), RandomResizedCrop(), etc.) will change from None to True in v0.17, in order to be consistent across the PIL and Tensor backends. To suppress this warning, directly pass antialias=True (recommended, future default), antialias=None (current default, which means False for Tensors and True for PIL), or antialias=False (only works on Tensors - PIL will still use antialiasing). This also applies if you are using the inference transforms from the models weights: update the call to weights.transforms(antialias=True).\n",
            "  warnings.warn(\n"
          ]
        },
        {
          "output_type": "stream",
          "name": "stdout",
          "text": [
            "[09:14:48.667130] Test:  [0/5]  eta: 0:00:06  loss: 2.4422 (2.4422)  acc1: 50.0000 (50.0000)  acc5: 71.8750 (71.8750)  time: 1.2644  data: 1.0643  max mem: 4877\n",
            "[09:14:49.190247] Test:  [4/5]  eta: 0:00:00  loss: 2.6205 (2.8550)  acc1: 40.6250 (35.4167)  acc5: 65.6250 (61.8056)  time: 0.3571  data: 0.2164  max mem: 4877\n",
            "[09:14:49.319894] Test: Total time: 0:00:01 (0.3847 s / it)\n",
            "[09:14:49.320661] * Acc@1 35.417 Acc@5 61.806 loss 2.855\n",
            "[09:14:49.321726] Accuracy of the network on the 144 test images: 35.4%\n",
            "[09:14:49.321817] Max accuracy: 38.89%\n",
            "[09:14:49.387290] log_dir: /content/gdrive/MyDrive/Colab_Notebooks/Modal/logs/vit_base_patch16/2023_05_31__09_03_21\n"
          ]
        },
        {
          "output_type": "stream",
          "name": "stderr",
          "text": [
            "Training Epoch 41: 1it [00:02,  2.23s/it]"
          ]
        },
        {
          "output_type": "stream",
          "name": "stdout",
          "text": [
            "[09:14:51.633055] Epoch: [41]  [ 0/18]  eta: 0:00:40  lr: 0.000138  loss: 1.6553 (1.6553)  time: 2.2405  data: 1.7574  max mem: 4877\n"
          ]
        },
        {
          "output_type": "stream",
          "name": "stderr",
          "text": [
            "Training Epoch 41: 18it [00:09,  1.92it/s]\n"
          ]
        },
        {
          "output_type": "stream",
          "name": "stdout",
          "text": [
            "[09:14:58.601335] Epoch: [41]  [17/18]  eta: 0:00:00  lr: 0.000136  loss: 1.6553 (1.5421)  time: 0.5115  data: 0.0981  max mem: 4877\n",
            "[09:14:58.754560] Epoch: [41] Total time: 0:00:09 (0.5202 s / it)\n",
            "[09:14:58.758394] Averaged stats: lr: 0.000136  loss: 1.6553 (1.5421)\n"
          ]
        },
        {
          "output_type": "stream",
          "name": "stderr",
          "text": [
            "/usr/local/lib/python3.10/dist-packages/torchvision/transforms/functional.py:1603: UserWarning: The default value of the antialias parameter of all the resizing transforms (Resize(), RandomResizedCrop(), etc.) will change from None to True in v0.17, in order to be consistent across the PIL and Tensor backends. To suppress this warning, directly pass antialias=True (recommended, future default), antialias=None (current default, which means False for Tensors and True for PIL), or antialias=False (only works on Tensors - PIL will still use antialiasing). This also applies if you are using the inference transforms from the models weights: update the call to weights.transforms(antialias=True).\n",
            "  warnings.warn(\n",
            "/usr/local/lib/python3.10/dist-packages/torchvision/transforms/functional.py:1603: UserWarning: The default value of the antialias parameter of all the resizing transforms (Resize(), RandomResizedCrop(), etc.) will change from None to True in v0.17, in order to be consistent across the PIL and Tensor backends. To suppress this warning, directly pass antialias=True (recommended, future default), antialias=None (current default, which means False for Tensors and True for PIL), or antialias=False (only works on Tensors - PIL will still use antialiasing). This also applies if you are using the inference transforms from the models weights: update the call to weights.transforms(antialias=True).\n",
            "  warnings.warn(\n",
            "/usr/local/lib/python3.10/dist-packages/torchvision/transforms/functional.py:1603: UserWarning: The default value of the antialias parameter of all the resizing transforms (Resize(), RandomResizedCrop(), etc.) will change from None to True in v0.17, in order to be consistent across the PIL and Tensor backends. To suppress this warning, directly pass antialias=True (recommended, future default), antialias=None (current default, which means False for Tensors and True for PIL), or antialias=False (only works on Tensors - PIL will still use antialiasing). This also applies if you are using the inference transforms from the models weights: update the call to weights.transforms(antialias=True).\n",
            "  warnings.warn(\n",
            "/usr/local/lib/python3.10/dist-packages/torchvision/transforms/functional.py:1603: UserWarning: The default value of the antialias parameter of all the resizing transforms (Resize(), RandomResizedCrop(), etc.) will change from None to True in v0.17, in order to be consistent across the PIL and Tensor backends. To suppress this warning, directly pass antialias=True (recommended, future default), antialias=None (current default, which means False for Tensors and True for PIL), or antialias=False (only works on Tensors - PIL will still use antialiasing). This also applies if you are using the inference transforms from the models weights: update the call to weights.transforms(antialias=True).\n",
            "  warnings.warn(\n",
            "/usr/local/lib/python3.10/dist-packages/torchvision/transforms/functional.py:1603: UserWarning: The default value of the antialias parameter of all the resizing transforms (Resize(), RandomResizedCrop(), etc.) will change from None to True in v0.17, in order to be consistent across the PIL and Tensor backends. To suppress this warning, directly pass antialias=True (recommended, future default), antialias=None (current default, which means False for Tensors and True for PIL), or antialias=False (only works on Tensors - PIL will still use antialiasing). This also applies if you are using the inference transforms from the models weights: update the call to weights.transforms(antialias=True).\n",
            "  warnings.warn(\n"
          ]
        },
        {
          "output_type": "stream",
          "name": "stdout",
          "text": [
            "[09:15:03.350618] Test:  [0/5]  eta: 0:00:05  loss: 2.4933 (2.4933)  acc1: 46.8750 (46.8750)  acc5: 62.5000 (62.5000)  time: 1.0254  data: 0.8347  max mem: 4877\n",
            "[09:15:03.855972] Test:  [4/5]  eta: 0:00:00  loss: 2.5327 (2.8284)  acc1: 43.7500 (36.1111)  acc5: 62.5000 (60.4167)  time: 0.3058  data: 0.1673  max mem: 4877\n",
            "[09:15:03.961776] Test: Total time: 0:00:01 (0.3280 s / it)\n",
            "[09:15:03.961894] * Acc@1 36.111 Acc@5 60.417 loss 2.828\n",
            "[09:15:03.963099] Accuracy of the network on the 144 test images: 36.1%\n",
            "[09:15:03.963155] Max accuracy: 38.89%\n",
            "[09:15:03.969526] log_dir: /content/gdrive/MyDrive/Colab_Notebooks/Modal/logs/vit_base_patch16/2023_05_31__09_03_21\n"
          ]
        },
        {
          "output_type": "stream",
          "name": "stderr",
          "text": [
            "Training Epoch 42: 1it [00:01,  1.94s/it]"
          ]
        },
        {
          "output_type": "stream",
          "name": "stdout",
          "text": [
            "[09:15:05.923005] Epoch: [42]  [ 0/18]  eta: 0:00:35  lr: 0.000135  loss: 1.6481 (1.6481)  time: 1.9498  data: 1.5592  max mem: 4877\n"
          ]
        },
        {
          "output_type": "stream",
          "name": "stderr",
          "text": [
            "Training Epoch 42: 18it [00:08,  2.00it/s]\n"
          ]
        },
        {
          "output_type": "stream",
          "name": "stdout",
          "text": [
            "[09:15:12.815580] Epoch: [42]  [17/18]  eta: 0:00:00  lr: 0.000133  loss: 1.6832 (1.7396)  time: 0.4909  data: 0.0870  max mem: 4877\n",
            "[09:15:12.965491] Epoch: [42] Total time: 0:00:08 (0.4996 s / it)\n",
            "[09:15:12.969942] Averaged stats: lr: 0.000133  loss: 1.6832 (1.7396)\n"
          ]
        },
        {
          "output_type": "stream",
          "name": "stderr",
          "text": [
            "/usr/local/lib/python3.10/dist-packages/torchvision/transforms/functional.py:1603: UserWarning: The default value of the antialias parameter of all the resizing transforms (Resize(), RandomResizedCrop(), etc.) will change from None to True in v0.17, in order to be consistent across the PIL and Tensor backends. To suppress this warning, directly pass antialias=True (recommended, future default), antialias=None (current default, which means False for Tensors and True for PIL), or antialias=False (only works on Tensors - PIL will still use antialiasing). This also applies if you are using the inference transforms from the models weights: update the call to weights.transforms(antialias=True).\n",
            "  warnings.warn(\n",
            "/usr/local/lib/python3.10/dist-packages/torchvision/transforms/functional.py:1603: UserWarning: The default value of the antialias parameter of all the resizing transforms (Resize(), RandomResizedCrop(), etc.) will change from None to True in v0.17, in order to be consistent across the PIL and Tensor backends. To suppress this warning, directly pass antialias=True (recommended, future default), antialias=None (current default, which means False for Tensors and True for PIL), or antialias=False (only works on Tensors - PIL will still use antialiasing). This also applies if you are using the inference transforms from the models weights: update the call to weights.transforms(antialias=True).\n",
            "  warnings.warn(\n",
            "/usr/local/lib/python3.10/dist-packages/torchvision/transforms/functional.py:1603: UserWarning: The default value of the antialias parameter of all the resizing transforms (Resize(), RandomResizedCrop(), etc.) will change from None to True in v0.17, in order to be consistent across the PIL and Tensor backends. To suppress this warning, directly pass antialias=True (recommended, future default), antialias=None (current default, which means False for Tensors and True for PIL), or antialias=False (only works on Tensors - PIL will still use antialiasing). This also applies if you are using the inference transforms from the models weights: update the call to weights.transforms(antialias=True).\n",
            "  warnings.warn(\n",
            "/usr/local/lib/python3.10/dist-packages/torchvision/transforms/functional.py:1603: UserWarning: The default value of the antialias parameter of all the resizing transforms (Resize(), RandomResizedCrop(), etc.) will change from None to True in v0.17, in order to be consistent across the PIL and Tensor backends. To suppress this warning, directly pass antialias=True (recommended, future default), antialias=None (current default, which means False for Tensors and True for PIL), or antialias=False (only works on Tensors - PIL will still use antialiasing). This also applies if you are using the inference transforms from the models weights: update the call to weights.transforms(antialias=True).\n",
            "  warnings.warn(\n",
            "/usr/local/lib/python3.10/dist-packages/torchvision/transforms/functional.py:1603: UserWarning: The default value of the antialias parameter of all the resizing transforms (Resize(), RandomResizedCrop(), etc.) will change from None to True in v0.17, in order to be consistent across the PIL and Tensor backends. To suppress this warning, directly pass antialias=True (recommended, future default), antialias=None (current default, which means False for Tensors and True for PIL), or antialias=False (only works on Tensors - PIL will still use antialiasing). This also applies if you are using the inference transforms from the models weights: update the call to weights.transforms(antialias=True).\n",
            "  warnings.warn(\n"
          ]
        },
        {
          "output_type": "stream",
          "name": "stdout",
          "text": [
            "[09:15:17.383674] Test:  [0/5]  eta: 0:00:05  loss: 2.4733 (2.4733)  acc1: 40.6250 (40.6250)  acc5: 71.8750 (71.8750)  time: 1.0378  data: 0.8282  max mem: 4877\n",
            "[09:15:17.864106] Test:  [4/5]  eta: 0:00:00  loss: 2.5873 (2.8583)  acc1: 40.6250 (34.7222)  acc5: 59.3750 (61.8056)  time: 0.3031  data: 0.1658  max mem: 4877\n",
            "[09:15:17.973074] Test: Total time: 0:00:01 (0.3257 s / it)\n",
            "[09:15:17.973846] * Acc@1 34.722 Acc@5 61.806 loss 2.858\n",
            "[09:15:17.974711] Accuracy of the network on the 144 test images: 34.7%\n",
            "[09:15:17.974767] Max accuracy: 38.89%\n",
            "[09:15:17.980956] log_dir: /content/gdrive/MyDrive/Colab_Notebooks/Modal/logs/vit_base_patch16/2023_05_31__09_03_21\n"
          ]
        },
        {
          "output_type": "stream",
          "name": "stderr",
          "text": [
            "Training Epoch 43: 1it [00:01,  1.86s/it]"
          ]
        },
        {
          "output_type": "stream",
          "name": "stdout",
          "text": [
            "[09:15:19.860832] Epoch: [43]  [ 0/18]  eta: 0:00:33  lr: 0.000132  loss: 1.0597 (1.0597)  time: 1.8724  data: 1.4573  max mem: 4877\n"
          ]
        },
        {
          "output_type": "stream",
          "name": "stderr",
          "text": [
            "Training Epoch 43: 18it [00:08,  2.04it/s]\n"
          ]
        },
        {
          "output_type": "stream",
          "name": "stdout",
          "text": [
            "[09:15:26.681159] Epoch: [43]  [17/18]  eta: 0:00:00  lr: 0.000130  loss: 1.6615 (1.5605)  time: 0.4828  data: 0.0813  max mem: 4877\n",
            "[09:15:26.819111] Epoch: [43] Total time: 0:00:08 (0.4907 s / it)\n",
            "[09:15:26.821519] Averaged stats: lr: 0.000130  loss: 1.6615 (1.5605)\n"
          ]
        },
        {
          "output_type": "stream",
          "name": "stderr",
          "text": [
            "/usr/local/lib/python3.10/dist-packages/torchvision/transforms/functional.py:1603: UserWarning: The default value of the antialias parameter of all the resizing transforms (Resize(), RandomResizedCrop(), etc.) will change from None to True in v0.17, in order to be consistent across the PIL and Tensor backends. To suppress this warning, directly pass antialias=True (recommended, future default), antialias=None (current default, which means False for Tensors and True for PIL), or antialias=False (only works on Tensors - PIL will still use antialiasing). This also applies if you are using the inference transforms from the models weights: update the call to weights.transforms(antialias=True).\n",
            "  warnings.warn(\n",
            "/usr/local/lib/python3.10/dist-packages/torchvision/transforms/functional.py:1603: UserWarning: The default value of the antialias parameter of all the resizing transforms (Resize(), RandomResizedCrop(), etc.) will change from None to True in v0.17, in order to be consistent across the PIL and Tensor backends. To suppress this warning, directly pass antialias=True (recommended, future default), antialias=None (current default, which means False for Tensors and True for PIL), or antialias=False (only works on Tensors - PIL will still use antialiasing). This also applies if you are using the inference transforms from the models weights: update the call to weights.transforms(antialias=True).\n",
            "  warnings.warn(\n",
            "/usr/local/lib/python3.10/dist-packages/torchvision/transforms/functional.py:1603: UserWarning: The default value of the antialias parameter of all the resizing transforms (Resize(), RandomResizedCrop(), etc.) will change from None to True in v0.17, in order to be consistent across the PIL and Tensor backends. To suppress this warning, directly pass antialias=True (recommended, future default), antialias=None (current default, which means False for Tensors and True for PIL), or antialias=False (only works on Tensors - PIL will still use antialiasing). This also applies if you are using the inference transforms from the models weights: update the call to weights.transforms(antialias=True).\n",
            "  warnings.warn(\n",
            "/usr/local/lib/python3.10/dist-packages/torchvision/transforms/functional.py:1603: UserWarning: The default value of the antialias parameter of all the resizing transforms (Resize(), RandomResizedCrop(), etc.) will change from None to True in v0.17, in order to be consistent across the PIL and Tensor backends. To suppress this warning, directly pass antialias=True (recommended, future default), antialias=None (current default, which means False for Tensors and True for PIL), or antialias=False (only works on Tensors - PIL will still use antialiasing). This also applies if you are using the inference transforms from the models weights: update the call to weights.transforms(antialias=True).\n",
            "  warnings.warn(\n",
            "/usr/local/lib/python3.10/dist-packages/torchvision/transforms/functional.py:1603: UserWarning: The default value of the antialias parameter of all the resizing transforms (Resize(), RandomResizedCrop(), etc.) will change from None to True in v0.17, in order to be consistent across the PIL and Tensor backends. To suppress this warning, directly pass antialias=True (recommended, future default), antialias=None (current default, which means False for Tensors and True for PIL), or antialias=False (only works on Tensors - PIL will still use antialiasing). This also applies if you are using the inference transforms from the models weights: update the call to weights.transforms(antialias=True).\n",
            "  warnings.warn(\n"
          ]
        },
        {
          "output_type": "stream",
          "name": "stdout",
          "text": [
            "[09:15:31.184917] Test:  [0/5]  eta: 0:00:04  loss: 2.3263 (2.3263)  acc1: 50.0000 (50.0000)  acc5: 65.6250 (65.6250)  time: 0.9841  data: 0.7824  max mem: 4877\n",
            "[09:15:31.696530] Test:  [4/5]  eta: 0:00:00  loss: 2.7029 (2.8989)  acc1: 37.5000 (34.0278)  acc5: 59.3750 (58.3333)  time: 0.2987  data: 0.1566  max mem: 4877\n",
            "[09:15:31.795066] Test: Total time: 0:00:01 (0.3191 s / it)\n",
            "[09:15:31.795201] * Acc@1 34.028 Acc@5 58.333 loss 2.899\n",
            "[09:15:31.796392] Accuracy of the network on the 144 test images: 34.0%\n",
            "[09:15:31.796462] Max accuracy: 38.89%\n",
            "[09:15:31.802196] log_dir: /content/gdrive/MyDrive/Colab_Notebooks/Modal/logs/vit_base_patch16/2023_05_31__09_03_21\n"
          ]
        },
        {
          "output_type": "stream",
          "name": "stderr",
          "text": [
            "Training Epoch 44: 1it [00:01,  1.66s/it]"
          ]
        },
        {
          "output_type": "stream",
          "name": "stdout",
          "text": [
            "[09:15:33.498403] Epoch: [44]  [ 0/18]  eta: 0:00:30  lr: 0.000129  loss: 1.7543 (1.7543)  time: 1.6795  data: 1.2794  max mem: 4877\n"
          ]
        },
        {
          "output_type": "stream",
          "name": "stderr",
          "text": [
            "Training Epoch 44: 18it [00:08,  2.08it/s]\n"
          ]
        },
        {
          "output_type": "stream",
          "name": "stdout",
          "text": [
            "[09:15:40.329603] Epoch: [44]  [17/18]  eta: 0:00:00  lr: 0.000127  loss: 1.4312 (1.4275)  time: 0.4728  data: 0.0716  max mem: 4877\n",
            "[09:15:40.456956] Epoch: [44] Total time: 0:00:08 (0.4807 s / it)\n",
            "[09:15:40.461139] Averaged stats: lr: 0.000127  loss: 1.4312 (1.4275)\n"
          ]
        },
        {
          "output_type": "stream",
          "name": "stderr",
          "text": [
            "/usr/local/lib/python3.10/dist-packages/torchvision/transforms/functional.py:1603: UserWarning: The default value of the antialias parameter of all the resizing transforms (Resize(), RandomResizedCrop(), etc.) will change from None to True in v0.17, in order to be consistent across the PIL and Tensor backends. To suppress this warning, directly pass antialias=True (recommended, future default), antialias=None (current default, which means False for Tensors and True for PIL), or antialias=False (only works on Tensors - PIL will still use antialiasing). This also applies if you are using the inference transforms from the models weights: update the call to weights.transforms(antialias=True).\n",
            "  warnings.warn(\n",
            "/usr/local/lib/python3.10/dist-packages/torchvision/transforms/functional.py:1603: UserWarning: The default value of the antialias parameter of all the resizing transforms (Resize(), RandomResizedCrop(), etc.) will change from None to True in v0.17, in order to be consistent across the PIL and Tensor backends. To suppress this warning, directly pass antialias=True (recommended, future default), antialias=None (current default, which means False for Tensors and True for PIL), or antialias=False (only works on Tensors - PIL will still use antialiasing). This also applies if you are using the inference transforms from the models weights: update the call to weights.transforms(antialias=True).\n",
            "  warnings.warn(\n",
            "/usr/local/lib/python3.10/dist-packages/torchvision/transforms/functional.py:1603: UserWarning: The default value of the antialias parameter of all the resizing transforms (Resize(), RandomResizedCrop(), etc.) will change from None to True in v0.17, in order to be consistent across the PIL and Tensor backends. To suppress this warning, directly pass antialias=True (recommended, future default), antialias=None (current default, which means False for Tensors and True for PIL), or antialias=False (only works on Tensors - PIL will still use antialiasing). This also applies if you are using the inference transforms from the models weights: update the call to weights.transforms(antialias=True).\n",
            "  warnings.warn(\n",
            "/usr/local/lib/python3.10/dist-packages/torchvision/transforms/functional.py:1603: UserWarning: The default value of the antialias parameter of all the resizing transforms (Resize(), RandomResizedCrop(), etc.) will change from None to True in v0.17, in order to be consistent across the PIL and Tensor backends. To suppress this warning, directly pass antialias=True (recommended, future default), antialias=None (current default, which means False for Tensors and True for PIL), or antialias=False (only works on Tensors - PIL will still use antialiasing). This also applies if you are using the inference transforms from the models weights: update the call to weights.transforms(antialias=True).\n",
            "  warnings.warn(\n",
            "/usr/local/lib/python3.10/dist-packages/torchvision/transforms/functional.py:1603: UserWarning: The default value of the antialias parameter of all the resizing transforms (Resize(), RandomResizedCrop(), etc.) will change from None to True in v0.17, in order to be consistent across the PIL and Tensor backends. To suppress this warning, directly pass antialias=True (recommended, future default), antialias=None (current default, which means False for Tensors and True for PIL), or antialias=False (only works on Tensors - PIL will still use antialiasing). This also applies if you are using the inference transforms from the models weights: update the call to weights.transforms(antialias=True).\n",
            "  warnings.warn(\n"
          ]
        },
        {
          "output_type": "stream",
          "name": "stdout",
          "text": [
            "[09:15:44.617594] Test:  [0/5]  eta: 0:00:04  loss: 2.5801 (2.5801)  acc1: 34.3750 (34.3750)  acc5: 65.6250 (65.6250)  time: 0.9327  data: 0.7372  max mem: 4877\n",
            "[09:15:45.097133] Test:  [4/5]  eta: 0:00:00  loss: 2.6180 (2.8758)  acc1: 34.3750 (34.7222)  acc5: 65.6250 (59.7222)  time: 0.2820  data: 0.1477  max mem: 4877\n",
            "[09:15:45.202109] Test: Total time: 0:00:01 (0.3038 s / it)\n",
            "[09:15:45.202742] * Acc@1 34.722 Acc@5 59.722 loss 2.876\n",
            "[09:15:45.203432] Accuracy of the network on the 144 test images: 34.7%\n",
            "[09:15:45.203493] Max accuracy: 38.89%\n",
            "[09:15:45.209016] log_dir: /content/gdrive/MyDrive/Colab_Notebooks/Modal/logs/vit_base_patch16/2023_05_31__09_03_21\n"
          ]
        },
        {
          "output_type": "stream",
          "name": "stderr",
          "text": [
            "Training Epoch 45: 1it [00:01,  1.78s/it]"
          ]
        },
        {
          "output_type": "stream",
          "name": "stdout",
          "text": [
            "[09:15:47.002411] Epoch: [45]  [ 0/18]  eta: 0:00:32  lr: 0.000126  loss: 0.9331 (0.9331)  time: 1.7881  data: 1.3971  max mem: 4877\n"
          ]
        },
        {
          "output_type": "stream",
          "name": "stderr",
          "text": [
            "Training Epoch 45: 18it [00:08,  2.05it/s]\n"
          ]
        },
        {
          "output_type": "stream",
          "name": "stdout",
          "text": [
            "[09:15:53.846356] Epoch: [45]  [17/18]  eta: 0:00:00  lr: 0.000124  loss: 1.7186 (1.4694)  time: 0.4795  data: 0.0780  max mem: 4877\n",
            "[09:15:53.982330] Epoch: [45] Total time: 0:00:08 (0.4872 s / it)\n",
            "[09:15:53.985859] Averaged stats: lr: 0.000124  loss: 1.7186 (1.4694)\n"
          ]
        },
        {
          "output_type": "stream",
          "name": "stderr",
          "text": [
            "/usr/local/lib/python3.10/dist-packages/torchvision/transforms/functional.py:1603: UserWarning: The default value of the antialias parameter of all the resizing transforms (Resize(), RandomResizedCrop(), etc.) will change from None to True in v0.17, in order to be consistent across the PIL and Tensor backends. To suppress this warning, directly pass antialias=True (recommended, future default), antialias=None (current default, which means False for Tensors and True for PIL), or antialias=False (only works on Tensors - PIL will still use antialiasing). This also applies if you are using the inference transforms from the models weights: update the call to weights.transforms(antialias=True).\n",
            "  warnings.warn(\n",
            "/usr/local/lib/python3.10/dist-packages/torchvision/transforms/functional.py:1603: UserWarning: The default value of the antialias parameter of all the resizing transforms (Resize(), RandomResizedCrop(), etc.) will change from None to True in v0.17, in order to be consistent across the PIL and Tensor backends. To suppress this warning, directly pass antialias=True (recommended, future default), antialias=None (current default, which means False for Tensors and True for PIL), or antialias=False (only works on Tensors - PIL will still use antialiasing). This also applies if you are using the inference transforms from the models weights: update the call to weights.transforms(antialias=True).\n",
            "  warnings.warn(\n",
            "/usr/local/lib/python3.10/dist-packages/torchvision/transforms/functional.py:1603: UserWarning: The default value of the antialias parameter of all the resizing transforms (Resize(), RandomResizedCrop(), etc.) will change from None to True in v0.17, in order to be consistent across the PIL and Tensor backends. To suppress this warning, directly pass antialias=True (recommended, future default), antialias=None (current default, which means False for Tensors and True for PIL), or antialias=False (only works on Tensors - PIL will still use antialiasing). This also applies if you are using the inference transforms from the models weights: update the call to weights.transforms(antialias=True).\n",
            "  warnings.warn(\n",
            "/usr/local/lib/python3.10/dist-packages/torchvision/transforms/functional.py:1603: UserWarning: The default value of the antialias parameter of all the resizing transforms (Resize(), RandomResizedCrop(), etc.) will change from None to True in v0.17, in order to be consistent across the PIL and Tensor backends. To suppress this warning, directly pass antialias=True (recommended, future default), antialias=None (current default, which means False for Tensors and True for PIL), or antialias=False (only works on Tensors - PIL will still use antialiasing). This also applies if you are using the inference transforms from the models weights: update the call to weights.transforms(antialias=True).\n",
            "  warnings.warn(\n",
            "/usr/local/lib/python3.10/dist-packages/torchvision/transforms/functional.py:1603: UserWarning: The default value of the antialias parameter of all the resizing transforms (Resize(), RandomResizedCrop(), etc.) will change from None to True in v0.17, in order to be consistent across the PIL and Tensor backends. To suppress this warning, directly pass antialias=True (recommended, future default), antialias=None (current default, which means False for Tensors and True for PIL), or antialias=False (only works on Tensors - PIL will still use antialiasing). This also applies if you are using the inference transforms from the models weights: update the call to weights.transforms(antialias=True).\n",
            "  warnings.warn(\n"
          ]
        },
        {
          "output_type": "stream",
          "name": "stdout",
          "text": [
            "[09:15:58.050135] Test:  [0/5]  eta: 0:00:04  loss: 2.3570 (2.3570)  acc1: 46.8750 (46.8750)  acc5: 71.8750 (71.8750)  time: 0.9218  data: 0.7083  max mem: 4877\n",
            "[09:15:58.546985] Test:  [4/5]  eta: 0:00:00  loss: 2.5038 (2.8726)  acc1: 40.6250 (34.0278)  acc5: 65.6250 (58.3333)  time: 0.2835  data: 0.1421  max mem: 4877\n",
            "[09:15:58.641997] Test: Total time: 0:00:01 (0.3029 s / it)\n",
            "[09:15:58.642174] * Acc@1 34.028 Acc@5 58.333 loss 2.873\n",
            "[09:15:58.643531] Accuracy of the network on the 144 test images: 34.0%\n",
            "[09:15:58.643608] Max accuracy: 38.89%\n",
            "[09:15:58.651675] log_dir: /content/gdrive/MyDrive/Colab_Notebooks/Modal/logs/vit_base_patch16/2023_05_31__09_03_21\n"
          ]
        },
        {
          "output_type": "stream",
          "name": "stderr",
          "text": [
            "Training Epoch 46: 1it [00:01,  1.85s/it]"
          ]
        },
        {
          "output_type": "stream",
          "name": "stdout",
          "text": [
            "[09:16:00.529856] Epoch: [46]  [ 0/18]  eta: 0:00:33  lr: 0.000123  loss: 1.7607 (1.7607)  time: 1.8657  data: 1.4597  max mem: 4877\n"
          ]
        },
        {
          "output_type": "stream",
          "name": "stderr",
          "text": [
            "Training Epoch 46: 18it [00:08,  2.03it/s]\n"
          ]
        },
        {
          "output_type": "stream",
          "name": "stdout",
          "text": [
            "[09:16:07.397661] Epoch: [46]  [17/18]  eta: 0:00:00  lr: 0.000120  loss: 1.5812 (1.5421)  time: 0.4847  data: 0.0814  max mem: 4877\n",
            "[09:16:07.520434] Epoch: [46] Total time: 0:00:08 (0.4922 s / it)\n",
            "[09:16:07.523503] Averaged stats: lr: 0.000120  loss: 1.5812 (1.5421)\n"
          ]
        },
        {
          "output_type": "stream",
          "name": "stderr",
          "text": [
            "/usr/local/lib/python3.10/dist-packages/torchvision/transforms/functional.py:1603: UserWarning: The default value of the antialias parameter of all the resizing transforms (Resize(), RandomResizedCrop(), etc.) will change from None to True in v0.17, in order to be consistent across the PIL and Tensor backends. To suppress this warning, directly pass antialias=True (recommended, future default), antialias=None (current default, which means False for Tensors and True for PIL), or antialias=False (only works on Tensors - PIL will still use antialiasing). This also applies if you are using the inference transforms from the models weights: update the call to weights.transforms(antialias=True).\n",
            "  warnings.warn(\n",
            "/usr/local/lib/python3.10/dist-packages/torchvision/transforms/functional.py:1603: UserWarning: The default value of the antialias parameter of all the resizing transforms (Resize(), RandomResizedCrop(), etc.) will change from None to True in v0.17, in order to be consistent across the PIL and Tensor backends. To suppress this warning, directly pass antialias=True (recommended, future default), antialias=None (current default, which means False for Tensors and True for PIL), or antialias=False (only works on Tensors - PIL will still use antialiasing). This also applies if you are using the inference transforms from the models weights: update the call to weights.transforms(antialias=True).\n",
            "  warnings.warn(\n",
            "/usr/local/lib/python3.10/dist-packages/torchvision/transforms/functional.py:1603: UserWarning: The default value of the antialias parameter of all the resizing transforms (Resize(), RandomResizedCrop(), etc.) will change from None to True in v0.17, in order to be consistent across the PIL and Tensor backends. To suppress this warning, directly pass antialias=True (recommended, future default), antialias=None (current default, which means False for Tensors and True for PIL), or antialias=False (only works on Tensors - PIL will still use antialiasing). This also applies if you are using the inference transforms from the models weights: update the call to weights.transforms(antialias=True).\n",
            "  warnings.warn(\n",
            "/usr/local/lib/python3.10/dist-packages/torchvision/transforms/functional.py:1603: UserWarning: The default value of the antialias parameter of all the resizing transforms (Resize(), RandomResizedCrop(), etc.) will change from None to True in v0.17, in order to be consistent across the PIL and Tensor backends. To suppress this warning, directly pass antialias=True (recommended, future default), antialias=None (current default, which means False for Tensors and True for PIL), or antialias=False (only works on Tensors - PIL will still use antialiasing). This also applies if you are using the inference transforms from the models weights: update the call to weights.transforms(antialias=True).\n",
            "  warnings.warn(\n",
            "/usr/local/lib/python3.10/dist-packages/torchvision/transforms/functional.py:1603: UserWarning: The default value of the antialias parameter of all the resizing transforms (Resize(), RandomResizedCrop(), etc.) will change from None to True in v0.17, in order to be consistent across the PIL and Tensor backends. To suppress this warning, directly pass antialias=True (recommended, future default), antialias=None (current default, which means False for Tensors and True for PIL), or antialias=False (only works on Tensors - PIL will still use antialiasing). This also applies if you are using the inference transforms from the models weights: update the call to weights.transforms(antialias=True).\n",
            "  warnings.warn(\n"
          ]
        },
        {
          "output_type": "stream",
          "name": "stdout",
          "text": [
            "[09:16:11.790200] Test:  [0/5]  eta: 0:00:05  loss: 2.3520 (2.3520)  acc1: 50.0000 (50.0000)  acc5: 71.8750 (71.8750)  time: 1.0659  data: 0.8524  max mem: 4877\n",
            "[09:16:12.278350] Test:  [4/5]  eta: 0:00:00  loss: 2.5728 (2.8923)  acc1: 34.3750 (34.7222)  acc5: 59.3750 (59.7222)  time: 0.3103  data: 0.1721  max mem: 4877\n",
            "[09:16:12.379065] Test: Total time: 0:00:01 (0.3313 s / it)\n",
            "[09:16:12.379719] * Acc@1 34.722 Acc@5 59.722 loss 2.892\n",
            "[09:16:12.381171] Accuracy of the network on the 144 test images: 34.7%\n",
            "[09:16:12.381280] Max accuracy: 38.89%\n",
            "[09:16:12.389822] log_dir: /content/gdrive/MyDrive/Colab_Notebooks/Modal/logs/vit_base_patch16/2023_05_31__09_03_21\n"
          ]
        },
        {
          "output_type": "stream",
          "name": "stderr",
          "text": [
            "Training Epoch 47: 1it [00:01,  1.80s/it]"
          ]
        },
        {
          "output_type": "stream",
          "name": "stdout",
          "text": [
            "[09:16:14.226579] Epoch: [47]  [ 0/18]  eta: 0:00:32  lr: 0.000120  loss: 1.7043 (1.7043)  time: 1.8278  data: 1.4120  max mem: 4877\n"
          ]
        },
        {
          "output_type": "stream",
          "name": "stderr",
          "text": [
            "Training Epoch 47: 18it [00:08,  2.04it/s]\n"
          ]
        },
        {
          "output_type": "stream",
          "name": "stdout",
          "text": [
            "[09:16:21.107655] Epoch: [47]  [17/18]  eta: 0:00:00  lr: 0.000117  loss: 1.5533 (1.5610)  time: 0.4832  data: 0.0792  max mem: 4877\n",
            "[09:16:21.231359] Epoch: [47] Total time: 0:00:08 (0.4910 s / it)\n",
            "[09:16:21.232758] Averaged stats: lr: 0.000117  loss: 1.5533 (1.5610)\n"
          ]
        },
        {
          "output_type": "stream",
          "name": "stderr",
          "text": [
            "/usr/local/lib/python3.10/dist-packages/torchvision/transforms/functional.py:1603: UserWarning: The default value of the antialias parameter of all the resizing transforms (Resize(), RandomResizedCrop(), etc.) will change from None to True in v0.17, in order to be consistent across the PIL and Tensor backends. To suppress this warning, directly pass antialias=True (recommended, future default), antialias=None (current default, which means False for Tensors and True for PIL), or antialias=False (only works on Tensors - PIL will still use antialiasing). This also applies if you are using the inference transforms from the models weights: update the call to weights.transforms(antialias=True).\n",
            "  warnings.warn(\n",
            "/usr/local/lib/python3.10/dist-packages/torchvision/transforms/functional.py:1603: UserWarning: The default value of the antialias parameter of all the resizing transforms (Resize(), RandomResizedCrop(), etc.) will change from None to True in v0.17, in order to be consistent across the PIL and Tensor backends. To suppress this warning, directly pass antialias=True (recommended, future default), antialias=None (current default, which means False for Tensors and True for PIL), or antialias=False (only works on Tensors - PIL will still use antialiasing). This also applies if you are using the inference transforms from the models weights: update the call to weights.transforms(antialias=True).\n",
            "  warnings.warn(\n",
            "/usr/local/lib/python3.10/dist-packages/torchvision/transforms/functional.py:1603: UserWarning: The default value of the antialias parameter of all the resizing transforms (Resize(), RandomResizedCrop(), etc.) will change from None to True in v0.17, in order to be consistent across the PIL and Tensor backends. To suppress this warning, directly pass antialias=True (recommended, future default), antialias=None (current default, which means False for Tensors and True for PIL), or antialias=False (only works on Tensors - PIL will still use antialiasing). This also applies if you are using the inference transforms from the models weights: update the call to weights.transforms(antialias=True).\n",
            "  warnings.warn(\n",
            "/usr/local/lib/python3.10/dist-packages/torchvision/transforms/functional.py:1603: UserWarning: The default value of the antialias parameter of all the resizing transforms (Resize(), RandomResizedCrop(), etc.) will change from None to True in v0.17, in order to be consistent across the PIL and Tensor backends. To suppress this warning, directly pass antialias=True (recommended, future default), antialias=None (current default, which means False for Tensors and True for PIL), or antialias=False (only works on Tensors - PIL will still use antialiasing). This also applies if you are using the inference transforms from the models weights: update the call to weights.transforms(antialias=True).\n",
            "  warnings.warn(\n",
            "/usr/local/lib/python3.10/dist-packages/torchvision/transforms/functional.py:1603: UserWarning: The default value of the antialias parameter of all the resizing transforms (Resize(), RandomResizedCrop(), etc.) will change from None to True in v0.17, in order to be consistent across the PIL and Tensor backends. To suppress this warning, directly pass antialias=True (recommended, future default), antialias=None (current default, which means False for Tensors and True for PIL), or antialias=False (only works on Tensors - PIL will still use antialiasing). This also applies if you are using the inference transforms from the models weights: update the call to weights.transforms(antialias=True).\n",
            "  warnings.warn(\n"
          ]
        },
        {
          "output_type": "stream",
          "name": "stdout",
          "text": [
            "[09:16:25.671286] Test:  [0/5]  eta: 0:00:05  loss: 2.5907 (2.5907)  acc1: 43.7500 (43.7500)  acc5: 59.3750 (59.3750)  time: 1.0790  data: 0.8657  max mem: 4877\n",
            "[09:16:26.166041] Test:  [4/5]  eta: 0:00:00  loss: 2.6447 (2.8908)  acc1: 37.5000 (38.1944)  acc5: 59.3750 (58.3333)  time: 0.3145  data: 0.1733  max mem: 4877\n",
            "[09:16:26.264315] Test: Total time: 0:00:01 (0.3346 s / it)\n",
            "[09:16:26.264480] * Acc@1 38.194 Acc@5 58.333 loss 2.891\n",
            "[09:16:26.265831] Accuracy of the network on the 144 test images: 38.2%\n",
            "[09:16:26.265912] Max accuracy: 38.89%\n",
            "[09:16:26.271203] log_dir: /content/gdrive/MyDrive/Colab_Notebooks/Modal/logs/vit_base_patch16/2023_05_31__09_03_21\n"
          ]
        },
        {
          "output_type": "stream",
          "name": "stderr",
          "text": [
            "Training Epoch 48: 1it [00:01,  1.77s/it]"
          ]
        },
        {
          "output_type": "stream",
          "name": "stdout",
          "text": [
            "[09:16:28.046372] Epoch: [48]  [ 0/18]  eta: 0:00:31  lr: 0.000117  loss: 1.4433 (1.4433)  time: 1.7715  data: 1.3682  max mem: 4877\n"
          ]
        },
        {
          "output_type": "stream",
          "name": "stderr",
          "text": [
            "Training Epoch 48: 18it [00:08,  2.05it/s]\n"
          ]
        },
        {
          "output_type": "stream",
          "name": "stdout",
          "text": [
            "[09:16:34.929295] Epoch: [48]  [17/18]  eta: 0:00:00  lr: 0.000114  loss: 1.5623 (1.5179)  time: 0.4805  data: 0.0763  max mem: 4877\n",
            "[09:16:35.062924] Epoch: [48] Total time: 0:00:08 (0.4883 s / it)\n",
            "[09:16:35.064520] Averaged stats: lr: 0.000114  loss: 1.5623 (1.5179)\n"
          ]
        },
        {
          "output_type": "stream",
          "name": "stderr",
          "text": [
            "/usr/local/lib/python3.10/dist-packages/torchvision/transforms/functional.py:1603: UserWarning: The default value of the antialias parameter of all the resizing transforms (Resize(), RandomResizedCrop(), etc.) will change from None to True in v0.17, in order to be consistent across the PIL and Tensor backends. To suppress this warning, directly pass antialias=True (recommended, future default), antialias=None (current default, which means False for Tensors and True for PIL), or antialias=False (only works on Tensors - PIL will still use antialiasing). This also applies if you are using the inference transforms from the models weights: update the call to weights.transforms(antialias=True).\n",
            "  warnings.warn(\n",
            "/usr/local/lib/python3.10/dist-packages/torchvision/transforms/functional.py:1603: UserWarning: The default value of the antialias parameter of all the resizing transforms (Resize(), RandomResizedCrop(), etc.) will change from None to True in v0.17, in order to be consistent across the PIL and Tensor backends. To suppress this warning, directly pass antialias=True (recommended, future default), antialias=None (current default, which means False for Tensors and True for PIL), or antialias=False (only works on Tensors - PIL will still use antialiasing). This also applies if you are using the inference transforms from the models weights: update the call to weights.transforms(antialias=True).\n",
            "  warnings.warn(\n",
            "/usr/local/lib/python3.10/dist-packages/torchvision/transforms/functional.py:1603: UserWarning: The default value of the antialias parameter of all the resizing transforms (Resize(), RandomResizedCrop(), etc.) will change from None to True in v0.17, in order to be consistent across the PIL and Tensor backends. To suppress this warning, directly pass antialias=True (recommended, future default), antialias=None (current default, which means False for Tensors and True for PIL), or antialias=False (only works on Tensors - PIL will still use antialiasing). This also applies if you are using the inference transforms from the models weights: update the call to weights.transforms(antialias=True).\n",
            "  warnings.warn(\n",
            "/usr/local/lib/python3.10/dist-packages/torchvision/transforms/functional.py:1603: UserWarning: The default value of the antialias parameter of all the resizing transforms (Resize(), RandomResizedCrop(), etc.) will change from None to True in v0.17, in order to be consistent across the PIL and Tensor backends. To suppress this warning, directly pass antialias=True (recommended, future default), antialias=None (current default, which means False for Tensors and True for PIL), or antialias=False (only works on Tensors - PIL will still use antialiasing). This also applies if you are using the inference transforms from the models weights: update the call to weights.transforms(antialias=True).\n",
            "  warnings.warn(\n",
            "/usr/local/lib/python3.10/dist-packages/torchvision/transforms/functional.py:1603: UserWarning: The default value of the antialias parameter of all the resizing transforms (Resize(), RandomResizedCrop(), etc.) will change from None to True in v0.17, in order to be consistent across the PIL and Tensor backends. To suppress this warning, directly pass antialias=True (recommended, future default), antialias=None (current default, which means False for Tensors and True for PIL), or antialias=False (only works on Tensors - PIL will still use antialiasing). This also applies if you are using the inference transforms from the models weights: update the call to weights.transforms(antialias=True).\n",
            "  warnings.warn(\n"
          ]
        },
        {
          "output_type": "stream",
          "name": "stdout",
          "text": [
            "[09:16:39.163314] Test:  [0/5]  eta: 0:00:05  loss: 2.4200 (2.4200)  acc1: 46.8750 (46.8750)  acc5: 68.7500 (68.7500)  time: 1.0733  data: 0.8597  max mem: 4877\n",
            "[09:16:39.661430] Test:  [4/5]  eta: 0:00:00  loss: 2.5868 (2.9180)  acc1: 37.5000 (34.7222)  acc5: 62.5000 (59.0278)  time: 0.3140  data: 0.1722  max mem: 4877\n",
            "[09:16:39.765663] Test: Total time: 0:00:01 (0.3354 s / it)\n",
            "[09:16:39.765840] * Acc@1 34.722 Acc@5 59.028 loss 2.918\n",
            "[09:16:39.767688] Accuracy of the network on the 144 test images: 34.7%\n",
            "[09:16:39.768190] Max accuracy: 38.89%\n",
            "[09:16:39.772987] log_dir: /content/gdrive/MyDrive/Colab_Notebooks/Modal/logs/vit_base_patch16/2023_05_31__09_03_21\n"
          ]
        },
        {
          "output_type": "stream",
          "name": "stderr",
          "text": [
            "Training Epoch 49: 1it [00:02,  2.35s/it]"
          ]
        },
        {
          "output_type": "stream",
          "name": "stdout",
          "text": [
            "[09:16:42.140839] Epoch: [49]  [ 0/18]  eta: 0:00:42  lr: 0.000114  loss: 1.7538 (1.7538)  time: 2.3638  data: 1.8987  max mem: 4877\n"
          ]
        },
        {
          "output_type": "stream",
          "name": "stderr",
          "text": [
            "Training Epoch 49: 18it [00:09,  1.90it/s]\n"
          ]
        },
        {
          "output_type": "stream",
          "name": "stdout",
          "text": [
            "[09:16:49.067960] Epoch: [49]  [17/18]  eta: 0:00:00  lr: 0.000111  loss: 1.6193 (1.5314)  time: 0.5160  data: 0.1060  max mem: 4877\n",
            "[09:16:49.238100] Epoch: [49] Total time: 0:00:09 (0.5257 s / it)\n",
            "[09:16:49.244578] Averaged stats: lr: 0.000111  loss: 1.6193 (1.5314)\n"
          ]
        },
        {
          "output_type": "stream",
          "name": "stderr",
          "text": [
            "/usr/local/lib/python3.10/dist-packages/torchvision/transforms/functional.py:1603: UserWarning: The default value of the antialias parameter of all the resizing transforms (Resize(), RandomResizedCrop(), etc.) will change from None to True in v0.17, in order to be consistent across the PIL and Tensor backends. To suppress this warning, directly pass antialias=True (recommended, future default), antialias=None (current default, which means False for Tensors and True for PIL), or antialias=False (only works on Tensors - PIL will still use antialiasing). This also applies if you are using the inference transforms from the models weights: update the call to weights.transforms(antialias=True).\n",
            "  warnings.warn(\n",
            "/usr/local/lib/python3.10/dist-packages/torchvision/transforms/functional.py:1603: UserWarning: The default value of the antialias parameter of all the resizing transforms (Resize(), RandomResizedCrop(), etc.) will change from None to True in v0.17, in order to be consistent across the PIL and Tensor backends. To suppress this warning, directly pass antialias=True (recommended, future default), antialias=None (current default, which means False for Tensors and True for PIL), or antialias=False (only works on Tensors - PIL will still use antialiasing). This also applies if you are using the inference transforms from the models weights: update the call to weights.transforms(antialias=True).\n",
            "  warnings.warn(\n",
            "/usr/local/lib/python3.10/dist-packages/torchvision/transforms/functional.py:1603: UserWarning: The default value of the antialias parameter of all the resizing transforms (Resize(), RandomResizedCrop(), etc.) will change from None to True in v0.17, in order to be consistent across the PIL and Tensor backends. To suppress this warning, directly pass antialias=True (recommended, future default), antialias=None (current default, which means False for Tensors and True for PIL), or antialias=False (only works on Tensors - PIL will still use antialiasing). This also applies if you are using the inference transforms from the models weights: update the call to weights.transforms(antialias=True).\n",
            "  warnings.warn(\n",
            "/usr/local/lib/python3.10/dist-packages/torchvision/transforms/functional.py:1603: UserWarning: The default value of the antialias parameter of all the resizing transforms (Resize(), RandomResizedCrop(), etc.) will change from None to True in v0.17, in order to be consistent across the PIL and Tensor backends. To suppress this warning, directly pass antialias=True (recommended, future default), antialias=None (current default, which means False for Tensors and True for PIL), or antialias=False (only works on Tensors - PIL will still use antialiasing). This also applies if you are using the inference transforms from the models weights: update the call to weights.transforms(antialias=True).\n",
            "  warnings.warn(\n",
            "/usr/local/lib/python3.10/dist-packages/torchvision/transforms/functional.py:1603: UserWarning: The default value of the antialias parameter of all the resizing transforms (Resize(), RandomResizedCrop(), etc.) will change from None to True in v0.17, in order to be consistent across the PIL and Tensor backends. To suppress this warning, directly pass antialias=True (recommended, future default), antialias=None (current default, which means False for Tensors and True for PIL), or antialias=False (only works on Tensors - PIL will still use antialiasing). This also applies if you are using the inference transforms from the models weights: update the call to weights.transforms(antialias=True).\n",
            "  warnings.warn(\n"
          ]
        },
        {
          "output_type": "stream",
          "name": "stdout",
          "text": [
            "[09:16:55.723371] Test:  [0/5]  eta: 0:00:07  loss: 2.5177 (2.5177)  acc1: 43.7500 (43.7500)  acc5: 65.6250 (65.6250)  time: 1.5273  data: 1.3138  max mem: 4877\n",
            "[09:16:56.205419] Test:  [4/5]  eta: 0:00:00  loss: 2.6215 (2.8853)  acc1: 31.2500 (32.6389)  acc5: 59.3750 (59.7222)  time: 0.4016  data: 0.2629  max mem: 4877\n",
            "[09:16:56.339769] Test: Total time: 0:00:02 (0.4291 s / it)\n",
            "[09:16:56.339953] * Acc@1 32.639 Acc@5 59.722 loss 2.885\n",
            "[09:16:56.342494] Accuracy of the network on the 144 test images: 32.6%\n",
            "[09:16:56.342585] Max accuracy: 38.89%\n",
            "[09:16:56.351454] log_dir: /content/gdrive/MyDrive/Colab_Notebooks/Modal/logs/vit_base_patch16/2023_05_31__09_03_21\n"
          ]
        },
        {
          "output_type": "stream",
          "name": "stderr",
          "text": [
            "Training Epoch 50: 1it [00:02,  2.38s/it]"
          ]
        },
        {
          "output_type": "stream",
          "name": "stdout",
          "text": [
            "[09:16:58.740783] Epoch: [50]  [ 0/18]  eta: 0:00:42  lr: 0.000110  loss: 1.7935 (1.7935)  time: 2.3840  data: 1.8836  max mem: 4877\n"
          ]
        },
        {
          "output_type": "stream",
          "name": "stderr",
          "text": [
            "Training Epoch 50: 18it [00:09,  1.89it/s]\n"
          ]
        },
        {
          "output_type": "stream",
          "name": "stdout",
          "text": [
            "[09:17:05.700665] Epoch: [50]  [17/18]  eta: 0:00:00  lr: 0.000108  loss: 1.7235 (1.6025)  time: 0.5187  data: 0.1051  max mem: 4877\n",
            "[09:17:05.886571] Epoch: [50] Total time: 0:00:09 (0.5295 s / it)\n",
            "[09:17:05.890007] Averaged stats: lr: 0.000108  loss: 1.7235 (1.6025)\n"
          ]
        },
        {
          "output_type": "stream",
          "name": "stderr",
          "text": [
            "/usr/local/lib/python3.10/dist-packages/torchvision/transforms/functional.py:1603: UserWarning: The default value of the antialias parameter of all the resizing transforms (Resize(), RandomResizedCrop(), etc.) will change from None to True in v0.17, in order to be consistent across the PIL and Tensor backends. To suppress this warning, directly pass antialias=True (recommended, future default), antialias=None (current default, which means False for Tensors and True for PIL), or antialias=False (only works on Tensors - PIL will still use antialiasing). This also applies if you are using the inference transforms from the models weights: update the call to weights.transforms(antialias=True).\n",
            "  warnings.warn(\n",
            "/usr/local/lib/python3.10/dist-packages/torchvision/transforms/functional.py:1603: UserWarning: The default value of the antialias parameter of all the resizing transforms (Resize(), RandomResizedCrop(), etc.) will change from None to True in v0.17, in order to be consistent across the PIL and Tensor backends. To suppress this warning, directly pass antialias=True (recommended, future default), antialias=None (current default, which means False for Tensors and True for PIL), or antialias=False (only works on Tensors - PIL will still use antialiasing). This also applies if you are using the inference transforms from the models weights: update the call to weights.transforms(antialias=True).\n",
            "  warnings.warn(\n",
            "/usr/local/lib/python3.10/dist-packages/torchvision/transforms/functional.py:1603: UserWarning: The default value of the antialias parameter of all the resizing transforms (Resize(), RandomResizedCrop(), etc.) will change from None to True in v0.17, in order to be consistent across the PIL and Tensor backends. To suppress this warning, directly pass antialias=True (recommended, future default), antialias=None (current default, which means False for Tensors and True for PIL), or antialias=False (only works on Tensors - PIL will still use antialiasing). This also applies if you are using the inference transforms from the models weights: update the call to weights.transforms(antialias=True).\n",
            "  warnings.warn(\n",
            "/usr/local/lib/python3.10/dist-packages/torchvision/transforms/functional.py:1603: UserWarning: The default value of the antialias parameter of all the resizing transforms (Resize(), RandomResizedCrop(), etc.) will change from None to True in v0.17, in order to be consistent across the PIL and Tensor backends. To suppress this warning, directly pass antialias=True (recommended, future default), antialias=None (current default, which means False for Tensors and True for PIL), or antialias=False (only works on Tensors - PIL will still use antialiasing). This also applies if you are using the inference transforms from the models weights: update the call to weights.transforms(antialias=True).\n",
            "  warnings.warn(\n",
            "/usr/local/lib/python3.10/dist-packages/torchvision/transforms/functional.py:1603: UserWarning: The default value of the antialias parameter of all the resizing transforms (Resize(), RandomResizedCrop(), etc.) will change from None to True in v0.17, in order to be consistent across the PIL and Tensor backends. To suppress this warning, directly pass antialias=True (recommended, future default), antialias=None (current default, which means False for Tensors and True for PIL), or antialias=False (only works on Tensors - PIL will still use antialiasing). This also applies if you are using the inference transforms from the models weights: update the call to weights.transforms(antialias=True).\n",
            "  warnings.warn(\n"
          ]
        },
        {
          "output_type": "stream",
          "name": "stdout",
          "text": [
            "[09:17:11.621032] Test:  [0/5]  eta: 0:00:06  loss: 2.5584 (2.5584)  acc1: 43.7500 (43.7500)  acc5: 65.6250 (65.6250)  time: 1.3894  data: 1.1757  max mem: 4877\n",
            "[09:17:12.115383] Test:  [4/5]  eta: 0:00:00  loss: 2.6431 (2.9073)  acc1: 31.2500 (32.6389)  acc5: 59.3750 (58.3333)  time: 0.3764  data: 0.2354  max mem: 4877\n",
            "[09:17:12.241478] Test: Total time: 0:00:02 (0.4024 s / it)\n",
            "[09:17:12.241689] * Acc@1 32.639 Acc@5 58.333 loss 2.907\n",
            "[09:17:12.243876] Accuracy of the network on the 144 test images: 32.6%\n",
            "[09:17:12.244058] Max accuracy: 38.89%\n",
            "[09:17:12.252372] log_dir: /content/gdrive/MyDrive/Colab_Notebooks/Modal/logs/vit_base_patch16/2023_05_31__09_03_21\n"
          ]
        },
        {
          "output_type": "stream",
          "name": "stderr",
          "text": [
            "Training Epoch 51: 1it [00:02,  2.43s/it]"
          ]
        },
        {
          "output_type": "stream",
          "name": "stdout",
          "text": [
            "[09:17:14.696266] Epoch: [51]  [ 0/18]  eta: 0:00:43  lr: 0.000107  loss: 1.8645 (1.8645)  time: 2.4381  data: 1.9398  max mem: 4877\n"
          ]
        },
        {
          "output_type": "stream",
          "name": "stderr",
          "text": [
            "Training Epoch 51: 18it [00:09,  1.87it/s]\n"
          ]
        },
        {
          "output_type": "stream",
          "name": "stdout",
          "text": [
            "[09:17:21.714925] Epoch: [51]  [17/18]  eta: 0:00:00  lr: 0.000105  loss: 1.7077 (1.6481)  time: 0.5252  data: 0.1081  max mem: 4877\n",
            "[09:17:21.881513] Epoch: [51] Total time: 0:00:09 (0.5347 s / it)\n",
            "[09:17:21.885942] Averaged stats: lr: 0.000105  loss: 1.7077 (1.6481)\n"
          ]
        },
        {
          "output_type": "stream",
          "name": "stderr",
          "text": [
            "/usr/local/lib/python3.10/dist-packages/torchvision/transforms/functional.py:1603: UserWarning: The default value of the antialias parameter of all the resizing transforms (Resize(), RandomResizedCrop(), etc.) will change from None to True in v0.17, in order to be consistent across the PIL and Tensor backends. To suppress this warning, directly pass antialias=True (recommended, future default), antialias=None (current default, which means False for Tensors and True for PIL), or antialias=False (only works on Tensors - PIL will still use antialiasing). This also applies if you are using the inference transforms from the models weights: update the call to weights.transforms(antialias=True).\n",
            "  warnings.warn(\n",
            "/usr/local/lib/python3.10/dist-packages/torchvision/transforms/functional.py:1603: UserWarning: The default value of the antialias parameter of all the resizing transforms (Resize(), RandomResizedCrop(), etc.) will change from None to True in v0.17, in order to be consistent across the PIL and Tensor backends. To suppress this warning, directly pass antialias=True (recommended, future default), antialias=None (current default, which means False for Tensors and True for PIL), or antialias=False (only works on Tensors - PIL will still use antialiasing). This also applies if you are using the inference transforms from the models weights: update the call to weights.transforms(antialias=True).\n",
            "  warnings.warn(\n",
            "/usr/local/lib/python3.10/dist-packages/torchvision/transforms/functional.py:1603: UserWarning: The default value of the antialias parameter of all the resizing transforms (Resize(), RandomResizedCrop(), etc.) will change from None to True in v0.17, in order to be consistent across the PIL and Tensor backends. To suppress this warning, directly pass antialias=True (recommended, future default), antialias=None (current default, which means False for Tensors and True for PIL), or antialias=False (only works on Tensors - PIL will still use antialiasing). This also applies if you are using the inference transforms from the models weights: update the call to weights.transforms(antialias=True).\n",
            "  warnings.warn(\n",
            "/usr/local/lib/python3.10/dist-packages/torchvision/transforms/functional.py:1603: UserWarning: The default value of the antialias parameter of all the resizing transforms (Resize(), RandomResizedCrop(), etc.) will change from None to True in v0.17, in order to be consistent across the PIL and Tensor backends. To suppress this warning, directly pass antialias=True (recommended, future default), antialias=None (current default, which means False for Tensors and True for PIL), or antialias=False (only works on Tensors - PIL will still use antialiasing). This also applies if you are using the inference transforms from the models weights: update the call to weights.transforms(antialias=True).\n",
            "  warnings.warn(\n",
            "/usr/local/lib/python3.10/dist-packages/torchvision/transforms/functional.py:1603: UserWarning: The default value of the antialias parameter of all the resizing transforms (Resize(), RandomResizedCrop(), etc.) will change from None to True in v0.17, in order to be consistent across the PIL and Tensor backends. To suppress this warning, directly pass antialias=True (recommended, future default), antialias=None (current default, which means False for Tensors and True for PIL), or antialias=False (only works on Tensors - PIL will still use antialiasing). This also applies if you are using the inference transforms from the models weights: update the call to weights.transforms(antialias=True).\n",
            "  warnings.warn(\n"
          ]
        },
        {
          "output_type": "stream",
          "name": "stdout",
          "text": [
            "[09:17:26.972318] Test:  [0/5]  eta: 0:00:06  loss: 2.5846 (2.5846)  acc1: 43.7500 (43.7500)  acc5: 65.6250 (65.6250)  time: 1.2554  data: 1.0482  max mem: 4877\n",
            "[09:17:27.452873] Test:  [4/5]  eta: 0:00:00  loss: 2.6473 (2.9034)  acc1: 31.2500 (33.3333)  acc5: 65.6250 (61.1111)  time: 0.3469  data: 0.2100  max mem: 4877\n",
            "[09:17:27.574375] Test: Total time: 0:00:01 (0.3718 s / it)\n",
            "[09:17:27.575344] * Acc@1 33.333 Acc@5 61.111 loss 2.903\n",
            "[09:17:27.576573] Accuracy of the network on the 144 test images: 33.3%\n",
            "[09:17:27.577223] Max accuracy: 38.89%\n",
            "[09:17:27.585390] log_dir: /content/gdrive/MyDrive/Colab_Notebooks/Modal/logs/vit_base_patch16/2023_05_31__09_03_21\n"
          ]
        },
        {
          "output_type": "stream",
          "name": "stderr",
          "text": [
            "Training Epoch 52: 1it [00:02,  2.52s/it]"
          ]
        },
        {
          "output_type": "stream",
          "name": "stdout",
          "text": [
            "[09:17:30.124240] Epoch: [52]  [ 0/18]  eta: 0:00:45  lr: 0.000104  loss: 1.8516 (1.8516)  time: 2.5302  data: 2.0500  max mem: 4877\n"
          ]
        },
        {
          "output_type": "stream",
          "name": "stderr",
          "text": [
            "Training Epoch 52: 18it [00:09,  1.86it/s]\n"
          ]
        },
        {
          "output_type": "stream",
          "name": "stdout",
          "text": [
            "[09:17:37.089682] Epoch: [52]  [17/18]  eta: 0:00:00  lr: 0.000101  loss: 1.3061 (1.3739)  time: 0.5274  data: 0.1146  max mem: 4877\n",
            "[09:17:37.251707] Epoch: [52] Total time: 0:00:09 (0.5366 s / it)\n",
            "[09:17:37.260070] Averaged stats: lr: 0.000101  loss: 1.3061 (1.3739)\n"
          ]
        },
        {
          "output_type": "stream",
          "name": "stderr",
          "text": [
            "/usr/local/lib/python3.10/dist-packages/torchvision/transforms/functional.py:1603: UserWarning: The default value of the antialias parameter of all the resizing transforms (Resize(), RandomResizedCrop(), etc.) will change from None to True in v0.17, in order to be consistent across the PIL and Tensor backends. To suppress this warning, directly pass antialias=True (recommended, future default), antialias=None (current default, which means False for Tensors and True for PIL), or antialias=False (only works on Tensors - PIL will still use antialiasing). This also applies if you are using the inference transforms from the models weights: update the call to weights.transforms(antialias=True).\n",
            "  warnings.warn(\n",
            "/usr/local/lib/python3.10/dist-packages/torchvision/transforms/functional.py:1603: UserWarning: The default value of the antialias parameter of all the resizing transforms (Resize(), RandomResizedCrop(), etc.) will change from None to True in v0.17, in order to be consistent across the PIL and Tensor backends. To suppress this warning, directly pass antialias=True (recommended, future default), antialias=None (current default, which means False for Tensors and True for PIL), or antialias=False (only works on Tensors - PIL will still use antialiasing). This also applies if you are using the inference transforms from the models weights: update the call to weights.transforms(antialias=True).\n",
            "  warnings.warn(\n",
            "/usr/local/lib/python3.10/dist-packages/torchvision/transforms/functional.py:1603: UserWarning: The default value of the antialias parameter of all the resizing transforms (Resize(), RandomResizedCrop(), etc.) will change from None to True in v0.17, in order to be consistent across the PIL and Tensor backends. To suppress this warning, directly pass antialias=True (recommended, future default), antialias=None (current default, which means False for Tensors and True for PIL), or antialias=False (only works on Tensors - PIL will still use antialiasing). This also applies if you are using the inference transforms from the models weights: update the call to weights.transforms(antialias=True).\n",
            "  warnings.warn(\n",
            "/usr/local/lib/python3.10/dist-packages/torchvision/transforms/functional.py:1603: UserWarning: The default value of the antialias parameter of all the resizing transforms (Resize(), RandomResizedCrop(), etc.) will change from None to True in v0.17, in order to be consistent across the PIL and Tensor backends. To suppress this warning, directly pass antialias=True (recommended, future default), antialias=None (current default, which means False for Tensors and True for PIL), or antialias=False (only works on Tensors - PIL will still use antialiasing). This also applies if you are using the inference transforms from the models weights: update the call to weights.transforms(antialias=True).\n",
            "  warnings.warn(\n",
            "/usr/local/lib/python3.10/dist-packages/torchvision/transforms/functional.py:1603: UserWarning: The default value of the antialias parameter of all the resizing transforms (Resize(), RandomResizedCrop(), etc.) will change from None to True in v0.17, in order to be consistent across the PIL and Tensor backends. To suppress this warning, directly pass antialias=True (recommended, future default), antialias=None (current default, which means False for Tensors and True for PIL), or antialias=False (only works on Tensors - PIL will still use antialiasing). This also applies if you are using the inference transforms from the models weights: update the call to weights.transforms(antialias=True).\n",
            "  warnings.warn(\n"
          ]
        },
        {
          "output_type": "stream",
          "name": "stdout",
          "text": [
            "[09:17:42.269616] Test:  [0/5]  eta: 0:00:06  loss: 2.5721 (2.5721)  acc1: 40.6250 (40.6250)  acc5: 65.6250 (65.6250)  time: 1.2459  data: 1.0322  max mem: 4877\n",
            "[09:17:42.755650] Test:  [4/5]  eta: 0:00:00  loss: 2.6286 (2.9103)  acc1: 34.3750 (31.9444)  acc5: 62.5000 (58.3333)  time: 0.3458  data: 0.2068  max mem: 4877\n",
            "[09:17:42.882944] Test: Total time: 0:00:01 (0.3722 s / it)\n",
            "[09:17:42.883103] * Acc@1 31.944 Acc@5 58.333 loss 2.910\n",
            "[09:17:42.884776] Accuracy of the network on the 144 test images: 31.9%\n",
            "[09:17:42.884858] Max accuracy: 38.89%\n",
            "[09:17:42.891649] log_dir: /content/gdrive/MyDrive/Colab_Notebooks/Modal/logs/vit_base_patch16/2023_05_31__09_03_21\n"
          ]
        },
        {
          "output_type": "stream",
          "name": "stderr",
          "text": [
            "Training Epoch 53: 1it [00:02,  2.23s/it]"
          ]
        },
        {
          "output_type": "stream",
          "name": "stdout",
          "text": [
            "[09:17:45.148351] Epoch: [53]  [ 0/18]  eta: 0:00:40  lr: 0.000101  loss: 1.6454 (1.6454)  time: 2.2505  data: 1.7577  max mem: 4877\n"
          ]
        },
        {
          "output_type": "stream",
          "name": "stderr",
          "text": [
            "Training Epoch 53: 18it [00:09,  1.93it/s]\n"
          ]
        },
        {
          "output_type": "stream",
          "name": "stdout",
          "text": [
            "[09:17:52.083377] Epoch: [53]  [17/18]  eta: 0:00:00  lr: 0.000098  loss: 1.6454 (1.6260)  time: 0.5102  data: 0.0981  max mem: 4877\n",
            "[09:17:52.233812] Epoch: [53] Total time: 0:00:09 (0.5187 s / it)\n",
            "[09:17:52.238509] Averaged stats: lr: 0.000098  loss: 1.6454 (1.6260)\n"
          ]
        },
        {
          "output_type": "stream",
          "name": "stderr",
          "text": [
            "/usr/local/lib/python3.10/dist-packages/torchvision/transforms/functional.py:1603: UserWarning: The default value of the antialias parameter of all the resizing transforms (Resize(), RandomResizedCrop(), etc.) will change from None to True in v0.17, in order to be consistent across the PIL and Tensor backends. To suppress this warning, directly pass antialias=True (recommended, future default), antialias=None (current default, which means False for Tensors and True for PIL), or antialias=False (only works on Tensors - PIL will still use antialiasing). This also applies if you are using the inference transforms from the models weights: update the call to weights.transforms(antialias=True).\n",
            "  warnings.warn(\n",
            "/usr/local/lib/python3.10/dist-packages/torchvision/transforms/functional.py:1603: UserWarning: The default value of the antialias parameter of all the resizing transforms (Resize(), RandomResizedCrop(), etc.) will change from None to True in v0.17, in order to be consistent across the PIL and Tensor backends. To suppress this warning, directly pass antialias=True (recommended, future default), antialias=None (current default, which means False for Tensors and True for PIL), or antialias=False (only works on Tensors - PIL will still use antialiasing). This also applies if you are using the inference transforms from the models weights: update the call to weights.transforms(antialias=True).\n",
            "  warnings.warn(\n",
            "/usr/local/lib/python3.10/dist-packages/torchvision/transforms/functional.py:1603: UserWarning: The default value of the antialias parameter of all the resizing transforms (Resize(), RandomResizedCrop(), etc.) will change from None to True in v0.17, in order to be consistent across the PIL and Tensor backends. To suppress this warning, directly pass antialias=True (recommended, future default), antialias=None (current default, which means False for Tensors and True for PIL), or antialias=False (only works on Tensors - PIL will still use antialiasing). This also applies if you are using the inference transforms from the models weights: update the call to weights.transforms(antialias=True).\n",
            "  warnings.warn(\n",
            "/usr/local/lib/python3.10/dist-packages/torchvision/transforms/functional.py:1603: UserWarning: The default value of the antialias parameter of all the resizing transforms (Resize(), RandomResizedCrop(), etc.) will change from None to True in v0.17, in order to be consistent across the PIL and Tensor backends. To suppress this warning, directly pass antialias=True (recommended, future default), antialias=None (current default, which means False for Tensors and True for PIL), or antialias=False (only works on Tensors - PIL will still use antialiasing). This also applies if you are using the inference transforms from the models weights: update the call to weights.transforms(antialias=True).\n",
            "  warnings.warn(\n",
            "/usr/local/lib/python3.10/dist-packages/torchvision/transforms/functional.py:1603: UserWarning: The default value of the antialias parameter of all the resizing transforms (Resize(), RandomResizedCrop(), etc.) will change from None to True in v0.17, in order to be consistent across the PIL and Tensor backends. To suppress this warning, directly pass antialias=True (recommended, future default), antialias=None (current default, which means False for Tensors and True for PIL), or antialias=False (only works on Tensors - PIL will still use antialiasing). This also applies if you are using the inference transforms from the models weights: update the call to weights.transforms(antialias=True).\n",
            "  warnings.warn(\n"
          ]
        },
        {
          "output_type": "stream",
          "name": "stdout",
          "text": [
            "[09:17:57.171284] Test:  [0/5]  eta: 0:00:06  loss: 2.4473 (2.4473)  acc1: 46.8750 (46.8750)  acc5: 65.6250 (65.6250)  time: 1.2057  data: 0.9919  max mem: 4877\n",
            "[09:17:57.652733] Test:  [4/5]  eta: 0:00:00  loss: 2.6214 (2.9077)  acc1: 37.5000 (35.4167)  acc5: 59.3750 (58.3333)  time: 0.3370  data: 0.1986  max mem: 4877\n",
            "[09:17:57.764402] Test: Total time: 0:00:01 (0.3600 s / it)\n",
            "[09:17:57.765278] * Acc@1 35.417 Acc@5 58.333 loss 2.908\n",
            "[09:17:57.766736] Accuracy of the network on the 144 test images: 35.4%\n",
            "[09:17:57.766827] Max accuracy: 38.89%\n",
            "[09:17:57.787232] log_dir: /content/gdrive/MyDrive/Colab_Notebooks/Modal/logs/vit_base_patch16/2023_05_31__09_03_21\n"
          ]
        },
        {
          "output_type": "stream",
          "name": "stderr",
          "text": [
            "Training Epoch 54: 1it [00:02,  2.24s/it]"
          ]
        },
        {
          "output_type": "stream",
          "name": "stdout",
          "text": [
            "[09:18:00.039461] Epoch: [54]  [ 0/18]  eta: 0:00:40  lr: 0.000098  loss: 1.7015 (1.7015)  time: 2.2459  data: 1.7583  max mem: 4877\n"
          ]
        },
        {
          "output_type": "stream",
          "name": "stderr",
          "text": [
            "Training Epoch 54: 18it [00:09,  1.93it/s]\n"
          ]
        },
        {
          "output_type": "stream",
          "name": "stdout",
          "text": [
            "[09:18:06.961189] Epoch: [54]  [17/18]  eta: 0:00:00  lr: 0.000095  loss: 1.6505 (1.5385)  time: 0.5092  data: 0.0981  max mem: 4877\n",
            "[09:18:07.111321] Epoch: [54] Total time: 0:00:09 (0.5177 s / it)\n",
            "[09:18:07.113757] Averaged stats: lr: 0.000095  loss: 1.6505 (1.5385)\n"
          ]
        },
        {
          "output_type": "stream",
          "name": "stderr",
          "text": [
            "/usr/local/lib/python3.10/dist-packages/torchvision/transforms/functional.py:1603: UserWarning: The default value of the antialias parameter of all the resizing transforms (Resize(), RandomResizedCrop(), etc.) will change from None to True in v0.17, in order to be consistent across the PIL and Tensor backends. To suppress this warning, directly pass antialias=True (recommended, future default), antialias=None (current default, which means False for Tensors and True for PIL), or antialias=False (only works on Tensors - PIL will still use antialiasing). This also applies if you are using the inference transforms from the models weights: update the call to weights.transforms(antialias=True).\n",
            "  warnings.warn(\n",
            "/usr/local/lib/python3.10/dist-packages/torchvision/transforms/functional.py:1603: UserWarning: The default value of the antialias parameter of all the resizing transforms (Resize(), RandomResizedCrop(), etc.) will change from None to True in v0.17, in order to be consistent across the PIL and Tensor backends. To suppress this warning, directly pass antialias=True (recommended, future default), antialias=None (current default, which means False for Tensors and True for PIL), or antialias=False (only works on Tensors - PIL will still use antialiasing). This also applies if you are using the inference transforms from the models weights: update the call to weights.transforms(antialias=True).\n",
            "  warnings.warn(\n",
            "/usr/local/lib/python3.10/dist-packages/torchvision/transforms/functional.py:1603: UserWarning: The default value of the antialias parameter of all the resizing transforms (Resize(), RandomResizedCrop(), etc.) will change from None to True in v0.17, in order to be consistent across the PIL and Tensor backends. To suppress this warning, directly pass antialias=True (recommended, future default), antialias=None (current default, which means False for Tensors and True for PIL), or antialias=False (only works on Tensors - PIL will still use antialiasing). This also applies if you are using the inference transforms from the models weights: update the call to weights.transforms(antialias=True).\n",
            "  warnings.warn(\n",
            "/usr/local/lib/python3.10/dist-packages/torchvision/transforms/functional.py:1603: UserWarning: The default value of the antialias parameter of all the resizing transforms (Resize(), RandomResizedCrop(), etc.) will change from None to True in v0.17, in order to be consistent across the PIL and Tensor backends. To suppress this warning, directly pass antialias=True (recommended, future default), antialias=None (current default, which means False for Tensors and True for PIL), or antialias=False (only works on Tensors - PIL will still use antialiasing). This also applies if you are using the inference transforms from the models weights: update the call to weights.transforms(antialias=True).\n",
            "  warnings.warn(\n",
            "/usr/local/lib/python3.10/dist-packages/torchvision/transforms/functional.py:1603: UserWarning: The default value of the antialias parameter of all the resizing transforms (Resize(), RandomResizedCrop(), etc.) will change from None to True in v0.17, in order to be consistent across the PIL and Tensor backends. To suppress this warning, directly pass antialias=True (recommended, future default), antialias=None (current default, which means False for Tensors and True for PIL), or antialias=False (only works on Tensors - PIL will still use antialiasing). This also applies if you are using the inference transforms from the models weights: update the call to weights.transforms(antialias=True).\n",
            "  warnings.warn(\n"
          ]
        },
        {
          "output_type": "stream",
          "name": "stdout",
          "text": [
            "[09:18:11.678211] Test:  [0/5]  eta: 0:00:05  loss: 2.4647 (2.4647)  acc1: 37.5000 (37.5000)  acc5: 68.7500 (68.7500)  time: 1.0103  data: 0.7955  max mem: 4877\n",
            "[09:18:12.162382] Test:  [4/5]  eta: 0:00:00  loss: 2.6332 (2.8880)  acc1: 34.3750 (31.2500)  acc5: 59.3750 (57.6389)  time: 0.2983  data: 0.1593  max mem: 4877\n",
            "[09:18:12.274252] Test: Total time: 0:00:01 (0.3219 s / it)\n",
            "[09:18:12.274424] * Acc@1 31.250 Acc@5 57.639 loss 2.888\n",
            "[09:18:12.275884] Accuracy of the network on the 144 test images: 31.2%\n",
            "[09:18:12.275953] Max accuracy: 38.89%\n",
            "[09:18:12.283344] log_dir: /content/gdrive/MyDrive/Colab_Notebooks/Modal/logs/vit_base_patch16/2023_05_31__09_03_21\n"
          ]
        },
        {
          "output_type": "stream",
          "name": "stderr",
          "text": [
            "Training Epoch 55: 1it [00:01,  1.66s/it]"
          ]
        },
        {
          "output_type": "stream",
          "name": "stdout",
          "text": [
            "[09:18:13.972691] Epoch: [55]  [ 0/18]  eta: 0:00:30  lr: 0.000094  loss: 1.6536 (1.6536)  time: 1.6847  data: 1.2694  max mem: 4877\n"
          ]
        },
        {
          "output_type": "stream",
          "name": "stderr",
          "text": [
            "Training Epoch 55: 18it [00:08,  2.07it/s]\n"
          ]
        },
        {
          "output_type": "stream",
          "name": "stdout",
          "text": [
            "[09:18:20.845617] Epoch: [55]  [17/18]  eta: 0:00:00  lr: 0.000092  loss: 1.5699 (1.5475)  time: 0.4753  data: 0.0708  max mem: 4877\n",
            "[09:18:20.998394] Epoch: [55] Total time: 0:00:08 (0.4840 s / it)\n",
            "[09:18:21.000646] Averaged stats: lr: 0.000092  loss: 1.5699 (1.5475)\n"
          ]
        },
        {
          "output_type": "stream",
          "name": "stderr",
          "text": [
            "/usr/local/lib/python3.10/dist-packages/torchvision/transforms/functional.py:1603: UserWarning: The default value of the antialias parameter of all the resizing transforms (Resize(), RandomResizedCrop(), etc.) will change from None to True in v0.17, in order to be consistent across the PIL and Tensor backends. To suppress this warning, directly pass antialias=True (recommended, future default), antialias=None (current default, which means False for Tensors and True for PIL), or antialias=False (only works on Tensors - PIL will still use antialiasing). This also applies if you are using the inference transforms from the models weights: update the call to weights.transforms(antialias=True).\n",
            "  warnings.warn(\n",
            "/usr/local/lib/python3.10/dist-packages/torchvision/transforms/functional.py:1603: UserWarning: The default value of the antialias parameter of all the resizing transforms (Resize(), RandomResizedCrop(), etc.) will change from None to True in v0.17, in order to be consistent across the PIL and Tensor backends. To suppress this warning, directly pass antialias=True (recommended, future default), antialias=None (current default, which means False for Tensors and True for PIL), or antialias=False (only works on Tensors - PIL will still use antialiasing). This also applies if you are using the inference transforms from the models weights: update the call to weights.transforms(antialias=True).\n",
            "  warnings.warn(\n",
            "/usr/local/lib/python3.10/dist-packages/torchvision/transforms/functional.py:1603: UserWarning: The default value of the antialias parameter of all the resizing transforms (Resize(), RandomResizedCrop(), etc.) will change from None to True in v0.17, in order to be consistent across the PIL and Tensor backends. To suppress this warning, directly pass antialias=True (recommended, future default), antialias=None (current default, which means False for Tensors and True for PIL), or antialias=False (only works on Tensors - PIL will still use antialiasing). This also applies if you are using the inference transforms from the models weights: update the call to weights.transforms(antialias=True).\n",
            "  warnings.warn(\n",
            "/usr/local/lib/python3.10/dist-packages/torchvision/transforms/functional.py:1603: UserWarning: The default value of the antialias parameter of all the resizing transforms (Resize(), RandomResizedCrop(), etc.) will change from None to True in v0.17, in order to be consistent across the PIL and Tensor backends. To suppress this warning, directly pass antialias=True (recommended, future default), antialias=None (current default, which means False for Tensors and True for PIL), or antialias=False (only works on Tensors - PIL will still use antialiasing). This also applies if you are using the inference transforms from the models weights: update the call to weights.transforms(antialias=True).\n",
            "  warnings.warn(\n",
            "/usr/local/lib/python3.10/dist-packages/torchvision/transforms/functional.py:1603: UserWarning: The default value of the antialias parameter of all the resizing transforms (Resize(), RandomResizedCrop(), etc.) will change from None to True in v0.17, in order to be consistent across the PIL and Tensor backends. To suppress this warning, directly pass antialias=True (recommended, future default), antialias=None (current default, which means False for Tensors and True for PIL), or antialias=False (only works on Tensors - PIL will still use antialiasing). This also applies if you are using the inference transforms from the models weights: update the call to weights.transforms(antialias=True).\n",
            "  warnings.warn(\n"
          ]
        },
        {
          "output_type": "stream",
          "name": "stdout",
          "text": [
            "[09:18:25.213407] Test:  [0/5]  eta: 0:00:04  loss: 2.4764 (2.4764)  acc1: 40.6250 (40.6250)  acc5: 68.7500 (68.7500)  time: 0.9606  data: 0.7488  max mem: 4877\n",
            "[09:18:25.699473] Test:  [4/5]  eta: 0:00:00  loss: 2.5828 (2.8865)  acc1: 31.2500 (31.9444)  acc5: 65.6250 (61.8056)  time: 0.2891  data: 0.1517  max mem: 4877\n",
            "[09:18:25.794781] Test: Total time: 0:00:01 (0.3093 s / it)\n",
            "[09:18:25.795446] * Acc@1 31.944 Acc@5 61.806 loss 2.886\n",
            "[09:18:25.796183] Accuracy of the network on the 144 test images: 31.9%\n",
            "[09:18:25.796237] Max accuracy: 38.89%\n",
            "[09:18:25.804444] log_dir: /content/gdrive/MyDrive/Colab_Notebooks/Modal/logs/vit_base_patch16/2023_05_31__09_03_21\n"
          ]
        },
        {
          "output_type": "stream",
          "name": "stderr",
          "text": [
            "Training Epoch 56: 1it [00:01,  1.84s/it]"
          ]
        },
        {
          "output_type": "stream",
          "name": "stdout",
          "text": [
            "[09:18:27.665674] Epoch: [56]  [ 0/18]  eta: 0:00:33  lr: 0.000091  loss: 2.1050 (2.1050)  time: 1.8568  data: 1.4515  max mem: 4877\n"
          ]
        },
        {
          "output_type": "stream",
          "name": "stderr",
          "text": [
            "Training Epoch 56: 18it [00:08,  2.05it/s]\n"
          ]
        },
        {
          "output_type": "stream",
          "name": "stdout",
          "text": [
            "[09:18:34.455407] Epoch: [56]  [17/18]  eta: 0:00:00  lr: 0.000088  loss: 1.6516 (1.4990)  time: 0.4803  data: 0.0809  max mem: 4877\n",
            "[09:18:34.579294] Epoch: [56] Total time: 0:00:08 (0.4873 s / it)\n",
            "[09:18:34.582871] Averaged stats: lr: 0.000088  loss: 1.6516 (1.4990)\n"
          ]
        },
        {
          "output_type": "stream",
          "name": "stderr",
          "text": [
            "/usr/local/lib/python3.10/dist-packages/torchvision/transforms/functional.py:1603: UserWarning: The default value of the antialias parameter of all the resizing transforms (Resize(), RandomResizedCrop(), etc.) will change from None to True in v0.17, in order to be consistent across the PIL and Tensor backends. To suppress this warning, directly pass antialias=True (recommended, future default), antialias=None (current default, which means False for Tensors and True for PIL), or antialias=False (only works on Tensors - PIL will still use antialiasing). This also applies if you are using the inference transforms from the models weights: update the call to weights.transforms(antialias=True).\n",
            "  warnings.warn(\n",
            "/usr/local/lib/python3.10/dist-packages/torchvision/transforms/functional.py:1603: UserWarning: The default value of the antialias parameter of all the resizing transforms (Resize(), RandomResizedCrop(), etc.) will change from None to True in v0.17, in order to be consistent across the PIL and Tensor backends. To suppress this warning, directly pass antialias=True (recommended, future default), antialias=None (current default, which means False for Tensors and True for PIL), or antialias=False (only works on Tensors - PIL will still use antialiasing). This also applies if you are using the inference transforms from the models weights: update the call to weights.transforms(antialias=True).\n",
            "  warnings.warn(\n",
            "/usr/local/lib/python3.10/dist-packages/torchvision/transforms/functional.py:1603: UserWarning: The default value of the antialias parameter of all the resizing transforms (Resize(), RandomResizedCrop(), etc.) will change from None to True in v0.17, in order to be consistent across the PIL and Tensor backends. To suppress this warning, directly pass antialias=True (recommended, future default), antialias=None (current default, which means False for Tensors and True for PIL), or antialias=False (only works on Tensors - PIL will still use antialiasing). This also applies if you are using the inference transforms from the models weights: update the call to weights.transforms(antialias=True).\n",
            "  warnings.warn(\n",
            "/usr/local/lib/python3.10/dist-packages/torchvision/transforms/functional.py:1603: UserWarning: The default value of the antialias parameter of all the resizing transforms (Resize(), RandomResizedCrop(), etc.) will change from None to True in v0.17, in order to be consistent across the PIL and Tensor backends. To suppress this warning, directly pass antialias=True (recommended, future default), antialias=None (current default, which means False for Tensors and True for PIL), or antialias=False (only works on Tensors - PIL will still use antialiasing). This also applies if you are using the inference transforms from the models weights: update the call to weights.transforms(antialias=True).\n",
            "  warnings.warn(\n",
            "/usr/local/lib/python3.10/dist-packages/torchvision/transforms/functional.py:1603: UserWarning: The default value of the antialias parameter of all the resizing transforms (Resize(), RandomResizedCrop(), etc.) will change from None to True in v0.17, in order to be consistent across the PIL and Tensor backends. To suppress this warning, directly pass antialias=True (recommended, future default), antialias=None (current default, which means False for Tensors and True for PIL), or antialias=False (only works on Tensors - PIL will still use antialiasing). This also applies if you are using the inference transforms from the models weights: update the call to weights.transforms(antialias=True).\n",
            "  warnings.warn(\n"
          ]
        },
        {
          "output_type": "stream",
          "name": "stdout",
          "text": [
            "[09:18:39.650647] Test:  [0/5]  eta: 0:00:04  loss: 2.3687 (2.3687)  acc1: 43.7500 (43.7500)  acc5: 75.0000 (75.0000)  time: 0.9716  data: 0.7582  max mem: 4877\n",
            "[09:18:40.151894] Test:  [4/5]  eta: 0:00:00  loss: 2.6402 (2.9014)  acc1: 34.3750 (31.9444)  acc5: 68.7500 (61.8056)  time: 0.2940  data: 0.1518  max mem: 4877\n",
            "[09:18:40.254833] Test: Total time: 0:00:01 (0.3154 s / it)\n",
            "[09:18:40.255468] * Acc@1 31.944 Acc@5 61.806 loss 2.901\n",
            "[09:18:40.256232] Accuracy of the network on the 144 test images: 31.9%\n",
            "[09:18:40.256304] Max accuracy: 38.89%\n",
            "[09:18:40.264083] log_dir: /content/gdrive/MyDrive/Colab_Notebooks/Modal/logs/vit_base_patch16/2023_05_31__09_03_21\n"
          ]
        },
        {
          "output_type": "stream",
          "name": "stderr",
          "text": [
            "Training Epoch 57: 1it [00:01,  1.86s/it]"
          ]
        },
        {
          "output_type": "stream",
          "name": "stdout",
          "text": [
            "[09:18:42.131190] Epoch: [57]  [ 0/18]  eta: 0:00:33  lr: 0.000088  loss: 1.5857 (1.5857)  time: 1.8636  data: 1.4649  max mem: 4877\n"
          ]
        },
        {
          "output_type": "stream",
          "name": "stderr",
          "text": [
            "Training Epoch 57: 18it [00:08,  2.04it/s]\n"
          ]
        },
        {
          "output_type": "stream",
          "name": "stdout",
          "text": [
            "[09:18:48.966973] Epoch: [57]  [17/18]  eta: 0:00:00  lr: 0.000085  loss: 1.6139 (1.6028)  time: 0.4831  data: 0.0815  max mem: 4877\n",
            "[09:18:49.101399] Epoch: [57] Total time: 0:00:08 (0.4908 s / it)\n",
            "[09:18:49.105024] Averaged stats: lr: 0.000085  loss: 1.6139 (1.6028)\n"
          ]
        },
        {
          "output_type": "stream",
          "name": "stderr",
          "text": [
            "/usr/local/lib/python3.10/dist-packages/torchvision/transforms/functional.py:1603: UserWarning: The default value of the antialias parameter of all the resizing transforms (Resize(), RandomResizedCrop(), etc.) will change from None to True in v0.17, in order to be consistent across the PIL and Tensor backends. To suppress this warning, directly pass antialias=True (recommended, future default), antialias=None (current default, which means False for Tensors and True for PIL), or antialias=False (only works on Tensors - PIL will still use antialiasing). This also applies if you are using the inference transforms from the models weights: update the call to weights.transforms(antialias=True).\n",
            "  warnings.warn(\n",
            "/usr/local/lib/python3.10/dist-packages/torchvision/transforms/functional.py:1603: UserWarning: The default value of the antialias parameter of all the resizing transforms (Resize(), RandomResizedCrop(), etc.) will change from None to True in v0.17, in order to be consistent across the PIL and Tensor backends. To suppress this warning, directly pass antialias=True (recommended, future default), antialias=None (current default, which means False for Tensors and True for PIL), or antialias=False (only works on Tensors - PIL will still use antialiasing). This also applies if you are using the inference transforms from the models weights: update the call to weights.transforms(antialias=True).\n",
            "  warnings.warn(\n",
            "/usr/local/lib/python3.10/dist-packages/torchvision/transforms/functional.py:1603: UserWarning: The default value of the antialias parameter of all the resizing transforms (Resize(), RandomResizedCrop(), etc.) will change from None to True in v0.17, in order to be consistent across the PIL and Tensor backends. To suppress this warning, directly pass antialias=True (recommended, future default), antialias=None (current default, which means False for Tensors and True for PIL), or antialias=False (only works on Tensors - PIL will still use antialiasing). This also applies if you are using the inference transforms from the models weights: update the call to weights.transforms(antialias=True).\n",
            "  warnings.warn(\n",
            "/usr/local/lib/python3.10/dist-packages/torchvision/transforms/functional.py:1603: UserWarning: The default value of the antialias parameter of all the resizing transforms (Resize(), RandomResizedCrop(), etc.) will change from None to True in v0.17, in order to be consistent across the PIL and Tensor backends. To suppress this warning, directly pass antialias=True (recommended, future default), antialias=None (current default, which means False for Tensors and True for PIL), or antialias=False (only works on Tensors - PIL will still use antialiasing). This also applies if you are using the inference transforms from the models weights: update the call to weights.transforms(antialias=True).\n",
            "  warnings.warn(\n",
            "/usr/local/lib/python3.10/dist-packages/torchvision/transforms/functional.py:1603: UserWarning: The default value of the antialias parameter of all the resizing transforms (Resize(), RandomResizedCrop(), etc.) will change from None to True in v0.17, in order to be consistent across the PIL and Tensor backends. To suppress this warning, directly pass antialias=True (recommended, future default), antialias=None (current default, which means False for Tensors and True for PIL), or antialias=False (only works on Tensors - PIL will still use antialiasing). This also applies if you are using the inference transforms from the models weights: update the call to weights.transforms(antialias=True).\n",
            "  warnings.warn(\n"
          ]
        },
        {
          "output_type": "stream",
          "name": "stdout",
          "text": [
            "[09:18:53.514582] Test:  [0/5]  eta: 0:00:05  loss: 2.4173 (2.4173)  acc1: 40.6250 (40.6250)  acc5: 68.7500 (68.7500)  time: 1.0192  data: 0.8223  max mem: 4877\n",
            "[09:18:54.020234] Test:  [4/5]  eta: 0:00:00  loss: 2.6470 (2.8488)  acc1: 37.5000 (34.0278)  acc5: 62.5000 (61.1111)  time: 0.3047  data: 0.1653  max mem: 4877\n",
            "[09:18:54.129473] Test: Total time: 0:00:01 (0.3276 s / it)\n",
            "[09:18:54.129614] * Acc@1 34.028 Acc@5 61.111 loss 2.849\n",
            "[09:18:54.131164] Accuracy of the network on the 144 test images: 34.0%\n",
            "[09:18:54.131945] Max accuracy: 38.89%\n",
            "[09:18:54.187425] log_dir: /content/gdrive/MyDrive/Colab_Notebooks/Modal/logs/vit_base_patch16/2023_05_31__09_03_21\n"
          ]
        },
        {
          "output_type": "stream",
          "name": "stderr",
          "text": [
            "Training Epoch 58: 1it [00:01,  1.90s/it]"
          ]
        },
        {
          "output_type": "stream",
          "name": "stdout",
          "text": [
            "[09:18:56.115152] Epoch: [58]  [ 0/18]  eta: 0:00:34  lr: 0.000085  loss: 1.3842 (1.3842)  time: 1.9232  data: 1.5100  max mem: 4877\n"
          ]
        },
        {
          "output_type": "stream",
          "name": "stderr",
          "text": [
            "Training Epoch 58: 18it [00:08,  2.02it/s]\n"
          ]
        },
        {
          "output_type": "stream",
          "name": "stdout",
          "text": [
            "[09:19:02.996032] Epoch: [58]  [17/18]  eta: 0:00:00  lr: 0.000082  loss: 1.5507 (1.5868)  time: 0.4890  data: 0.0843  max mem: 4877\n",
            "[09:19:03.122728] Epoch: [58] Total time: 0:00:08 (0.4962 s / it)\n",
            "[09:19:03.125910] Averaged stats: lr: 0.000082  loss: 1.5507 (1.5868)\n"
          ]
        },
        {
          "output_type": "stream",
          "name": "stderr",
          "text": [
            "/usr/local/lib/python3.10/dist-packages/torchvision/transforms/functional.py:1603: UserWarning: The default value of the antialias parameter of all the resizing transforms (Resize(), RandomResizedCrop(), etc.) will change from None to True in v0.17, in order to be consistent across the PIL and Tensor backends. To suppress this warning, directly pass antialias=True (recommended, future default), antialias=None (current default, which means False for Tensors and True for PIL), or antialias=False (only works on Tensors - PIL will still use antialiasing). This also applies if you are using the inference transforms from the models weights: update the call to weights.transforms(antialias=True).\n",
            "  warnings.warn(\n",
            "/usr/local/lib/python3.10/dist-packages/torchvision/transforms/functional.py:1603: UserWarning: The default value of the antialias parameter of all the resizing transforms (Resize(), RandomResizedCrop(), etc.) will change from None to True in v0.17, in order to be consistent across the PIL and Tensor backends. To suppress this warning, directly pass antialias=True (recommended, future default), antialias=None (current default, which means False for Tensors and True for PIL), or antialias=False (only works on Tensors - PIL will still use antialiasing). This also applies if you are using the inference transforms from the models weights: update the call to weights.transforms(antialias=True).\n",
            "  warnings.warn(\n",
            "/usr/local/lib/python3.10/dist-packages/torchvision/transforms/functional.py:1603: UserWarning: The default value of the antialias parameter of all the resizing transforms (Resize(), RandomResizedCrop(), etc.) will change from None to True in v0.17, in order to be consistent across the PIL and Tensor backends. To suppress this warning, directly pass antialias=True (recommended, future default), antialias=None (current default, which means False for Tensors and True for PIL), or antialias=False (only works on Tensors - PIL will still use antialiasing). This also applies if you are using the inference transforms from the models weights: update the call to weights.transforms(antialias=True).\n",
            "  warnings.warn(\n",
            "/usr/local/lib/python3.10/dist-packages/torchvision/transforms/functional.py:1603: UserWarning: The default value of the antialias parameter of all the resizing transforms (Resize(), RandomResizedCrop(), etc.) will change from None to True in v0.17, in order to be consistent across the PIL and Tensor backends. To suppress this warning, directly pass antialias=True (recommended, future default), antialias=None (current default, which means False for Tensors and True for PIL), or antialias=False (only works on Tensors - PIL will still use antialiasing). This also applies if you are using the inference transforms from the models weights: update the call to weights.transforms(antialias=True).\n",
            "  warnings.warn(\n",
            "/usr/local/lib/python3.10/dist-packages/torchvision/transforms/functional.py:1603: UserWarning: The default value of the antialias parameter of all the resizing transforms (Resize(), RandomResizedCrop(), etc.) will change from None to True in v0.17, in order to be consistent across the PIL and Tensor backends. To suppress this warning, directly pass antialias=True (recommended, future default), antialias=None (current default, which means False for Tensors and True for PIL), or antialias=False (only works on Tensors - PIL will still use antialiasing). This also applies if you are using the inference transforms from the models weights: update the call to weights.transforms(antialias=True).\n",
            "  warnings.warn(\n"
          ]
        },
        {
          "output_type": "stream",
          "name": "stdout",
          "text": [
            "[09:19:07.412411] Test:  [0/5]  eta: 0:00:04  loss: 2.5830 (2.5830)  acc1: 40.6250 (40.6250)  acc5: 65.6250 (65.6250)  time: 0.9747  data: 0.7793  max mem: 4877\n",
            "[09:19:07.923625] Test:  [4/5]  eta: 0:00:00  loss: 2.5830 (2.8794)  acc1: 40.6250 (33.3333)  acc5: 62.5000 (59.7222)  time: 0.2970  data: 0.1560  max mem: 4877\n",
            "[09:19:08.029861] Test: Total time: 0:00:01 (0.3187 s / it)\n",
            "[09:19:08.030005] * Acc@1 33.333 Acc@5 59.722 loss 2.879\n",
            "[09:19:08.031652] Accuracy of the network on the 144 test images: 33.3%\n",
            "[09:19:08.031729] Max accuracy: 38.89%\n",
            "[09:19:08.037852] log_dir: /content/gdrive/MyDrive/Colab_Notebooks/Modal/logs/vit_base_patch16/2023_05_31__09_03_21\n"
          ]
        },
        {
          "output_type": "stream",
          "name": "stderr",
          "text": [
            "Training Epoch 59: 1it [00:01,  1.93s/it]"
          ]
        },
        {
          "output_type": "stream",
          "name": "stdout",
          "text": [
            "[09:19:09.980453] Epoch: [59]  [ 0/18]  eta: 0:00:34  lr: 0.000081  loss: 1.7441 (1.7441)  time: 1.9387  data: 1.5526  max mem: 4877\n"
          ]
        },
        {
          "output_type": "stream",
          "name": "stderr",
          "text": [
            "Training Epoch 59: 18it [00:08,  2.02it/s]\n"
          ]
        },
        {
          "output_type": "stream",
          "name": "stdout",
          "text": [
            "[09:19:16.807415] Epoch: [59]  [17/18]  eta: 0:00:00  lr: 0.000079  loss: 1.5858 (1.4761)  time: 0.4869  data: 0.0865  max mem: 4877\n",
            "[09:19:16.934196] Epoch: [59] Total time: 0:00:08 (0.4941 s / it)\n",
            "[09:19:16.938189] Averaged stats: lr: 0.000079  loss: 1.5858 (1.4761)\n"
          ]
        },
        {
          "output_type": "stream",
          "name": "stderr",
          "text": [
            "/usr/local/lib/python3.10/dist-packages/torchvision/transforms/functional.py:1603: UserWarning: The default value of the antialias parameter of all the resizing transforms (Resize(), RandomResizedCrop(), etc.) will change from None to True in v0.17, in order to be consistent across the PIL and Tensor backends. To suppress this warning, directly pass antialias=True (recommended, future default), antialias=None (current default, which means False for Tensors and True for PIL), or antialias=False (only works on Tensors - PIL will still use antialiasing). This also applies if you are using the inference transforms from the models weights: update the call to weights.transforms(antialias=True).\n",
            "  warnings.warn(\n",
            "/usr/local/lib/python3.10/dist-packages/torchvision/transforms/functional.py:1603: UserWarning: The default value of the antialias parameter of all the resizing transforms (Resize(), RandomResizedCrop(), etc.) will change from None to True in v0.17, in order to be consistent across the PIL and Tensor backends. To suppress this warning, directly pass antialias=True (recommended, future default), antialias=None (current default, which means False for Tensors and True for PIL), or antialias=False (only works on Tensors - PIL will still use antialiasing). This also applies if you are using the inference transforms from the models weights: update the call to weights.transforms(antialias=True).\n",
            "  warnings.warn(\n",
            "/usr/local/lib/python3.10/dist-packages/torchvision/transforms/functional.py:1603: UserWarning: The default value of the antialias parameter of all the resizing transforms (Resize(), RandomResizedCrop(), etc.) will change from None to True in v0.17, in order to be consistent across the PIL and Tensor backends. To suppress this warning, directly pass antialias=True (recommended, future default), antialias=None (current default, which means False for Tensors and True for PIL), or antialias=False (only works on Tensors - PIL will still use antialiasing). This also applies if you are using the inference transforms from the models weights: update the call to weights.transforms(antialias=True).\n",
            "  warnings.warn(\n",
            "/usr/local/lib/python3.10/dist-packages/torchvision/transforms/functional.py:1603: UserWarning: The default value of the antialias parameter of all the resizing transforms (Resize(), RandomResizedCrop(), etc.) will change from None to True in v0.17, in order to be consistent across the PIL and Tensor backends. To suppress this warning, directly pass antialias=True (recommended, future default), antialias=None (current default, which means False for Tensors and True for PIL), or antialias=False (only works on Tensors - PIL will still use antialiasing). This also applies if you are using the inference transforms from the models weights: update the call to weights.transforms(antialias=True).\n",
            "  warnings.warn(\n",
            "/usr/local/lib/python3.10/dist-packages/torchvision/transforms/functional.py:1603: UserWarning: The default value of the antialias parameter of all the resizing transforms (Resize(), RandomResizedCrop(), etc.) will change from None to True in v0.17, in order to be consistent across the PIL and Tensor backends. To suppress this warning, directly pass antialias=True (recommended, future default), antialias=None (current default, which means False for Tensors and True for PIL), or antialias=False (only works on Tensors - PIL will still use antialiasing). This also applies if you are using the inference transforms from the models weights: update the call to weights.transforms(antialias=True).\n",
            "  warnings.warn(\n"
          ]
        },
        {
          "output_type": "stream",
          "name": "stdout",
          "text": [
            "[09:19:21.284686] Test:  [0/5]  eta: 0:00:04  loss: 2.5141 (2.5141)  acc1: 43.7500 (43.7500)  acc5: 68.7500 (68.7500)  time: 0.9488  data: 0.7584  max mem: 4877\n",
            "[09:19:21.768605] Test:  [4/5]  eta: 0:00:00  loss: 2.6348 (2.9324)  acc1: 40.6250 (34.7222)  acc5: 62.5000 (60.4167)  time: 0.2863  data: 0.1518  max mem: 4877\n",
            "[09:19:21.868045] Test: Total time: 0:00:01 (0.3072 s / it)\n",
            "[09:19:21.868201] * Acc@1 34.722 Acc@5 60.417 loss 2.932\n",
            "[09:19:21.869418] Accuracy of the network on the 144 test images: 34.7%\n",
            "[09:19:21.869499] Max accuracy: 38.89%\n",
            "[09:19:21.874800] log_dir: /content/gdrive/MyDrive/Colab_Notebooks/Modal/logs/vit_base_patch16/2023_05_31__09_03_21\n"
          ]
        },
        {
          "output_type": "stream",
          "name": "stderr",
          "text": [
            "Training Epoch 60: 1it [00:01,  1.78s/it]"
          ]
        },
        {
          "output_type": "stream",
          "name": "stdout",
          "text": [
            "[09:19:23.660952] Epoch: [60]  [ 0/18]  eta: 0:00:32  lr: 0.000078  loss: 0.8672 (0.8672)  time: 1.7821  data: 1.3772  max mem: 4877\n"
          ]
        },
        {
          "output_type": "stream",
          "name": "stderr",
          "text": [
            "Training Epoch 60: 18it [00:08,  2.03it/s]\n"
          ]
        },
        {
          "output_type": "stream",
          "name": "stdout",
          "text": [
            "[09:19:30.576990] Epoch: [60]  [17/18]  eta: 0:00:00  lr: 0.000075  loss: 1.5441 (1.4465)  time: 0.4831  data: 0.0769  max mem: 4877\n",
            "[09:19:30.737579] Epoch: [60] Total time: 0:00:08 (0.4922 s / it)\n",
            "[09:19:30.739556] Averaged stats: lr: 0.000075  loss: 1.5441 (1.4465)\n"
          ]
        },
        {
          "output_type": "stream",
          "name": "stderr",
          "text": [
            "/usr/local/lib/python3.10/dist-packages/torchvision/transforms/functional.py:1603: UserWarning: The default value of the antialias parameter of all the resizing transforms (Resize(), RandomResizedCrop(), etc.) will change from None to True in v0.17, in order to be consistent across the PIL and Tensor backends. To suppress this warning, directly pass antialias=True (recommended, future default), antialias=None (current default, which means False for Tensors and True for PIL), or antialias=False (only works on Tensors - PIL will still use antialiasing). This also applies if you are using the inference transforms from the models weights: update the call to weights.transforms(antialias=True).\n",
            "  warnings.warn(\n",
            "/usr/local/lib/python3.10/dist-packages/torchvision/transforms/functional.py:1603: UserWarning: The default value of the antialias parameter of all the resizing transforms (Resize(), RandomResizedCrop(), etc.) will change from None to True in v0.17, in order to be consistent across the PIL and Tensor backends. To suppress this warning, directly pass antialias=True (recommended, future default), antialias=None (current default, which means False for Tensors and True for PIL), or antialias=False (only works on Tensors - PIL will still use antialiasing). This also applies if you are using the inference transforms from the models weights: update the call to weights.transforms(antialias=True).\n",
            "  warnings.warn(\n",
            "/usr/local/lib/python3.10/dist-packages/torchvision/transforms/functional.py:1603: UserWarning: The default value of the antialias parameter of all the resizing transforms (Resize(), RandomResizedCrop(), etc.) will change from None to True in v0.17, in order to be consistent across the PIL and Tensor backends. To suppress this warning, directly pass antialias=True (recommended, future default), antialias=None (current default, which means False for Tensors and True for PIL), or antialias=False (only works on Tensors - PIL will still use antialiasing). This also applies if you are using the inference transforms from the models weights: update the call to weights.transforms(antialias=True).\n",
            "  warnings.warn(\n",
            "/usr/local/lib/python3.10/dist-packages/torchvision/transforms/functional.py:1603: UserWarning: The default value of the antialias parameter of all the resizing transforms (Resize(), RandomResizedCrop(), etc.) will change from None to True in v0.17, in order to be consistent across the PIL and Tensor backends. To suppress this warning, directly pass antialias=True (recommended, future default), antialias=None (current default, which means False for Tensors and True for PIL), or antialias=False (only works on Tensors - PIL will still use antialiasing). This also applies if you are using the inference transforms from the models weights: update the call to weights.transforms(antialias=True).\n",
            "  warnings.warn(\n",
            "/usr/local/lib/python3.10/dist-packages/torchvision/transforms/functional.py:1603: UserWarning: The default value of the antialias parameter of all the resizing transforms (Resize(), RandomResizedCrop(), etc.) will change from None to True in v0.17, in order to be consistent across the PIL and Tensor backends. To suppress this warning, directly pass antialias=True (recommended, future default), antialias=None (current default, which means False for Tensors and True for PIL), or antialias=False (only works on Tensors - PIL will still use antialiasing). This also applies if you are using the inference transforms from the models weights: update the call to weights.transforms(antialias=True).\n",
            "  warnings.warn(\n"
          ]
        },
        {
          "output_type": "stream",
          "name": "stdout",
          "text": [
            "[09:19:36.435885] Test:  [0/5]  eta: 0:00:06  loss: 2.4307 (2.4307)  acc1: 40.6250 (40.6250)  acc5: 68.7500 (68.7500)  time: 1.3409  data: 1.1480  max mem: 4877\n",
            "[09:19:36.938319] Test:  [4/5]  eta: 0:00:00  loss: 2.6893 (2.9210)  acc1: 37.5000 (34.7222)  acc5: 59.3750 (59.7222)  time: 0.3684  data: 0.2298  max mem: 4877\n",
            "[09:19:37.067291] Test: Total time: 0:00:01 (0.3953 s / it)\n",
            "[09:19:37.067465] * Acc@1 34.722 Acc@5 59.722 loss 2.921\n",
            "[09:19:37.069106] Accuracy of the network on the 144 test images: 34.7%\n",
            "[09:19:37.069179] Max accuracy: 38.89%\n",
            "[09:19:37.075594] log_dir: /content/gdrive/MyDrive/Colab_Notebooks/Modal/logs/vit_base_patch16/2023_05_31__09_03_21\n"
          ]
        },
        {
          "output_type": "stream",
          "name": "stderr",
          "text": [
            "Training Epoch 61: 1it [00:02,  2.53s/it]"
          ]
        },
        {
          "output_type": "stream",
          "name": "stdout",
          "text": [
            "[09:19:39.621914] Epoch: [61]  [ 0/18]  eta: 0:00:45  lr: 0.000075  loss: 0.9676 (0.9676)  time: 2.5374  data: 2.0480  max mem: 4877\n"
          ]
        },
        {
          "output_type": "stream",
          "name": "stderr",
          "text": [
            "Training Epoch 61: 18it [00:09,  1.87it/s]\n"
          ]
        },
        {
          "output_type": "stream",
          "name": "stdout",
          "text": [
            "[09:19:46.564095] Epoch: [61]  [17/18]  eta: 0:00:00  lr: 0.000072  loss: 1.5944 (1.5430)  time: 0.5265  data: 0.1143  max mem: 4877\n",
            "[09:19:46.731188] Epoch: [61] Total time: 0:00:09 (0.5361 s / it)\n",
            "[09:19:46.736071] Averaged stats: lr: 0.000072  loss: 1.5944 (1.5430)\n"
          ]
        },
        {
          "output_type": "stream",
          "name": "stderr",
          "text": [
            "/usr/local/lib/python3.10/dist-packages/torchvision/transforms/functional.py:1603: UserWarning: The default value of the antialias parameter of all the resizing transforms (Resize(), RandomResizedCrop(), etc.) will change from None to True in v0.17, in order to be consistent across the PIL and Tensor backends. To suppress this warning, directly pass antialias=True (recommended, future default), antialias=None (current default, which means False for Tensors and True for PIL), or antialias=False (only works on Tensors - PIL will still use antialiasing). This also applies if you are using the inference transforms from the models weights: update the call to weights.transforms(antialias=True).\n",
            "  warnings.warn(\n",
            "/usr/local/lib/python3.10/dist-packages/torchvision/transforms/functional.py:1603: UserWarning: The default value of the antialias parameter of all the resizing transforms (Resize(), RandomResizedCrop(), etc.) will change from None to True in v0.17, in order to be consistent across the PIL and Tensor backends. To suppress this warning, directly pass antialias=True (recommended, future default), antialias=None (current default, which means False for Tensors and True for PIL), or antialias=False (only works on Tensors - PIL will still use antialiasing). This also applies if you are using the inference transforms from the models weights: update the call to weights.transforms(antialias=True).\n",
            "  warnings.warn(\n",
            "/usr/local/lib/python3.10/dist-packages/torchvision/transforms/functional.py:1603: UserWarning: The default value of the antialias parameter of all the resizing transforms (Resize(), RandomResizedCrop(), etc.) will change from None to True in v0.17, in order to be consistent across the PIL and Tensor backends. To suppress this warning, directly pass antialias=True (recommended, future default), antialias=None (current default, which means False for Tensors and True for PIL), or antialias=False (only works on Tensors - PIL will still use antialiasing). This also applies if you are using the inference transforms from the models weights: update the call to weights.transforms(antialias=True).\n",
            "  warnings.warn(\n",
            "/usr/local/lib/python3.10/dist-packages/torchvision/transforms/functional.py:1603: UserWarning: The default value of the antialias parameter of all the resizing transforms (Resize(), RandomResizedCrop(), etc.) will change from None to True in v0.17, in order to be consistent across the PIL and Tensor backends. To suppress this warning, directly pass antialias=True (recommended, future default), antialias=None (current default, which means False for Tensors and True for PIL), or antialias=False (only works on Tensors - PIL will still use antialiasing). This also applies if you are using the inference transforms from the models weights: update the call to weights.transforms(antialias=True).\n",
            "  warnings.warn(\n",
            "/usr/local/lib/python3.10/dist-packages/torchvision/transforms/functional.py:1603: UserWarning: The default value of the antialias parameter of all the resizing transforms (Resize(), RandomResizedCrop(), etc.) will change from None to True in v0.17, in order to be consistent across the PIL and Tensor backends. To suppress this warning, directly pass antialias=True (recommended, future default), antialias=None (current default, which means False for Tensors and True for PIL), or antialias=False (only works on Tensors - PIL will still use antialiasing). This also applies if you are using the inference transforms from the models weights: update the call to weights.transforms(antialias=True).\n",
            "  warnings.warn(\n"
          ]
        },
        {
          "output_type": "stream",
          "name": "stdout",
          "text": [
            "[09:19:52.232764] Test:  [0/5]  eta: 0:00:06  loss: 2.4693 (2.4693)  acc1: 46.8750 (46.8750)  acc5: 68.7500 (68.7500)  time: 1.3298  data: 1.1159  max mem: 4877\n",
            "[09:19:52.729828] Test:  [4/5]  eta: 0:00:00  loss: 2.6903 (2.9133)  acc1: 31.2500 (34.0278)  acc5: 59.3750 (59.7222)  time: 0.3651  data: 0.2277  max mem: 4877\n",
            "[09:19:52.853983] Test: Total time: 0:00:01 (0.3908 s / it)\n",
            "[09:19:52.854169] * Acc@1 34.028 Acc@5 59.722 loss 2.913\n",
            "[09:19:52.856690] Accuracy of the network on the 144 test images: 34.0%\n",
            "[09:19:52.856765] Max accuracy: 38.89%\n",
            "[09:19:52.866823] log_dir: /content/gdrive/MyDrive/Colab_Notebooks/Modal/logs/vit_base_patch16/2023_05_31__09_03_21\n"
          ]
        },
        {
          "output_type": "stream",
          "name": "stderr",
          "text": [
            "Training Epoch 62: 1it [00:02,  2.89s/it]"
          ]
        },
        {
          "output_type": "stream",
          "name": "stdout",
          "text": [
            "[09:19:55.765788] Epoch: [62]  [ 0/18]  eta: 0:00:52  lr: 0.000072  loss: 1.5510 (1.5510)  time: 2.8923  data: 2.4334  max mem: 4877\n"
          ]
        },
        {
          "output_type": "stream",
          "name": "stderr",
          "text": [
            "Training Epoch 62: 18it [00:10,  1.80it/s]\n"
          ]
        },
        {
          "output_type": "stream",
          "name": "stdout",
          "text": [
            "[09:20:02.718022] Epoch: [62]  [17/18]  eta: 0:00:00  lr: 0.000069  loss: 1.5510 (1.5619)  time: 0.5468  data: 0.1359  max mem: 4877\n",
            "[09:20:02.891704] Epoch: [62] Total time: 0:00:10 (0.5567 s / it)\n",
            "[09:20:02.893750] Averaged stats: lr: 0.000069  loss: 1.5510 (1.5619)\n"
          ]
        },
        {
          "output_type": "stream",
          "name": "stderr",
          "text": [
            "/usr/local/lib/python3.10/dist-packages/torchvision/transforms/functional.py:1603: UserWarning: The default value of the antialias parameter of all the resizing transforms (Resize(), RandomResizedCrop(), etc.) will change from None to True in v0.17, in order to be consistent across the PIL and Tensor backends. To suppress this warning, directly pass antialias=True (recommended, future default), antialias=None (current default, which means False for Tensors and True for PIL), or antialias=False (only works on Tensors - PIL will still use antialiasing). This also applies if you are using the inference transforms from the models weights: update the call to weights.transforms(antialias=True).\n",
            "  warnings.warn(\n",
            "/usr/local/lib/python3.10/dist-packages/torchvision/transforms/functional.py:1603: UserWarning: The default value of the antialias parameter of all the resizing transforms (Resize(), RandomResizedCrop(), etc.) will change from None to True in v0.17, in order to be consistent across the PIL and Tensor backends. To suppress this warning, directly pass antialias=True (recommended, future default), antialias=None (current default, which means False for Tensors and True for PIL), or antialias=False (only works on Tensors - PIL will still use antialiasing). This also applies if you are using the inference transforms from the models weights: update the call to weights.transforms(antialias=True).\n",
            "  warnings.warn(\n",
            "/usr/local/lib/python3.10/dist-packages/torchvision/transforms/functional.py:1603: UserWarning: The default value of the antialias parameter of all the resizing transforms (Resize(), RandomResizedCrop(), etc.) will change from None to True in v0.17, in order to be consistent across the PIL and Tensor backends. To suppress this warning, directly pass antialias=True (recommended, future default), antialias=None (current default, which means False for Tensors and True for PIL), or antialias=False (only works on Tensors - PIL will still use antialiasing). This also applies if you are using the inference transforms from the models weights: update the call to weights.transforms(antialias=True).\n",
            "  warnings.warn(\n",
            "/usr/local/lib/python3.10/dist-packages/torchvision/transforms/functional.py:1603: UserWarning: The default value of the antialias parameter of all the resizing transforms (Resize(), RandomResizedCrop(), etc.) will change from None to True in v0.17, in order to be consistent across the PIL and Tensor backends. To suppress this warning, directly pass antialias=True (recommended, future default), antialias=None (current default, which means False for Tensors and True for PIL), or antialias=False (only works on Tensors - PIL will still use antialiasing). This also applies if you are using the inference transforms from the models weights: update the call to weights.transforms(antialias=True).\n",
            "  warnings.warn(\n",
            "/usr/local/lib/python3.10/dist-packages/torchvision/transforms/functional.py:1603: UserWarning: The default value of the antialias parameter of all the resizing transforms (Resize(), RandomResizedCrop(), etc.) will change from None to True in v0.17, in order to be consistent across the PIL and Tensor backends. To suppress this warning, directly pass antialias=True (recommended, future default), antialias=None (current default, which means False for Tensors and True for PIL), or antialias=False (only works on Tensors - PIL will still use antialiasing). This also applies if you are using the inference transforms from the models weights: update the call to weights.transforms(antialias=True).\n",
            "  warnings.warn(\n"
          ]
        },
        {
          "output_type": "stream",
          "name": "stdout",
          "text": [
            "[09:20:08.201933] Test:  [0/5]  eta: 0:00:06  loss: 2.5277 (2.5277)  acc1: 40.6250 (40.6250)  acc5: 68.7500 (68.7500)  time: 1.2083  data: 1.0075  max mem: 4877\n",
            "[09:20:08.693560] Test:  [4/5]  eta: 0:00:00  loss: 2.6452 (2.9217)  acc1: 34.3750 (34.0278)  acc5: 59.3750 (56.9444)  time: 0.3395  data: 0.2037  max mem: 4877\n",
            "[09:20:08.827644] Test: Total time: 0:00:01 (0.3673 s / it)\n",
            "[09:20:08.827773] * Acc@1 34.028 Acc@5 56.944 loss 2.922\n",
            "[09:20:08.830193] Accuracy of the network on the 144 test images: 34.0%\n",
            "[09:20:08.830290] Max accuracy: 38.89%\n",
            "[09:20:08.838652] log_dir: /content/gdrive/MyDrive/Colab_Notebooks/Modal/logs/vit_base_patch16/2023_05_31__09_03_21\n"
          ]
        },
        {
          "output_type": "stream",
          "name": "stderr",
          "text": [
            "Training Epoch 63: 1it [00:02,  2.06s/it]"
          ]
        },
        {
          "output_type": "stream",
          "name": "stdout",
          "text": [
            "[09:20:10.907428] Epoch: [63]  [ 0/18]  eta: 0:00:37  lr: 0.000069  loss: 1.3558 (1.3558)  time: 2.0636  data: 1.6609  max mem: 4877\n"
          ]
        },
        {
          "output_type": "stream",
          "name": "stderr",
          "text": [
            "Training Epoch 63: 18it [00:09,  1.92it/s]\n"
          ]
        },
        {
          "output_type": "stream",
          "name": "stdout",
          "text": [
            "[09:20:18.026639] Epoch: [63]  [17/18]  eta: 0:00:00  lr: 0.000066  loss: 1.5324 (1.4938)  time: 0.5100  data: 0.1002  max mem: 4877\n",
            "[09:20:18.196078] Epoch: [63] Total time: 0:00:09 (0.5196 s / it)\n",
            "[09:20:18.202268] Averaged stats: lr: 0.000066  loss: 1.5324 (1.4938)\n"
          ]
        },
        {
          "output_type": "stream",
          "name": "stderr",
          "text": [
            "/usr/local/lib/python3.10/dist-packages/torchvision/transforms/functional.py:1603: UserWarning: The default value of the antialias parameter of all the resizing transforms (Resize(), RandomResizedCrop(), etc.) will change from None to True in v0.17, in order to be consistent across the PIL and Tensor backends. To suppress this warning, directly pass antialias=True (recommended, future default), antialias=None (current default, which means False for Tensors and True for PIL), or antialias=False (only works on Tensors - PIL will still use antialiasing). This also applies if you are using the inference transforms from the models weights: update the call to weights.transforms(antialias=True).\n",
            "  warnings.warn(\n",
            "/usr/local/lib/python3.10/dist-packages/torchvision/transforms/functional.py:1603: UserWarning: The default value of the antialias parameter of all the resizing transforms (Resize(), RandomResizedCrop(), etc.) will change from None to True in v0.17, in order to be consistent across the PIL and Tensor backends. To suppress this warning, directly pass antialias=True (recommended, future default), antialias=None (current default, which means False for Tensors and True for PIL), or antialias=False (only works on Tensors - PIL will still use antialiasing). This also applies if you are using the inference transforms from the models weights: update the call to weights.transforms(antialias=True).\n",
            "  warnings.warn(\n",
            "/usr/local/lib/python3.10/dist-packages/torchvision/transforms/functional.py:1603: UserWarning: The default value of the antialias parameter of all the resizing transforms (Resize(), RandomResizedCrop(), etc.) will change from None to True in v0.17, in order to be consistent across the PIL and Tensor backends. To suppress this warning, directly pass antialias=True (recommended, future default), antialias=None (current default, which means False for Tensors and True for PIL), or antialias=False (only works on Tensors - PIL will still use antialiasing). This also applies if you are using the inference transforms from the models weights: update the call to weights.transforms(antialias=True).\n",
            "  warnings.warn(\n",
            "/usr/local/lib/python3.10/dist-packages/torchvision/transforms/functional.py:1603: UserWarning: The default value of the antialias parameter of all the resizing transforms (Resize(), RandomResizedCrop(), etc.) will change from None to True in v0.17, in order to be consistent across the PIL and Tensor backends. To suppress this warning, directly pass antialias=True (recommended, future default), antialias=None (current default, which means False for Tensors and True for PIL), or antialias=False (only works on Tensors - PIL will still use antialiasing). This also applies if you are using the inference transforms from the models weights: update the call to weights.transforms(antialias=True).\n",
            "  warnings.warn(\n",
            "/usr/local/lib/python3.10/dist-packages/torchvision/transforms/functional.py:1603: UserWarning: The default value of the antialias parameter of all the resizing transforms (Resize(), RandomResizedCrop(), etc.) will change from None to True in v0.17, in order to be consistent across the PIL and Tensor backends. To suppress this warning, directly pass antialias=True (recommended, future default), antialias=None (current default, which means False for Tensors and True for PIL), or antialias=False (only works on Tensors - PIL will still use antialiasing). This also applies if you are using the inference transforms from the models weights: update the call to weights.transforms(antialias=True).\n",
            "  warnings.warn(\n"
          ]
        },
        {
          "output_type": "stream",
          "name": "stdout",
          "text": [
            "[09:20:23.500193] Test:  [0/5]  eta: 0:00:06  loss: 2.5583 (2.5583)  acc1: 43.7500 (43.7500)  acc5: 65.6250 (65.6250)  time: 1.3700  data: 1.1574  max mem: 4877\n",
            "[09:20:23.987535] Test:  [4/5]  eta: 0:00:00  loss: 2.6336 (2.9197)  acc1: 34.3750 (33.3333)  acc5: 59.3750 (58.3333)  time: 0.3711  data: 0.2320  max mem: 4877\n",
            "[09:20:24.108943] Test: Total time: 0:00:01 (0.3967 s / it)\n",
            "[09:20:24.109194] * Acc@1 33.333 Acc@5 58.333 loss 2.920\n",
            "[09:20:24.112772] Accuracy of the network on the 144 test images: 33.3%\n",
            "[09:20:24.112870] Max accuracy: 38.89%\n",
            "[09:20:24.121801] log_dir: /content/gdrive/MyDrive/Colab_Notebooks/Modal/logs/vit_base_patch16/2023_05_31__09_03_21\n"
          ]
        },
        {
          "output_type": "stream",
          "name": "stderr",
          "text": [
            "Training Epoch 64: 1it [00:02,  2.18s/it]"
          ]
        },
        {
          "output_type": "stream",
          "name": "stdout",
          "text": [
            "[09:20:26.314506] Epoch: [64]  [ 0/18]  eta: 0:00:39  lr: 0.000065  loss: 1.9153 (1.9153)  time: 2.1860  data: 1.6739  max mem: 4877\n"
          ]
        },
        {
          "output_type": "stream",
          "name": "stderr",
          "text": [
            "Training Epoch 64: 18it [00:09,  1.94it/s]\n"
          ]
        },
        {
          "output_type": "stream",
          "name": "stdout",
          "text": [
            "[09:20:33.228752] Epoch: [64]  [17/18]  eta: 0:00:00  lr: 0.000063  loss: 1.5570 (1.4647)  time: 0.5055  data: 0.0936  max mem: 4877\n",
            "[09:20:33.393136] Epoch: [64] Total time: 0:00:09 (0.5148 s / it)\n",
            "[09:20:33.396968] Averaged stats: lr: 0.000063  loss: 1.5570 (1.4647)\n"
          ]
        },
        {
          "output_type": "stream",
          "name": "stderr",
          "text": [
            "/usr/local/lib/python3.10/dist-packages/torchvision/transforms/functional.py:1603: UserWarning: The default value of the antialias parameter of all the resizing transforms (Resize(), RandomResizedCrop(), etc.) will change from None to True in v0.17, in order to be consistent across the PIL and Tensor backends. To suppress this warning, directly pass antialias=True (recommended, future default), antialias=None (current default, which means False for Tensors and True for PIL), or antialias=False (only works on Tensors - PIL will still use antialiasing). This also applies if you are using the inference transforms from the models weights: update the call to weights.transforms(antialias=True).\n",
            "  warnings.warn(\n",
            "/usr/local/lib/python3.10/dist-packages/torchvision/transforms/functional.py:1603: UserWarning: The default value of the antialias parameter of all the resizing transforms (Resize(), RandomResizedCrop(), etc.) will change from None to True in v0.17, in order to be consistent across the PIL and Tensor backends. To suppress this warning, directly pass antialias=True (recommended, future default), antialias=None (current default, which means False for Tensors and True for PIL), or antialias=False (only works on Tensors - PIL will still use antialiasing). This also applies if you are using the inference transforms from the models weights: update the call to weights.transforms(antialias=True).\n",
            "  warnings.warn(\n",
            "/usr/local/lib/python3.10/dist-packages/torchvision/transforms/functional.py:1603: UserWarning: The default value of the antialias parameter of all the resizing transforms (Resize(), RandomResizedCrop(), etc.) will change from None to True in v0.17, in order to be consistent across the PIL and Tensor backends. To suppress this warning, directly pass antialias=True (recommended, future default), antialias=None (current default, which means False for Tensors and True for PIL), or antialias=False (only works on Tensors - PIL will still use antialiasing). This also applies if you are using the inference transforms from the models weights: update the call to weights.transforms(antialias=True).\n",
            "  warnings.warn(\n",
            "/usr/local/lib/python3.10/dist-packages/torchvision/transforms/functional.py:1603: UserWarning: The default value of the antialias parameter of all the resizing transforms (Resize(), RandomResizedCrop(), etc.) will change from None to True in v0.17, in order to be consistent across the PIL and Tensor backends. To suppress this warning, directly pass antialias=True (recommended, future default), antialias=None (current default, which means False for Tensors and True for PIL), or antialias=False (only works on Tensors - PIL will still use antialiasing). This also applies if you are using the inference transforms from the models weights: update the call to weights.transforms(antialias=True).\n",
            "  warnings.warn(\n",
            "/usr/local/lib/python3.10/dist-packages/torchvision/transforms/functional.py:1603: UserWarning: The default value of the antialias parameter of all the resizing transforms (Resize(), RandomResizedCrop(), etc.) will change from None to True in v0.17, in order to be consistent across the PIL and Tensor backends. To suppress this warning, directly pass antialias=True (recommended, future default), antialias=None (current default, which means False for Tensors and True for PIL), or antialias=False (only works on Tensors - PIL will still use antialiasing). This also applies if you are using the inference transforms from the models weights: update the call to weights.transforms(antialias=True).\n",
            "  warnings.warn(\n"
          ]
        },
        {
          "output_type": "stream",
          "name": "stdout",
          "text": [
            "[09:20:40.858124] Test:  [0/5]  eta: 0:00:06  loss: 2.6141 (2.6141)  acc1: 40.6250 (40.6250)  acc5: 68.7500 (68.7500)  time: 1.3414  data: 1.1463  max mem: 4877\n",
            "[09:20:41.343038] Test:  [4/5]  eta: 0:00:00  loss: 2.6374 (2.8800)  acc1: 34.3750 (33.3333)  acc5: 59.3750 (59.7222)  time: 0.3646  data: 0.2294  max mem: 4877\n",
            "[09:20:41.461496] Test: Total time: 0:00:01 (0.3903 s / it)\n",
            "[09:20:41.461646] * Acc@1 33.333 Acc@5 59.722 loss 2.880\n",
            "[09:20:41.463445] Accuracy of the network on the 144 test images: 33.3%\n",
            "[09:20:41.464242] Max accuracy: 38.89%\n",
            "[09:20:41.473403] log_dir: /content/gdrive/MyDrive/Colab_Notebooks/Modal/logs/vit_base_patch16/2023_05_31__09_03_21\n"
          ]
        },
        {
          "output_type": "stream",
          "name": "stderr",
          "text": [
            "Training Epoch 65: 1it [00:02,  2.41s/it]"
          ]
        },
        {
          "output_type": "stream",
          "name": "stdout",
          "text": [
            "[09:20:43.891133] Epoch: [65]  [ 0/18]  eta: 0:00:43  lr: 0.000062  loss: 1.4696 (1.4696)  time: 2.4131  data: 1.9426  max mem: 4877\n"
          ]
        },
        {
          "output_type": "stream",
          "name": "stderr",
          "text": [
            "Training Epoch 65: 18it [00:09,  1.90it/s]\n"
          ]
        },
        {
          "output_type": "stream",
          "name": "stdout",
          "text": [
            "[09:20:50.814641] Epoch: [65]  [17/18]  eta: 0:00:00  lr: 0.000060  loss: 1.6755 (1.7328)  time: 0.5186  data: 0.1088  max mem: 4877\n",
            "[09:20:50.970900] Epoch: [65] Total time: 0:00:09 (0.5274 s / it)\n",
            "[09:20:50.974378] Averaged stats: lr: 0.000060  loss: 1.6755 (1.7328)\n"
          ]
        },
        {
          "output_type": "stream",
          "name": "stderr",
          "text": [
            "/usr/local/lib/python3.10/dist-packages/torchvision/transforms/functional.py:1603: UserWarning: The default value of the antialias parameter of all the resizing transforms (Resize(), RandomResizedCrop(), etc.) will change from None to True in v0.17, in order to be consistent across the PIL and Tensor backends. To suppress this warning, directly pass antialias=True (recommended, future default), antialias=None (current default, which means False for Tensors and True for PIL), or antialias=False (only works on Tensors - PIL will still use antialiasing). This also applies if you are using the inference transforms from the models weights: update the call to weights.transforms(antialias=True).\n",
            "  warnings.warn(\n",
            "/usr/local/lib/python3.10/dist-packages/torchvision/transforms/functional.py:1603: UserWarning: The default value of the antialias parameter of all the resizing transforms (Resize(), RandomResizedCrop(), etc.) will change from None to True in v0.17, in order to be consistent across the PIL and Tensor backends. To suppress this warning, directly pass antialias=True (recommended, future default), antialias=None (current default, which means False for Tensors and True for PIL), or antialias=False (only works on Tensors - PIL will still use antialiasing). This also applies if you are using the inference transforms from the models weights: update the call to weights.transforms(antialias=True).\n",
            "  warnings.warn(\n",
            "/usr/local/lib/python3.10/dist-packages/torchvision/transforms/functional.py:1603: UserWarning: The default value of the antialias parameter of all the resizing transforms (Resize(), RandomResizedCrop(), etc.) will change from None to True in v0.17, in order to be consistent across the PIL and Tensor backends. To suppress this warning, directly pass antialias=True (recommended, future default), antialias=None (current default, which means False for Tensors and True for PIL), or antialias=False (only works on Tensors - PIL will still use antialiasing). This also applies if you are using the inference transforms from the models weights: update the call to weights.transforms(antialias=True).\n",
            "  warnings.warn(\n",
            "/usr/local/lib/python3.10/dist-packages/torchvision/transforms/functional.py:1603: UserWarning: The default value of the antialias parameter of all the resizing transforms (Resize(), RandomResizedCrop(), etc.) will change from None to True in v0.17, in order to be consistent across the PIL and Tensor backends. To suppress this warning, directly pass antialias=True (recommended, future default), antialias=None (current default, which means False for Tensors and True for PIL), or antialias=False (only works on Tensors - PIL will still use antialiasing). This also applies if you are using the inference transforms from the models weights: update the call to weights.transforms(antialias=True).\n",
            "  warnings.warn(\n",
            "/usr/local/lib/python3.10/dist-packages/torchvision/transforms/functional.py:1603: UserWarning: The default value of the antialias parameter of all the resizing transforms (Resize(), RandomResizedCrop(), etc.) will change from None to True in v0.17, in order to be consistent across the PIL and Tensor backends. To suppress this warning, directly pass antialias=True (recommended, future default), antialias=None (current default, which means False for Tensors and True for PIL), or antialias=False (only works on Tensors - PIL will still use antialiasing). This also applies if you are using the inference transforms from the models weights: update the call to weights.transforms(antialias=True).\n",
            "  warnings.warn(\n"
          ]
        },
        {
          "output_type": "stream",
          "name": "stdout",
          "text": [
            "[09:20:55.909613] Test:  [0/5]  eta: 0:00:06  loss: 2.4670 (2.4670)  acc1: 46.8750 (46.8750)  acc5: 65.6250 (65.6250)  time: 1.2672  data: 1.0530  max mem: 4877\n",
            "[09:20:56.397866] Test:  [4/5]  eta: 0:00:00  loss: 2.5976 (2.8708)  acc1: 37.5000 (34.7222)  acc5: 59.3750 (57.6389)  time: 0.3508  data: 0.2110  max mem: 4877\n",
            "[09:20:56.511963] Test: Total time: 0:00:01 (0.3747 s / it)\n",
            "[09:20:56.512123] * Acc@1 34.722 Acc@5 57.639 loss 2.871\n",
            "[09:20:56.513251] Accuracy of the network on the 144 test images: 34.7%\n",
            "[09:20:56.513308] Max accuracy: 38.89%\n",
            "[09:20:56.519169] log_dir: /content/gdrive/MyDrive/Colab_Notebooks/Modal/logs/vit_base_patch16/2023_05_31__09_03_21\n"
          ]
        },
        {
          "output_type": "stream",
          "name": "stderr",
          "text": [
            "Training Epoch 66: 1it [00:01,  1.95s/it]"
          ]
        },
        {
          "output_type": "stream",
          "name": "stdout",
          "text": [
            "[09:20:58.480144] Epoch: [66]  [ 0/18]  eta: 0:00:35  lr: 0.000059  loss: 1.5483 (1.5483)  time: 1.9513  data: 1.5492  max mem: 4877\n"
          ]
        },
        {
          "output_type": "stream",
          "name": "stderr",
          "text": [
            "Training Epoch 66: 18it [00:09,  1.99it/s]\n"
          ]
        },
        {
          "output_type": "stream",
          "name": "stdout",
          "text": [
            "[09:21:05.449917] Epoch: [66]  [17/18]  eta: 0:00:00  lr: 0.000057  loss: 1.6116 (1.5721)  time: 0.4952  data: 0.0865  max mem: 4877\n",
            "[09:21:05.565663] Epoch: [66] Total time: 0:00:09 (0.5024 s / it)\n",
            "[09:21:05.569191] Averaged stats: lr: 0.000057  loss: 1.6116 (1.5721)\n"
          ]
        },
        {
          "output_type": "stream",
          "name": "stderr",
          "text": [
            "/usr/local/lib/python3.10/dist-packages/torchvision/transforms/functional.py:1603: UserWarning: The default value of the antialias parameter of all the resizing transforms (Resize(), RandomResizedCrop(), etc.) will change from None to True in v0.17, in order to be consistent across the PIL and Tensor backends. To suppress this warning, directly pass antialias=True (recommended, future default), antialias=None (current default, which means False for Tensors and True for PIL), or antialias=False (only works on Tensors - PIL will still use antialiasing). This also applies if you are using the inference transforms from the models weights: update the call to weights.transforms(antialias=True).\n",
            "  warnings.warn(\n",
            "/usr/local/lib/python3.10/dist-packages/torchvision/transforms/functional.py:1603: UserWarning: The default value of the antialias parameter of all the resizing transforms (Resize(), RandomResizedCrop(), etc.) will change from None to True in v0.17, in order to be consistent across the PIL and Tensor backends. To suppress this warning, directly pass antialias=True (recommended, future default), antialias=None (current default, which means False for Tensors and True for PIL), or antialias=False (only works on Tensors - PIL will still use antialiasing). This also applies if you are using the inference transforms from the models weights: update the call to weights.transforms(antialias=True).\n",
            "  warnings.warn(\n",
            "/usr/local/lib/python3.10/dist-packages/torchvision/transforms/functional.py:1603: UserWarning: The default value of the antialias parameter of all the resizing transforms (Resize(), RandomResizedCrop(), etc.) will change from None to True in v0.17, in order to be consistent across the PIL and Tensor backends. To suppress this warning, directly pass antialias=True (recommended, future default), antialias=None (current default, which means False for Tensors and True for PIL), or antialias=False (only works on Tensors - PIL will still use antialiasing). This also applies if you are using the inference transforms from the models weights: update the call to weights.transforms(antialias=True).\n",
            "  warnings.warn(\n",
            "/usr/local/lib/python3.10/dist-packages/torchvision/transforms/functional.py:1603: UserWarning: The default value of the antialias parameter of all the resizing transforms (Resize(), RandomResizedCrop(), etc.) will change from None to True in v0.17, in order to be consistent across the PIL and Tensor backends. To suppress this warning, directly pass antialias=True (recommended, future default), antialias=None (current default, which means False for Tensors and True for PIL), or antialias=False (only works on Tensors - PIL will still use antialiasing). This also applies if you are using the inference transforms from the models weights: update the call to weights.transforms(antialias=True).\n",
            "  warnings.warn(\n",
            "/usr/local/lib/python3.10/dist-packages/torchvision/transforms/functional.py:1603: UserWarning: The default value of the antialias parameter of all the resizing transforms (Resize(), RandomResizedCrop(), etc.) will change from None to True in v0.17, in order to be consistent across the PIL and Tensor backends. To suppress this warning, directly pass antialias=True (recommended, future default), antialias=None (current default, which means False for Tensors and True for PIL), or antialias=False (only works on Tensors - PIL will still use antialiasing). This also applies if you are using the inference transforms from the models weights: update the call to weights.transforms(antialias=True).\n",
            "  warnings.warn(\n"
          ]
        },
        {
          "output_type": "stream",
          "name": "stdout",
          "text": [
            "[09:21:09.641110] Test:  [0/5]  eta: 0:00:05  loss: 2.5068 (2.5068)  acc1: 40.6250 (40.6250)  acc5: 68.7500 (68.7500)  time: 1.0054  data: 0.7931  max mem: 4877\n",
            "[09:21:10.119280] Test:  [4/5]  eta: 0:00:00  loss: 2.6621 (2.9204)  acc1: 34.3750 (31.2500)  acc5: 59.3750 (55.5556)  time: 0.2964  data: 0.1587  max mem: 4877\n",
            "[09:21:10.217189] Test: Total time: 0:00:01 (0.3167 s / it)\n",
            "[09:21:10.217321] * Acc@1 31.250 Acc@5 55.556 loss 2.920\n",
            "[09:21:10.218879] Accuracy of the network on the 144 test images: 31.2%\n",
            "[09:21:10.218943] Max accuracy: 38.89%\n",
            "[09:21:10.226556] log_dir: /content/gdrive/MyDrive/Colab_Notebooks/Modal/logs/vit_base_patch16/2023_05_31__09_03_21\n"
          ]
        },
        {
          "output_type": "stream",
          "name": "stderr",
          "text": [
            "Training Epoch 67: 1it [00:01,  1.81s/it]"
          ]
        },
        {
          "output_type": "stream",
          "name": "stdout",
          "text": [
            "[09:21:12.053876] Epoch: [67]  [ 0/18]  eta: 0:00:32  lr: 0.000056  loss: 1.7717 (1.7717)  time: 1.8227  data: 1.4213  max mem: 4877\n"
          ]
        },
        {
          "output_type": "stream",
          "name": "stderr",
          "text": [
            "Training Epoch 67: 18it [00:08,  2.04it/s]\n"
          ]
        },
        {
          "output_type": "stream",
          "name": "stdout",
          "text": [
            "[09:21:18.942554] Epoch: [67]  [17/18]  eta: 0:00:00  lr: 0.000054  loss: 1.4756 (1.4809)  time: 0.4838  data: 0.0793  max mem: 4877\n",
            "[09:21:19.066134] Epoch: [67] Total time: 0:00:08 (0.4909 s / it)\n",
            "[09:21:19.070099] Averaged stats: lr: 0.000054  loss: 1.4756 (1.4809)\n"
          ]
        },
        {
          "output_type": "stream",
          "name": "stderr",
          "text": [
            "/usr/local/lib/python3.10/dist-packages/torchvision/transforms/functional.py:1603: UserWarning: The default value of the antialias parameter of all the resizing transforms (Resize(), RandomResizedCrop(), etc.) will change from None to True in v0.17, in order to be consistent across the PIL and Tensor backends. To suppress this warning, directly pass antialias=True (recommended, future default), antialias=None (current default, which means False for Tensors and True for PIL), or antialias=False (only works on Tensors - PIL will still use antialiasing). This also applies if you are using the inference transforms from the models weights: update the call to weights.transforms(antialias=True).\n",
            "  warnings.warn(\n",
            "/usr/local/lib/python3.10/dist-packages/torchvision/transforms/functional.py:1603: UserWarning: The default value of the antialias parameter of all the resizing transforms (Resize(), RandomResizedCrop(), etc.) will change from None to True in v0.17, in order to be consistent across the PIL and Tensor backends. To suppress this warning, directly pass antialias=True (recommended, future default), antialias=None (current default, which means False for Tensors and True for PIL), or antialias=False (only works on Tensors - PIL will still use antialiasing). This also applies if you are using the inference transforms from the models weights: update the call to weights.transforms(antialias=True).\n",
            "  warnings.warn(\n",
            "/usr/local/lib/python3.10/dist-packages/torchvision/transforms/functional.py:1603: UserWarning: The default value of the antialias parameter of all the resizing transforms (Resize(), RandomResizedCrop(), etc.) will change from None to True in v0.17, in order to be consistent across the PIL and Tensor backends. To suppress this warning, directly pass antialias=True (recommended, future default), antialias=None (current default, which means False for Tensors and True for PIL), or antialias=False (only works on Tensors - PIL will still use antialiasing). This also applies if you are using the inference transforms from the models weights: update the call to weights.transforms(antialias=True).\n",
            "  warnings.warn(\n",
            "/usr/local/lib/python3.10/dist-packages/torchvision/transforms/functional.py:1603: UserWarning: The default value of the antialias parameter of all the resizing transforms (Resize(), RandomResizedCrop(), etc.) will change from None to True in v0.17, in order to be consistent across the PIL and Tensor backends. To suppress this warning, directly pass antialias=True (recommended, future default), antialias=None (current default, which means False for Tensors and True for PIL), or antialias=False (only works on Tensors - PIL will still use antialiasing). This also applies if you are using the inference transforms from the models weights: update the call to weights.transforms(antialias=True).\n",
            "  warnings.warn(\n",
            "/usr/local/lib/python3.10/dist-packages/torchvision/transforms/functional.py:1603: UserWarning: The default value of the antialias parameter of all the resizing transforms (Resize(), RandomResizedCrop(), etc.) will change from None to True in v0.17, in order to be consistent across the PIL and Tensor backends. To suppress this warning, directly pass antialias=True (recommended, future default), antialias=None (current default, which means False for Tensors and True for PIL), or antialias=False (only works on Tensors - PIL will still use antialiasing). This also applies if you are using the inference transforms from the models weights: update the call to weights.transforms(antialias=True).\n",
            "  warnings.warn(\n"
          ]
        },
        {
          "output_type": "stream",
          "name": "stdout",
          "text": [
            "[09:21:23.422869] Test:  [0/5]  eta: 0:00:05  loss: 2.5937 (2.5937)  acc1: 40.6250 (40.6250)  acc5: 65.6250 (65.6250)  time: 1.0382  data: 0.8485  max mem: 4877\n",
            "[09:21:23.928483] Test:  [4/5]  eta: 0:00:00  loss: 2.6772 (2.9482)  acc1: 34.3750 (31.2500)  acc5: 56.2500 (56.2500)  time: 0.3085  data: 0.1698  max mem: 4877\n",
            "[09:21:24.040067] Test: Total time: 0:00:01 (0.3321 s / it)\n",
            "[09:21:24.040251] * Acc@1 31.250 Acc@5 56.250 loss 2.948\n",
            "[09:21:24.042126] Accuracy of the network on the 144 test images: 31.2%\n",
            "[09:21:24.042214] Max accuracy: 38.89%\n",
            "[09:21:24.101237] log_dir: /content/gdrive/MyDrive/Colab_Notebooks/Modal/logs/vit_base_patch16/2023_05_31__09_03_21\n"
          ]
        },
        {
          "output_type": "stream",
          "name": "stderr",
          "text": [
            "Training Epoch 68: 1it [00:01,  1.77s/it]"
          ]
        },
        {
          "output_type": "stream",
          "name": "stdout",
          "text": [
            "[09:21:25.886162] Epoch: [68]  [ 0/18]  eta: 0:00:32  lr: 0.000053  loss: 1.7117 (1.7117)  time: 1.7805  data: 1.3453  max mem: 4877\n"
          ]
        },
        {
          "output_type": "stream",
          "name": "stderr",
          "text": [
            "Training Epoch 68: 18it [00:08,  2.05it/s]\n"
          ]
        },
        {
          "output_type": "stream",
          "name": "stdout",
          "text": [
            "[09:21:32.780391] Epoch: [68]  [17/18]  eta: 0:00:00  lr: 0.000051  loss: 1.5383 (1.4758)  time: 0.4818  data: 0.0751  max mem: 4877\n",
            "[09:21:32.904680] Epoch: [68] Total time: 0:00:08 (0.4889 s / it)\n",
            "[09:21:32.906472] Averaged stats: lr: 0.000051  loss: 1.5383 (1.4758)\n"
          ]
        },
        {
          "output_type": "stream",
          "name": "stderr",
          "text": [
            "/usr/local/lib/python3.10/dist-packages/torchvision/transforms/functional.py:1603: UserWarning: The default value of the antialias parameter of all the resizing transforms (Resize(), RandomResizedCrop(), etc.) will change from None to True in v0.17, in order to be consistent across the PIL and Tensor backends. To suppress this warning, directly pass antialias=True (recommended, future default), antialias=None (current default, which means False for Tensors and True for PIL), or antialias=False (only works on Tensors - PIL will still use antialiasing). This also applies if you are using the inference transforms from the models weights: update the call to weights.transforms(antialias=True).\n",
            "  warnings.warn(\n",
            "/usr/local/lib/python3.10/dist-packages/torchvision/transforms/functional.py:1603: UserWarning: The default value of the antialias parameter of all the resizing transforms (Resize(), RandomResizedCrop(), etc.) will change from None to True in v0.17, in order to be consistent across the PIL and Tensor backends. To suppress this warning, directly pass antialias=True (recommended, future default), antialias=None (current default, which means False for Tensors and True for PIL), or antialias=False (only works on Tensors - PIL will still use antialiasing). This also applies if you are using the inference transforms from the models weights: update the call to weights.transforms(antialias=True).\n",
            "  warnings.warn(\n",
            "/usr/local/lib/python3.10/dist-packages/torchvision/transforms/functional.py:1603: UserWarning: The default value of the antialias parameter of all the resizing transforms (Resize(), RandomResizedCrop(), etc.) will change from None to True in v0.17, in order to be consistent across the PIL and Tensor backends. To suppress this warning, directly pass antialias=True (recommended, future default), antialias=None (current default, which means False for Tensors and True for PIL), or antialias=False (only works on Tensors - PIL will still use antialiasing). This also applies if you are using the inference transforms from the models weights: update the call to weights.transforms(antialias=True).\n",
            "  warnings.warn(\n",
            "/usr/local/lib/python3.10/dist-packages/torchvision/transforms/functional.py:1603: UserWarning: The default value of the antialias parameter of all the resizing transforms (Resize(), RandomResizedCrop(), etc.) will change from None to True in v0.17, in order to be consistent across the PIL and Tensor backends. To suppress this warning, directly pass antialias=True (recommended, future default), antialias=None (current default, which means False for Tensors and True for PIL), or antialias=False (only works on Tensors - PIL will still use antialiasing). This also applies if you are using the inference transforms from the models weights: update the call to weights.transforms(antialias=True).\n",
            "  warnings.warn(\n",
            "/usr/local/lib/python3.10/dist-packages/torchvision/transforms/functional.py:1603: UserWarning: The default value of the antialias parameter of all the resizing transforms (Resize(), RandomResizedCrop(), etc.) will change from None to True in v0.17, in order to be consistent across the PIL and Tensor backends. To suppress this warning, directly pass antialias=True (recommended, future default), antialias=None (current default, which means False for Tensors and True for PIL), or antialias=False (only works on Tensors - PIL will still use antialiasing). This also applies if you are using the inference transforms from the models weights: update the call to weights.transforms(antialias=True).\n",
            "  warnings.warn(\n"
          ]
        },
        {
          "output_type": "stream",
          "name": "stdout",
          "text": [
            "[09:21:37.316259] Test:  [0/5]  eta: 0:00:05  loss: 2.4848 (2.4848)  acc1: 40.6250 (40.6250)  acc5: 71.8750 (71.8750)  time: 1.0674  data: 0.8790  max mem: 4877\n",
            "[09:21:37.812961] Test:  [4/5]  eta: 0:00:00  loss: 2.6807 (2.8874)  acc1: 37.5000 (33.3333)  acc5: 59.3750 (62.5000)  time: 0.3125  data: 0.1759  max mem: 4877\n",
            "[09:21:37.919845] Test: Total time: 0:00:01 (0.3345 s / it)\n",
            "[09:21:37.919980] * Acc@1 33.333 Acc@5 62.500 loss 2.887\n",
            "[09:21:37.921187] Accuracy of the network on the 144 test images: 33.3%\n",
            "[09:21:37.921261] Max accuracy: 38.89%\n",
            "[09:21:37.929093] log_dir: /content/gdrive/MyDrive/Colab_Notebooks/Modal/logs/vit_base_patch16/2023_05_31__09_03_21\n"
          ]
        },
        {
          "output_type": "stream",
          "name": "stderr",
          "text": [
            "Training Epoch 69: 1it [00:01,  1.66s/it]"
          ]
        },
        {
          "output_type": "stream",
          "name": "stdout",
          "text": [
            "[09:21:39.617243] Epoch: [69]  [ 0/18]  eta: 0:00:30  lr: 0.000050  loss: 1.6026 (1.6026)  time: 1.6842  data: 1.2381  max mem: 4877\n"
          ]
        },
        {
          "output_type": "stream",
          "name": "stderr",
          "text": [
            "Training Epoch 69: 18it [00:08,  2.07it/s]\n"
          ]
        },
        {
          "output_type": "stream",
          "name": "stdout",
          "text": [
            "[09:21:46.499266] Epoch: [69]  [17/18]  eta: 0:00:00  lr: 0.000048  loss: 1.4989 (1.4167)  time: 0.4755  data: 0.0715  max mem: 4877\n",
            "[09:21:46.630893] Epoch: [69] Total time: 0:00:08 (0.4833 s / it)\n",
            "[09:21:46.634588] Averaged stats: lr: 0.000048  loss: 1.4989 (1.4167)\n"
          ]
        },
        {
          "output_type": "stream",
          "name": "stderr",
          "text": [
            "/usr/local/lib/python3.10/dist-packages/torchvision/transforms/functional.py:1603: UserWarning: The default value of the antialias parameter of all the resizing transforms (Resize(), RandomResizedCrop(), etc.) will change from None to True in v0.17, in order to be consistent across the PIL and Tensor backends. To suppress this warning, directly pass antialias=True (recommended, future default), antialias=None (current default, which means False for Tensors and True for PIL), or antialias=False (only works on Tensors - PIL will still use antialiasing). This also applies if you are using the inference transforms from the models weights: update the call to weights.transforms(antialias=True).\n",
            "  warnings.warn(\n",
            "/usr/local/lib/python3.10/dist-packages/torchvision/transforms/functional.py:1603: UserWarning: The default value of the antialias parameter of all the resizing transforms (Resize(), RandomResizedCrop(), etc.) will change from None to True in v0.17, in order to be consistent across the PIL and Tensor backends. To suppress this warning, directly pass antialias=True (recommended, future default), antialias=None (current default, which means False for Tensors and True for PIL), or antialias=False (only works on Tensors - PIL will still use antialiasing). This also applies if you are using the inference transforms from the models weights: update the call to weights.transforms(antialias=True).\n",
            "  warnings.warn(\n",
            "/usr/local/lib/python3.10/dist-packages/torchvision/transforms/functional.py:1603: UserWarning: The default value of the antialias parameter of all the resizing transforms (Resize(), RandomResizedCrop(), etc.) will change from None to True in v0.17, in order to be consistent across the PIL and Tensor backends. To suppress this warning, directly pass antialias=True (recommended, future default), antialias=None (current default, which means False for Tensors and True for PIL), or antialias=False (only works on Tensors - PIL will still use antialiasing). This also applies if you are using the inference transforms from the models weights: update the call to weights.transforms(antialias=True).\n",
            "  warnings.warn(\n",
            "/usr/local/lib/python3.10/dist-packages/torchvision/transforms/functional.py:1603: UserWarning: The default value of the antialias parameter of all the resizing transforms (Resize(), RandomResizedCrop(), etc.) will change from None to True in v0.17, in order to be consistent across the PIL and Tensor backends. To suppress this warning, directly pass antialias=True (recommended, future default), antialias=None (current default, which means False for Tensors and True for PIL), or antialias=False (only works on Tensors - PIL will still use antialiasing). This also applies if you are using the inference transforms from the models weights: update the call to weights.transforms(antialias=True).\n",
            "  warnings.warn(\n",
            "/usr/local/lib/python3.10/dist-packages/torchvision/transforms/functional.py:1603: UserWarning: The default value of the antialias parameter of all the resizing transforms (Resize(), RandomResizedCrop(), etc.) will change from None to True in v0.17, in order to be consistent across the PIL and Tensor backends. To suppress this warning, directly pass antialias=True (recommended, future default), antialias=None (current default, which means False for Tensors and True for PIL), or antialias=False (only works on Tensors - PIL will still use antialiasing). This also applies if you are using the inference transforms from the models weights: update the call to weights.transforms(antialias=True).\n",
            "  warnings.warn(\n"
          ]
        },
        {
          "output_type": "stream",
          "name": "stdout",
          "text": [
            "[09:21:50.842967] Test:  [0/5]  eta: 0:00:04  loss: 2.4514 (2.4514)  acc1: 46.8750 (46.8750)  acc5: 71.8750 (71.8750)  time: 0.9954  data: 0.8041  max mem: 4877\n",
            "[09:21:51.344927] Test:  [4/5]  eta: 0:00:00  loss: 2.6597 (2.8786)  acc1: 34.3750 (34.7222)  acc5: 59.3750 (63.8889)  time: 0.2991  data: 0.1609  max mem: 4877\n",
            "[09:21:51.467559] Test: Total time: 0:00:01 (0.3243 s / it)\n",
            "[09:21:51.467712] * Acc@1 34.722 Acc@5 63.889 loss 2.879\n",
            "[09:21:51.469189] Accuracy of the network on the 144 test images: 34.7%\n",
            "[09:21:51.469270] Max accuracy: 38.89%\n",
            "[09:21:51.474365] log_dir: /content/gdrive/MyDrive/Colab_Notebooks/Modal/logs/vit_base_patch16/2023_05_31__09_03_21\n"
          ]
        },
        {
          "output_type": "stream",
          "name": "stderr",
          "text": [
            "Training Epoch 70: 1it [00:01,  1.85s/it]"
          ]
        },
        {
          "output_type": "stream",
          "name": "stdout",
          "text": [
            "[09:21:53.342491] Epoch: [70]  [ 0/18]  eta: 0:00:33  lr: 0.000048  loss: 1.4393 (1.4393)  time: 1.8642  data: 1.4618  max mem: 4877\n"
          ]
        },
        {
          "output_type": "stream",
          "name": "stderr",
          "text": [
            "Training Epoch 70: 18it [00:08,  2.04it/s]\n"
          ]
        },
        {
          "output_type": "stream",
          "name": "stdout",
          "text": [
            "[09:22:00.172124] Epoch: [70]  [17/18]  eta: 0:00:00  lr: 0.000045  loss: 1.6054 (1.6497)  time: 0.4829  data: 0.0816  max mem: 4877\n",
            "[09:22:00.290102] Epoch: [70] Total time: 0:00:08 (0.4896 s / it)\n",
            "[09:22:00.291581] Averaged stats: lr: 0.000045  loss: 1.6054 (1.6497)\n"
          ]
        },
        {
          "output_type": "stream",
          "name": "stderr",
          "text": [
            "/usr/local/lib/python3.10/dist-packages/torchvision/transforms/functional.py:1603: UserWarning: The default value of the antialias parameter of all the resizing transforms (Resize(), RandomResizedCrop(), etc.) will change from None to True in v0.17, in order to be consistent across the PIL and Tensor backends. To suppress this warning, directly pass antialias=True (recommended, future default), antialias=None (current default, which means False for Tensors and True for PIL), or antialias=False (only works on Tensors - PIL will still use antialiasing). This also applies if you are using the inference transforms from the models weights: update the call to weights.transforms(antialias=True).\n",
            "  warnings.warn(\n",
            "/usr/local/lib/python3.10/dist-packages/torchvision/transforms/functional.py:1603: UserWarning: The default value of the antialias parameter of all the resizing transforms (Resize(), RandomResizedCrop(), etc.) will change from None to True in v0.17, in order to be consistent across the PIL and Tensor backends. To suppress this warning, directly pass antialias=True (recommended, future default), antialias=None (current default, which means False for Tensors and True for PIL), or antialias=False (only works on Tensors - PIL will still use antialiasing). This also applies if you are using the inference transforms from the models weights: update the call to weights.transforms(antialias=True).\n",
            "  warnings.warn(\n",
            "/usr/local/lib/python3.10/dist-packages/torchvision/transforms/functional.py:1603: UserWarning: The default value of the antialias parameter of all the resizing transforms (Resize(), RandomResizedCrop(), etc.) will change from None to True in v0.17, in order to be consistent across the PIL and Tensor backends. To suppress this warning, directly pass antialias=True (recommended, future default), antialias=None (current default, which means False for Tensors and True for PIL), or antialias=False (only works on Tensors - PIL will still use antialiasing). This also applies if you are using the inference transforms from the models weights: update the call to weights.transforms(antialias=True).\n",
            "  warnings.warn(\n",
            "/usr/local/lib/python3.10/dist-packages/torchvision/transforms/functional.py:1603: UserWarning: The default value of the antialias parameter of all the resizing transforms (Resize(), RandomResizedCrop(), etc.) will change from None to True in v0.17, in order to be consistent across the PIL and Tensor backends. To suppress this warning, directly pass antialias=True (recommended, future default), antialias=None (current default, which means False for Tensors and True for PIL), or antialias=False (only works on Tensors - PIL will still use antialiasing). This also applies if you are using the inference transforms from the models weights: update the call to weights.transforms(antialias=True).\n",
            "  warnings.warn(\n",
            "/usr/local/lib/python3.10/dist-packages/torchvision/transforms/functional.py:1603: UserWarning: The default value of the antialias parameter of all the resizing transforms (Resize(), RandomResizedCrop(), etc.) will change from None to True in v0.17, in order to be consistent across the PIL and Tensor backends. To suppress this warning, directly pass antialias=True (recommended, future default), antialias=None (current default, which means False for Tensors and True for PIL), or antialias=False (only works on Tensors - PIL will still use antialiasing). This also applies if you are using the inference transforms from the models weights: update the call to weights.transforms(antialias=True).\n",
            "  warnings.warn(\n"
          ]
        },
        {
          "output_type": "stream",
          "name": "stdout",
          "text": [
            "[09:22:04.458825] Test:  [0/5]  eta: 0:00:05  loss: 2.5035 (2.5035)  acc1: 43.7500 (43.7500)  acc5: 65.6250 (65.6250)  time: 1.0213  data: 0.8067  max mem: 4877\n",
            "[09:22:04.939929] Test:  [4/5]  eta: 0:00:00  loss: 2.5867 (2.9154)  acc1: 37.5000 (32.6389)  acc5: 65.6250 (59.7222)  time: 0.3003  data: 0.1615  max mem: 4877\n",
            "[09:22:05.043962] Test: Total time: 0:00:01 (0.3217 s / it)\n",
            "[09:22:05.044682] * Acc@1 32.639 Acc@5 59.722 loss 2.915\n",
            "[09:22:05.045857] Accuracy of the network on the 144 test images: 32.6%\n",
            "[09:22:05.045931] Max accuracy: 38.89%\n",
            "[09:22:05.053205] log_dir: /content/gdrive/MyDrive/Colab_Notebooks/Modal/logs/vit_base_patch16/2023_05_31__09_03_21\n"
          ]
        },
        {
          "output_type": "stream",
          "name": "stderr",
          "text": [
            "Training Epoch 71: 1it [00:01,  1.72s/it]"
          ]
        },
        {
          "output_type": "stream",
          "name": "stdout",
          "text": [
            "[09:22:06.791983] Epoch: [71]  [ 0/18]  eta: 0:00:31  lr: 0.000045  loss: 1.3258 (1.3258)  time: 1.7345  data: 1.2968  max mem: 4877\n"
          ]
        },
        {
          "output_type": "stream",
          "name": "stderr",
          "text": [
            "Training Epoch 71: 18it [00:08,  2.07it/s]\n"
          ]
        },
        {
          "output_type": "stream",
          "name": "stdout",
          "text": [
            "[09:22:13.638297] Epoch: [71]  [17/18]  eta: 0:00:00  lr: 0.000043  loss: 1.5928 (1.6069)  time: 0.4766  data: 0.0723  max mem: 4877\n",
            "[09:22:13.761423] Epoch: [71] Total time: 0:00:08 (0.4836 s / it)\n",
            "[09:22:13.762988] Averaged stats: lr: 0.000043  loss: 1.5928 (1.6069)\n"
          ]
        },
        {
          "output_type": "stream",
          "name": "stderr",
          "text": [
            "/usr/local/lib/python3.10/dist-packages/torchvision/transforms/functional.py:1603: UserWarning: The default value of the antialias parameter of all the resizing transforms (Resize(), RandomResizedCrop(), etc.) will change from None to True in v0.17, in order to be consistent across the PIL and Tensor backends. To suppress this warning, directly pass antialias=True (recommended, future default), antialias=None (current default, which means False for Tensors and True for PIL), or antialias=False (only works on Tensors - PIL will still use antialiasing). This also applies if you are using the inference transforms from the models weights: update the call to weights.transforms(antialias=True).\n",
            "  warnings.warn(\n",
            "/usr/local/lib/python3.10/dist-packages/torchvision/transforms/functional.py:1603: UserWarning: The default value of the antialias parameter of all the resizing transforms (Resize(), RandomResizedCrop(), etc.) will change from None to True in v0.17, in order to be consistent across the PIL and Tensor backends. To suppress this warning, directly pass antialias=True (recommended, future default), antialias=None (current default, which means False for Tensors and True for PIL), or antialias=False (only works on Tensors - PIL will still use antialiasing). This also applies if you are using the inference transforms from the models weights: update the call to weights.transforms(antialias=True).\n",
            "  warnings.warn(\n",
            "/usr/local/lib/python3.10/dist-packages/torchvision/transforms/functional.py:1603: UserWarning: The default value of the antialias parameter of all the resizing transforms (Resize(), RandomResizedCrop(), etc.) will change from None to True in v0.17, in order to be consistent across the PIL and Tensor backends. To suppress this warning, directly pass antialias=True (recommended, future default), antialias=None (current default, which means False for Tensors and True for PIL), or antialias=False (only works on Tensors - PIL will still use antialiasing). This also applies if you are using the inference transforms from the models weights: update the call to weights.transforms(antialias=True).\n",
            "  warnings.warn(\n",
            "/usr/local/lib/python3.10/dist-packages/torchvision/transforms/functional.py:1603: UserWarning: The default value of the antialias parameter of all the resizing transforms (Resize(), RandomResizedCrop(), etc.) will change from None to True in v0.17, in order to be consistent across the PIL and Tensor backends. To suppress this warning, directly pass antialias=True (recommended, future default), antialias=None (current default, which means False for Tensors and True for PIL), or antialias=False (only works on Tensors - PIL will still use antialiasing). This also applies if you are using the inference transforms from the models weights: update the call to weights.transforms(antialias=True).\n",
            "  warnings.warn(\n",
            "/usr/local/lib/python3.10/dist-packages/torchvision/transforms/functional.py:1603: UserWarning: The default value of the antialias parameter of all the resizing transforms (Resize(), RandomResizedCrop(), etc.) will change from None to True in v0.17, in order to be consistent across the PIL and Tensor backends. To suppress this warning, directly pass antialias=True (recommended, future default), antialias=None (current default, which means False for Tensors and True for PIL), or antialias=False (only works on Tensors - PIL will still use antialiasing). This also applies if you are using the inference transforms from the models weights: update the call to weights.transforms(antialias=True).\n",
            "  warnings.warn(\n"
          ]
        },
        {
          "output_type": "stream",
          "name": "stdout",
          "text": [
            "[09:22:17.986502] Test:  [0/5]  eta: 0:00:04  loss: 2.5745 (2.5745)  acc1: 40.6250 (40.6250)  acc5: 62.5000 (62.5000)  time: 0.9631  data: 0.7576  max mem: 4877\n",
            "[09:22:18.466872] Test:  [4/5]  eta: 0:00:00  loss: 2.6081 (2.9355)  acc1: 34.3750 (30.5556)  acc5: 62.5000 (58.3333)  time: 0.2883  data: 0.1516  max mem: 4877\n",
            "[09:22:18.574485] Test: Total time: 0:00:01 (0.3106 s / it)\n",
            "[09:22:18.574612] * Acc@1 30.556 Acc@5 58.333 loss 2.936\n",
            "[09:22:18.575985] Accuracy of the network on the 144 test images: 30.6%\n",
            "[09:22:18.576208] Max accuracy: 38.89%\n",
            "[09:22:18.582508] log_dir: /content/gdrive/MyDrive/Colab_Notebooks/Modal/logs/vit_base_patch16/2023_05_31__09_03_21\n"
          ]
        },
        {
          "output_type": "stream",
          "name": "stderr",
          "text": [
            "Training Epoch 72: 1it [00:01,  1.91s/it]"
          ]
        },
        {
          "output_type": "stream",
          "name": "stdout",
          "text": [
            "[09:22:20.508352] Epoch: [72]  [ 0/18]  eta: 0:00:34  lr: 0.000042  loss: 1.4652 (1.4652)  time: 1.9202  data: 1.5164  max mem: 4877\n"
          ]
        },
        {
          "output_type": "stream",
          "name": "stderr",
          "text": [
            "Training Epoch 72: 18it [00:08,  2.00it/s]\n"
          ]
        },
        {
          "output_type": "stream",
          "name": "stdout",
          "text": [
            "[09:22:27.443167] Epoch: [72]  [17/18]  eta: 0:00:00  lr: 0.000040  loss: 1.4658 (1.4364)  time: 0.4916  data: 0.0879  max mem: 4877\n",
            "[09:22:27.569281] Epoch: [72] Total time: 0:00:08 (0.4990 s / it)\n",
            "[09:22:27.572934] Averaged stats: lr: 0.000040  loss: 1.4658 (1.4364)\n"
          ]
        },
        {
          "output_type": "stream",
          "name": "stderr",
          "text": [
            "/usr/local/lib/python3.10/dist-packages/torchvision/transforms/functional.py:1603: UserWarning: The default value of the antialias parameter of all the resizing transforms (Resize(), RandomResizedCrop(), etc.) will change from None to True in v0.17, in order to be consistent across the PIL and Tensor backends. To suppress this warning, directly pass antialias=True (recommended, future default), antialias=None (current default, which means False for Tensors and True for PIL), or antialias=False (only works on Tensors - PIL will still use antialiasing). This also applies if you are using the inference transforms from the models weights: update the call to weights.transforms(antialias=True).\n",
            "  warnings.warn(\n",
            "/usr/local/lib/python3.10/dist-packages/torchvision/transforms/functional.py:1603: UserWarning: The default value of the antialias parameter of all the resizing transforms (Resize(), RandomResizedCrop(), etc.) will change from None to True in v0.17, in order to be consistent across the PIL and Tensor backends. To suppress this warning, directly pass antialias=True (recommended, future default), antialias=None (current default, which means False for Tensors and True for PIL), or antialias=False (only works on Tensors - PIL will still use antialiasing). This also applies if you are using the inference transforms from the models weights: update the call to weights.transforms(antialias=True).\n",
            "  warnings.warn(\n",
            "/usr/local/lib/python3.10/dist-packages/torchvision/transforms/functional.py:1603: UserWarning: The default value of the antialias parameter of all the resizing transforms (Resize(), RandomResizedCrop(), etc.) will change from None to True in v0.17, in order to be consistent across the PIL and Tensor backends. To suppress this warning, directly pass antialias=True (recommended, future default), antialias=None (current default, which means False for Tensors and True for PIL), or antialias=False (only works on Tensors - PIL will still use antialiasing). This also applies if you are using the inference transforms from the models weights: update the call to weights.transforms(antialias=True).\n",
            "  warnings.warn(\n",
            "/usr/local/lib/python3.10/dist-packages/torchvision/transforms/functional.py:1603: UserWarning: The default value of the antialias parameter of all the resizing transforms (Resize(), RandomResizedCrop(), etc.) will change from None to True in v0.17, in order to be consistent across the PIL and Tensor backends. To suppress this warning, directly pass antialias=True (recommended, future default), antialias=None (current default, which means False for Tensors and True for PIL), or antialias=False (only works on Tensors - PIL will still use antialiasing). This also applies if you are using the inference transforms from the models weights: update the call to weights.transforms(antialias=True).\n",
            "  warnings.warn(\n",
            "/usr/local/lib/python3.10/dist-packages/torchvision/transforms/functional.py:1603: UserWarning: The default value of the antialias parameter of all the resizing transforms (Resize(), RandomResizedCrop(), etc.) will change from None to True in v0.17, in order to be consistent across the PIL and Tensor backends. To suppress this warning, directly pass antialias=True (recommended, future default), antialias=None (current default, which means False for Tensors and True for PIL), or antialias=False (only works on Tensors - PIL will still use antialiasing). This also applies if you are using the inference transforms from the models weights: update the call to weights.transforms(antialias=True).\n",
            "  warnings.warn(\n"
          ]
        },
        {
          "output_type": "stream",
          "name": "stdout",
          "text": [
            "[09:22:32.519802] Test:  [0/5]  eta: 0:00:07  loss: 2.5732 (2.5732)  acc1: 43.7500 (43.7500)  acc5: 65.6250 (65.6250)  time: 1.5715  data: 1.3793  max mem: 4877\n",
            "[09:22:33.000056] Test:  [4/5]  eta: 0:00:00  loss: 2.6847 (2.9352)  acc1: 31.2500 (30.5556)  acc5: 62.5000 (57.6389)  time: 0.4101  data: 0.2763  max mem: 4877\n",
            "[09:22:33.121154] Test: Total time: 0:00:02 (0.4351 s / it)\n",
            "[09:22:33.122255] * Acc@1 30.556 Acc@5 57.639 loss 2.935\n",
            "[09:22:33.123247] Accuracy of the network on the 144 test images: 30.6%\n",
            "[09:22:33.123344] Max accuracy: 38.89%\n",
            "[09:22:33.130263] log_dir: /content/gdrive/MyDrive/Colab_Notebooks/Modal/logs/vit_base_patch16/2023_05_31__09_03_21\n"
          ]
        },
        {
          "output_type": "stream",
          "name": "stderr",
          "text": [
            "Training Epoch 73: 1it [00:02,  2.36s/it]"
          ]
        },
        {
          "output_type": "stream",
          "name": "stdout",
          "text": [
            "[09:22:35.501498] Epoch: [73]  [ 0/18]  eta: 0:00:42  lr: 0.000039  loss: 0.8460 (0.8460)  time: 2.3654  data: 1.8658  max mem: 4877\n"
          ]
        },
        {
          "output_type": "stream",
          "name": "stderr",
          "text": [
            "Training Epoch 73: 18it [00:09,  1.89it/s]\n"
          ]
        },
        {
          "output_type": "stream",
          "name": "stdout",
          "text": [
            "[09:22:42.459782] Epoch: [73]  [17/18]  eta: 0:00:00  lr: 0.000037  loss: 1.3995 (1.4451)  time: 0.5178  data: 0.1041  max mem: 4877\n",
            "[09:22:42.631893] Epoch: [73] Total time: 0:00:09 (0.5277 s / it)\n",
            "[09:22:42.634384] Averaged stats: lr: 0.000037  loss: 1.3995 (1.4451)\n"
          ]
        },
        {
          "output_type": "stream",
          "name": "stderr",
          "text": [
            "/usr/local/lib/python3.10/dist-packages/torchvision/transforms/functional.py:1603: UserWarning: The default value of the antialias parameter of all the resizing transforms (Resize(), RandomResizedCrop(), etc.) will change from None to True in v0.17, in order to be consistent across the PIL and Tensor backends. To suppress this warning, directly pass antialias=True (recommended, future default), antialias=None (current default, which means False for Tensors and True for PIL), or antialias=False (only works on Tensors - PIL will still use antialiasing). This also applies if you are using the inference transforms from the models weights: update the call to weights.transforms(antialias=True).\n",
            "  warnings.warn(\n",
            "/usr/local/lib/python3.10/dist-packages/torchvision/transforms/functional.py:1603: UserWarning: The default value of the antialias parameter of all the resizing transforms (Resize(), RandomResizedCrop(), etc.) will change from None to True in v0.17, in order to be consistent across the PIL and Tensor backends. To suppress this warning, directly pass antialias=True (recommended, future default), antialias=None (current default, which means False for Tensors and True for PIL), or antialias=False (only works on Tensors - PIL will still use antialiasing). This also applies if you are using the inference transforms from the models weights: update the call to weights.transforms(antialias=True).\n",
            "  warnings.warn(\n",
            "/usr/local/lib/python3.10/dist-packages/torchvision/transforms/functional.py:1603: UserWarning: The default value of the antialias parameter of all the resizing transforms (Resize(), RandomResizedCrop(), etc.) will change from None to True in v0.17, in order to be consistent across the PIL and Tensor backends. To suppress this warning, directly pass antialias=True (recommended, future default), antialias=None (current default, which means False for Tensors and True for PIL), or antialias=False (only works on Tensors - PIL will still use antialiasing). This also applies if you are using the inference transforms from the models weights: update the call to weights.transforms(antialias=True).\n",
            "  warnings.warn(\n",
            "/usr/local/lib/python3.10/dist-packages/torchvision/transforms/functional.py:1603: UserWarning: The default value of the antialias parameter of all the resizing transforms (Resize(), RandomResizedCrop(), etc.) will change from None to True in v0.17, in order to be consistent across the PIL and Tensor backends. To suppress this warning, directly pass antialias=True (recommended, future default), antialias=None (current default, which means False for Tensors and True for PIL), or antialias=False (only works on Tensors - PIL will still use antialiasing). This also applies if you are using the inference transforms from the models weights: update the call to weights.transforms(antialias=True).\n",
            "  warnings.warn(\n",
            "/usr/local/lib/python3.10/dist-packages/torchvision/transforms/functional.py:1603: UserWarning: The default value of the antialias parameter of all the resizing transforms (Resize(), RandomResizedCrop(), etc.) will change from None to True in v0.17, in order to be consistent across the PIL and Tensor backends. To suppress this warning, directly pass antialias=True (recommended, future default), antialias=None (current default, which means False for Tensors and True for PIL), or antialias=False (only works on Tensors - PIL will still use antialiasing). This also applies if you are using the inference transforms from the models weights: update the call to weights.transforms(antialias=True).\n",
            "  warnings.warn(\n"
          ]
        },
        {
          "output_type": "stream",
          "name": "stdout",
          "text": [
            "[09:22:47.879692] Test:  [0/5]  eta: 0:00:06  loss: 2.6002 (2.6002)  acc1: 43.7500 (43.7500)  acc5: 65.6250 (65.6250)  time: 1.3387  data: 1.1462  max mem: 4877\n",
            "[09:22:48.385923] Test:  [4/5]  eta: 0:00:00  loss: 2.6928 (2.9394)  acc1: 31.2500 (30.5556)  acc5: 62.5000 (59.7222)  time: 0.3687  data: 0.2299  max mem: 4877\n",
            "[09:22:48.513786] Test: Total time: 0:00:01 (0.3949 s / it)\n",
            "[09:22:48.513972] * Acc@1 30.556 Acc@5 59.722 loss 2.939\n",
            "[09:22:48.516181] Accuracy of the network on the 144 test images: 30.6%\n",
            "[09:22:48.516268] Max accuracy: 38.89%\n",
            "[09:22:48.527482] log_dir: /content/gdrive/MyDrive/Colab_Notebooks/Modal/logs/vit_base_patch16/2023_05_31__09_03_21\n"
          ]
        },
        {
          "output_type": "stream",
          "name": "stderr",
          "text": [
            "Training Epoch 74: 1it [00:02,  2.53s/it]"
          ]
        },
        {
          "output_type": "stream",
          "name": "stdout",
          "text": [
            "[09:22:51.082529] Epoch: [74]  [ 0/18]  eta: 0:00:45  lr: 0.000037  loss: 1.5673 (1.5673)  time: 2.5433  data: 2.0507  max mem: 4877\n"
          ]
        },
        {
          "output_type": "stream",
          "name": "stderr",
          "text": [
            "Training Epoch 74: 18it [00:09,  1.86it/s]\n"
          ]
        },
        {
          "output_type": "stream",
          "name": "stdout",
          "text": [
            "[09:22:58.052611] Epoch: [74]  [17/18]  eta: 0:00:00  lr: 0.000035  loss: 1.5556 (1.5133)  time: 0.5284  data: 0.1146  max mem: 4877\n",
            "[09:22:58.215633] Epoch: [74] Total time: 0:00:09 (0.5378 s / it)\n",
            "[09:22:58.218701] Averaged stats: lr: 0.000035  loss: 1.5556 (1.5133)\n"
          ]
        },
        {
          "output_type": "stream",
          "name": "stderr",
          "text": [
            "/usr/local/lib/python3.10/dist-packages/torchvision/transforms/functional.py:1603: UserWarning: The default value of the antialias parameter of all the resizing transforms (Resize(), RandomResizedCrop(), etc.) will change from None to True in v0.17, in order to be consistent across the PIL and Tensor backends. To suppress this warning, directly pass antialias=True (recommended, future default), antialias=None (current default, which means False for Tensors and True for PIL), or antialias=False (only works on Tensors - PIL will still use antialiasing). This also applies if you are using the inference transforms from the models weights: update the call to weights.transforms(antialias=True).\n",
            "  warnings.warn(\n",
            "/usr/local/lib/python3.10/dist-packages/torchvision/transforms/functional.py:1603: UserWarning: The default value of the antialias parameter of all the resizing transforms (Resize(), RandomResizedCrop(), etc.) will change from None to True in v0.17, in order to be consistent across the PIL and Tensor backends. To suppress this warning, directly pass antialias=True (recommended, future default), antialias=None (current default, which means False for Tensors and True for PIL), or antialias=False (only works on Tensors - PIL will still use antialiasing). This also applies if you are using the inference transforms from the models weights: update the call to weights.transforms(antialias=True).\n",
            "  warnings.warn(\n",
            "/usr/local/lib/python3.10/dist-packages/torchvision/transforms/functional.py:1603: UserWarning: The default value of the antialias parameter of all the resizing transforms (Resize(), RandomResizedCrop(), etc.) will change from None to True in v0.17, in order to be consistent across the PIL and Tensor backends. To suppress this warning, directly pass antialias=True (recommended, future default), antialias=None (current default, which means False for Tensors and True for PIL), or antialias=False (only works on Tensors - PIL will still use antialiasing). This also applies if you are using the inference transforms from the models weights: update the call to weights.transforms(antialias=True).\n",
            "  warnings.warn(\n",
            "/usr/local/lib/python3.10/dist-packages/torchvision/transforms/functional.py:1603: UserWarning: The default value of the antialias parameter of all the resizing transforms (Resize(), RandomResizedCrop(), etc.) will change from None to True in v0.17, in order to be consistent across the PIL and Tensor backends. To suppress this warning, directly pass antialias=True (recommended, future default), antialias=None (current default, which means False for Tensors and True for PIL), or antialias=False (only works on Tensors - PIL will still use antialiasing). This also applies if you are using the inference transforms from the models weights: update the call to weights.transforms(antialias=True).\n",
            "  warnings.warn(\n",
            "/usr/local/lib/python3.10/dist-packages/torchvision/transforms/functional.py:1603: UserWarning: The default value of the antialias parameter of all the resizing transforms (Resize(), RandomResizedCrop(), etc.) will change from None to True in v0.17, in order to be consistent across the PIL and Tensor backends. To suppress this warning, directly pass antialias=True (recommended, future default), antialias=None (current default, which means False for Tensors and True for PIL), or antialias=False (only works on Tensors - PIL will still use antialiasing). This also applies if you are using the inference transforms from the models weights: update the call to weights.transforms(antialias=True).\n",
            "  warnings.warn(\n"
          ]
        },
        {
          "output_type": "stream",
          "name": "stdout",
          "text": [
            "[09:23:03.682199] Test:  [0/5]  eta: 0:00:06  loss: 2.6183 (2.6183)  acc1: 43.7500 (43.7500)  acc5: 62.5000 (62.5000)  time: 1.3563  data: 1.1423  max mem: 4877\n",
            "[09:23:04.175390] Test:  [4/5]  eta: 0:00:00  loss: 2.6370 (2.9439)  acc1: 37.5000 (32.6389)  acc5: 62.5000 (59.0278)  time: 0.3694  data: 0.2286  max mem: 4877\n",
            "[09:23:04.298437] Test: Total time: 0:00:01 (0.3953 s / it)\n",
            "[09:23:04.298695] * Acc@1 32.639 Acc@5 59.028 loss 2.944\n",
            "[09:23:04.301223] Accuracy of the network on the 144 test images: 32.6%\n",
            "[09:23:04.301290] Max accuracy: 38.89%\n",
            "[09:23:04.309309] log_dir: /content/gdrive/MyDrive/Colab_Notebooks/Modal/logs/vit_base_patch16/2023_05_31__09_03_21\n"
          ]
        },
        {
          "output_type": "stream",
          "name": "stderr",
          "text": [
            "Training Epoch 75: 1it [00:01,  1.83s/it]"
          ]
        },
        {
          "output_type": "stream",
          "name": "stdout",
          "text": [
            "[09:23:06.177717] Epoch: [75]  [ 0/18]  eta: 0:00:33  lr: 0.000034  loss: 1.5851 (1.5851)  time: 1.8642  data: 1.4423  max mem: 4877\n"
          ]
        },
        {
          "output_type": "stream",
          "name": "stderr",
          "text": [
            "Training Epoch 75: 18it [00:09,  1.98it/s]\n"
          ]
        },
        {
          "output_type": "stream",
          "name": "stdout",
          "text": [
            "[09:23:13.215523] Epoch: [75]  [17/18]  eta: 0:00:00  lr: 0.000032  loss: 1.5727 (1.5800)  time: 0.4943  data: 0.0829  max mem: 4877\n",
            "[09:23:13.398982] Epoch: [75] Total time: 0:00:09 (0.5048 s / it)\n",
            "[09:23:13.401559] Averaged stats: lr: 0.000032  loss: 1.5727 (1.5800)\n"
          ]
        },
        {
          "output_type": "stream",
          "name": "stderr",
          "text": [
            "/usr/local/lib/python3.10/dist-packages/torchvision/transforms/functional.py:1603: UserWarning: The default value of the antialias parameter of all the resizing transforms (Resize(), RandomResizedCrop(), etc.) will change from None to True in v0.17, in order to be consistent across the PIL and Tensor backends. To suppress this warning, directly pass antialias=True (recommended, future default), antialias=None (current default, which means False for Tensors and True for PIL), or antialias=False (only works on Tensors - PIL will still use antialiasing). This also applies if you are using the inference transforms from the models weights: update the call to weights.transforms(antialias=True).\n",
            "  warnings.warn(\n",
            "/usr/local/lib/python3.10/dist-packages/torchvision/transforms/functional.py:1603: UserWarning: The default value of the antialias parameter of all the resizing transforms (Resize(), RandomResizedCrop(), etc.) will change from None to True in v0.17, in order to be consistent across the PIL and Tensor backends. To suppress this warning, directly pass antialias=True (recommended, future default), antialias=None (current default, which means False for Tensors and True for PIL), or antialias=False (only works on Tensors - PIL will still use antialiasing). This also applies if you are using the inference transforms from the models weights: update the call to weights.transforms(antialias=True).\n",
            "  warnings.warn(\n",
            "/usr/local/lib/python3.10/dist-packages/torchvision/transforms/functional.py:1603: UserWarning: The default value of the antialias parameter of all the resizing transforms (Resize(), RandomResizedCrop(), etc.) will change from None to True in v0.17, in order to be consistent across the PIL and Tensor backends. To suppress this warning, directly pass antialias=True (recommended, future default), antialias=None (current default, which means False for Tensors and True for PIL), or antialias=False (only works on Tensors - PIL will still use antialiasing). This also applies if you are using the inference transforms from the models weights: update the call to weights.transforms(antialias=True).\n",
            "  warnings.warn(\n",
            "/usr/local/lib/python3.10/dist-packages/torchvision/transforms/functional.py:1603: UserWarning: The default value of the antialias parameter of all the resizing transforms (Resize(), RandomResizedCrop(), etc.) will change from None to True in v0.17, in order to be consistent across the PIL and Tensor backends. To suppress this warning, directly pass antialias=True (recommended, future default), antialias=None (current default, which means False for Tensors and True for PIL), or antialias=False (only works on Tensors - PIL will still use antialiasing). This also applies if you are using the inference transforms from the models weights: update the call to weights.transforms(antialias=True).\n",
            "  warnings.warn(\n",
            "/usr/local/lib/python3.10/dist-packages/torchvision/transforms/functional.py:1603: UserWarning: The default value of the antialias parameter of all the resizing transforms (Resize(), RandomResizedCrop(), etc.) will change from None to True in v0.17, in order to be consistent across the PIL and Tensor backends. To suppress this warning, directly pass antialias=True (recommended, future default), antialias=None (current default, which means False for Tensors and True for PIL), or antialias=False (only works on Tensors - PIL will still use antialiasing). This also applies if you are using the inference transforms from the models weights: update the call to weights.transforms(antialias=True).\n",
            "  warnings.warn(\n"
          ]
        },
        {
          "output_type": "stream",
          "name": "stdout",
          "text": [
            "[09:23:18.796396] Test:  [0/5]  eta: 0:00:06  loss: 2.5792 (2.5792)  acc1: 43.7500 (43.7500)  acc5: 62.5000 (62.5000)  time: 1.3814  data: 1.1639  max mem: 4877\n",
            "[09:23:19.284938] Test:  [4/5]  eta: 0:00:00  loss: 2.6227 (2.9166)  acc1: 37.5000 (33.3333)  acc5: 62.5000 (59.0278)  time: 0.3735  data: 0.2332  max mem: 4877\n",
            "[09:23:19.409415] Test: Total time: 0:00:01 (0.3993 s / it)\n",
            "[09:23:19.410116] * Acc@1 33.333 Acc@5 59.028 loss 2.917\n",
            "[09:23:19.411632] Accuracy of the network on the 144 test images: 33.3%\n",
            "[09:23:19.411725] Max accuracy: 38.89%\n",
            "[09:23:19.422638] log_dir: /content/gdrive/MyDrive/Colab_Notebooks/Modal/logs/vit_base_patch16/2023_05_31__09_03_21\n"
          ]
        },
        {
          "output_type": "stream",
          "name": "stderr",
          "text": [
            "Training Epoch 76: 1it [00:02,  2.50s/it]"
          ]
        },
        {
          "output_type": "stream",
          "name": "stdout",
          "text": [
            "[09:23:21.936846] Epoch: [76]  [ 0/18]  eta: 0:00:45  lr: 0.000032  loss: 1.2949 (1.2949)  time: 2.5079  data: 2.0456  max mem: 4877\n"
          ]
        },
        {
          "output_type": "stream",
          "name": "stderr",
          "text": [
            "Training Epoch 76: 18it [00:09,  1.88it/s]\n"
          ]
        },
        {
          "output_type": "stream",
          "name": "stdout",
          "text": [
            "[09:23:28.873900] Epoch: [76]  [17/18]  eta: 0:00:00  lr: 0.000030  loss: 1.5854 (1.5652)  time: 0.5242  data: 0.1143  max mem: 4877\n",
            "[09:23:29.022913] Epoch: [76] Total time: 0:00:09 (0.5331 s / it)\n",
            "[09:23:29.028278] Averaged stats: lr: 0.000030  loss: 1.5854 (1.5652)\n"
          ]
        },
        {
          "output_type": "stream",
          "name": "stderr",
          "text": [
            "/usr/local/lib/python3.10/dist-packages/torchvision/transforms/functional.py:1603: UserWarning: The default value of the antialias parameter of all the resizing transforms (Resize(), RandomResizedCrop(), etc.) will change from None to True in v0.17, in order to be consistent across the PIL and Tensor backends. To suppress this warning, directly pass antialias=True (recommended, future default), antialias=None (current default, which means False for Tensors and True for PIL), or antialias=False (only works on Tensors - PIL will still use antialiasing). This also applies if you are using the inference transforms from the models weights: update the call to weights.transforms(antialias=True).\n",
            "  warnings.warn(\n",
            "/usr/local/lib/python3.10/dist-packages/torchvision/transforms/functional.py:1603: UserWarning: The default value of the antialias parameter of all the resizing transforms (Resize(), RandomResizedCrop(), etc.) will change from None to True in v0.17, in order to be consistent across the PIL and Tensor backends. To suppress this warning, directly pass antialias=True (recommended, future default), antialias=None (current default, which means False for Tensors and True for PIL), or antialias=False (only works on Tensors - PIL will still use antialiasing). This also applies if you are using the inference transforms from the models weights: update the call to weights.transforms(antialias=True).\n",
            "  warnings.warn(\n",
            "/usr/local/lib/python3.10/dist-packages/torchvision/transforms/functional.py:1603: UserWarning: The default value of the antialias parameter of all the resizing transforms (Resize(), RandomResizedCrop(), etc.) will change from None to True in v0.17, in order to be consistent across the PIL and Tensor backends. To suppress this warning, directly pass antialias=True (recommended, future default), antialias=None (current default, which means False for Tensors and True for PIL), or antialias=False (only works on Tensors - PIL will still use antialiasing). This also applies if you are using the inference transforms from the models weights: update the call to weights.transforms(antialias=True).\n",
            "  warnings.warn(\n",
            "/usr/local/lib/python3.10/dist-packages/torchvision/transforms/functional.py:1603: UserWarning: The default value of the antialias parameter of all the resizing transforms (Resize(), RandomResizedCrop(), etc.) will change from None to True in v0.17, in order to be consistent across the PIL and Tensor backends. To suppress this warning, directly pass antialias=True (recommended, future default), antialias=None (current default, which means False for Tensors and True for PIL), or antialias=False (only works on Tensors - PIL will still use antialiasing). This also applies if you are using the inference transforms from the models weights: update the call to weights.transforms(antialias=True).\n",
            "  warnings.warn(\n",
            "/usr/local/lib/python3.10/dist-packages/torchvision/transforms/functional.py:1603: UserWarning: The default value of the antialias parameter of all the resizing transforms (Resize(), RandomResizedCrop(), etc.) will change from None to True in v0.17, in order to be consistent across the PIL and Tensor backends. To suppress this warning, directly pass antialias=True (recommended, future default), antialias=None (current default, which means False for Tensors and True for PIL), or antialias=False (only works on Tensors - PIL will still use antialiasing). This also applies if you are using the inference transforms from the models weights: update the call to weights.transforms(antialias=True).\n",
            "  warnings.warn(\n"
          ]
        },
        {
          "output_type": "stream",
          "name": "stdout",
          "text": [
            "[09:23:34.179177] Test:  [0/5]  eta: 0:00:06  loss: 2.5307 (2.5307)  acc1: 43.7500 (43.7500)  acc5: 62.5000 (62.5000)  time: 1.3245  data: 1.1350  max mem: 4877\n",
            "[09:23:34.662321] Test:  [4/5]  eta: 0:00:00  loss: 2.6242 (2.8875)  acc1: 40.6250 (34.7222)  acc5: 62.5000 (59.7222)  time: 0.3607  data: 0.2273  max mem: 4877\n",
            "[09:23:34.779405] Test: Total time: 0:00:01 (0.3852 s / it)\n",
            "[09:23:34.779612] * Acc@1 34.722 Acc@5 59.722 loss 2.888\n",
            "[09:23:34.781356] Accuracy of the network on the 144 test images: 34.7%\n",
            "[09:23:34.781440] Max accuracy: 38.89%\n",
            "[09:23:34.789510] log_dir: /content/gdrive/MyDrive/Colab_Notebooks/Modal/logs/vit_base_patch16/2023_05_31__09_03_21\n"
          ]
        },
        {
          "output_type": "stream",
          "name": "stderr",
          "text": [
            "Training Epoch 77: 1it [00:02,  2.09s/it]"
          ]
        },
        {
          "output_type": "stream",
          "name": "stdout",
          "text": [
            "[09:23:36.910019] Epoch: [77]  [ 0/18]  eta: 0:00:38  lr: 0.000029  loss: 1.5727 (1.5727)  time: 2.1148  data: 1.7022  max mem: 4877\n"
          ]
        },
        {
          "output_type": "stream",
          "name": "stderr",
          "text": [
            "Training Epoch 77: 18it [00:09,  1.94it/s]\n"
          ]
        },
        {
          "output_type": "stream",
          "name": "stdout",
          "text": [
            "[09:23:43.923205] Epoch: [77]  [17/18]  eta: 0:00:00  lr: 0.000028  loss: 1.5784 (1.5524)  time: 0.5070  data: 0.0955  max mem: 4877\n",
            "[09:23:44.077241] Epoch: [77] Total time: 0:00:09 (0.5157 s / it)\n",
            "[09:23:44.083572] Averaged stats: lr: 0.000028  loss: 1.5784 (1.5524)\n"
          ]
        },
        {
          "output_type": "stream",
          "name": "stderr",
          "text": [
            "/usr/local/lib/python3.10/dist-packages/torchvision/transforms/functional.py:1603: UserWarning: The default value of the antialias parameter of all the resizing transforms (Resize(), RandomResizedCrop(), etc.) will change from None to True in v0.17, in order to be consistent across the PIL and Tensor backends. To suppress this warning, directly pass antialias=True (recommended, future default), antialias=None (current default, which means False for Tensors and True for PIL), or antialias=False (only works on Tensors - PIL will still use antialiasing). This also applies if you are using the inference transforms from the models weights: update the call to weights.transforms(antialias=True).\n",
            "  warnings.warn(\n",
            "/usr/local/lib/python3.10/dist-packages/torchvision/transforms/functional.py:1603: UserWarning: The default value of the antialias parameter of all the resizing transforms (Resize(), RandomResizedCrop(), etc.) will change from None to True in v0.17, in order to be consistent across the PIL and Tensor backends. To suppress this warning, directly pass antialias=True (recommended, future default), antialias=None (current default, which means False for Tensors and True for PIL), or antialias=False (only works on Tensors - PIL will still use antialiasing). This also applies if you are using the inference transforms from the models weights: update the call to weights.transforms(antialias=True).\n",
            "  warnings.warn(\n",
            "/usr/local/lib/python3.10/dist-packages/torchvision/transforms/functional.py:1603: UserWarning: The default value of the antialias parameter of all the resizing transforms (Resize(), RandomResizedCrop(), etc.) will change from None to True in v0.17, in order to be consistent across the PIL and Tensor backends. To suppress this warning, directly pass antialias=True (recommended, future default), antialias=None (current default, which means False for Tensors and True for PIL), or antialias=False (only works on Tensors - PIL will still use antialiasing). This also applies if you are using the inference transforms from the models weights: update the call to weights.transforms(antialias=True).\n",
            "  warnings.warn(\n",
            "/usr/local/lib/python3.10/dist-packages/torchvision/transforms/functional.py:1603: UserWarning: The default value of the antialias parameter of all the resizing transforms (Resize(), RandomResizedCrop(), etc.) will change from None to True in v0.17, in order to be consistent across the PIL and Tensor backends. To suppress this warning, directly pass antialias=True (recommended, future default), antialias=None (current default, which means False for Tensors and True for PIL), or antialias=False (only works on Tensors - PIL will still use antialiasing). This also applies if you are using the inference transforms from the models weights: update the call to weights.transforms(antialias=True).\n",
            "  warnings.warn(\n",
            "/usr/local/lib/python3.10/dist-packages/torchvision/transforms/functional.py:1603: UserWarning: The default value of the antialias parameter of all the resizing transforms (Resize(), RandomResizedCrop(), etc.) will change from None to True in v0.17, in order to be consistent across the PIL and Tensor backends. To suppress this warning, directly pass antialias=True (recommended, future default), antialias=None (current default, which means False for Tensors and True for PIL), or antialias=False (only works on Tensors - PIL will still use antialiasing). This also applies if you are using the inference transforms from the models weights: update the call to weights.transforms(antialias=True).\n",
            "  warnings.warn(\n"
          ]
        },
        {
          "output_type": "stream",
          "name": "stdout",
          "text": [
            "[09:23:49.088164] Test:  [0/5]  eta: 0:00:06  loss: 2.5803 (2.5803)  acc1: 40.6250 (40.6250)  acc5: 59.3750 (59.3750)  time: 1.2670  data: 1.0669  max mem: 4877\n",
            "[09:23:49.570662] Test:  [4/5]  eta: 0:00:00  loss: 2.6592 (2.8964)  acc1: 37.5000 (33.3333)  acc5: 59.3750 (59.7222)  time: 0.3496  data: 0.2135  max mem: 4877\n",
            "[09:23:49.690570] Test: Total time: 0:00:01 (0.3744 s / it)\n",
            "[09:23:49.691406] * Acc@1 33.333 Acc@5 59.722 loss 2.896\n",
            "[09:23:49.693036] Accuracy of the network on the 144 test images: 33.3%\n",
            "[09:23:49.693151] Max accuracy: 38.89%\n",
            "[09:23:49.702732] log_dir: /content/gdrive/MyDrive/Colab_Notebooks/Modal/logs/vit_base_patch16/2023_05_31__09_03_21\n"
          ]
        },
        {
          "output_type": "stream",
          "name": "stderr",
          "text": [
            "Training Epoch 78: 1it [00:01,  1.93s/it]"
          ]
        },
        {
          "output_type": "stream",
          "name": "stdout",
          "text": [
            "[09:23:51.654317] Epoch: [78]  [ 0/18]  eta: 0:00:35  lr: 0.000027  loss: 1.5589 (1.5589)  time: 1.9453  data: 1.5383  max mem: 4877\n"
          ]
        },
        {
          "output_type": "stream",
          "name": "stderr",
          "text": [
            "Training Epoch 78: 18it [00:09,  1.98it/s]\n"
          ]
        },
        {
          "output_type": "stream",
          "name": "stdout",
          "text": [
            "[09:23:58.643290] Epoch: [78]  [17/18]  eta: 0:00:00  lr: 0.000025  loss: 1.5099 (1.4913)  time: 0.4962  data: 0.0887  max mem: 4877\n",
            "[09:23:58.785973] Epoch: [78] Total time: 0:00:09 (0.5043 s / it)\n",
            "[09:23:58.788922] Averaged stats: lr: 0.000025  loss: 1.5099 (1.4913)\n"
          ]
        },
        {
          "output_type": "stream",
          "name": "stderr",
          "text": [
            "/usr/local/lib/python3.10/dist-packages/torchvision/transforms/functional.py:1603: UserWarning: The default value of the antialias parameter of all the resizing transforms (Resize(), RandomResizedCrop(), etc.) will change from None to True in v0.17, in order to be consistent across the PIL and Tensor backends. To suppress this warning, directly pass antialias=True (recommended, future default), antialias=None (current default, which means False for Tensors and True for PIL), or antialias=False (only works on Tensors - PIL will still use antialiasing). This also applies if you are using the inference transforms from the models weights: update the call to weights.transforms(antialias=True).\n",
            "  warnings.warn(\n",
            "/usr/local/lib/python3.10/dist-packages/torchvision/transforms/functional.py:1603: UserWarning: The default value of the antialias parameter of all the resizing transforms (Resize(), RandomResizedCrop(), etc.) will change from None to True in v0.17, in order to be consistent across the PIL and Tensor backends. To suppress this warning, directly pass antialias=True (recommended, future default), antialias=None (current default, which means False for Tensors and True for PIL), or antialias=False (only works on Tensors - PIL will still use antialiasing). This also applies if you are using the inference transforms from the models weights: update the call to weights.transforms(antialias=True).\n",
            "  warnings.warn(\n",
            "/usr/local/lib/python3.10/dist-packages/torchvision/transforms/functional.py:1603: UserWarning: The default value of the antialias parameter of all the resizing transforms (Resize(), RandomResizedCrop(), etc.) will change from None to True in v0.17, in order to be consistent across the PIL and Tensor backends. To suppress this warning, directly pass antialias=True (recommended, future default), antialias=None (current default, which means False for Tensors and True for PIL), or antialias=False (only works on Tensors - PIL will still use antialiasing). This also applies if you are using the inference transforms from the models weights: update the call to weights.transforms(antialias=True).\n",
            "  warnings.warn(\n",
            "/usr/local/lib/python3.10/dist-packages/torchvision/transforms/functional.py:1603: UserWarning: The default value of the antialias parameter of all the resizing transforms (Resize(), RandomResizedCrop(), etc.) will change from None to True in v0.17, in order to be consistent across the PIL and Tensor backends. To suppress this warning, directly pass antialias=True (recommended, future default), antialias=None (current default, which means False for Tensors and True for PIL), or antialias=False (only works on Tensors - PIL will still use antialiasing). This also applies if you are using the inference transforms from the models weights: update the call to weights.transforms(antialias=True).\n",
            "  warnings.warn(\n",
            "/usr/local/lib/python3.10/dist-packages/torchvision/transforms/functional.py:1603: UserWarning: The default value of the antialias parameter of all the resizing transforms (Resize(), RandomResizedCrop(), etc.) will change from None to True in v0.17, in order to be consistent across the PIL and Tensor backends. To suppress this warning, directly pass antialias=True (recommended, future default), antialias=None (current default, which means False for Tensors and True for PIL), or antialias=False (only works on Tensors - PIL will still use antialiasing). This also applies if you are using the inference transforms from the models weights: update the call to weights.transforms(antialias=True).\n",
            "  warnings.warn(\n"
          ]
        },
        {
          "output_type": "stream",
          "name": "stdout",
          "text": [
            "[09:24:03.282219] Test:  [0/5]  eta: 0:00:05  loss: 2.6259 (2.6259)  acc1: 37.5000 (37.5000)  acc5: 62.5000 (62.5000)  time: 1.0242  data: 0.8221  max mem: 4877\n",
            "[09:24:03.794685] Test:  [4/5]  eta: 0:00:00  loss: 2.6676 (2.9387)  acc1: 31.2500 (30.5556)  acc5: 62.5000 (59.0278)  time: 0.3071  data: 0.1645  max mem: 4877\n",
            "[09:24:03.894196] Test: Total time: 0:00:01 (0.3275 s / it)\n",
            "[09:24:03.894325] * Acc@1 30.556 Acc@5 59.028 loss 2.939\n",
            "[09:24:03.895440] Accuracy of the network on the 144 test images: 30.6%\n",
            "[09:24:03.895498] Max accuracy: 38.89%\n",
            "[09:24:03.900551] log_dir: /content/gdrive/MyDrive/Colab_Notebooks/Modal/logs/vit_base_patch16/2023_05_31__09_03_21\n"
          ]
        },
        {
          "output_type": "stream",
          "name": "stderr",
          "text": [
            "Training Epoch 79: 1it [00:01,  1.52s/it]"
          ]
        },
        {
          "output_type": "stream",
          "name": "stdout",
          "text": [
            "[09:24:05.435987] Epoch: [79]  [ 0/18]  eta: 0:00:27  lr: 0.000025  loss: 1.7368 (1.7368)  time: 1.5310  data: 1.1173  max mem: 4877\n"
          ]
        },
        {
          "output_type": "stream",
          "name": "stderr",
          "text": [
            "Training Epoch 79: 18it [00:08,  2.09it/s]\n"
          ]
        },
        {
          "output_type": "stream",
          "name": "stdout",
          "text": [
            "[09:24:12.394212] Epoch: [79]  [17/18]  eta: 0:00:00  lr: 0.000023  loss: 1.5297 (1.4735)  time: 0.4715  data: 0.0678  max mem: 4877\n",
            "[09:24:12.532225] Epoch: [79] Total time: 0:00:08 (0.4793 s / it)\n",
            "[09:24:12.535638] Averaged stats: lr: 0.000023  loss: 1.5297 (1.4735)\n"
          ]
        },
        {
          "output_type": "stream",
          "name": "stderr",
          "text": [
            "/usr/local/lib/python3.10/dist-packages/torchvision/transforms/functional.py:1603: UserWarning: The default value of the antialias parameter of all the resizing transforms (Resize(), RandomResizedCrop(), etc.) will change from None to True in v0.17, in order to be consistent across the PIL and Tensor backends. To suppress this warning, directly pass antialias=True (recommended, future default), antialias=None (current default, which means False for Tensors and True for PIL), or antialias=False (only works on Tensors - PIL will still use antialiasing). This also applies if you are using the inference transforms from the models weights: update the call to weights.transforms(antialias=True).\n",
            "  warnings.warn(\n",
            "/usr/local/lib/python3.10/dist-packages/torchvision/transforms/functional.py:1603: UserWarning: The default value of the antialias parameter of all the resizing transforms (Resize(), RandomResizedCrop(), etc.) will change from None to True in v0.17, in order to be consistent across the PIL and Tensor backends. To suppress this warning, directly pass antialias=True (recommended, future default), antialias=None (current default, which means False for Tensors and True for PIL), or antialias=False (only works on Tensors - PIL will still use antialiasing). This also applies if you are using the inference transforms from the models weights: update the call to weights.transforms(antialias=True).\n",
            "  warnings.warn(\n",
            "/usr/local/lib/python3.10/dist-packages/torchvision/transforms/functional.py:1603: UserWarning: The default value of the antialias parameter of all the resizing transforms (Resize(), RandomResizedCrop(), etc.) will change from None to True in v0.17, in order to be consistent across the PIL and Tensor backends. To suppress this warning, directly pass antialias=True (recommended, future default), antialias=None (current default, which means False for Tensors and True for PIL), or antialias=False (only works on Tensors - PIL will still use antialiasing). This also applies if you are using the inference transforms from the models weights: update the call to weights.transforms(antialias=True).\n",
            "  warnings.warn(\n",
            "/usr/local/lib/python3.10/dist-packages/torchvision/transforms/functional.py:1603: UserWarning: The default value of the antialias parameter of all the resizing transforms (Resize(), RandomResizedCrop(), etc.) will change from None to True in v0.17, in order to be consistent across the PIL and Tensor backends. To suppress this warning, directly pass antialias=True (recommended, future default), antialias=None (current default, which means False for Tensors and True for PIL), or antialias=False (only works on Tensors - PIL will still use antialiasing). This also applies if you are using the inference transforms from the models weights: update the call to weights.transforms(antialias=True).\n",
            "  warnings.warn(\n",
            "/usr/local/lib/python3.10/dist-packages/torchvision/transforms/functional.py:1603: UserWarning: The default value of the antialias parameter of all the resizing transforms (Resize(), RandomResizedCrop(), etc.) will change from None to True in v0.17, in order to be consistent across the PIL and Tensor backends. To suppress this warning, directly pass antialias=True (recommended, future default), antialias=None (current default, which means False for Tensors and True for PIL), or antialias=False (only works on Tensors - PIL will still use antialiasing). This also applies if you are using the inference transforms from the models weights: update the call to weights.transforms(antialias=True).\n",
            "  warnings.warn(\n"
          ]
        },
        {
          "output_type": "stream",
          "name": "stdout",
          "text": [
            "[09:24:16.895524] Test:  [0/5]  eta: 0:00:04  loss: 2.6114 (2.6114)  acc1: 43.7500 (43.7500)  acc5: 62.5000 (62.5000)  time: 0.9490  data: 0.7378  max mem: 4877\n",
            "[09:24:17.381995] Test:  [4/5]  eta: 0:00:00  loss: 2.6547 (2.9407)  acc1: 31.2500 (31.2500)  acc5: 62.5000 (59.0278)  time: 0.2867  data: 0.1495  max mem: 4877\n",
            "[09:24:17.484432] Test: Total time: 0:00:01 (0.3085 s / it)\n",
            "[09:24:17.484568] * Acc@1 31.250 Acc@5 59.028 loss 2.941\n",
            "[09:24:17.485734] Accuracy of the network on the 144 test images: 31.2%\n",
            "[09:24:17.485794] Max accuracy: 38.89%\n",
            "[09:24:17.493042] log_dir: /content/gdrive/MyDrive/Colab_Notebooks/Modal/logs/vit_base_patch16/2023_05_31__09_03_21\n"
          ]
        },
        {
          "output_type": "stream",
          "name": "stderr",
          "text": [
            "Training Epoch 80: 1it [00:01,  1.71s/it]"
          ]
        },
        {
          "output_type": "stream",
          "name": "stdout",
          "text": [
            "[09:24:19.214275] Epoch: [80]  [ 0/18]  eta: 0:00:30  lr: 0.000023  loss: 1.3175 (1.3175)  time: 1.7178  data: 1.3193  max mem: 4877\n"
          ]
        },
        {
          "output_type": "stream",
          "name": "stderr",
          "text": [
            "Training Epoch 80: 18it [00:08,  2.06it/s]\n"
          ]
        },
        {
          "output_type": "stream",
          "name": "stdout",
          "text": [
            "[09:24:26.090487] Epoch: [80]  [17/18]  eta: 0:00:00  lr: 0.000021  loss: 1.5785 (1.5814)  time: 0.4772  data: 0.0737  max mem: 4877\n",
            "[09:24:26.229215] Epoch: [80] Total time: 0:00:08 (0.4852 s / it)\n",
            "[09:24:26.230602] Averaged stats: lr: 0.000021  loss: 1.5785 (1.5814)\n"
          ]
        },
        {
          "output_type": "stream",
          "name": "stderr",
          "text": [
            "/usr/local/lib/python3.10/dist-packages/torchvision/transforms/functional.py:1603: UserWarning: The default value of the antialias parameter of all the resizing transforms (Resize(), RandomResizedCrop(), etc.) will change from None to True in v0.17, in order to be consistent across the PIL and Tensor backends. To suppress this warning, directly pass antialias=True (recommended, future default), antialias=None (current default, which means False for Tensors and True for PIL), or antialias=False (only works on Tensors - PIL will still use antialiasing). This also applies if you are using the inference transforms from the models weights: update the call to weights.transforms(antialias=True).\n",
            "  warnings.warn(\n",
            "/usr/local/lib/python3.10/dist-packages/torchvision/transforms/functional.py:1603: UserWarning: The default value of the antialias parameter of all the resizing transforms (Resize(), RandomResizedCrop(), etc.) will change from None to True in v0.17, in order to be consistent across the PIL and Tensor backends. To suppress this warning, directly pass antialias=True (recommended, future default), antialias=None (current default, which means False for Tensors and True for PIL), or antialias=False (only works on Tensors - PIL will still use antialiasing). This also applies if you are using the inference transforms from the models weights: update the call to weights.transforms(antialias=True).\n",
            "  warnings.warn(\n",
            "/usr/local/lib/python3.10/dist-packages/torchvision/transforms/functional.py:1603: UserWarning: The default value of the antialias parameter of all the resizing transforms (Resize(), RandomResizedCrop(), etc.) will change from None to True in v0.17, in order to be consistent across the PIL and Tensor backends. To suppress this warning, directly pass antialias=True (recommended, future default), antialias=None (current default, which means False for Tensors and True for PIL), or antialias=False (only works on Tensors - PIL will still use antialiasing). This also applies if you are using the inference transforms from the models weights: update the call to weights.transforms(antialias=True).\n",
            "  warnings.warn(\n",
            "/usr/local/lib/python3.10/dist-packages/torchvision/transforms/functional.py:1603: UserWarning: The default value of the antialias parameter of all the resizing transforms (Resize(), RandomResizedCrop(), etc.) will change from None to True in v0.17, in order to be consistent across the PIL and Tensor backends. To suppress this warning, directly pass antialias=True (recommended, future default), antialias=None (current default, which means False for Tensors and True for PIL), or antialias=False (only works on Tensors - PIL will still use antialiasing). This also applies if you are using the inference transforms from the models weights: update the call to weights.transforms(antialias=True).\n",
            "  warnings.warn(\n",
            "/usr/local/lib/python3.10/dist-packages/torchvision/transforms/functional.py:1603: UserWarning: The default value of the antialias parameter of all the resizing transforms (Resize(), RandomResizedCrop(), etc.) will change from None to True in v0.17, in order to be consistent across the PIL and Tensor backends. To suppress this warning, directly pass antialias=True (recommended, future default), antialias=None (current default, which means False for Tensors and True for PIL), or antialias=False (only works on Tensors - PIL will still use antialiasing). This also applies if you are using the inference transforms from the models weights: update the call to weights.transforms(antialias=True).\n",
            "  warnings.warn(\n"
          ]
        },
        {
          "output_type": "stream",
          "name": "stdout",
          "text": [
            "[09:24:30.634713] Test:  [0/5]  eta: 0:00:04  loss: 2.6180 (2.6180)  acc1: 40.6250 (40.6250)  acc5: 62.5000 (62.5000)  time: 0.9736  data: 0.7772  max mem: 4877\n",
            "[09:24:31.119041] Test:  [4/5]  eta: 0:00:00  loss: 2.6551 (2.9233)  acc1: 31.2500 (31.2500)  acc5: 62.5000 (59.7222)  time: 0.2913  data: 0.1568  max mem: 4877\n",
            "[09:24:31.220350] Test: Total time: 0:00:01 (0.3129 s / it)\n",
            "[09:24:31.220479] * Acc@1 31.250 Acc@5 59.722 loss 2.923\n",
            "[09:24:31.221637] Accuracy of the network on the 144 test images: 31.2%\n",
            "[09:24:31.221694] Max accuracy: 38.89%\n",
            "[09:24:31.227774] log_dir: /content/gdrive/MyDrive/Colab_Notebooks/Modal/logs/vit_base_patch16/2023_05_31__09_03_21\n"
          ]
        },
        {
          "output_type": "stream",
          "name": "stderr",
          "text": [
            "Training Epoch 81: 1it [00:01,  1.71s/it]"
          ]
        },
        {
          "output_type": "stream",
          "name": "stdout",
          "text": [
            "[09:24:32.956895] Epoch: [81]  [ 0/18]  eta: 0:00:31  lr: 0.000021  loss: 0.9350 (0.9350)  time: 1.7249  data: 1.3061  max mem: 4877\n"
          ]
        },
        {
          "output_type": "stream",
          "name": "stderr",
          "text": [
            "Training Epoch 81: 18it [00:08,  2.08it/s]\n"
          ]
        },
        {
          "output_type": "stream",
          "name": "stdout",
          "text": [
            "[09:24:39.770266] Epoch: [81]  [17/18]  eta: 0:00:00  lr: 0.000019  loss: 1.4885 (1.4109)  time: 0.4742  data: 0.0729  max mem: 4877\n",
            "[09:24:39.903117] Epoch: [81] Total time: 0:00:08 (0.4818 s / it)\n",
            "[09:24:39.905274] Averaged stats: lr: 0.000019  loss: 1.4885 (1.4109)\n"
          ]
        },
        {
          "output_type": "stream",
          "name": "stderr",
          "text": [
            "/usr/local/lib/python3.10/dist-packages/torchvision/transforms/functional.py:1603: UserWarning: The default value of the antialias parameter of all the resizing transforms (Resize(), RandomResizedCrop(), etc.) will change from None to True in v0.17, in order to be consistent across the PIL and Tensor backends. To suppress this warning, directly pass antialias=True (recommended, future default), antialias=None (current default, which means False for Tensors and True for PIL), or antialias=False (only works on Tensors - PIL will still use antialiasing). This also applies if you are using the inference transforms from the models weights: update the call to weights.transforms(antialias=True).\n",
            "  warnings.warn(\n",
            "/usr/local/lib/python3.10/dist-packages/torchvision/transforms/functional.py:1603: UserWarning: The default value of the antialias parameter of all the resizing transforms (Resize(), RandomResizedCrop(), etc.) will change from None to True in v0.17, in order to be consistent across the PIL and Tensor backends. To suppress this warning, directly pass antialias=True (recommended, future default), antialias=None (current default, which means False for Tensors and True for PIL), or antialias=False (only works on Tensors - PIL will still use antialiasing). This also applies if you are using the inference transforms from the models weights: update the call to weights.transforms(antialias=True).\n",
            "  warnings.warn(\n",
            "/usr/local/lib/python3.10/dist-packages/torchvision/transforms/functional.py:1603: UserWarning: The default value of the antialias parameter of all the resizing transforms (Resize(), RandomResizedCrop(), etc.) will change from None to True in v0.17, in order to be consistent across the PIL and Tensor backends. To suppress this warning, directly pass antialias=True (recommended, future default), antialias=None (current default, which means False for Tensors and True for PIL), or antialias=False (only works on Tensors - PIL will still use antialiasing). This also applies if you are using the inference transforms from the models weights: update the call to weights.transforms(antialias=True).\n",
            "  warnings.warn(\n",
            "/usr/local/lib/python3.10/dist-packages/torchvision/transforms/functional.py:1603: UserWarning: The default value of the antialias parameter of all the resizing transforms (Resize(), RandomResizedCrop(), etc.) will change from None to True in v0.17, in order to be consistent across the PIL and Tensor backends. To suppress this warning, directly pass antialias=True (recommended, future default), antialias=None (current default, which means False for Tensors and True for PIL), or antialias=False (only works on Tensors - PIL will still use antialiasing). This also applies if you are using the inference transforms from the models weights: update the call to weights.transforms(antialias=True).\n",
            "  warnings.warn(\n",
            "/usr/local/lib/python3.10/dist-packages/torchvision/transforms/functional.py:1603: UserWarning: The default value of the antialias parameter of all the resizing transforms (Resize(), RandomResizedCrop(), etc.) will change from None to True in v0.17, in order to be consistent across the PIL and Tensor backends. To suppress this warning, directly pass antialias=True (recommended, future default), antialias=None (current default, which means False for Tensors and True for PIL), or antialias=False (only works on Tensors - PIL will still use antialiasing). This also applies if you are using the inference transforms from the models weights: update the call to weights.transforms(antialias=True).\n",
            "  warnings.warn(\n"
          ]
        },
        {
          "output_type": "stream",
          "name": "stdout",
          "text": [
            "[09:24:44.142657] Test:  [0/5]  eta: 0:00:04  loss: 2.6040 (2.6040)  acc1: 43.7500 (43.7500)  acc5: 65.6250 (65.6250)  time: 0.9255  data: 0.7300  max mem: 4877\n",
            "[09:24:44.625393] Test:  [4/5]  eta: 0:00:00  loss: 2.6399 (2.9191)  acc1: 31.2500 (32.6389)  acc5: 62.5000 (59.7222)  time: 0.2814  data: 0.1461  max mem: 4877\n",
            "[09:24:44.722659] Test: Total time: 0:00:01 (0.3014 s / it)\n",
            "[09:24:44.722793] * Acc@1 32.639 Acc@5 59.722 loss 2.919\n",
            "[09:24:44.724217] Accuracy of the network on the 144 test images: 32.6%\n",
            "[09:24:44.724312] Max accuracy: 38.89%\n",
            "[09:24:44.730260] log_dir: /content/gdrive/MyDrive/Colab_Notebooks/Modal/logs/vit_base_patch16/2023_05_31__09_03_21\n"
          ]
        },
        {
          "output_type": "stream",
          "name": "stderr",
          "text": [
            "Training Epoch 82: 1it [00:01,  1.79s/it]"
          ]
        },
        {
          "output_type": "stream",
          "name": "stdout",
          "text": [
            "[09:24:46.534340] Epoch: [82]  [ 0/18]  eta: 0:00:32  lr: 0.000019  loss: 0.7987 (0.7987)  time: 1.7987  data: 1.3960  max mem: 4877\n"
          ]
        },
        {
          "output_type": "stream",
          "name": "stderr",
          "text": [
            "Training Epoch 82: 18it [00:08,  2.05it/s]\n"
          ]
        },
        {
          "output_type": "stream",
          "name": "stdout",
          "text": [
            "[09:24:53.390073] Epoch: [82]  [17/18]  eta: 0:00:00  lr: 0.000017  loss: 1.2800 (1.2863)  time: 0.4807  data: 0.0779  max mem: 4877\n",
            "[09:24:53.509652] Epoch: [82] Total time: 0:00:08 (0.4875 s / it)\n",
            "[09:24:53.512564] Averaged stats: lr: 0.000017  loss: 1.2800 (1.2863)\n"
          ]
        },
        {
          "output_type": "stream",
          "name": "stderr",
          "text": [
            "/usr/local/lib/python3.10/dist-packages/torchvision/transforms/functional.py:1603: UserWarning: The default value of the antialias parameter of all the resizing transforms (Resize(), RandomResizedCrop(), etc.) will change from None to True in v0.17, in order to be consistent across the PIL and Tensor backends. To suppress this warning, directly pass antialias=True (recommended, future default), antialias=None (current default, which means False for Tensors and True for PIL), or antialias=False (only works on Tensors - PIL will still use antialiasing). This also applies if you are using the inference transforms from the models weights: update the call to weights.transforms(antialias=True).\n",
            "  warnings.warn(\n",
            "/usr/local/lib/python3.10/dist-packages/torchvision/transforms/functional.py:1603: UserWarning: The default value of the antialias parameter of all the resizing transforms (Resize(), RandomResizedCrop(), etc.) will change from None to True in v0.17, in order to be consistent across the PIL and Tensor backends. To suppress this warning, directly pass antialias=True (recommended, future default), antialias=None (current default, which means False for Tensors and True for PIL), or antialias=False (only works on Tensors - PIL will still use antialiasing). This also applies if you are using the inference transforms from the models weights: update the call to weights.transforms(antialias=True).\n",
            "  warnings.warn(\n",
            "/usr/local/lib/python3.10/dist-packages/torchvision/transforms/functional.py:1603: UserWarning: The default value of the antialias parameter of all the resizing transforms (Resize(), RandomResizedCrop(), etc.) will change from None to True in v0.17, in order to be consistent across the PIL and Tensor backends. To suppress this warning, directly pass antialias=True (recommended, future default), antialias=None (current default, which means False for Tensors and True for PIL), or antialias=False (only works on Tensors - PIL will still use antialiasing). This also applies if you are using the inference transforms from the models weights: update the call to weights.transforms(antialias=True).\n",
            "  warnings.warn(\n",
            "/usr/local/lib/python3.10/dist-packages/torchvision/transforms/functional.py:1603: UserWarning: The default value of the antialias parameter of all the resizing transforms (Resize(), RandomResizedCrop(), etc.) will change from None to True in v0.17, in order to be consistent across the PIL and Tensor backends. To suppress this warning, directly pass antialias=True (recommended, future default), antialias=None (current default, which means False for Tensors and True for PIL), or antialias=False (only works on Tensors - PIL will still use antialiasing). This also applies if you are using the inference transforms from the models weights: update the call to weights.transforms(antialias=True).\n",
            "  warnings.warn(\n",
            "/usr/local/lib/python3.10/dist-packages/torchvision/transforms/functional.py:1603: UserWarning: The default value of the antialias parameter of all the resizing transforms (Resize(), RandomResizedCrop(), etc.) will change from None to True in v0.17, in order to be consistent across the PIL and Tensor backends. To suppress this warning, directly pass antialias=True (recommended, future default), antialias=None (current default, which means False for Tensors and True for PIL), or antialias=False (only works on Tensors - PIL will still use antialiasing). This also applies if you are using the inference transforms from the models weights: update the call to weights.transforms(antialias=True).\n",
            "  warnings.warn(\n"
          ]
        },
        {
          "output_type": "stream",
          "name": "stdout",
          "text": [
            "[09:24:57.633704] Test:  [0/5]  eta: 0:00:04  loss: 2.6060 (2.6060)  acc1: 40.6250 (40.6250)  acc5: 65.6250 (65.6250)  time: 0.9617  data: 0.7552  max mem: 4877\n",
            "[09:24:58.120601] Test:  [4/5]  eta: 0:00:00  loss: 2.6461 (2.9205)  acc1: 31.2500 (30.5556)  acc5: 62.5000 (59.7222)  time: 0.2895  data: 0.1532  max mem: 4877\n",
            "[09:24:58.218032] Test: Total time: 0:00:01 (0.3097 s / it)\n",
            "[09:24:58.218174] * Acc@1 30.556 Acc@5 59.722 loss 2.921\n",
            "[09:24:58.219389] Accuracy of the network on the 144 test images: 30.6%\n",
            "[09:24:58.219450] Max accuracy: 38.89%\n",
            "[09:24:58.226596] log_dir: /content/gdrive/MyDrive/Colab_Notebooks/Modal/logs/vit_base_patch16/2023_05_31__09_03_21\n"
          ]
        },
        {
          "output_type": "stream",
          "name": "stderr",
          "text": [
            "Training Epoch 83: 1it [00:01,  1.65s/it]"
          ]
        },
        {
          "output_type": "stream",
          "name": "stdout",
          "text": [
            "[09:24:59.894517] Epoch: [83]  [ 0/18]  eta: 0:00:29  lr: 0.000017  loss: 1.1290 (1.1290)  time: 1.6640  data: 1.2772  max mem: 4877\n"
          ]
        },
        {
          "output_type": "stream",
          "name": "stderr",
          "text": [
            "Training Epoch 83: 18it [00:08,  2.08it/s]\n"
          ]
        },
        {
          "output_type": "stream",
          "name": "stdout",
          "text": [
            "[09:25:06.749151] Epoch: [83]  [17/18]  eta: 0:00:00  lr: 0.000015  loss: 1.5344 (1.5031)  time: 0.4731  data: 0.0721  max mem: 4877\n",
            "[09:25:06.879541] Epoch: [83] Total time: 0:00:08 (0.4806 s / it)\n",
            "[09:25:06.883211] Averaged stats: lr: 0.000015  loss: 1.5344 (1.5031)\n"
          ]
        },
        {
          "output_type": "stream",
          "name": "stderr",
          "text": [
            "/usr/local/lib/python3.10/dist-packages/torchvision/transforms/functional.py:1603: UserWarning: The default value of the antialias parameter of all the resizing transforms (Resize(), RandomResizedCrop(), etc.) will change from None to True in v0.17, in order to be consistent across the PIL and Tensor backends. To suppress this warning, directly pass antialias=True (recommended, future default), antialias=None (current default, which means False for Tensors and True for PIL), or antialias=False (only works on Tensors - PIL will still use antialiasing). This also applies if you are using the inference transforms from the models weights: update the call to weights.transforms(antialias=True).\n",
            "  warnings.warn(\n",
            "/usr/local/lib/python3.10/dist-packages/torchvision/transforms/functional.py:1603: UserWarning: The default value of the antialias parameter of all the resizing transforms (Resize(), RandomResizedCrop(), etc.) will change from None to True in v0.17, in order to be consistent across the PIL and Tensor backends. To suppress this warning, directly pass antialias=True (recommended, future default), antialias=None (current default, which means False for Tensors and True for PIL), or antialias=False (only works on Tensors - PIL will still use antialiasing). This also applies if you are using the inference transforms from the models weights: update the call to weights.transforms(antialias=True).\n",
            "  warnings.warn(\n",
            "/usr/local/lib/python3.10/dist-packages/torchvision/transforms/functional.py:1603: UserWarning: The default value of the antialias parameter of all the resizing transforms (Resize(), RandomResizedCrop(), etc.) will change from None to True in v0.17, in order to be consistent across the PIL and Tensor backends. To suppress this warning, directly pass antialias=True (recommended, future default), antialias=None (current default, which means False for Tensors and True for PIL), or antialias=False (only works on Tensors - PIL will still use antialiasing). This also applies if you are using the inference transforms from the models weights: update the call to weights.transforms(antialias=True).\n",
            "  warnings.warn(\n",
            "/usr/local/lib/python3.10/dist-packages/torchvision/transforms/functional.py:1603: UserWarning: The default value of the antialias parameter of all the resizing transforms (Resize(), RandomResizedCrop(), etc.) will change from None to True in v0.17, in order to be consistent across the PIL and Tensor backends. To suppress this warning, directly pass antialias=True (recommended, future default), antialias=None (current default, which means False for Tensors and True for PIL), or antialias=False (only works on Tensors - PIL will still use antialiasing). This also applies if you are using the inference transforms from the models weights: update the call to weights.transforms(antialias=True).\n",
            "  warnings.warn(\n",
            "/usr/local/lib/python3.10/dist-packages/torchvision/transforms/functional.py:1603: UserWarning: The default value of the antialias parameter of all the resizing transforms (Resize(), RandomResizedCrop(), etc.) will change from None to True in v0.17, in order to be consistent across the PIL and Tensor backends. To suppress this warning, directly pass antialias=True (recommended, future default), antialias=None (current default, which means False for Tensors and True for PIL), or antialias=False (only works on Tensors - PIL will still use antialiasing). This also applies if you are using the inference transforms from the models weights: update the call to weights.transforms(antialias=True).\n",
            "  warnings.warn(\n"
          ]
        },
        {
          "output_type": "stream",
          "name": "stdout",
          "text": [
            "[09:25:11.378836] Test:  [0/5]  eta: 0:00:05  loss: 2.6290 (2.6290)  acc1: 40.6250 (40.6250)  acc5: 65.6250 (65.6250)  time: 1.0778  data: 0.8891  max mem: 4877\n",
            "[09:25:11.866877] Test:  [4/5]  eta: 0:00:00  loss: 2.6559 (2.9169)  acc1: 31.2500 (30.5556)  acc5: 62.5000 (60.4167)  time: 0.3130  data: 0.1780  max mem: 4877\n",
            "[09:25:11.962772] Test: Total time: 0:00:01 (0.3326 s / it)\n",
            "[09:25:11.962902] * Acc@1 30.556 Acc@5 60.417 loss 2.917\n",
            "[09:25:11.964070] Accuracy of the network on the 144 test images: 30.6%\n",
            "[09:25:11.964140] Max accuracy: 38.89%\n",
            "[09:25:11.970225] log_dir: /content/gdrive/MyDrive/Colab_Notebooks/Modal/logs/vit_base_patch16/2023_05_31__09_03_21\n"
          ]
        },
        {
          "output_type": "stream",
          "name": "stderr",
          "text": [
            "Training Epoch 84: 1it [00:01,  1.79s/it]"
          ]
        },
        {
          "output_type": "stream",
          "name": "stdout",
          "text": [
            "[09:25:13.774367] Epoch: [84]  [ 0/18]  eta: 0:00:32  lr: 0.000015  loss: 1.6360 (1.6360)  time: 1.7994  data: 1.4037  max mem: 4877\n"
          ]
        },
        {
          "output_type": "stream",
          "name": "stderr",
          "text": [
            "Training Epoch 84: 18it [00:08,  2.03it/s]\n"
          ]
        },
        {
          "output_type": "stream",
          "name": "stdout",
          "text": [
            "[09:25:20.665171] Epoch: [84]  [17/18]  eta: 0:00:00  lr: 0.000014  loss: 1.5022 (1.5486)  time: 0.4824  data: 0.0783  max mem: 4877\n",
            "[09:25:20.827307] Epoch: [84] Total time: 0:00:08 (0.4919 s / it)\n",
            "[09:25:20.830949] Averaged stats: lr: 0.000014  loss: 1.5022 (1.5486)\n"
          ]
        },
        {
          "output_type": "stream",
          "name": "stderr",
          "text": [
            "/usr/local/lib/python3.10/dist-packages/torchvision/transforms/functional.py:1603: UserWarning: The default value of the antialias parameter of all the resizing transforms (Resize(), RandomResizedCrop(), etc.) will change from None to True in v0.17, in order to be consistent across the PIL and Tensor backends. To suppress this warning, directly pass antialias=True (recommended, future default), antialias=None (current default, which means False for Tensors and True for PIL), or antialias=False (only works on Tensors - PIL will still use antialiasing). This also applies if you are using the inference transforms from the models weights: update the call to weights.transforms(antialias=True).\n",
            "  warnings.warn(\n",
            "/usr/local/lib/python3.10/dist-packages/torchvision/transforms/functional.py:1603: UserWarning: The default value of the antialias parameter of all the resizing transforms (Resize(), RandomResizedCrop(), etc.) will change from None to True in v0.17, in order to be consistent across the PIL and Tensor backends. To suppress this warning, directly pass antialias=True (recommended, future default), antialias=None (current default, which means False for Tensors and True for PIL), or antialias=False (only works on Tensors - PIL will still use antialiasing). This also applies if you are using the inference transforms from the models weights: update the call to weights.transforms(antialias=True).\n",
            "  warnings.warn(\n",
            "/usr/local/lib/python3.10/dist-packages/torchvision/transforms/functional.py:1603: UserWarning: The default value of the antialias parameter of all the resizing transforms (Resize(), RandomResizedCrop(), etc.) will change from None to True in v0.17, in order to be consistent across the PIL and Tensor backends. To suppress this warning, directly pass antialias=True (recommended, future default), antialias=None (current default, which means False for Tensors and True for PIL), or antialias=False (only works on Tensors - PIL will still use antialiasing). This also applies if you are using the inference transforms from the models weights: update the call to weights.transforms(antialias=True).\n",
            "  warnings.warn(\n",
            "/usr/local/lib/python3.10/dist-packages/torchvision/transforms/functional.py:1603: UserWarning: The default value of the antialias parameter of all the resizing transforms (Resize(), RandomResizedCrop(), etc.) will change from None to True in v0.17, in order to be consistent across the PIL and Tensor backends. To suppress this warning, directly pass antialias=True (recommended, future default), antialias=None (current default, which means False for Tensors and True for PIL), or antialias=False (only works on Tensors - PIL will still use antialiasing). This also applies if you are using the inference transforms from the models weights: update the call to weights.transforms(antialias=True).\n",
            "  warnings.warn(\n",
            "/usr/local/lib/python3.10/dist-packages/torchvision/transforms/functional.py:1603: UserWarning: The default value of the antialias parameter of all the resizing transforms (Resize(), RandomResizedCrop(), etc.) will change from None to True in v0.17, in order to be consistent across the PIL and Tensor backends. To suppress this warning, directly pass antialias=True (recommended, future default), antialias=None (current default, which means False for Tensors and True for PIL), or antialias=False (only works on Tensors - PIL will still use antialiasing). This also applies if you are using the inference transforms from the models weights: update the call to weights.transforms(antialias=True).\n",
            "  warnings.warn(\n"
          ]
        },
        {
          "output_type": "stream",
          "name": "stdout",
          "text": [
            "[09:25:26.451240] Test:  [0/5]  eta: 0:00:06  loss: 2.6337 (2.6337)  acc1: 40.6250 (40.6250)  acc5: 65.6250 (65.6250)  time: 1.3088  data: 1.0967  max mem: 4877\n",
            "[09:25:26.928899] Test:  [4/5]  eta: 0:00:00  loss: 2.6714 (2.9060)  acc1: 31.2500 (31.2500)  acc5: 62.5000 (61.1111)  time: 0.3569  data: 0.2195  max mem: 4877\n",
            "[09:25:27.053079] Test: Total time: 0:00:01 (0.3829 s / it)\n",
            "[09:25:27.054197] * Acc@1 31.250 Acc@5 61.111 loss 2.906\n",
            "[09:25:27.055697] Accuracy of the network on the 144 test images: 31.2%\n",
            "[09:25:27.055773] Max accuracy: 38.89%\n",
            "[09:25:27.065409] log_dir: /content/gdrive/MyDrive/Colab_Notebooks/Modal/logs/vit_base_patch16/2023_05_31__09_03_21\n"
          ]
        },
        {
          "output_type": "stream",
          "name": "stderr",
          "text": [
            "Training Epoch 85: 1it [00:02,  2.40s/it]"
          ]
        },
        {
          "output_type": "stream",
          "name": "stdout",
          "text": [
            "[09:25:29.475800] Epoch: [85]  [ 0/18]  eta: 0:00:43  lr: 0.000013  loss: 0.8025 (0.8025)  time: 2.4063  data: 1.9126  max mem: 4877\n"
          ]
        },
        {
          "output_type": "stream",
          "name": "stderr",
          "text": [
            "Training Epoch 85: 18it [00:09,  1.89it/s]\n"
          ]
        },
        {
          "output_type": "stream",
          "name": "stdout",
          "text": [
            "[09:25:36.386469] Epoch: [85]  [17/18]  eta: 0:00:00  lr: 0.000012  loss: 1.4336 (1.4136)  time: 0.5175  data: 0.1066  max mem: 4877\n",
            "[09:25:36.567874] Epoch: [85] Total time: 0:00:09 (0.5277 s / it)\n",
            "[09:25:36.569485] Averaged stats: lr: 0.000012  loss: 1.4336 (1.4136)\n"
          ]
        },
        {
          "output_type": "stream",
          "name": "stderr",
          "text": [
            "/usr/local/lib/python3.10/dist-packages/torchvision/transforms/functional.py:1603: UserWarning: The default value of the antialias parameter of all the resizing transforms (Resize(), RandomResizedCrop(), etc.) will change from None to True in v0.17, in order to be consistent across the PIL and Tensor backends. To suppress this warning, directly pass antialias=True (recommended, future default), antialias=None (current default, which means False for Tensors and True for PIL), or antialias=False (only works on Tensors - PIL will still use antialiasing). This also applies if you are using the inference transforms from the models weights: update the call to weights.transforms(antialias=True).\n",
            "  warnings.warn(\n",
            "/usr/local/lib/python3.10/dist-packages/torchvision/transforms/functional.py:1603: UserWarning: The default value of the antialias parameter of all the resizing transforms (Resize(), RandomResizedCrop(), etc.) will change from None to True in v0.17, in order to be consistent across the PIL and Tensor backends. To suppress this warning, directly pass antialias=True (recommended, future default), antialias=None (current default, which means False for Tensors and True for PIL), or antialias=False (only works on Tensors - PIL will still use antialiasing). This also applies if you are using the inference transforms from the models weights: update the call to weights.transforms(antialias=True).\n",
            "  warnings.warn(\n",
            "/usr/local/lib/python3.10/dist-packages/torchvision/transforms/functional.py:1603: UserWarning: The default value of the antialias parameter of all the resizing transforms (Resize(), RandomResizedCrop(), etc.) will change from None to True in v0.17, in order to be consistent across the PIL and Tensor backends. To suppress this warning, directly pass antialias=True (recommended, future default), antialias=None (current default, which means False for Tensors and True for PIL), or antialias=False (only works on Tensors - PIL will still use antialiasing). This also applies if you are using the inference transforms from the models weights: update the call to weights.transforms(antialias=True).\n",
            "  warnings.warn(\n",
            "/usr/local/lib/python3.10/dist-packages/torchvision/transforms/functional.py:1603: UserWarning: The default value of the antialias parameter of all the resizing transforms (Resize(), RandomResizedCrop(), etc.) will change from None to True in v0.17, in order to be consistent across the PIL and Tensor backends. To suppress this warning, directly pass antialias=True (recommended, future default), antialias=None (current default, which means False for Tensors and True for PIL), or antialias=False (only works on Tensors - PIL will still use antialiasing). This also applies if you are using the inference transforms from the models weights: update the call to weights.transforms(antialias=True).\n",
            "  warnings.warn(\n",
            "/usr/local/lib/python3.10/dist-packages/torchvision/transforms/functional.py:1603: UserWarning: The default value of the antialias parameter of all the resizing transforms (Resize(), RandomResizedCrop(), etc.) will change from None to True in v0.17, in order to be consistent across the PIL and Tensor backends. To suppress this warning, directly pass antialias=True (recommended, future default), antialias=None (current default, which means False for Tensors and True for PIL), or antialias=False (only works on Tensors - PIL will still use antialiasing). This also applies if you are using the inference transforms from the models weights: update the call to weights.transforms(antialias=True).\n",
            "  warnings.warn(\n"
          ]
        },
        {
          "output_type": "stream",
          "name": "stdout",
          "text": [
            "[09:25:42.368192] Test:  [0/5]  eta: 0:00:06  loss: 2.6282 (2.6282)  acc1: 40.6250 (40.6250)  acc5: 65.6250 (65.6250)  time: 1.3403  data: 1.1299  max mem: 4877\n",
            "[09:25:42.851500] Test:  [4/5]  eta: 0:00:00  loss: 2.6746 (2.9014)  acc1: 31.2500 (31.2500)  acc5: 62.5000 (60.4167)  time: 0.3644  data: 0.2262  max mem: 4877\n",
            "[09:25:42.985356] Test: Total time: 0:00:01 (0.3922 s / it)\n",
            "[09:25:42.986419] * Acc@1 31.250 Acc@5 60.417 loss 2.901\n",
            "[09:25:42.987428] Accuracy of the network on the 144 test images: 31.2%\n",
            "[09:25:42.987505] Max accuracy: 38.89%\n",
            "[09:25:42.997715] log_dir: /content/gdrive/MyDrive/Colab_Notebooks/Modal/logs/vit_base_patch16/2023_05_31__09_03_21\n"
          ]
        },
        {
          "output_type": "stream",
          "name": "stderr",
          "text": [
            "Training Epoch 86: 1it [00:02,  2.36s/it]"
          ]
        },
        {
          "output_type": "stream",
          "name": "stdout",
          "text": [
            "[09:25:45.380574] Epoch: [86]  [ 0/18]  eta: 0:00:42  lr: 0.000012  loss: 0.8249 (0.8249)  time: 2.3731  data: 1.8730  max mem: 4877\n"
          ]
        },
        {
          "output_type": "stream",
          "name": "stderr",
          "text": [
            "Training Epoch 86: 18it [00:09,  1.89it/s]\n"
          ]
        },
        {
          "output_type": "stream",
          "name": "stdout",
          "text": [
            "[09:25:52.329809] Epoch: [86]  [17/18]  eta: 0:00:00  lr: 0.000011  loss: 1.3643 (1.3228)  time: 0.5178  data: 0.1045  max mem: 4877\n",
            "[09:25:52.502227] Epoch: [86] Total time: 0:00:09 (0.5276 s / it)\n",
            "[09:25:52.508731] Averaged stats: lr: 0.000011  loss: 1.3643 (1.3228)\n"
          ]
        },
        {
          "output_type": "stream",
          "name": "stderr",
          "text": [
            "/usr/local/lib/python3.10/dist-packages/torchvision/transforms/functional.py:1603: UserWarning: The default value of the antialias parameter of all the resizing transforms (Resize(), RandomResizedCrop(), etc.) will change from None to True in v0.17, in order to be consistent across the PIL and Tensor backends. To suppress this warning, directly pass antialias=True (recommended, future default), antialias=None (current default, which means False for Tensors and True for PIL), or antialias=False (only works on Tensors - PIL will still use antialiasing). This also applies if you are using the inference transforms from the models weights: update the call to weights.transforms(antialias=True).\n",
            "  warnings.warn(\n",
            "/usr/local/lib/python3.10/dist-packages/torchvision/transforms/functional.py:1603: UserWarning: The default value of the antialias parameter of all the resizing transforms (Resize(), RandomResizedCrop(), etc.) will change from None to True in v0.17, in order to be consistent across the PIL and Tensor backends. To suppress this warning, directly pass antialias=True (recommended, future default), antialias=None (current default, which means False for Tensors and True for PIL), or antialias=False (only works on Tensors - PIL will still use antialiasing). This also applies if you are using the inference transforms from the models weights: update the call to weights.transforms(antialias=True).\n",
            "  warnings.warn(\n",
            "/usr/local/lib/python3.10/dist-packages/torchvision/transforms/functional.py:1603: UserWarning: The default value of the antialias parameter of all the resizing transforms (Resize(), RandomResizedCrop(), etc.) will change from None to True in v0.17, in order to be consistent across the PIL and Tensor backends. To suppress this warning, directly pass antialias=True (recommended, future default), antialias=None (current default, which means False for Tensors and True for PIL), or antialias=False (only works on Tensors - PIL will still use antialiasing). This also applies if you are using the inference transforms from the models weights: update the call to weights.transforms(antialias=True).\n",
            "  warnings.warn(\n",
            "/usr/local/lib/python3.10/dist-packages/torchvision/transforms/functional.py:1603: UserWarning: The default value of the antialias parameter of all the resizing transforms (Resize(), RandomResizedCrop(), etc.) will change from None to True in v0.17, in order to be consistent across the PIL and Tensor backends. To suppress this warning, directly pass antialias=True (recommended, future default), antialias=None (current default, which means False for Tensors and True for PIL), or antialias=False (only works on Tensors - PIL will still use antialiasing). This also applies if you are using the inference transforms from the models weights: update the call to weights.transforms(antialias=True).\n",
            "  warnings.warn(\n",
            "/usr/local/lib/python3.10/dist-packages/torchvision/transforms/functional.py:1603: UserWarning: The default value of the antialias parameter of all the resizing transforms (Resize(), RandomResizedCrop(), etc.) will change from None to True in v0.17, in order to be consistent across the PIL and Tensor backends. To suppress this warning, directly pass antialias=True (recommended, future default), antialias=None (current default, which means False for Tensors and True for PIL), or antialias=False (only works on Tensors - PIL will still use antialiasing). This also applies if you are using the inference transforms from the models weights: update the call to weights.transforms(antialias=True).\n",
            "  warnings.warn(\n"
          ]
        },
        {
          "output_type": "stream",
          "name": "stdout",
          "text": [
            "[09:25:57.891777] Test:  [0/5]  eta: 0:00:06  loss: 2.6082 (2.6082)  acc1: 40.6250 (40.6250)  acc5: 65.6250 (65.6250)  time: 1.3407  data: 1.1384  max mem: 4877\n",
            "[09:25:58.382335] Test:  [4/5]  eta: 0:00:00  loss: 2.6713 (2.8983)  acc1: 31.2500 (31.9444)  acc5: 62.5000 (60.4167)  time: 0.3660  data: 0.2305  max mem: 4877\n",
            "[09:25:58.504327] Test: Total time: 0:00:01 (0.3911 s / it)\n",
            "[09:25:58.504470] * Acc@1 31.944 Acc@5 60.417 loss 2.898\n",
            "[09:25:58.506572] Accuracy of the network on the 144 test images: 31.9%\n",
            "[09:25:58.507543] Max accuracy: 38.89%\n",
            "[09:25:58.514364] log_dir: /content/gdrive/MyDrive/Colab_Notebooks/Modal/logs/vit_base_patch16/2023_05_31__09_03_21\n"
          ]
        },
        {
          "output_type": "stream",
          "name": "stderr",
          "text": [
            "Training Epoch 87: 1it [00:01,  2.00s/it]"
          ]
        },
        {
          "output_type": "stream",
          "name": "stdout",
          "text": [
            "[09:26:00.540886] Epoch: [87]  [ 0/18]  eta: 0:00:36  lr: 0.000010  loss: 1.9168 (1.9168)  time: 2.0187  data: 1.6004  max mem: 4877\n"
          ]
        },
        {
          "output_type": "stream",
          "name": "stderr",
          "text": [
            "Training Epoch 87: 18it [00:09,  1.96it/s]\n"
          ]
        },
        {
          "output_type": "stream",
          "name": "stdout",
          "text": [
            "[09:26:07.528396] Epoch: [87]  [17/18]  eta: 0:00:00  lr: 0.000009  loss: 1.4689 (1.4603)  time: 0.5000  data: 0.0893  max mem: 4877\n",
            "[09:26:07.704640] Epoch: [87] Total time: 0:00:09 (0.5103 s / it)\n",
            "[09:26:07.711238] Averaged stats: lr: 0.000009  loss: 1.4689 (1.4603)\n"
          ]
        },
        {
          "output_type": "stream",
          "name": "stderr",
          "text": [
            "/usr/local/lib/python3.10/dist-packages/torchvision/transforms/functional.py:1603: UserWarning: The default value of the antialias parameter of all the resizing transforms (Resize(), RandomResizedCrop(), etc.) will change from None to True in v0.17, in order to be consistent across the PIL and Tensor backends. To suppress this warning, directly pass antialias=True (recommended, future default), antialias=None (current default, which means False for Tensors and True for PIL), or antialias=False (only works on Tensors - PIL will still use antialiasing). This also applies if you are using the inference transforms from the models weights: update the call to weights.transforms(antialias=True).\n",
            "  warnings.warn(\n",
            "/usr/local/lib/python3.10/dist-packages/torchvision/transforms/functional.py:1603: UserWarning: The default value of the antialias parameter of all the resizing transforms (Resize(), RandomResizedCrop(), etc.) will change from None to True in v0.17, in order to be consistent across the PIL and Tensor backends. To suppress this warning, directly pass antialias=True (recommended, future default), antialias=None (current default, which means False for Tensors and True for PIL), or antialias=False (only works on Tensors - PIL will still use antialiasing). This also applies if you are using the inference transforms from the models weights: update the call to weights.transforms(antialias=True).\n",
            "  warnings.warn(\n",
            "/usr/local/lib/python3.10/dist-packages/torchvision/transforms/functional.py:1603: UserWarning: The default value of the antialias parameter of all the resizing transforms (Resize(), RandomResizedCrop(), etc.) will change from None to True in v0.17, in order to be consistent across the PIL and Tensor backends. To suppress this warning, directly pass antialias=True (recommended, future default), antialias=None (current default, which means False for Tensors and True for PIL), or antialias=False (only works on Tensors - PIL will still use antialiasing). This also applies if you are using the inference transforms from the models weights: update the call to weights.transforms(antialias=True).\n",
            "  warnings.warn(\n",
            "/usr/local/lib/python3.10/dist-packages/torchvision/transforms/functional.py:1603: UserWarning: The default value of the antialias parameter of all the resizing transforms (Resize(), RandomResizedCrop(), etc.) will change from None to True in v0.17, in order to be consistent across the PIL and Tensor backends. To suppress this warning, directly pass antialias=True (recommended, future default), antialias=None (current default, which means False for Tensors and True for PIL), or antialias=False (only works on Tensors - PIL will still use antialiasing). This also applies if you are using the inference transforms from the models weights: update the call to weights.transforms(antialias=True).\n",
            "  warnings.warn(\n",
            "/usr/local/lib/python3.10/dist-packages/torchvision/transforms/functional.py:1603: UserWarning: The default value of the antialias parameter of all the resizing transforms (Resize(), RandomResizedCrop(), etc.) will change from None to True in v0.17, in order to be consistent across the PIL and Tensor backends. To suppress this warning, directly pass antialias=True (recommended, future default), antialias=None (current default, which means False for Tensors and True for PIL), or antialias=False (only works on Tensors - PIL will still use antialiasing). This also applies if you are using the inference transforms from the models weights: update the call to weights.transforms(antialias=True).\n",
            "  warnings.warn(\n"
          ]
        },
        {
          "output_type": "stream",
          "name": "stdout",
          "text": [
            "[09:26:12.902572] Test:  [0/5]  eta: 0:00:06  loss: 2.5892 (2.5892)  acc1: 40.6250 (40.6250)  acc5: 68.7500 (68.7500)  time: 1.3304  data: 1.1277  max mem: 4877\n",
            "[09:26:13.412961] Test:  [4/5]  eta: 0:00:00  loss: 2.6758 (2.8975)  acc1: 25.0000 (31.9444)  acc5: 62.5000 (61.1111)  time: 0.3677  data: 0.2259  max mem: 4877\n",
            "[09:26:13.539308] Test: Total time: 0:00:01 (0.3937 s / it)\n",
            "[09:26:13.539453] * Acc@1 31.944 Acc@5 61.111 loss 2.897\n",
            "[09:26:13.541324] Accuracy of the network on the 144 test images: 31.9%\n",
            "[09:26:13.541510] Max accuracy: 38.89%\n",
            "[09:26:13.550004] log_dir: /content/gdrive/MyDrive/Colab_Notebooks/Modal/logs/vit_base_patch16/2023_05_31__09_03_21\n"
          ]
        },
        {
          "output_type": "stream",
          "name": "stderr",
          "text": [
            "Training Epoch 88: 1it [00:02,  2.46s/it]"
          ]
        },
        {
          "output_type": "stream",
          "name": "stdout",
          "text": [
            "[09:26:16.019805] Epoch: [88]  [ 0/18]  eta: 0:00:44  lr: 0.000009  loss: 1.6133 (1.6133)  time: 2.4640  data: 1.9679  max mem: 4877\n"
          ]
        },
        {
          "output_type": "stream",
          "name": "stderr",
          "text": [
            "Training Epoch 88: 18it [00:09,  1.87it/s]\n"
          ]
        },
        {
          "output_type": "stream",
          "name": "stdout",
          "text": [
            "[09:26:23.019277] Epoch: [88]  [17/18]  eta: 0:00:00  lr: 0.000008  loss: 1.5571 (1.6322)  time: 0.5255  data: 0.1100  max mem: 4877\n",
            "[09:26:23.189916] Epoch: [88] Total time: 0:00:09 (0.5353 s / it)\n",
            "[09:26:23.195732] Averaged stats: lr: 0.000008  loss: 1.5571 (1.6322)\n"
          ]
        },
        {
          "output_type": "stream",
          "name": "stderr",
          "text": [
            "/usr/local/lib/python3.10/dist-packages/torchvision/transforms/functional.py:1603: UserWarning: The default value of the antialias parameter of all the resizing transforms (Resize(), RandomResizedCrop(), etc.) will change from None to True in v0.17, in order to be consistent across the PIL and Tensor backends. To suppress this warning, directly pass antialias=True (recommended, future default), antialias=None (current default, which means False for Tensors and True for PIL), or antialias=False (only works on Tensors - PIL will still use antialiasing). This also applies if you are using the inference transforms from the models weights: update the call to weights.transforms(antialias=True).\n",
            "  warnings.warn(\n",
            "/usr/local/lib/python3.10/dist-packages/torchvision/transforms/functional.py:1603: UserWarning: The default value of the antialias parameter of all the resizing transforms (Resize(), RandomResizedCrop(), etc.) will change from None to True in v0.17, in order to be consistent across the PIL and Tensor backends. To suppress this warning, directly pass antialias=True (recommended, future default), antialias=None (current default, which means False for Tensors and True for PIL), or antialias=False (only works on Tensors - PIL will still use antialiasing). This also applies if you are using the inference transforms from the models weights: update the call to weights.transforms(antialias=True).\n",
            "  warnings.warn(\n",
            "/usr/local/lib/python3.10/dist-packages/torchvision/transforms/functional.py:1603: UserWarning: The default value of the antialias parameter of all the resizing transforms (Resize(), RandomResizedCrop(), etc.) will change from None to True in v0.17, in order to be consistent across the PIL and Tensor backends. To suppress this warning, directly pass antialias=True (recommended, future default), antialias=None (current default, which means False for Tensors and True for PIL), or antialias=False (only works on Tensors - PIL will still use antialiasing). This also applies if you are using the inference transforms from the models weights: update the call to weights.transforms(antialias=True).\n",
            "  warnings.warn(\n",
            "/usr/local/lib/python3.10/dist-packages/torchvision/transforms/functional.py:1603: UserWarning: The default value of the antialias parameter of all the resizing transforms (Resize(), RandomResizedCrop(), etc.) will change from None to True in v0.17, in order to be consistent across the PIL and Tensor backends. To suppress this warning, directly pass antialias=True (recommended, future default), antialias=None (current default, which means False for Tensors and True for PIL), or antialias=False (only works on Tensors - PIL will still use antialiasing). This also applies if you are using the inference transforms from the models weights: update the call to weights.transforms(antialias=True).\n",
            "  warnings.warn(\n",
            "/usr/local/lib/python3.10/dist-packages/torchvision/transforms/functional.py:1603: UserWarning: The default value of the antialias parameter of all the resizing transforms (Resize(), RandomResizedCrop(), etc.) will change from None to True in v0.17, in order to be consistent across the PIL and Tensor backends. To suppress this warning, directly pass antialias=True (recommended, future default), antialias=None (current default, which means False for Tensors and True for PIL), or antialias=False (only works on Tensors - PIL will still use antialiasing). This also applies if you are using the inference transforms from the models weights: update the call to weights.transforms(antialias=True).\n",
            "  warnings.warn(\n"
          ]
        },
        {
          "output_type": "stream",
          "name": "stdout",
          "text": [
            "[09:26:28.254652] Test:  [0/5]  eta: 0:00:06  loss: 2.5867 (2.5867)  acc1: 40.6250 (40.6250)  acc5: 68.7500 (68.7500)  time: 1.2554  data: 1.0416  max mem: 4877\n",
            "[09:26:28.752337] Test:  [4/5]  eta: 0:00:00  loss: 2.6814 (2.9003)  acc1: 28.1250 (32.6389)  acc5: 62.5000 (61.1111)  time: 0.3502  data: 0.2086  max mem: 4877\n",
            "[09:26:28.882746] Test: Total time: 0:00:01 (0.3770 s / it)\n",
            "[09:26:28.882951] * Acc@1 32.639 Acc@5 61.111 loss 2.900\n",
            "[09:26:28.885277] Accuracy of the network on the 144 test images: 32.6%\n",
            "[09:26:28.885366] Max accuracy: 38.89%\n",
            "[09:26:28.893340] log_dir: /content/gdrive/MyDrive/Colab_Notebooks/Modal/logs/vit_base_patch16/2023_05_31__09_03_21\n"
          ]
        },
        {
          "output_type": "stream",
          "name": "stderr",
          "text": [
            "Training Epoch 89: 1it [00:02,  2.23s/it]"
          ]
        },
        {
          "output_type": "stream",
          "name": "stdout",
          "text": [
            "[09:26:31.134204] Epoch: [89]  [ 0/18]  eta: 0:00:40  lr: 0.000008  loss: 1.6282 (1.6282)  time: 2.2349  data: 1.7246  max mem: 4877\n"
          ]
        },
        {
          "output_type": "stream",
          "name": "stderr",
          "text": [
            "Training Epoch 89: 18it [00:09,  1.94it/s]\n"
          ]
        },
        {
          "output_type": "stream",
          "name": "stdout",
          "text": [
            "[09:26:38.027598] Epoch: [89]  [17/18]  eta: 0:00:00  lr: 0.000007  loss: 1.4842 (1.5131)  time: 0.5070  data: 0.0964  max mem: 4877\n",
            "[09:26:38.171496] Epoch: [89] Total time: 0:00:09 (0.5152 s / it)\n",
            "[09:26:38.174766] Averaged stats: lr: 0.000007  loss: 1.4842 (1.5131)\n"
          ]
        },
        {
          "output_type": "stream",
          "name": "stderr",
          "text": [
            "/usr/local/lib/python3.10/dist-packages/torchvision/transforms/functional.py:1603: UserWarning: The default value of the antialias parameter of all the resizing transforms (Resize(), RandomResizedCrop(), etc.) will change from None to True in v0.17, in order to be consistent across the PIL and Tensor backends. To suppress this warning, directly pass antialias=True (recommended, future default), antialias=None (current default, which means False for Tensors and True for PIL), or antialias=False (only works on Tensors - PIL will still use antialiasing). This also applies if you are using the inference transforms from the models weights: update the call to weights.transforms(antialias=True).\n",
            "  warnings.warn(\n",
            "/usr/local/lib/python3.10/dist-packages/torchvision/transforms/functional.py:1603: UserWarning: The default value of the antialias parameter of all the resizing transforms (Resize(), RandomResizedCrop(), etc.) will change from None to True in v0.17, in order to be consistent across the PIL and Tensor backends. To suppress this warning, directly pass antialias=True (recommended, future default), antialias=None (current default, which means False for Tensors and True for PIL), or antialias=False (only works on Tensors - PIL will still use antialiasing). This also applies if you are using the inference transforms from the models weights: update the call to weights.transforms(antialias=True).\n",
            "  warnings.warn(\n",
            "/usr/local/lib/python3.10/dist-packages/torchvision/transforms/functional.py:1603: UserWarning: The default value of the antialias parameter of all the resizing transforms (Resize(), RandomResizedCrop(), etc.) will change from None to True in v0.17, in order to be consistent across the PIL and Tensor backends. To suppress this warning, directly pass antialias=True (recommended, future default), antialias=None (current default, which means False for Tensors and True for PIL), or antialias=False (only works on Tensors - PIL will still use antialiasing). This also applies if you are using the inference transforms from the models weights: update the call to weights.transforms(antialias=True).\n",
            "  warnings.warn(\n",
            "/usr/local/lib/python3.10/dist-packages/torchvision/transforms/functional.py:1603: UserWarning: The default value of the antialias parameter of all the resizing transforms (Resize(), RandomResizedCrop(), etc.) will change from None to True in v0.17, in order to be consistent across the PIL and Tensor backends. To suppress this warning, directly pass antialias=True (recommended, future default), antialias=None (current default, which means False for Tensors and True for PIL), or antialias=False (only works on Tensors - PIL will still use antialiasing). This also applies if you are using the inference transforms from the models weights: update the call to weights.transforms(antialias=True).\n",
            "  warnings.warn(\n",
            "/usr/local/lib/python3.10/dist-packages/torchvision/transforms/functional.py:1603: UserWarning: The default value of the antialias parameter of all the resizing transforms (Resize(), RandomResizedCrop(), etc.) will change from None to True in v0.17, in order to be consistent across the PIL and Tensor backends. To suppress this warning, directly pass antialias=True (recommended, future default), antialias=None (current default, which means False for Tensors and True for PIL), or antialias=False (only works on Tensors - PIL will still use antialiasing). This also applies if you are using the inference transforms from the models weights: update the call to weights.transforms(antialias=True).\n",
            "  warnings.warn(\n"
          ]
        },
        {
          "output_type": "stream",
          "name": "stdout",
          "text": [
            "[09:26:43.412000] Test:  [0/5]  eta: 0:00:06  loss: 2.5839 (2.5839)  acc1: 40.6250 (40.6250)  acc5: 68.7500 (68.7500)  time: 1.3196  data: 1.1072  max mem: 4877\n",
            "[09:26:43.889608] Test:  [4/5]  eta: 0:00:00  loss: 2.6778 (2.9021)  acc1: 28.1250 (32.6389)  acc5: 62.5000 (61.1111)  time: 0.3592  data: 0.2219  max mem: 4877\n",
            "[09:26:44.009000] Test: Total time: 0:00:01 (0.3836 s / it)\n",
            "[09:26:44.009202] * Acc@1 32.639 Acc@5 61.111 loss 2.902\n",
            "[09:26:44.010874] Accuracy of the network on the 144 test images: 32.6%\n",
            "[09:26:44.010999] Max accuracy: 38.89%\n",
            "[09:26:44.019991] log_dir: /content/gdrive/MyDrive/Colab_Notebooks/Modal/logs/vit_base_patch16/2023_05_31__09_03_21\n"
          ]
        },
        {
          "output_type": "stream",
          "name": "stderr",
          "text": [
            "Training Epoch 90: 1it [00:02,  2.24s/it]"
          ]
        },
        {
          "output_type": "stream",
          "name": "stdout",
          "text": [
            "[09:26:46.272252] Epoch: [90]  [ 0/18]  eta: 0:00:40  lr: 0.000007  loss: 1.2341 (1.2341)  time: 2.2474  data: 1.7539  max mem: 4877\n"
          ]
        },
        {
          "output_type": "stream",
          "name": "stderr",
          "text": [
            "Training Epoch 90: 18it [00:09,  1.95it/s]\n"
          ]
        },
        {
          "output_type": "stream",
          "name": "stdout",
          "text": [
            "[09:26:53.123610] Epoch: [90]  [17/18]  eta: 0:00:00  lr: 0.000006  loss: 1.5339 (1.5218)  time: 0.5054  data: 0.0978  max mem: 4877\n",
            "[09:26:53.260999] Epoch: [90] Total time: 0:00:09 (0.5132 s / it)\n",
            "[09:26:53.265134] Averaged stats: lr: 0.000006  loss: 1.5339 (1.5218)\n"
          ]
        },
        {
          "output_type": "stream",
          "name": "stderr",
          "text": [
            "/usr/local/lib/python3.10/dist-packages/torchvision/transforms/functional.py:1603: UserWarning: The default value of the antialias parameter of all the resizing transforms (Resize(), RandomResizedCrop(), etc.) will change from None to True in v0.17, in order to be consistent across the PIL and Tensor backends. To suppress this warning, directly pass antialias=True (recommended, future default), antialias=None (current default, which means False for Tensors and True for PIL), or antialias=False (only works on Tensors - PIL will still use antialiasing). This also applies if you are using the inference transforms from the models weights: update the call to weights.transforms(antialias=True).\n",
            "  warnings.warn(\n",
            "/usr/local/lib/python3.10/dist-packages/torchvision/transforms/functional.py:1603: UserWarning: The default value of the antialias parameter of all the resizing transforms (Resize(), RandomResizedCrop(), etc.) will change from None to True in v0.17, in order to be consistent across the PIL and Tensor backends. To suppress this warning, directly pass antialias=True (recommended, future default), antialias=None (current default, which means False for Tensors and True for PIL), or antialias=False (only works on Tensors - PIL will still use antialiasing). This also applies if you are using the inference transforms from the models weights: update the call to weights.transforms(antialias=True).\n",
            "  warnings.warn(\n",
            "/usr/local/lib/python3.10/dist-packages/torchvision/transforms/functional.py:1603: UserWarning: The default value of the antialias parameter of all the resizing transforms (Resize(), RandomResizedCrop(), etc.) will change from None to True in v0.17, in order to be consistent across the PIL and Tensor backends. To suppress this warning, directly pass antialias=True (recommended, future default), antialias=None (current default, which means False for Tensors and True for PIL), or antialias=False (only works on Tensors - PIL will still use antialiasing). This also applies if you are using the inference transforms from the models weights: update the call to weights.transforms(antialias=True).\n",
            "  warnings.warn(\n",
            "/usr/local/lib/python3.10/dist-packages/torchvision/transforms/functional.py:1603: UserWarning: The default value of the antialias parameter of all the resizing transforms (Resize(), RandomResizedCrop(), etc.) will change from None to True in v0.17, in order to be consistent across the PIL and Tensor backends. To suppress this warning, directly pass antialias=True (recommended, future default), antialias=None (current default, which means False for Tensors and True for PIL), or antialias=False (only works on Tensors - PIL will still use antialiasing). This also applies if you are using the inference transforms from the models weights: update the call to weights.transforms(antialias=True).\n",
            "  warnings.warn(\n",
            "/usr/local/lib/python3.10/dist-packages/torchvision/transforms/functional.py:1603: UserWarning: The default value of the antialias parameter of all the resizing transforms (Resize(), RandomResizedCrop(), etc.) will change from None to True in v0.17, in order to be consistent across the PIL and Tensor backends. To suppress this warning, directly pass antialias=True (recommended, future default), antialias=None (current default, which means False for Tensors and True for PIL), or antialias=False (only works on Tensors - PIL will still use antialiasing). This also applies if you are using the inference transforms from the models weights: update the call to weights.transforms(antialias=True).\n",
            "  warnings.warn(\n"
          ]
        },
        {
          "output_type": "stream",
          "name": "stdout",
          "text": [
            "[09:27:01.349600] Test:  [0/5]  eta: 0:00:23  loss: 2.5840 (2.5840)  acc1: 40.6250 (40.6250)  acc5: 68.7500 (68.7500)  time: 4.7558  data: 4.5518  max mem: 4877\n",
            "[09:27:01.827079] Test:  [4/5]  eta: 0:00:01  loss: 2.6746 (2.9034)  acc1: 28.1250 (31.9444)  acc5: 62.5000 (61.1111)  time: 1.0464  data: 0.9105  max mem: 4877\n",
            "[09:27:01.926862] Test: Total time: 0:00:05 (1.0670 s / it)\n",
            "[09:27:01.927018] * Acc@1 31.944 Acc@5 61.111 loss 2.903\n",
            "[09:27:01.928112] Accuracy of the network on the 144 test images: 31.9%\n",
            "[09:27:01.928601] Max accuracy: 38.89%\n",
            "[09:27:01.933381] log_dir: /content/gdrive/MyDrive/Colab_Notebooks/Modal/logs/vit_base_patch16/2023_05_31__09_03_21\n"
          ]
        },
        {
          "output_type": "stream",
          "name": "stderr",
          "text": [
            "Training Epoch 91: 1it [00:01,  1.69s/it]"
          ]
        },
        {
          "output_type": "stream",
          "name": "stdout",
          "text": [
            "[09:27:03.637043] Epoch: [91]  [ 0/18]  eta: 0:00:30  lr: 0.000006  loss: 1.1689 (1.1689)  time: 1.6996  data: 1.3088  max mem: 4877\n"
          ]
        },
        {
          "output_type": "stream",
          "name": "stderr",
          "text": [
            "Training Epoch 91: 18it [00:08,  2.08it/s]\n"
          ]
        },
        {
          "output_type": "stream",
          "name": "stdout",
          "text": [
            "[09:27:10.496997] Epoch: [91]  [17/18]  eta: 0:00:00  lr: 0.000005  loss: 1.1497 (1.2016)  time: 0.4755  data: 0.0730  max mem: 4877\n",
            "[09:27:10.600051] Epoch: [91] Total time: 0:00:08 (0.4813 s / it)\n",
            "[09:27:10.603884] Averaged stats: lr: 0.000005  loss: 1.1497 (1.2016)\n"
          ]
        },
        {
          "output_type": "stream",
          "name": "stderr",
          "text": [
            "/usr/local/lib/python3.10/dist-packages/torchvision/transforms/functional.py:1603: UserWarning: The default value of the antialias parameter of all the resizing transforms (Resize(), RandomResizedCrop(), etc.) will change from None to True in v0.17, in order to be consistent across the PIL and Tensor backends. To suppress this warning, directly pass antialias=True (recommended, future default), antialias=None (current default, which means False for Tensors and True for PIL), or antialias=False (only works on Tensors - PIL will still use antialiasing). This also applies if you are using the inference transforms from the models weights: update the call to weights.transforms(antialias=True).\n",
            "  warnings.warn(\n",
            "/usr/local/lib/python3.10/dist-packages/torchvision/transforms/functional.py:1603: UserWarning: The default value of the antialias parameter of all the resizing transforms (Resize(), RandomResizedCrop(), etc.) will change from None to True in v0.17, in order to be consistent across the PIL and Tensor backends. To suppress this warning, directly pass antialias=True (recommended, future default), antialias=None (current default, which means False for Tensors and True for PIL), or antialias=False (only works on Tensors - PIL will still use antialiasing). This also applies if you are using the inference transforms from the models weights: update the call to weights.transforms(antialias=True).\n",
            "  warnings.warn(\n",
            "/usr/local/lib/python3.10/dist-packages/torchvision/transforms/functional.py:1603: UserWarning: The default value of the antialias parameter of all the resizing transforms (Resize(), RandomResizedCrop(), etc.) will change from None to True in v0.17, in order to be consistent across the PIL and Tensor backends. To suppress this warning, directly pass antialias=True (recommended, future default), antialias=None (current default, which means False for Tensors and True for PIL), or antialias=False (only works on Tensors - PIL will still use antialiasing). This also applies if you are using the inference transforms from the models weights: update the call to weights.transforms(antialias=True).\n",
            "  warnings.warn(\n",
            "/usr/local/lib/python3.10/dist-packages/torchvision/transforms/functional.py:1603: UserWarning: The default value of the antialias parameter of all the resizing transforms (Resize(), RandomResizedCrop(), etc.) will change from None to True in v0.17, in order to be consistent across the PIL and Tensor backends. To suppress this warning, directly pass antialias=True (recommended, future default), antialias=None (current default, which means False for Tensors and True for PIL), or antialias=False (only works on Tensors - PIL will still use antialiasing). This also applies if you are using the inference transforms from the models weights: update the call to weights.transforms(antialias=True).\n",
            "  warnings.warn(\n",
            "/usr/local/lib/python3.10/dist-packages/torchvision/transforms/functional.py:1603: UserWarning: The default value of the antialias parameter of all the resizing transforms (Resize(), RandomResizedCrop(), etc.) will change from None to True in v0.17, in order to be consistent across the PIL and Tensor backends. To suppress this warning, directly pass antialias=True (recommended, future default), antialias=None (current default, which means False for Tensors and True for PIL), or antialias=False (only works on Tensors - PIL will still use antialiasing). This also applies if you are using the inference transforms from the models weights: update the call to weights.transforms(antialias=True).\n",
            "  warnings.warn(\n"
          ]
        },
        {
          "output_type": "stream",
          "name": "stdout",
          "text": [
            "[09:27:16.480919] Test:  [0/5]  eta: 0:00:04  loss: 2.5915 (2.5915)  acc1: 40.6250 (40.6250)  acc5: 62.5000 (62.5000)  time: 0.9863  data: 0.7905  max mem: 4877\n",
            "[09:27:16.958505] Test:  [4/5]  eta: 0:00:00  loss: 2.6727 (2.9035)  acc1: 28.1250 (31.9444)  acc5: 62.5000 (59.0278)  time: 0.2925  data: 0.1582  max mem: 4877\n",
            "[09:27:17.060844] Test: Total time: 0:00:01 (0.3138 s / it)\n",
            "[09:27:17.060983] * Acc@1 31.944 Acc@5 59.028 loss 2.903\n",
            "[09:27:17.062665] Accuracy of the network on the 144 test images: 31.9%\n",
            "[09:27:17.062753] Max accuracy: 38.89%\n",
            "[09:27:17.071456] log_dir: /content/gdrive/MyDrive/Colab_Notebooks/Modal/logs/vit_base_patch16/2023_05_31__09_03_21\n"
          ]
        },
        {
          "output_type": "stream",
          "name": "stderr",
          "text": [
            "Training Epoch 92: 1it [00:01,  1.89s/it]"
          ]
        },
        {
          "output_type": "stream",
          "name": "stdout",
          "text": [
            "[09:27:18.983957] Epoch: [92]  [ 0/18]  eta: 0:00:34  lr: 0.000005  loss: 1.4672 (1.4672)  time: 1.9083  data: 1.5161  max mem: 4877\n"
          ]
        },
        {
          "output_type": "stream",
          "name": "stderr",
          "text": [
            "Training Epoch 92: 18it [00:08,  2.01it/s]\n"
          ]
        },
        {
          "output_type": "stream",
          "name": "stdout",
          "text": [
            "[09:27:25.915458] Epoch: [92]  [17/18]  eta: 0:00:00  lr: 0.000004  loss: 1.4672 (1.4333)  time: 0.4909  data: 0.0845  max mem: 4877\n",
            "[09:27:26.021599] Epoch: [92] Total time: 0:00:08 (0.4970 s / it)\n",
            "[09:27:26.023604] Averaged stats: lr: 0.000004  loss: 1.4672 (1.4333)\n"
          ]
        },
        {
          "output_type": "stream",
          "name": "stderr",
          "text": [
            "/usr/local/lib/python3.10/dist-packages/torchvision/transforms/functional.py:1603: UserWarning: The default value of the antialias parameter of all the resizing transforms (Resize(), RandomResizedCrop(), etc.) will change from None to True in v0.17, in order to be consistent across the PIL and Tensor backends. To suppress this warning, directly pass antialias=True (recommended, future default), antialias=None (current default, which means False for Tensors and True for PIL), or antialias=False (only works on Tensors - PIL will still use antialiasing). This also applies if you are using the inference transforms from the models weights: update the call to weights.transforms(antialias=True).\n",
            "  warnings.warn(\n",
            "/usr/local/lib/python3.10/dist-packages/torchvision/transforms/functional.py:1603: UserWarning: The default value of the antialias parameter of all the resizing transforms (Resize(), RandomResizedCrop(), etc.) will change from None to True in v0.17, in order to be consistent across the PIL and Tensor backends. To suppress this warning, directly pass antialias=True (recommended, future default), antialias=None (current default, which means False for Tensors and True for PIL), or antialias=False (only works on Tensors - PIL will still use antialiasing). This also applies if you are using the inference transforms from the models weights: update the call to weights.transforms(antialias=True).\n",
            "  warnings.warn(\n",
            "/usr/local/lib/python3.10/dist-packages/torchvision/transforms/functional.py:1603: UserWarning: The default value of the antialias parameter of all the resizing transforms (Resize(), RandomResizedCrop(), etc.) will change from None to True in v0.17, in order to be consistent across the PIL and Tensor backends. To suppress this warning, directly pass antialias=True (recommended, future default), antialias=None (current default, which means False for Tensors and True for PIL), or antialias=False (only works on Tensors - PIL will still use antialiasing). This also applies if you are using the inference transforms from the models weights: update the call to weights.transforms(antialias=True).\n",
            "  warnings.warn(\n",
            "/usr/local/lib/python3.10/dist-packages/torchvision/transforms/functional.py:1603: UserWarning: The default value of the antialias parameter of all the resizing transforms (Resize(), RandomResizedCrop(), etc.) will change from None to True in v0.17, in order to be consistent across the PIL and Tensor backends. To suppress this warning, directly pass antialias=True (recommended, future default), antialias=None (current default, which means False for Tensors and True for PIL), or antialias=False (only works on Tensors - PIL will still use antialiasing). This also applies if you are using the inference transforms from the models weights: update the call to weights.transforms(antialias=True).\n",
            "  warnings.warn(\n",
            "/usr/local/lib/python3.10/dist-packages/torchvision/transforms/functional.py:1603: UserWarning: The default value of the antialias parameter of all the resizing transforms (Resize(), RandomResizedCrop(), etc.) will change from None to True in v0.17, in order to be consistent across the PIL and Tensor backends. To suppress this warning, directly pass antialias=True (recommended, future default), antialias=None (current default, which means False for Tensors and True for PIL), or antialias=False (only works on Tensors - PIL will still use antialiasing). This also applies if you are using the inference transforms from the models weights: update the call to weights.transforms(antialias=True).\n",
            "  warnings.warn(\n"
          ]
        },
        {
          "output_type": "stream",
          "name": "stdout",
          "text": [
            "[09:27:30.331545] Test:  [0/5]  eta: 0:00:05  loss: 2.5985 (2.5985)  acc1: 40.6250 (40.6250)  acc5: 62.5000 (62.5000)  time: 1.0211  data: 0.8078  max mem: 4877\n",
            "[09:27:30.824102] Test:  [4/5]  eta: 0:00:00  loss: 2.6728 (2.9035)  acc1: 28.1250 (31.9444)  acc5: 62.5000 (59.0278)  time: 0.3025  data: 0.1620  max mem: 4877\n",
            "[09:27:30.919607] Test: Total time: 0:00:01 (0.3222 s / it)\n",
            "[09:27:30.919745] * Acc@1 31.944 Acc@5 59.028 loss 2.904\n",
            "[09:27:30.920932] Accuracy of the network on the 144 test images: 31.9%\n",
            "[09:27:30.921043] Max accuracy: 38.89%\n",
            "[09:27:30.927636] log_dir: /content/gdrive/MyDrive/Colab_Notebooks/Modal/logs/vit_base_patch16/2023_05_31__09_03_21\n"
          ]
        },
        {
          "output_type": "stream",
          "name": "stderr",
          "text": [
            "Training Epoch 93: 1it [00:01,  1.70s/it]"
          ]
        },
        {
          "output_type": "stream",
          "name": "stdout",
          "text": [
            "[09:27:32.649689] Epoch: [93]  [ 0/18]  eta: 0:00:30  lr: 0.000004  loss: 1.7169 (1.7169)  time: 1.7184  data: 1.3040  max mem: 4877\n"
          ]
        },
        {
          "output_type": "stream",
          "name": "stderr",
          "text": [
            "Training Epoch 93: 18it [00:08,  2.05it/s]\n"
          ]
        },
        {
          "output_type": "stream",
          "name": "stdout",
          "text": [
            "[09:27:39.585268] Epoch: [93]  [17/18]  eta: 0:00:00  lr: 0.000003  loss: 1.4939 (1.4848)  time: 0.4807  data: 0.0729  max mem: 4877\n",
            "[09:27:39.690334] Epoch: [93] Total time: 0:00:08 (0.4867 s / it)\n",
            "[09:27:39.692821] Averaged stats: lr: 0.000003  loss: 1.4939 (1.4848)\n"
          ]
        },
        {
          "output_type": "stream",
          "name": "stderr",
          "text": [
            "/usr/local/lib/python3.10/dist-packages/torchvision/transforms/functional.py:1603: UserWarning: The default value of the antialias parameter of all the resizing transforms (Resize(), RandomResizedCrop(), etc.) will change from None to True in v0.17, in order to be consistent across the PIL and Tensor backends. To suppress this warning, directly pass antialias=True (recommended, future default), antialias=None (current default, which means False for Tensors and True for PIL), or antialias=False (only works on Tensors - PIL will still use antialiasing). This also applies if you are using the inference transforms from the models weights: update the call to weights.transforms(antialias=True).\n",
            "  warnings.warn(\n",
            "/usr/local/lib/python3.10/dist-packages/torchvision/transforms/functional.py:1603: UserWarning: The default value of the antialias parameter of all the resizing transforms (Resize(), RandomResizedCrop(), etc.) will change from None to True in v0.17, in order to be consistent across the PIL and Tensor backends. To suppress this warning, directly pass antialias=True (recommended, future default), antialias=None (current default, which means False for Tensors and True for PIL), or antialias=False (only works on Tensors - PIL will still use antialiasing). This also applies if you are using the inference transforms from the models weights: update the call to weights.transforms(antialias=True).\n",
            "  warnings.warn(\n",
            "/usr/local/lib/python3.10/dist-packages/torchvision/transforms/functional.py:1603: UserWarning: The default value of the antialias parameter of all the resizing transforms (Resize(), RandomResizedCrop(), etc.) will change from None to True in v0.17, in order to be consistent across the PIL and Tensor backends. To suppress this warning, directly pass antialias=True (recommended, future default), antialias=None (current default, which means False for Tensors and True for PIL), or antialias=False (only works on Tensors - PIL will still use antialiasing). This also applies if you are using the inference transforms from the models weights: update the call to weights.transforms(antialias=True).\n",
            "  warnings.warn(\n",
            "/usr/local/lib/python3.10/dist-packages/torchvision/transforms/functional.py:1603: UserWarning: The default value of the antialias parameter of all the resizing transforms (Resize(), RandomResizedCrop(), etc.) will change from None to True in v0.17, in order to be consistent across the PIL and Tensor backends. To suppress this warning, directly pass antialias=True (recommended, future default), antialias=None (current default, which means False for Tensors and True for PIL), or antialias=False (only works on Tensors - PIL will still use antialiasing). This also applies if you are using the inference transforms from the models weights: update the call to weights.transforms(antialias=True).\n",
            "  warnings.warn(\n",
            "/usr/local/lib/python3.10/dist-packages/torchvision/transforms/functional.py:1603: UserWarning: The default value of the antialias parameter of all the resizing transforms (Resize(), RandomResizedCrop(), etc.) will change from None to True in v0.17, in order to be consistent across the PIL and Tensor backends. To suppress this warning, directly pass antialias=True (recommended, future default), antialias=None (current default, which means False for Tensors and True for PIL), or antialias=False (only works on Tensors - PIL will still use antialiasing). This also applies if you are using the inference transforms from the models weights: update the call to weights.transforms(antialias=True).\n",
            "  warnings.warn(\n"
          ]
        },
        {
          "output_type": "stream",
          "name": "stdout",
          "text": [
            "[09:27:43.895508] Test:  [0/5]  eta: 0:00:05  loss: 2.5939 (2.5939)  acc1: 40.6250 (40.6250)  acc5: 65.6250 (65.6250)  time: 1.0279  data: 0.8306  max mem: 4877\n",
            "[09:27:44.378400] Test:  [4/5]  eta: 0:00:00  loss: 2.6769 (2.9025)  acc1: 28.1250 (31.9444)  acc5: 62.5000 (59.0278)  time: 0.3019  data: 0.1662  max mem: 4877\n",
            "[09:27:44.485149] Test: Total time: 0:00:01 (0.3239 s / it)\n",
            "[09:27:44.485292] * Acc@1 31.944 Acc@5 59.028 loss 2.902\n",
            "[09:27:44.486942] Accuracy of the network on the 144 test images: 31.9%\n",
            "[09:27:44.487032] Max accuracy: 38.89%\n",
            "[09:27:44.493554] log_dir: /content/gdrive/MyDrive/Colab_Notebooks/Modal/logs/vit_base_patch16/2023_05_31__09_03_21\n"
          ]
        },
        {
          "output_type": "stream",
          "name": "stderr",
          "text": [
            "Training Epoch 94: 1it [00:01,  1.63s/it]"
          ]
        },
        {
          "output_type": "stream",
          "name": "stdout",
          "text": [
            "[09:27:46.143131] Epoch: [94]  [ 0/18]  eta: 0:00:29  lr: 0.000003  loss: 1.2817 (1.2817)  time: 1.6456  data: 1.2273  max mem: 4877\n"
          ]
        },
        {
          "output_type": "stream",
          "name": "stderr",
          "text": [
            "Training Epoch 94: 18it [00:08,  2.08it/s]\n"
          ]
        },
        {
          "output_type": "stream",
          "name": "stdout",
          "text": [
            "[09:27:53.057135] Epoch: [94]  [17/18]  eta: 0:00:00  lr: 0.000003  loss: 1.5731 (1.5452)  time: 0.4754  data: 0.0684  max mem: 4877\n",
            "[09:27:53.170979] Epoch: [94] Total time: 0:00:08 (0.4819 s / it)\n",
            "[09:27:53.174169] Averaged stats: lr: 0.000003  loss: 1.5731 (1.5452)\n"
          ]
        },
        {
          "output_type": "stream",
          "name": "stderr",
          "text": [
            "/usr/local/lib/python3.10/dist-packages/torchvision/transforms/functional.py:1603: UserWarning: The default value of the antialias parameter of all the resizing transforms (Resize(), RandomResizedCrop(), etc.) will change from None to True in v0.17, in order to be consistent across the PIL and Tensor backends. To suppress this warning, directly pass antialias=True (recommended, future default), antialias=None (current default, which means False for Tensors and True for PIL), or antialias=False (only works on Tensors - PIL will still use antialiasing). This also applies if you are using the inference transforms from the models weights: update the call to weights.transforms(antialias=True).\n",
            "  warnings.warn(\n",
            "/usr/local/lib/python3.10/dist-packages/torchvision/transforms/functional.py:1603: UserWarning: The default value of the antialias parameter of all the resizing transforms (Resize(), RandomResizedCrop(), etc.) will change from None to True in v0.17, in order to be consistent across the PIL and Tensor backends. To suppress this warning, directly pass antialias=True (recommended, future default), antialias=None (current default, which means False for Tensors and True for PIL), or antialias=False (only works on Tensors - PIL will still use antialiasing). This also applies if you are using the inference transforms from the models weights: update the call to weights.transforms(antialias=True).\n",
            "  warnings.warn(\n",
            "/usr/local/lib/python3.10/dist-packages/torchvision/transforms/functional.py:1603: UserWarning: The default value of the antialias parameter of all the resizing transforms (Resize(), RandomResizedCrop(), etc.) will change from None to True in v0.17, in order to be consistent across the PIL and Tensor backends. To suppress this warning, directly pass antialias=True (recommended, future default), antialias=None (current default, which means False for Tensors and True for PIL), or antialias=False (only works on Tensors - PIL will still use antialiasing). This also applies if you are using the inference transforms from the models weights: update the call to weights.transforms(antialias=True).\n",
            "  warnings.warn(\n",
            "/usr/local/lib/python3.10/dist-packages/torchvision/transforms/functional.py:1603: UserWarning: The default value of the antialias parameter of all the resizing transforms (Resize(), RandomResizedCrop(), etc.) will change from None to True in v0.17, in order to be consistent across the PIL and Tensor backends. To suppress this warning, directly pass antialias=True (recommended, future default), antialias=None (current default, which means False for Tensors and True for PIL), or antialias=False (only works on Tensors - PIL will still use antialiasing). This also applies if you are using the inference transforms from the models weights: update the call to weights.transforms(antialias=True).\n",
            "  warnings.warn(\n",
            "/usr/local/lib/python3.10/dist-packages/torchvision/transforms/functional.py:1603: UserWarning: The default value of the antialias parameter of all the resizing transforms (Resize(), RandomResizedCrop(), etc.) will change from None to True in v0.17, in order to be consistent across the PIL and Tensor backends. To suppress this warning, directly pass antialias=True (recommended, future default), antialias=None (current default, which means False for Tensors and True for PIL), or antialias=False (only works on Tensors - PIL will still use antialiasing). This also applies if you are using the inference transforms from the models weights: update the call to weights.transforms(antialias=True).\n",
            "  warnings.warn(\n"
          ]
        },
        {
          "output_type": "stream",
          "name": "stdout",
          "text": [
            "[09:27:57.243344] Test:  [0/5]  eta: 0:00:04  loss: 2.5861 (2.5861)  acc1: 40.6250 (40.6250)  acc5: 65.6250 (65.6250)  time: 0.9624  data: 0.7716  max mem: 4877\n",
            "[09:27:57.745784] Test:  [4/5]  eta: 0:00:00  loss: 2.6827 (2.9021)  acc1: 28.1250 (31.9444)  acc5: 62.5000 (59.0278)  time: 0.2927  data: 0.1547  max mem: 4877\n",
            "[09:27:57.845905] Test: Total time: 0:00:01 (0.3137 s / it)\n",
            "[09:27:57.846113] * Acc@1 31.944 Acc@5 59.028 loss 2.902\n",
            "[09:27:57.847305] Accuracy of the network on the 144 test images: 31.9%\n",
            "[09:27:57.847383] Max accuracy: 38.89%\n",
            "[09:27:57.854056] log_dir: /content/gdrive/MyDrive/Colab_Notebooks/Modal/logs/vit_base_patch16/2023_05_31__09_03_21\n"
          ]
        },
        {
          "output_type": "stream",
          "name": "stderr",
          "text": [
            "Training Epoch 95: 1it [00:01,  1.93s/it]"
          ]
        },
        {
          "output_type": "stream",
          "name": "stdout",
          "text": [
            "[09:27:59.792950] Epoch: [95]  [ 0/18]  eta: 0:00:34  lr: 0.000002  loss: 1.5174 (1.5174)  time: 1.9349  data: 1.5146  max mem: 4877\n"
          ]
        },
        {
          "output_type": "stream",
          "name": "stderr",
          "text": [
            "Training Epoch 95: 18it [00:08,  2.03it/s]\n"
          ]
        },
        {
          "output_type": "stream",
          "name": "stdout",
          "text": [
            "[09:28:06.628119] Epoch: [95]  [17/18]  eta: 0:00:00  lr: 0.000002  loss: 1.5174 (1.4432)  time: 0.4871  data: 0.0845  max mem: 4877\n",
            "[09:28:06.731794] Epoch: [95] Total time: 0:00:08 (0.4930 s / it)\n",
            "[09:28:06.734588] Averaged stats: lr: 0.000002  loss: 1.5174 (1.4432)\n"
          ]
        },
        {
          "output_type": "stream",
          "name": "stderr",
          "text": [
            "/usr/local/lib/python3.10/dist-packages/torchvision/transforms/functional.py:1603: UserWarning: The default value of the antialias parameter of all the resizing transforms (Resize(), RandomResizedCrop(), etc.) will change from None to True in v0.17, in order to be consistent across the PIL and Tensor backends. To suppress this warning, directly pass antialias=True (recommended, future default), antialias=None (current default, which means False for Tensors and True for PIL), or antialias=False (only works on Tensors - PIL will still use antialiasing). This also applies if you are using the inference transforms from the models weights: update the call to weights.transforms(antialias=True).\n",
            "  warnings.warn(\n",
            "/usr/local/lib/python3.10/dist-packages/torchvision/transforms/functional.py:1603: UserWarning: The default value of the antialias parameter of all the resizing transforms (Resize(), RandomResizedCrop(), etc.) will change from None to True in v0.17, in order to be consistent across the PIL and Tensor backends. To suppress this warning, directly pass antialias=True (recommended, future default), antialias=None (current default, which means False for Tensors and True for PIL), or antialias=False (only works on Tensors - PIL will still use antialiasing). This also applies if you are using the inference transforms from the models weights: update the call to weights.transforms(antialias=True).\n",
            "  warnings.warn(\n",
            "/usr/local/lib/python3.10/dist-packages/torchvision/transforms/functional.py:1603: UserWarning: The default value of the antialias parameter of all the resizing transforms (Resize(), RandomResizedCrop(), etc.) will change from None to True in v0.17, in order to be consistent across the PIL and Tensor backends. To suppress this warning, directly pass antialias=True (recommended, future default), antialias=None (current default, which means False for Tensors and True for PIL), or antialias=False (only works on Tensors - PIL will still use antialiasing). This also applies if you are using the inference transforms from the models weights: update the call to weights.transforms(antialias=True).\n",
            "  warnings.warn(\n",
            "/usr/local/lib/python3.10/dist-packages/torchvision/transforms/functional.py:1603: UserWarning: The default value of the antialias parameter of all the resizing transforms (Resize(), RandomResizedCrop(), etc.) will change from None to True in v0.17, in order to be consistent across the PIL and Tensor backends. To suppress this warning, directly pass antialias=True (recommended, future default), antialias=None (current default, which means False for Tensors and True for PIL), or antialias=False (only works on Tensors - PIL will still use antialiasing). This also applies if you are using the inference transforms from the models weights: update the call to weights.transforms(antialias=True).\n",
            "  warnings.warn(\n",
            "/usr/local/lib/python3.10/dist-packages/torchvision/transforms/functional.py:1603: UserWarning: The default value of the antialias parameter of all the resizing transforms (Resize(), RandomResizedCrop(), etc.) will change from None to True in v0.17, in order to be consistent across the PIL and Tensor backends. To suppress this warning, directly pass antialias=True (recommended, future default), antialias=None (current default, which means False for Tensors and True for PIL), or antialias=False (only works on Tensors - PIL will still use antialiasing). This also applies if you are using the inference transforms from the models weights: update the call to weights.transforms(antialias=True).\n",
            "  warnings.warn(\n"
          ]
        },
        {
          "output_type": "stream",
          "name": "stdout",
          "text": [
            "[09:28:11.533467] Test:  [0/5]  eta: 0:00:06  loss: 2.5800 (2.5800)  acc1: 40.6250 (40.6250)  acc5: 68.7500 (68.7500)  time: 1.2453  data: 1.0576  max mem: 4877\n",
            "[09:28:12.029380] Test:  [4/5]  eta: 0:00:00  loss: 2.6863 (2.9012)  acc1: 28.1250 (31.9444)  acc5: 62.5000 (59.7222)  time: 0.3479  data: 0.2121  max mem: 4877\n",
            "[09:28:12.154163] Test: Total time: 0:00:01 (0.3736 s / it)\n",
            "[09:28:12.154330] * Acc@1 31.944 Acc@5 59.722 loss 2.901\n",
            "[09:28:12.155849] Accuracy of the network on the 144 test images: 31.9%\n",
            "[09:28:12.155969] Max accuracy: 38.89%\n",
            "[09:28:12.165417] log_dir: /content/gdrive/MyDrive/Colab_Notebooks/Modal/logs/vit_base_patch16/2023_05_31__09_03_21\n"
          ]
        },
        {
          "output_type": "stream",
          "name": "stderr",
          "text": [
            "Training Epoch 96: 1it [00:02,  2.39s/it]"
          ]
        },
        {
          "output_type": "stream",
          "name": "stdout",
          "text": [
            "[09:28:14.573937] Epoch: [96]  [ 0/18]  eta: 0:00:43  lr: 0.000002  loss: 1.6951 (1.6951)  time: 2.4027  data: 1.9061  max mem: 4877\n"
          ]
        },
        {
          "output_type": "stream",
          "name": "stderr",
          "text": [
            "Training Epoch 96: 18it [00:09,  1.90it/s]\n"
          ]
        },
        {
          "output_type": "stream",
          "name": "stdout",
          "text": [
            "[09:28:21.484876] Epoch: [96]  [17/18]  eta: 0:00:00  lr: 0.000002  loss: 1.5483 (1.4664)  time: 0.5171  data: 0.1063  max mem: 4877\n",
            "[09:28:21.626190] Epoch: [96] Total time: 0:00:09 (0.5253 s / it)\n",
            "[09:28:21.630630] Averaged stats: lr: 0.000002  loss: 1.5483 (1.4664)\n"
          ]
        },
        {
          "output_type": "stream",
          "name": "stderr",
          "text": [
            "/usr/local/lib/python3.10/dist-packages/torchvision/transforms/functional.py:1603: UserWarning: The default value of the antialias parameter of all the resizing transforms (Resize(), RandomResizedCrop(), etc.) will change from None to True in v0.17, in order to be consistent across the PIL and Tensor backends. To suppress this warning, directly pass antialias=True (recommended, future default), antialias=None (current default, which means False for Tensors and True for PIL), or antialias=False (only works on Tensors - PIL will still use antialiasing). This also applies if you are using the inference transforms from the models weights: update the call to weights.transforms(antialias=True).\n",
            "  warnings.warn(\n",
            "/usr/local/lib/python3.10/dist-packages/torchvision/transforms/functional.py:1603: UserWarning: The default value of the antialias parameter of all the resizing transforms (Resize(), RandomResizedCrop(), etc.) will change from None to True in v0.17, in order to be consistent across the PIL and Tensor backends. To suppress this warning, directly pass antialias=True (recommended, future default), antialias=None (current default, which means False for Tensors and True for PIL), or antialias=False (only works on Tensors - PIL will still use antialiasing). This also applies if you are using the inference transforms from the models weights: update the call to weights.transforms(antialias=True).\n",
            "  warnings.warn(\n",
            "/usr/local/lib/python3.10/dist-packages/torchvision/transforms/functional.py:1603: UserWarning: The default value of the antialias parameter of all the resizing transforms (Resize(), RandomResizedCrop(), etc.) will change from None to True in v0.17, in order to be consistent across the PIL and Tensor backends. To suppress this warning, directly pass antialias=True (recommended, future default), antialias=None (current default, which means False for Tensors and True for PIL), or antialias=False (only works on Tensors - PIL will still use antialiasing). This also applies if you are using the inference transforms from the models weights: update the call to weights.transforms(antialias=True).\n",
            "  warnings.warn(\n",
            "/usr/local/lib/python3.10/dist-packages/torchvision/transforms/functional.py:1603: UserWarning: The default value of the antialias parameter of all the resizing transforms (Resize(), RandomResizedCrop(), etc.) will change from None to True in v0.17, in order to be consistent across the PIL and Tensor backends. To suppress this warning, directly pass antialias=True (recommended, future default), antialias=None (current default, which means False for Tensors and True for PIL), or antialias=False (only works on Tensors - PIL will still use antialiasing). This also applies if you are using the inference transforms from the models weights: update the call to weights.transforms(antialias=True).\n",
            "  warnings.warn(\n",
            "/usr/local/lib/python3.10/dist-packages/torchvision/transforms/functional.py:1603: UserWarning: The default value of the antialias parameter of all the resizing transforms (Resize(), RandomResizedCrop(), etc.) will change from None to True in v0.17, in order to be consistent across the PIL and Tensor backends. To suppress this warning, directly pass antialias=True (recommended, future default), antialias=None (current default, which means False for Tensors and True for PIL), or antialias=False (only works on Tensors - PIL will still use antialiasing). This also applies if you are using the inference transforms from the models weights: update the call to weights.transforms(antialias=True).\n",
            "  warnings.warn(\n"
          ]
        },
        {
          "output_type": "stream",
          "name": "stdout",
          "text": [
            "[09:28:49.390170] Test:  [0/5]  eta: 0:01:59  loss: 2.5816 (2.5816)  acc1: 40.6250 (40.6250)  acc5: 65.6250 (65.6250)  time: 23.9500  data: 23.7362  max mem: 4877\n",
            "[09:28:50.566207] Test:  [4/5]  eta: 0:00:05  loss: 2.6891 (2.9018)  acc1: 28.1250 (31.9444)  acc5: 62.5000 (59.7222)  time: 5.0249  data: 4.8835  max mem: 4877\n",
            "[09:28:50.694510] Test: Total time: 0:00:25 (5.0516 s / it)\n",
            "[09:28:50.694688] * Acc@1 31.944 Acc@5 59.722 loss 2.902\n",
            "[09:28:50.696550] Accuracy of the network on the 144 test images: 31.9%\n",
            "[09:28:50.696647] Max accuracy: 38.89%\n",
            "[09:28:50.704250] log_dir: /content/gdrive/MyDrive/Colab_Notebooks/Modal/logs/vit_base_patch16/2023_05_31__09_03_21\n"
          ]
        },
        {
          "output_type": "stream",
          "name": "stderr",
          "text": [
            "Training Epoch 97: 1it [00:21, 21.70s/it]"
          ]
        },
        {
          "output_type": "stream",
          "name": "stdout",
          "text": [
            "[09:29:12.429218] Epoch: [97]  [ 0/18]  eta: 0:06:30  lr: 0.000002  loss: 1.2655 (1.2655)  time: 21.7008  data: 21.2495  max mem: 4877\n"
          ]
        },
        {
          "output_type": "stream",
          "name": "stderr",
          "text": [
            "Training Epoch 97: 18it [00:48,  2.67s/it]\n"
          ]
        },
        {
          "output_type": "stream",
          "name": "stdout",
          "text": [
            "[09:29:38.687331] Epoch: [97]  [17/18]  eta: 0:00:02  lr: 0.000001  loss: 1.5119 (1.4447)  time: 2.6642  data: 2.2446  max mem: 4877\n",
            "[09:29:38.812095] Epoch: [97] Total time: 0:00:48 (2.6723 s / it)\n",
            "[09:29:38.815417] Averaged stats: lr: 0.000001  loss: 1.5119 (1.4447)\n"
          ]
        },
        {
          "output_type": "stream",
          "name": "stderr",
          "text": [
            "/usr/local/lib/python3.10/dist-packages/torchvision/transforms/functional.py:1603: UserWarning: The default value of the antialias parameter of all the resizing transforms (Resize(), RandomResizedCrop(), etc.) will change from None to True in v0.17, in order to be consistent across the PIL and Tensor backends. To suppress this warning, directly pass antialias=True (recommended, future default), antialias=None (current default, which means False for Tensors and True for PIL), or antialias=False (only works on Tensors - PIL will still use antialiasing). This also applies if you are using the inference transforms from the models weights: update the call to weights.transforms(antialias=True).\n",
            "  warnings.warn(\n",
            "/usr/local/lib/python3.10/dist-packages/torchvision/transforms/functional.py:1603: UserWarning: The default value of the antialias parameter of all the resizing transforms (Resize(), RandomResizedCrop(), etc.) will change from None to True in v0.17, in order to be consistent across the PIL and Tensor backends. To suppress this warning, directly pass antialias=True (recommended, future default), antialias=None (current default, which means False for Tensors and True for PIL), or antialias=False (only works on Tensors - PIL will still use antialiasing). This also applies if you are using the inference transforms from the models weights: update the call to weights.transforms(antialias=True).\n",
            "  warnings.warn(\n",
            "/usr/local/lib/python3.10/dist-packages/torchvision/transforms/functional.py:1603: UserWarning: The default value of the antialias parameter of all the resizing transforms (Resize(), RandomResizedCrop(), etc.) will change from None to True in v0.17, in order to be consistent across the PIL and Tensor backends. To suppress this warning, directly pass antialias=True (recommended, future default), antialias=None (current default, which means False for Tensors and True for PIL), or antialias=False (only works on Tensors - PIL will still use antialiasing). This also applies if you are using the inference transforms from the models weights: update the call to weights.transforms(antialias=True).\n",
            "  warnings.warn(\n",
            "/usr/local/lib/python3.10/dist-packages/torchvision/transforms/functional.py:1603: UserWarning: The default value of the antialias parameter of all the resizing transforms (Resize(), RandomResizedCrop(), etc.) will change from None to True in v0.17, in order to be consistent across the PIL and Tensor backends. To suppress this warning, directly pass antialias=True (recommended, future default), antialias=None (current default, which means False for Tensors and True for PIL), or antialias=False (only works on Tensors - PIL will still use antialiasing). This also applies if you are using the inference transforms from the models weights: update the call to weights.transforms(antialias=True).\n",
            "  warnings.warn(\n",
            "/usr/local/lib/python3.10/dist-packages/torchvision/transforms/functional.py:1603: UserWarning: The default value of the antialias parameter of all the resizing transforms (Resize(), RandomResizedCrop(), etc.) will change from None to True in v0.17, in order to be consistent across the PIL and Tensor backends. To suppress this warning, directly pass antialias=True (recommended, future default), antialias=None (current default, which means False for Tensors and True for PIL), or antialias=False (only works on Tensors - PIL will still use antialiasing). This also applies if you are using the inference transforms from the models weights: update the call to weights.transforms(antialias=True).\n",
            "  warnings.warn(\n"
          ]
        },
        {
          "output_type": "stream",
          "name": "stdout",
          "text": [
            "[09:30:00.458501] Test:  [0/5]  eta: 0:01:31  loss: 2.5871 (2.5871)  acc1: 40.6250 (40.6250)  acc5: 65.6250 (65.6250)  time: 18.3165  data: 18.1032  max mem: 4877\n",
            "[09:30:01.224853] Test:  [4/5]  eta: 0:00:03  loss: 2.6891 (2.9029)  acc1: 28.1250 (31.9444)  acc5: 62.5000 (59.0278)  time: 3.8160  data: 3.6758  max mem: 4877\n",
            "[09:30:01.329490] Test: Total time: 0:00:19 (3.8379 s / it)\n",
            "[09:30:01.329634] * Acc@1 31.944 Acc@5 59.028 loss 2.903\n",
            "[09:30:01.331260] Accuracy of the network on the 144 test images: 31.9%\n",
            "[09:30:01.331336] Max accuracy: 38.89%\n",
            "[09:30:01.340251] log_dir: /content/gdrive/MyDrive/Colab_Notebooks/Modal/logs/vit_base_patch16/2023_05_31__09_03_21\n"
          ]
        },
        {
          "output_type": "stream",
          "name": "stderr",
          "text": [
            "Training Epoch 98: 1it [00:18, 18.23s/it]"
          ]
        },
        {
          "output_type": "stream",
          "name": "stdout",
          "text": [
            "[09:30:19.579423] Epoch: [98]  [ 0/18]  eta: 0:05:28  lr: 0.000001  loss: 1.1753 (1.1753)  time: 18.2300  data: 17.7446  max mem: 4877\n"
          ]
        },
        {
          "output_type": "stream",
          "name": "stderr",
          "text": [
            "Training Epoch 98: 18it [00:39,  2.18s/it]\n"
          ]
        },
        {
          "output_type": "stream",
          "name": "stdout",
          "text": [
            "[09:30:40.515102] Epoch: [98]  [17/18]  eta: 0:00:02  lr: 0.000001  loss: 1.5444 (1.4597)  time: 2.1758  data: 1.7641  max mem: 4877\n",
            "[09:30:40.671187] Epoch: [98] Total time: 0:00:39 (2.1847 s / it)\n",
            "[09:30:40.673598] Averaged stats: lr: 0.000001  loss: 1.5444 (1.4597)\n"
          ]
        },
        {
          "output_type": "stream",
          "name": "stderr",
          "text": [
            "/usr/local/lib/python3.10/dist-packages/torchvision/transforms/functional.py:1603: UserWarning: The default value of the antialias parameter of all the resizing transforms (Resize(), RandomResizedCrop(), etc.) will change from None to True in v0.17, in order to be consistent across the PIL and Tensor backends. To suppress this warning, directly pass antialias=True (recommended, future default), antialias=None (current default, which means False for Tensors and True for PIL), or antialias=False (only works on Tensors - PIL will still use antialiasing). This also applies if you are using the inference transforms from the models weights: update the call to weights.transforms(antialias=True).\n",
            "  warnings.warn(\n",
            "/usr/local/lib/python3.10/dist-packages/torchvision/transforms/functional.py:1603: UserWarning: The default value of the antialias parameter of all the resizing transforms (Resize(), RandomResizedCrop(), etc.) will change from None to True in v0.17, in order to be consistent across the PIL and Tensor backends. To suppress this warning, directly pass antialias=True (recommended, future default), antialias=None (current default, which means False for Tensors and True for PIL), or antialias=False (only works on Tensors - PIL will still use antialiasing). This also applies if you are using the inference transforms from the models weights: update the call to weights.transforms(antialias=True).\n",
            "  warnings.warn(\n",
            "/usr/local/lib/python3.10/dist-packages/torchvision/transforms/functional.py:1603: UserWarning: The default value of the antialias parameter of all the resizing transforms (Resize(), RandomResizedCrop(), etc.) will change from None to True in v0.17, in order to be consistent across the PIL and Tensor backends. To suppress this warning, directly pass antialias=True (recommended, future default), antialias=None (current default, which means False for Tensors and True for PIL), or antialias=False (only works on Tensors - PIL will still use antialiasing). This also applies if you are using the inference transforms from the models weights: update the call to weights.transforms(antialias=True).\n",
            "  warnings.warn(\n",
            "/usr/local/lib/python3.10/dist-packages/torchvision/transforms/functional.py:1603: UserWarning: The default value of the antialias parameter of all the resizing transforms (Resize(), RandomResizedCrop(), etc.) will change from None to True in v0.17, in order to be consistent across the PIL and Tensor backends. To suppress this warning, directly pass antialias=True (recommended, future default), antialias=None (current default, which means False for Tensors and True for PIL), or antialias=False (only works on Tensors - PIL will still use antialiasing). This also applies if you are using the inference transforms from the models weights: update the call to weights.transforms(antialias=True).\n",
            "  warnings.warn(\n",
            "/usr/local/lib/python3.10/dist-packages/torchvision/transforms/functional.py:1603: UserWarning: The default value of the antialias parameter of all the resizing transforms (Resize(), RandomResizedCrop(), etc.) will change from None to True in v0.17, in order to be consistent across the PIL and Tensor backends. To suppress this warning, directly pass antialias=True (recommended, future default), antialias=None (current default, which means False for Tensors and True for PIL), or antialias=False (only works on Tensors - PIL will still use antialiasing). This also applies if you are using the inference transforms from the models weights: update the call to weights.transforms(antialias=True).\n",
            "  warnings.warn(\n"
          ]
        },
        {
          "output_type": "stream",
          "name": "stdout",
          "text": [
            "[09:30:44.956175] Test:  [0/5]  eta: 0:00:04  loss: 2.5894 (2.5894)  acc1: 40.6250 (40.6250)  acc5: 65.6250 (65.6250)  time: 0.9447  data: 0.7442  max mem: 4877\n",
            "[09:30:45.440482] Test:  [4/5]  eta: 0:00:00  loss: 2.6885 (2.9030)  acc1: 31.2500 (32.6389)  acc5: 62.5000 (59.7222)  time: 0.2856  data: 0.1494  max mem: 4877\n",
            "[09:30:45.537541] Test: Total time: 0:00:01 (0.3057 s / it)\n",
            "[09:30:45.537675] * Acc@1 32.639 Acc@5 59.722 loss 2.903\n",
            "[09:30:45.538819] Accuracy of the network on the 144 test images: 32.6%\n",
            "[09:30:45.539163] Max accuracy: 38.89%\n",
            "[09:30:45.547853] log_dir: /content/gdrive/MyDrive/Colab_Notebooks/Modal/logs/vit_base_patch16/2023_05_31__09_03_21\n"
          ]
        },
        {
          "output_type": "stream",
          "name": "stderr",
          "text": [
            "Training Epoch 99: 1it [00:01,  1.98s/it]"
          ]
        },
        {
          "output_type": "stream",
          "name": "stdout",
          "text": [
            "[09:30:47.544305] Epoch: [99]  [ 0/18]  eta: 0:00:35  lr: 0.000001  loss: 1.1096 (1.1096)  time: 1.9883  data: 1.5897  max mem: 4877\n"
          ]
        },
        {
          "output_type": "stream",
          "name": "stderr",
          "text": [
            "Training Epoch 99: 18it [00:09,  1.98it/s]\n"
          ]
        },
        {
          "output_type": "stream",
          "name": "stdout",
          "text": [
            "[09:30:54.544624] Epoch: [99]  [17/18]  eta: 0:00:00  lr: 0.000001  loss: 1.5943 (1.5207)  time: 0.4986  data: 0.0887  max mem: 4877\n",
            "[09:30:54.664040] Epoch: [99] Total time: 0:00:09 (0.5061 s / it)\n",
            "[09:30:54.666993] Averaged stats: lr: 0.000001  loss: 1.5943 (1.5207)\n"
          ]
        },
        {
          "output_type": "stream",
          "name": "stderr",
          "text": [
            "/usr/local/lib/python3.10/dist-packages/torchvision/transforms/functional.py:1603: UserWarning: The default value of the antialias parameter of all the resizing transforms (Resize(), RandomResizedCrop(), etc.) will change from None to True in v0.17, in order to be consistent across the PIL and Tensor backends. To suppress this warning, directly pass antialias=True (recommended, future default), antialias=None (current default, which means False for Tensors and True for PIL), or antialias=False (only works on Tensors - PIL will still use antialiasing). This also applies if you are using the inference transforms from the models weights: update the call to weights.transforms(antialias=True).\n",
            "  warnings.warn(\n",
            "/usr/local/lib/python3.10/dist-packages/torchvision/transforms/functional.py:1603: UserWarning: The default value of the antialias parameter of all the resizing transforms (Resize(), RandomResizedCrop(), etc.) will change from None to True in v0.17, in order to be consistent across the PIL and Tensor backends. To suppress this warning, directly pass antialias=True (recommended, future default), antialias=None (current default, which means False for Tensors and True for PIL), or antialias=False (only works on Tensors - PIL will still use antialiasing). This also applies if you are using the inference transforms from the models weights: update the call to weights.transforms(antialias=True).\n",
            "  warnings.warn(\n",
            "/usr/local/lib/python3.10/dist-packages/torchvision/transforms/functional.py:1603: UserWarning: The default value of the antialias parameter of all the resizing transforms (Resize(), RandomResizedCrop(), etc.) will change from None to True in v0.17, in order to be consistent across the PIL and Tensor backends. To suppress this warning, directly pass antialias=True (recommended, future default), antialias=None (current default, which means False for Tensors and True for PIL), or antialias=False (only works on Tensors - PIL will still use antialiasing). This also applies if you are using the inference transforms from the models weights: update the call to weights.transforms(antialias=True).\n",
            "  warnings.warn(\n",
            "/usr/local/lib/python3.10/dist-packages/torchvision/transforms/functional.py:1603: UserWarning: The default value of the antialias parameter of all the resizing transforms (Resize(), RandomResizedCrop(), etc.) will change from None to True in v0.17, in order to be consistent across the PIL and Tensor backends. To suppress this warning, directly pass antialias=True (recommended, future default), antialias=None (current default, which means False for Tensors and True for PIL), or antialias=False (only works on Tensors - PIL will still use antialiasing). This also applies if you are using the inference transforms from the models weights: update the call to weights.transforms(antialias=True).\n",
            "  warnings.warn(\n",
            "/usr/local/lib/python3.10/dist-packages/torchvision/transforms/functional.py:1603: UserWarning: The default value of the antialias parameter of all the resizing transforms (Resize(), RandomResizedCrop(), etc.) will change from None to True in v0.17, in order to be consistent across the PIL and Tensor backends. To suppress this warning, directly pass antialias=True (recommended, future default), antialias=None (current default, which means False for Tensors and True for PIL), or antialias=False (only works on Tensors - PIL will still use antialiasing). This also applies if you are using the inference transforms from the models weights: update the call to weights.transforms(antialias=True).\n",
            "  warnings.warn(\n"
          ]
        },
        {
          "output_type": "stream",
          "name": "stdout",
          "text": [
            "[09:30:59.114564] Test:  [0/5]  eta: 0:00:05  loss: 2.5914 (2.5914)  acc1: 40.6250 (40.6250)  acc5: 65.6250 (65.6250)  time: 1.0453  data: 0.8518  max mem: 4877\n",
            "[09:30:59.628197] Test:  [4/5]  eta: 0:00:00  loss: 2.6888 (2.9031)  acc1: 31.2500 (32.6389)  acc5: 62.5000 (59.7222)  time: 0.3114  data: 0.1705  max mem: 4877\n",
            "[09:30:59.721223] Test: Total time: 0:00:01 (0.3306 s / it)\n",
            "[09:30:59.721366] * Acc@1 32.639 Acc@5 59.722 loss 2.903\n",
            "[09:30:59.722539] Accuracy of the network on the 144 test images: 32.6%\n",
            "[09:30:59.722600] Max accuracy: 38.89%\n",
            "[09:30:59.727665] Training time 0:27:34\n"
          ]
        }
      ]
    },
    {
      "cell_type": "code",
      "source": [],
      "metadata": {
        "id": "Uyo3XkrI1Zwm"
      },
      "execution_count": null,
      "outputs": []
    }
  ]
}